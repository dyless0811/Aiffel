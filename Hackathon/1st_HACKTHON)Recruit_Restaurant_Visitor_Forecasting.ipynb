{
 "cells": [
  {
   "cell_type": "markdown",
   "id": "5cdf49ad",
   "metadata": {
    "slideshow": {
     "slide_type": "slide"
    }
   },
   "source": [
    "<h1 style=\"color:#06f\"> Recruit Restaurant Visitor Forecasting</h1>\n",
    "<br/>\n",
    "<br/>\n",
    "<br/>\n",
    "<br/>\n",
    "<br/>\n",
    "<br/>\n",
    "<br/>\n",
    "<h2 align=right>10조 - 쉽죠?</h2>\n",
    "<h3 align=right>김정은, 김호성, 박경은, 장수완</h3>"
   ]
  },
  {
   "cell_type": "markdown",
   "id": "1a63411e",
   "metadata": {
    "slideshow": {
     "slide_type": "slide"
    }
   },
   "source": [
    "<h1 style=\"color:#06f\">목표</h1>"
   ]
  },
  {
   "cell_type": "markdown",
   "id": "3b15a4ac",
   "metadata": {
    "slideshow": {
     "slide_type": "subslide"
    }
   },
   "source": [
    "<h3 style=\"color:#06f\">- 사이트의 예약, 방문 및 기타 정보를 사용하여 주어진 날짜 (2017년 4월과 5월의 마지막 주)에 향후 레스토랑 방문자 수를 예측</h3>\n",
    "<img src = \"img/Artboard 1 copy 2@4x.png\" width=\"1920px\" height=\"1080px\"/>"
   ]
  },
  {
   "cell_type": "markdown",
   "id": "96fa605d",
   "metadata": {
    "slideshow": {
     "slide_type": "slide"
    }
   },
   "source": [
    "<h1 style=\"color:#06f\">- 데이터 셋에 대한 간략한 설명</h1>"
   ]
  },
  {
   "cell_type": "markdown",
   "id": "1dfe6939",
   "metadata": {
    "slideshow": {
     "slide_type": "subslide"
    }
   },
   "source": [
    "<h3 style=\"color:#06f\">- 데이터 설명</h3><br/></br/>\n",
    "\n",
    "#두 개의 개별 사이트에서 가져오는 데이터\n",
    "- Hot Pepper Gourmet(hpg)<br/>\n",
    "  Yelp와 유사, 사용자가 레스토랑을 검색하고 온라인으로 예약하는 시스템<br/><br/>\n",
    "- AirREGI/레스토랑 보드(에어)<br/>\n",
    "  스퀘어와 유사, 예약 제어 및 금전 등록 시스템<br/><br/>        "
   ]
  },
  {
   "cell_type": "markdown",
   "id": "a01cd92b",
   "metadata": {
    "slideshow": {
     "slide_type": "subslide"
    }
   },
   "source": [
    "<h3 style=\"color:#06f\">- 주의할점</h3><br/><br/> \n",
    " \n",
    "- 훈련 데이터는 2016년부터 2017년 4월까지의 날짜를 포함<br/> \n",
    "- 테스트 세트는 시간을 기준으로 분할<br/>  (공개 폴드가 먼저, 비공개 폴드가 공개 다음에 옴)<br/> \n",
    "- 테스트 세트는 의도적으로 \"골든 위크\"라고 불리는 일본의 휴일 주간에 걸쳐 있음<br/> \n",
    "- 테스트 세트에는 레스토랑이 문을 닫고 방문자가 없는 날이 있었음. <br/> 스코어링 시 무시됨.  훈련 세트는 레스토랑이 문을 닫는 날을 생략<br/> <br/> "
   ]
  },
  {
   "cell_type": "markdown",
   "id": "coated-empire",
   "metadata": {
    "slideshow": {
     "slide_type": "skip"
    }
   },
   "source": [
    "<h3 style=\"color:#06f\">- 파일 설명</h3>\n",
    "\n",
    "- 두 시스템의 관계형 데이터 세트\n",
    "- 각 레스토랑은 고유 air_store_id하고 hpg_store_id를 갖고 있음\n",
    "- 위도와 경도는 식당의 비식별화를 막는 데 정확하지 않음\n",
    "\n",
    "<strong>1. air_visit_data.csv</strong>: 항공 레스토랑에 대한 과거 방문 데이터가 포함\n",
    "- air_store_id - 항공 시스템의 레스토랑의 id\n",
    "- visit_date - 날짜\n",
    "- visitors - 해당 날짜의 레스토랑 방문자 수 \n",
    "\n",
    "\n",
    "<strong>2. air_store_info.csv</strong>: 일부 항공 레스토랑에 대한 정보가 포함\n",
    "- air_store_id - 항공 시스템의 레스토랑의 id\n",
    "- air_genre_name - 레스토랑의 카테고리\n",
    "- air_area_name - 레스토랑이 위치한 지역이름\n",
    "- reserve_datetime  - 예약한 시간\n",
    "- reserve_visitors - 해당 예약의 방문자 수\n",
    "\n",
    "<strong>3. hpg_store_info.csv</strong>: 일부 hpg 레스토랑에 대한 정보가 포함\n",
    "- hpg_store_id - hpg 시스템의 레스토랑 id\n",
    "- hpg_genre_name - hpg시스템의 레스토랑 카테고리 \n",
    "- hpg_area_name - hpg시스템의 레스토랑이 위치한 지역이름\n",
    "- latitude - 레스토랑이 위치한 위도\n",
    "- longitude - 레스토랑이 위치한 경도\n",
    "\n",
    "<strong>4. air_reserve.csv</strong>: 항공 시스템에서 이루어진 예약\n",
    "- air_store_id - 항공 시스템의 레스토랑의 id\n",
    "- visit_datetime - 예약 시간\n",
    "- reserve_datetime - 예약한 시간\n",
    "- reserve_visitors - 해당 예약의 방문자 수\n",
    "\n",
    "<strong>5. hpg_reserve.csv</strong>: hpg 시스템에서 이루어진 예약\n",
    "- hpg_store_id - hpg 시스템의 레스토랑 id\n",
    "- visit_datetime - 예약 시간\n",
    "- reserve_datetime - 예약한 시간\n",
    "- reserve_visitors - 해당 예약의 방문자 수\n",
    "\n",
    "<strong>6. store_id_relation.csv</strong>: 항공 시스템과 hpg 시스템 모두를 쓰는 레스토랑 정보\n",
    "- hpg_store_id - hpg 시스템의 레스토랑 id\n",
    "- air_store_id - 항공 시스템의 레스토랑의 id\n",
    "\n",
    "<strong>7. sample_submission.csv</strong>: 제출해야하는 파일\n",
    "- id는 air_store_idand visit_date를 밑줄로 연결하여 구성\n",
    "- visitors - 매장 및 날짜 조합에 대한 예상 방문자 수\n",
    "\n",
    "<strong>8. date_info.csv</strong>: 데이터세트의 달력 날짜에 대한 기본 정보\n",
    "- calendar_date - 달력 날짜\n",
    "- day_of_week - 요일\n",
    "- holiday_flg - 일본의 휴일"
   ]
  },
  {
   "cell_type": "markdown",
   "id": "da34f27e",
   "metadata": {
    "slideshow": {
     "slide_type": "slide"
    }
   },
   "source": [
    "<h1 style=\"color:#06f\">- 데이터 분석을 위한 생각들</h1>"
   ]
  },
  {
   "cell_type": "markdown",
   "id": "4c3f893b",
   "metadata": {
    "slideshow": {
     "slide_type": "subslide"
    }
   },
   "source": [
    "<h3 style=\"color:#06f\">- 고객이 식당에 방문하게 되는 경로</h3>\n",
    "<img src = \"img/Artboard 1@4x.png\" width=\"1920px\" height=\"1080px\"/>"
   ]
  },
  {
   "cell_type": "markdown",
   "id": "45668b8b",
   "metadata": {
    "slideshow": {
     "slide_type": "subslide"
    }
   },
   "source": [
    "<h3 style=\"color:#06f\">- 고객이 식당 방문을 결정짓는 여러가지 요인들</h3>\n",
    "\n",
    "<img src = \"img/Artboard 1 copy@4x.png\" width=\"1920px\" height=\"1080px\"/>"
   ]
  },
  {
   "cell_type": "markdown",
   "id": "flush-navigation",
   "metadata": {
    "slideshow": {
     "slide_type": "slide"
    }
   },
   "source": [
    "<h1 style=\"color:#06f\">- 필요한 라이브러리 불러오기</h1>"
   ]
  },
  {
   "cell_type": "code",
   "execution_count": 3,
   "id": "behavioral-browse",
   "metadata": {
    "slideshow": {
     "slide_type": "subslide"
    }
   },
   "outputs": [],
   "source": [
    "import numpy as np\n",
    "import pandas as pd\n",
    "import seaborn as sns\n",
    "from datetime import datetime\n",
    "from sklearn.preprocessing import StandardScaler, LabelEncoder, MinMaxScaler\n",
    "from sklearn.metrics import mean_squared_error\n",
    "from scipy.ndimage.interpolation import shift\n",
    "from scipy.stats.mstats import gmean\n",
    "from tensorflow.keras.models import Sequential\n",
    "from tensorflow.keras.layers import LSTM, Dense, Conv2D, MaxPooling2D\n",
    "import tensorflow as tf\n",
    "from math import sqrt, floor\n",
    "from matplotlib import pyplot as plt\n",
    "plt.rcParams[\"font.family\"] = 'NanumGothic'\n",
    "%matplotlib inline\n",
    "%config InlineBackend.figure_format = 'retina'\n",
    "from IPython.display import Image\n",
    "import copy\n",
    "import warnings\n",
    "from tensorflow.keras.layers import GRU\n",
    "warnings.filterwarnings('ignore')\n",
    "\n",
    "# 결과 재생산을 위한 시드값 고정\n",
    "np.random.seed(7)\n",
    "tf.random.set_seed(7)"
   ]
  },
  {
   "cell_type": "markdown",
   "id": "fifth-fraction",
   "metadata": {
    "slideshow": {
     "slide_type": "slide"
    }
   },
   "source": [
    "<h1 style=\"color:#06f\">- 데이터 셋 읽어오기</h1>"
   ]
  },
  {
   "cell_type": "code",
   "execution_count": 4,
   "id": "intensive-header",
   "metadata": {
    "slideshow": {
     "slide_type": "subslide"
    }
   },
   "outputs": [],
   "source": [
    "data = {\n",
    "    'air_visit': pd.read_csv('/users/ho/desktop/data/restaurant/air_visit_data.csv'),\n",
    "    'air_store': pd.read_csv('/users/ho/desktop/data/restaurant/air_store_info.csv'),\n",
    "    'hpg_store': pd.read_csv('/users/ho/desktop/data/restaurant/hpg_store_info.csv'),\n",
    "    'air_reserve': pd.read_csv('/users/ho/desktop/data/restaurant/air_reserve.csv'),\n",
    "    'hpg_reserve': pd.read_csv('/users/ho/desktop/data/restaurant/hpg_reserve.csv'),\n",
    "    'id': pd.read_csv('/users/ho/desktop/data/restaurant/store_id_relation.csv'),\n",
    "    'tes': pd.read_csv('/users/ho/desktop/data/restaurant/sample_submission.csv'),\n",
    "    'date_info': pd.read_csv('/users/ho/desktop/data/restaurant/date_info.csv').rename(columns={'calendar_date':'visit_date'})\n",
    "}\n",
    "data_orig=copy.deepcopy(data)"
   ]
  },
  {
   "cell_type": "markdown",
   "id": "72a84645",
   "metadata": {
    "slideshow": {
     "slide_type": "slide"
    }
   },
   "source": [
    "<h1 style=\"color:#06f\">- 데이터 EDA, 전처리</h1>"
   ]
  },
  {
   "cell_type": "markdown",
   "id": "db3cd977",
   "metadata": {
    "slideshow": {
     "slide_type": "subslide"
    }
   },
   "source": [
    "<h3 style=\"color:#06f\">- pd.merge : 기준열을 기준으로 합칠 때</h3>\n",
    "<br/><br/>\n",
    "<img src = \"https://2.bp.blogspot.com/-7tZIwP6wp5o/XGKyofu6SoI/AAAAAAAANx4/W5znL7so_tcCtaXuLYs9PCbvMa2AZIH0wCLcBGAs/s640/flow_pandas_merge.png\" width=\"650px\" height=\"300px\"/>"
   ]
  },
  {
   "cell_type": "markdown",
   "id": "58606c07",
   "metadata": {
    "slideshow": {
     "slide_type": "subslide"
    }
   },
   "source": [
    "<h3 style=\"color:#06f\">- 기준열 이름이 같을 때</h3><br/>\n",
    "<strong>pd.merge(left, right, on = '기준열', how = '조인방식')</strong>\n",
    "\n",
    "    - left : 왼쪽 데이터프레임    \n",
    "    - right : 오른쪽 데이터프레임    \n",
    "    - on : (두 데이터프레임의 기준열 이름이 같을 때) 기준열    \n",
    "    - how : 조인 방식 {'left', 'right', 'inner', 'outer'} 기본값은 'inner'\n",
    "<h3 style=\"color:#06f\">- 기준열 이름이 다를 때</h3><br/>\n",
    "<strong>pd.merge(left, right, left_on = '왼쪽 열', right_on = '오른쪽 열', how = '조인방식')</strong>\n",
    "\n",
    "    - left_on : 기준열 이름이 다를 때, 왼쪽 기준열    \n",
    "    - right_on : 기준열 이름이 다를 때, 오른쪽 기준열\n",
    "<br/>       "
   ]
  },
  {
   "cell_type": "markdown",
   "id": "2e29fdf4",
   "metadata": {
    "slideshow": {
     "slide_type": "subslide"
    }
   },
   "source": [
    "<h3 style=\"color:#06f\">1. on = '기준열'</h3><br/>\n",
    "\n",
    "- 공통이 되는 기준 열이 여러 개일 때<br/>\n",
    "\n",
    "<h3 style=\"color:#06f\">2. how = JOIN 방식</h3><br/>\n",
    "<br/><img src = \"https://miro.medium.com/max/1400/1*9eH1_7VbTZPZd9jBiGIyNA.png\" width=\"450px\" height=\"300px\"/><br/><br/>"
   ]
  },
  {
   "cell_type": "markdown",
   "id": "51b09b4a",
   "metadata": {
    "slideshow": {
     "slide_type": "slide"
    }
   },
   "source": [
    "<h1 style=\"color:#06f\">- 데이터 전처리 및 EDA</h1>"
   ]
  },
  {
   "cell_type": "markdown",
   "id": "premium-exercise",
   "metadata": {
    "slideshow": {
     "slide_type": "subslide"
    }
   },
   "source": [
    "<h3 style=\"color:#06f\">1. 예약 인원수 대비 방문자 수</h3><br/>\n",
    "\n",
    "예약 인원수가 일정 부분을 넘는 가게는 방문자수가 더 많다."
   ]
  },
  {
   "cell_type": "code",
   "execution_count": 5,
   "id": "attractive-flooring",
   "metadata": {
    "slideshow": {
     "slide_type": "subslide"
    }
   },
   "outputs": [
    {
     "name": "stderr",
     "output_type": "stream",
     "text": [
      "findfont: Font family ['NanumGothic'] not found. Falling back to DejaVu Sans.\n"
     ]
    },
    {
     "data": {
      "image/png": "[encoded data removed]",
      "text/plain": [
       "<Figure size 432x288 with 1 Axes>"
      ]
     },
     "metadata": {
      "image/png": {
       "height": 261,
       "width": 389
      },
      "needs_background": "light"
     },
     "output_type": "display_data"
    }
   ],
   "source": [
    "reserve_visit = copy.deepcopy(data_orig['air_reserve'])\n",
    "reserve_visit['visit_datetime'] = reserve_visit['visit_datetime'].apply(lambda x : str(x[:10]))\n",
    "reserve_visit['reserve_datetime'] = reserve_visit['reserve_datetime'].apply(lambda x : str(x[:10]))\n",
    "reserve_visit = reserve_visit.groupby('visit_datetime').sum()\n",
    "visitors = copy.deepcopy(data_orig['air_visit'])\n",
    "visitors = visitors.groupby('visit_date').sum()['visitors']\n",
    "\n",
    "reserve_visit['visitors'] = visitors\n",
    "reserve_visit = reserve_visit.dropna()\n",
    "\n",
    "plt.plot(np.log1p(reserve_visit['reserve_visitors'])), np.log1p(reserve_visit['visitors'])\n",
    "\n",
    "plt.xlabel('예약 인원수')\n",
    "plt.ylabel('방문자수')\n",
    "\n",
    "plt.show()"
   ]
  },
  {
   "cell_type": "markdown",
   "id": "noble-relay",
   "metadata": {
    "slideshow": {
     "slide_type": "subslide"
    }
   },
   "source": [
    "<h3 style=\"color:#06f\">2. hpg_reserve의 id를 중심으로 store_id_relation의 id를 병합</h3><br/>"
   ]
  },
  {
   "cell_type": "code",
   "execution_count": 6,
   "id": "included-clock",
   "metadata": {},
   "outputs": [
    {
     "data": {
      "text/html": [
       "<div>\n",
       "<style scoped>\n",
       "    .dataframe tbody tr th:only-of-type {\n",
       "        vertical-align: middle;\n",
       "    }\n",
       "\n",
       "    .dataframe tbody tr th {\n",
       "        vertical-align: top;\n",
       "    }\n",
       "\n",
       "    .dataframe thead th {\n",
       "        text-align: right;\n",
       "    }\n",
       "</style>\n",
       "<table border=\"1\" class=\"dataframe\">\n",
       "  <thead>\n",
       "    <tr style=\"text-align: right;\">\n",
       "      <th></th>\n",
       "      <th>hpg_store_id</th>\n",
       "      <th>visit_datetime</th>\n",
       "      <th>reserve_datetime</th>\n",
       "      <th>reserve_visitors</th>\n",
       "      <th>air_store_id</th>\n",
       "    </tr>\n",
       "  </thead>\n",
       "  <tbody>\n",
       "    <tr>\n",
       "      <th>0</th>\n",
       "      <td>hpg_878cc70b1abc76f7</td>\n",
       "      <td>2016-01-01 19:00:00</td>\n",
       "      <td>2016-01-01 15:00:00</td>\n",
       "      <td>4</td>\n",
       "      <td>air_db80363d35f10926</td>\n",
       "    </tr>\n",
       "    <tr>\n",
       "      <th>1</th>\n",
       "      <td>hpg_878cc70b1abc76f7</td>\n",
       "      <td>2016-01-02 19:00:00</td>\n",
       "      <td>2016-01-02 14:00:00</td>\n",
       "      <td>2</td>\n",
       "      <td>air_db80363d35f10926</td>\n",
       "    </tr>\n",
       "    <tr>\n",
       "      <th>2</th>\n",
       "      <td>hpg_878cc70b1abc76f7</td>\n",
       "      <td>2016-01-03 18:00:00</td>\n",
       "      <td>2016-01-02 20:00:00</td>\n",
       "      <td>6</td>\n",
       "      <td>air_db80363d35f10926</td>\n",
       "    </tr>\n",
       "    <tr>\n",
       "      <th>3</th>\n",
       "      <td>hpg_878cc70b1abc76f7</td>\n",
       "      <td>2016-01-06 20:00:00</td>\n",
       "      <td>2016-01-04 22:00:00</td>\n",
       "      <td>3</td>\n",
       "      <td>air_db80363d35f10926</td>\n",
       "    </tr>\n",
       "    <tr>\n",
       "      <th>4</th>\n",
       "      <td>hpg_878cc70b1abc76f7</td>\n",
       "      <td>2016-01-11 18:00:00</td>\n",
       "      <td>2016-01-11 14:00:00</td>\n",
       "      <td>2</td>\n",
       "      <td>air_db80363d35f10926</td>\n",
       "    </tr>\n",
       "  </tbody>\n",
       "</table>\n",
       "</div>"
      ],
      "text/plain": [
       "           hpg_store_id       visit_datetime     reserve_datetime  \\\n",
       "0  hpg_878cc70b1abc76f7  2016-01-01 19:00:00  2016-01-01 15:00:00   \n",
       "1  hpg_878cc70b1abc76f7  2016-01-02 19:00:00  2016-01-02 14:00:00   \n",
       "2  hpg_878cc70b1abc76f7  2016-01-03 18:00:00  2016-01-02 20:00:00   \n",
       "3  hpg_878cc70b1abc76f7  2016-01-06 20:00:00  2016-01-04 22:00:00   \n",
       "4  hpg_878cc70b1abc76f7  2016-01-11 18:00:00  2016-01-11 14:00:00   \n",
       "\n",
       "   reserve_visitors          air_store_id  \n",
       "0                 4  air_db80363d35f10926  \n",
       "1                 2  air_db80363d35f10926  \n",
       "2                 6  air_db80363d35f10926  \n",
       "3                 3  air_db80363d35f10926  \n",
       "4                 2  air_db80363d35f10926  "
      ]
     },
     "execution_count": 6,
     "metadata": {},
     "output_type": "execute_result"
    }
   ],
   "source": [
    "data['hpg_reserve'] = pd.merge(data['hpg_reserve'], data['id'], how='inner', on=['hpg_store_id'])\n",
    "data['hpg_reserve'].head()"
   ]
  },
  {
   "cell_type": "markdown",
   "id": "expected-square",
   "metadata": {
    "slideshow": {
     "slide_type": "subslide"
    }
   },
   "source": [
    "----------------------------------------------------------------------------------------------------------------------\n",
    "<h3 style=\"color:#06f\">4. air_reserve, hpg_reserve 두 개의 데이터 프레임을 묶어서</h3><br/>\n",
    "1. visit_datetime과 reserve_datetime의 date에 해당하는 정보를 정수화<br/>\n",
    "2. visit_datetime과 reserve_datetime의 날짜 차를 계산하여 reserve_datetime_diff 데이터에 담아줌(예약날짜와 방문날짜의 차를 확인하기 위함)<br/>\n",
    "3. 변수 tmp1에 air_store_id와 visit_datetime를 그룹으로 묶어서 reserve_datetime_diff, reserve_visitors의 합계를 계산하여 각각 visitdatetime은 vistit_date, reserve_datetime_diff는 rs1, reserve_visitors는 rv1으로 컬럼명을 변경<br/>\n",
    "4. 변수 tmp2에 air_store_id와 visit_datetime를 그룹으로 묶어서 reserve_datetime_diff, reserve_visitors의 평균값을 계산하여 각각 visitdatetime은 vistit_date, reserve_datetime_diff는 rs2, reserve_visitors는 rv2으로 컬럼명을 변경<br/>\n",
    "5. air_reserve, hpg_reserve 두 개의 데이터 프레임에 생성한 tmp1, tmp2를 air_store_id, visit_date를 중심으로 합침<br/>"
   ]
  },
  {
   "cell_type": "code",
   "execution_count": 7,
   "id": "under-tokyo",
   "metadata": {
    "slideshow": {
     "slide_type": "subslide"
    }
   },
   "outputs": [],
   "source": [
    "for df in ['air_reserve','hpg_reserve']:\n",
    "    data[df]['visit_datetime'] = pd.to_datetime(data[df]['visit_datetime'])\n",
    "    data[df]['visit_datetime'] = data[df]['visit_datetime'].dt.date\n",
    "    data[df]['reserve_datetime'] = pd.to_datetime(data[df]['reserve_datetime'])\n",
    "    data[df]['reserve_datetime'] = data[df]['reserve_datetime'].dt.date\n",
    "    data[df]['reserve_datetime_diff'] = data[df].apply(lambda r: (r['visit_datetime'] - r['reserve_datetime']).days, axis=1)\n",
    "    tmp1 = data[df].groupby(['air_store_id','visit_datetime'], as_index=False)[['reserve_datetime_diff', 'reserve_visitors']].sum().rename(columns={'visit_datetime':'visit_date', 'reserve_datetime_diff': 'rs1', 'reserve_visitors':'rv1'}) #합계\n",
    "    tmp2 = data[df].groupby(['air_store_id','visit_datetime'], as_index=False)[['reserve_datetime_diff', 'reserve_visitors']].mean().rename(columns={'visit_datetime':'visit_date', 'reserve_datetime_diff': 'rs2', 'reserve_visitors':'rv2'}) #평균값\n",
    "    data[df] = pd.merge(tmp1, tmp2, how='inner', on=['air_store_id','visit_date'])"
   ]
  },
  {
   "cell_type": "code",
   "execution_count": 8,
   "id": "6145e162",
   "metadata": {
    "slideshow": {
     "slide_type": "subslide"
    }
   },
   "outputs": [
    {
     "data": {
      "text/html": [
       "<div>\n",
       "<style scoped>\n",
       "    .dataframe tbody tr th:only-of-type {\n",
       "        vertical-align: middle;\n",
       "    }\n",
       "\n",
       "    .dataframe tbody tr th {\n",
       "        vertical-align: top;\n",
       "    }\n",
       "\n",
       "    .dataframe thead th {\n",
       "        text-align: right;\n",
       "    }\n",
       "</style>\n",
       "<table border=\"1\" class=\"dataframe\">\n",
       "  <thead>\n",
       "    <tr style=\"text-align: right;\">\n",
       "      <th></th>\n",
       "      <th>air_store_id</th>\n",
       "      <th>visit_date</th>\n",
       "      <th>rs1</th>\n",
       "      <th>rv1</th>\n",
       "    </tr>\n",
       "  </thead>\n",
       "  <tbody>\n",
       "    <tr>\n",
       "      <th>0</th>\n",
       "      <td>air_00a91d42b08b08d9</td>\n",
       "      <td>2016-01-14</td>\n",
       "      <td>3</td>\n",
       "      <td>2</td>\n",
       "    </tr>\n",
       "    <tr>\n",
       "      <th>1</th>\n",
       "      <td>air_00a91d42b08b08d9</td>\n",
       "      <td>2016-01-15</td>\n",
       "      <td>6</td>\n",
       "      <td>4</td>\n",
       "    </tr>\n",
       "    <tr>\n",
       "      <th>2</th>\n",
       "      <td>air_00a91d42b08b08d9</td>\n",
       "      <td>2016-01-16</td>\n",
       "      <td>3</td>\n",
       "      <td>2</td>\n",
       "    </tr>\n",
       "    <tr>\n",
       "      <th>3</th>\n",
       "      <td>air_00a91d42b08b08d9</td>\n",
       "      <td>2016-01-22</td>\n",
       "      <td>3</td>\n",
       "      <td>2</td>\n",
       "    </tr>\n",
       "    <tr>\n",
       "      <th>4</th>\n",
       "      <td>air_00a91d42b08b08d9</td>\n",
       "      <td>2016-01-29</td>\n",
       "      <td>6</td>\n",
       "      <td>5</td>\n",
       "    </tr>\n",
       "    <tr>\n",
       "      <th>...</th>\n",
       "      <td>...</td>\n",
       "      <td>...</td>\n",
       "      <td>...</td>\n",
       "      <td>...</td>\n",
       "    </tr>\n",
       "    <tr>\n",
       "      <th>18615</th>\n",
       "      <td>air_fea5dc9594450608</td>\n",
       "      <td>2017-04-21</td>\n",
       "      <td>2</td>\n",
       "      <td>2</td>\n",
       "    </tr>\n",
       "    <tr>\n",
       "      <th>18616</th>\n",
       "      <td>air_fea5dc9594450608</td>\n",
       "      <td>2017-04-22</td>\n",
       "      <td>0</td>\n",
       "      <td>2</td>\n",
       "    </tr>\n",
       "    <tr>\n",
       "      <th>18617</th>\n",
       "      <td>air_fea5dc9594450608</td>\n",
       "      <td>2017-04-25</td>\n",
       "      <td>9</td>\n",
       "      <td>2</td>\n",
       "    </tr>\n",
       "    <tr>\n",
       "      <th>18618</th>\n",
       "      <td>air_fea5dc9594450608</td>\n",
       "      <td>2017-04-28</td>\n",
       "      <td>29</td>\n",
       "      <td>3</td>\n",
       "    </tr>\n",
       "    <tr>\n",
       "      <th>18619</th>\n",
       "      <td>air_fea5dc9594450608</td>\n",
       "      <td>2017-05-20</td>\n",
       "      <td>34</td>\n",
       "      <td>6</td>\n",
       "    </tr>\n",
       "  </tbody>\n",
       "</table>\n",
       "<p>18620 rows × 4 columns</p>\n",
       "</div>"
      ],
      "text/plain": [
       "               air_store_id  visit_date  rs1  rv1\n",
       "0      air_00a91d42b08b08d9  2016-01-14    3    2\n",
       "1      air_00a91d42b08b08d9  2016-01-15    6    4\n",
       "2      air_00a91d42b08b08d9  2016-01-16    3    2\n",
       "3      air_00a91d42b08b08d9  2016-01-22    3    2\n",
       "4      air_00a91d42b08b08d9  2016-01-29    6    5\n",
       "...                     ...         ...  ...  ...\n",
       "18615  air_fea5dc9594450608  2017-04-21    2    2\n",
       "18616  air_fea5dc9594450608  2017-04-22    0    2\n",
       "18617  air_fea5dc9594450608  2017-04-25    9    2\n",
       "18618  air_fea5dc9594450608  2017-04-28   29    3\n",
       "18619  air_fea5dc9594450608  2017-05-20   34    6\n",
       "\n",
       "[18620 rows x 4 columns]"
      ]
     },
     "execution_count": 8,
     "metadata": {},
     "output_type": "execute_result"
    }
   ],
   "source": [
    "tmp1"
   ]
  },
  {
   "cell_type": "code",
   "execution_count": 9,
   "id": "ea0d701b",
   "metadata": {
    "slideshow": {
     "slide_type": "subslide"
    }
   },
   "outputs": [
    {
     "data": {
      "text/html": [
       "<div>\n",
       "<style scoped>\n",
       "    .dataframe tbody tr th:only-of-type {\n",
       "        vertical-align: middle;\n",
       "    }\n",
       "\n",
       "    .dataframe tbody tr th {\n",
       "        vertical-align: top;\n",
       "    }\n",
       "\n",
       "    .dataframe thead th {\n",
       "        text-align: right;\n",
       "    }\n",
       "</style>\n",
       "<table border=\"1\" class=\"dataframe\">\n",
       "  <thead>\n",
       "    <tr style=\"text-align: right;\">\n",
       "      <th></th>\n",
       "      <th>air_store_id</th>\n",
       "      <th>visit_date</th>\n",
       "      <th>rs2</th>\n",
       "      <th>rv2</th>\n",
       "    </tr>\n",
       "  </thead>\n",
       "  <tbody>\n",
       "    <tr>\n",
       "      <th>0</th>\n",
       "      <td>air_00a91d42b08b08d9</td>\n",
       "      <td>2016-01-14</td>\n",
       "      <td>3.0</td>\n",
       "      <td>2.0</td>\n",
       "    </tr>\n",
       "    <tr>\n",
       "      <th>1</th>\n",
       "      <td>air_00a91d42b08b08d9</td>\n",
       "      <td>2016-01-15</td>\n",
       "      <td>6.0</td>\n",
       "      <td>4.0</td>\n",
       "    </tr>\n",
       "    <tr>\n",
       "      <th>2</th>\n",
       "      <td>air_00a91d42b08b08d9</td>\n",
       "      <td>2016-01-16</td>\n",
       "      <td>3.0</td>\n",
       "      <td>2.0</td>\n",
       "    </tr>\n",
       "    <tr>\n",
       "      <th>3</th>\n",
       "      <td>air_00a91d42b08b08d9</td>\n",
       "      <td>2016-01-22</td>\n",
       "      <td>3.0</td>\n",
       "      <td>2.0</td>\n",
       "    </tr>\n",
       "    <tr>\n",
       "      <th>4</th>\n",
       "      <td>air_00a91d42b08b08d9</td>\n",
       "      <td>2016-01-29</td>\n",
       "      <td>6.0</td>\n",
       "      <td>5.0</td>\n",
       "    </tr>\n",
       "    <tr>\n",
       "      <th>...</th>\n",
       "      <td>...</td>\n",
       "      <td>...</td>\n",
       "      <td>...</td>\n",
       "      <td>...</td>\n",
       "    </tr>\n",
       "    <tr>\n",
       "      <th>18615</th>\n",
       "      <td>air_fea5dc9594450608</td>\n",
       "      <td>2017-04-21</td>\n",
       "      <td>2.0</td>\n",
       "      <td>2.0</td>\n",
       "    </tr>\n",
       "    <tr>\n",
       "      <th>18616</th>\n",
       "      <td>air_fea5dc9594450608</td>\n",
       "      <td>2017-04-22</td>\n",
       "      <td>0.0</td>\n",
       "      <td>2.0</td>\n",
       "    </tr>\n",
       "    <tr>\n",
       "      <th>18617</th>\n",
       "      <td>air_fea5dc9594450608</td>\n",
       "      <td>2017-04-25</td>\n",
       "      <td>9.0</td>\n",
       "      <td>2.0</td>\n",
       "    </tr>\n",
       "    <tr>\n",
       "      <th>18618</th>\n",
       "      <td>air_fea5dc9594450608</td>\n",
       "      <td>2017-04-28</td>\n",
       "      <td>29.0</td>\n",
       "      <td>3.0</td>\n",
       "    </tr>\n",
       "    <tr>\n",
       "      <th>18619</th>\n",
       "      <td>air_fea5dc9594450608</td>\n",
       "      <td>2017-05-20</td>\n",
       "      <td>34.0</td>\n",
       "      <td>6.0</td>\n",
       "    </tr>\n",
       "  </tbody>\n",
       "</table>\n",
       "<p>18620 rows × 4 columns</p>\n",
       "</div>"
      ],
      "text/plain": [
       "               air_store_id  visit_date   rs2  rv2\n",
       "0      air_00a91d42b08b08d9  2016-01-14   3.0  2.0\n",
       "1      air_00a91d42b08b08d9  2016-01-15   6.0  4.0\n",
       "2      air_00a91d42b08b08d9  2016-01-16   3.0  2.0\n",
       "3      air_00a91d42b08b08d9  2016-01-22   3.0  2.0\n",
       "4      air_00a91d42b08b08d9  2016-01-29   6.0  5.0\n",
       "...                     ...         ...   ...  ...\n",
       "18615  air_fea5dc9594450608  2017-04-21   2.0  2.0\n",
       "18616  air_fea5dc9594450608  2017-04-22   0.0  2.0\n",
       "18617  air_fea5dc9594450608  2017-04-25   9.0  2.0\n",
       "18618  air_fea5dc9594450608  2017-04-28  29.0  3.0\n",
       "18619  air_fea5dc9594450608  2017-05-20  34.0  6.0\n",
       "\n",
       "[18620 rows x 4 columns]"
      ]
     },
     "execution_count": 9,
     "metadata": {},
     "output_type": "execute_result"
    }
   ],
   "source": [
    "tmp2"
   ]
  },
  {
   "cell_type": "markdown",
   "id": "c8bd9048",
   "metadata": {
    "slideshow": {
     "slide_type": "subslide"
    }
   },
   "source": [
    "## 2.월별 방문자수 시각화\n",
    "\n",
    "- y = 방문자수\n",
    "- x = 월"
   ]
  },
  {
   "cell_type": "code",
   "execution_count": 10,
   "id": "764c1e42",
   "metadata": {
    "scrolled": true,
    "slideshow": {
     "slide_type": "subslide"
    }
   },
   "outputs": [
    {
     "name": "stderr",
     "output_type": "stream",
     "text": [
      "findfont: Font family ['NanumGothic'] not found. Falling back to DejaVu Sans.\n"
     ]
    },
    {
     "data": {
      "image/png": "[encoded data removed]",
      "text/plain": [
       "<Figure size 1080x360 with 2 Axes>"
      ]
     },
     "metadata": {
      "image/png": {
       "height": 331,
       "width": 910
      },
      "needs_background": "light"
     },
     "output_type": "display_data"
    }
   ],
   "source": [
    "fig, ax = plt.subplots(nrows=1, ncols=2, figsize=(15, 5))\n",
    "data_orig['air_visit']['year'] = pd.to_datetime(data_orig['air_visit']['visit_date']).dt.year\n",
    "data_orig['air_visit']['month'] = pd.to_datetime(data_orig['air_visit']['visit_date']).dt.month\n",
    "year = data_orig['air_visit']\n",
    "year_2016 = data_orig['air_visit'][year['year'] == 2016]\n",
    "year_2017 = data_orig['air_visit'][year['year'] == 2017]\n",
    "\n",
    "\n",
    "for i, year in enumerate([year_2016, year_2017]):\n",
    "    year_visitors = year.groupby('month').aggregate(sum).sort_values('month', ascending=False) \n",
    "    sns.barplot(x = year_visitors.index, y = 'visitors', data = year_visitors, ax=ax[i])\n",
    "    \n",
    "ax[0].set_title(\"2016\")\n",
    "ax[1].set_title(\"2017\")\n",
    "\n",
    "plt.show()"
   ]
  },
  {
   "cell_type": "markdown",
   "id": "sapphire-eleven",
   "metadata": {
    "slideshow": {
     "slide_type": "subslide"
    }
   },
   "source": [
    "<h3 style=\"color:#06f\">5. air_visit의 visit_date를 datetime으로 변환 후 요일, 년도, 월, 일로 칼럼을 추가하여 정보를 정수로 변환</h3><br/>"
   ]
  },
  {
   "cell_type": "code",
   "execution_count": 11,
   "id": "czech-faculty",
   "metadata": {
    "slideshow": {
     "slide_type": "-"
    }
   },
   "outputs": [
    {
     "data": {
      "text/html": [
       "<div>\n",
       "<style scoped>\n",
       "    .dataframe tbody tr th:only-of-type {\n",
       "        vertical-align: middle;\n",
       "    }\n",
       "\n",
       "    .dataframe tbody tr th {\n",
       "        vertical-align: top;\n",
       "    }\n",
       "\n",
       "    .dataframe thead th {\n",
       "        text-align: right;\n",
       "    }\n",
       "</style>\n",
       "<table border=\"1\" class=\"dataframe\">\n",
       "  <thead>\n",
       "    <tr style=\"text-align: right;\">\n",
       "      <th></th>\n",
       "      <th>air_store_id</th>\n",
       "      <th>visit_date</th>\n",
       "      <th>visitors</th>\n",
       "      <th>dow</th>\n",
       "      <th>year</th>\n",
       "      <th>month</th>\n",
       "    </tr>\n",
       "  </thead>\n",
       "  <tbody>\n",
       "    <tr>\n",
       "      <th>0</th>\n",
       "      <td>air_ba937bf13d40fb24</td>\n",
       "      <td>2016-01-13</td>\n",
       "      <td>25</td>\n",
       "      <td>2</td>\n",
       "      <td>2016</td>\n",
       "      <td>1</td>\n",
       "    </tr>\n",
       "    <tr>\n",
       "      <th>1</th>\n",
       "      <td>air_ba937bf13d40fb24</td>\n",
       "      <td>2016-01-14</td>\n",
       "      <td>32</td>\n",
       "      <td>3</td>\n",
       "      <td>2016</td>\n",
       "      <td>1</td>\n",
       "    </tr>\n",
       "    <tr>\n",
       "      <th>2</th>\n",
       "      <td>air_ba937bf13d40fb24</td>\n",
       "      <td>2016-01-15</td>\n",
       "      <td>29</td>\n",
       "      <td>4</td>\n",
       "      <td>2016</td>\n",
       "      <td>1</td>\n",
       "    </tr>\n",
       "    <tr>\n",
       "      <th>3</th>\n",
       "      <td>air_ba937bf13d40fb24</td>\n",
       "      <td>2016-01-16</td>\n",
       "      <td>22</td>\n",
       "      <td>5</td>\n",
       "      <td>2016</td>\n",
       "      <td>1</td>\n",
       "    </tr>\n",
       "    <tr>\n",
       "      <th>4</th>\n",
       "      <td>air_ba937bf13d40fb24</td>\n",
       "      <td>2016-01-18</td>\n",
       "      <td>6</td>\n",
       "      <td>0</td>\n",
       "      <td>2016</td>\n",
       "      <td>1</td>\n",
       "    </tr>\n",
       "  </tbody>\n",
       "</table>\n",
       "</div>"
      ],
      "text/plain": [
       "           air_store_id  visit_date  visitors  dow  year  month\n",
       "0  air_ba937bf13d40fb24  2016-01-13        25    2  2016      1\n",
       "1  air_ba937bf13d40fb24  2016-01-14        32    3  2016      1\n",
       "2  air_ba937bf13d40fb24  2016-01-15        29    4  2016      1\n",
       "3  air_ba937bf13d40fb24  2016-01-16        22    5  2016      1\n",
       "4  air_ba937bf13d40fb24  2016-01-18         6    0  2016      1"
      ]
     },
     "execution_count": 11,
     "metadata": {},
     "output_type": "execute_result"
    }
   ],
   "source": [
    "data['air_visit']['visit_date'] = pd.to_datetime(data['air_visit']['visit_date'])\n",
    "data['air_visit']['dow'] = data['air_visit']['visit_date'].dt.dayofweek\n",
    "data['air_visit']['year'] = data['air_visit']['visit_date'].dt.year\n",
    "data['air_visit']['month'] = data['air_visit']['visit_date'].dt.month\n",
    "data['air_visit']['visit_date'] = data['air_visit']['visit_date'].dt.date\n",
    "\n",
    "data['air_visit'].head()"
   ]
  },
  {
   "attachments": {
    "%E1%84%89%E1%85%B3%E1%84%8F%E1%85%B3%E1%84%85%E1%85%B5%E1%86%AB%E1%84%89%E1%85%A3%E1%86%BA%202021-08-05%20%E1%84%8B%E1%85%A9%E1%84%92%E1%85%AE%207.12.53.png": {
     "image/png": "[encoded data removed]"
    }
   },
   "cell_type": "markdown",
   "id": "driven-special",
   "metadata": {
    "slideshow": {
     "slide_type": "subslide"
    }
   },
   "source": [
    "<h3 style=\"color:#06f\">6. sample_submission.csv 데이터에 날짜 컬럼 전처리 및 추가</h3><br/> \n",
    "\n",
    "- to_datetime 메소드에 관한 설명  \n",
    "https://wikidocs.net/50959  \n",
    "01/01/2015,2:00 -> 2015-01-01 02:00:00  \n",
    "위와 같은 형식으로 바꿔주는 메소드다.\n",
    "\n",
    "-dayofweek 메소드  \n",
    "월요일:0, 화요일:1, 수요일:2, 목요일:3, 금요일:4, 토요일:5, 일요일:6\n",
    "r\n",
    "- rpd.dt.* 메소드에 관한 설명  \n",
    "https://moondol-ai.tistory.com/180  \n",
    "![%E1%84%89%E1%85%B3%E1%84%8F%E1%85%B3%E1%84%85%E1%85%B5%E1%86%AB%E1%84%89%E1%85%A3%E1%86%BA%202021-08-05%20%E1%84%8B%E1%85%A9%E1%84%92%E1%85%AE%207.12.53.png](attachment:%E1%84%89%E1%85%B3%E1%84%8F%E1%85%B3%E1%84%85%E1%85%B5%E1%86%AB%E1%84%89%E1%85%A3%E1%86%BA%202021-08-05%20%E1%84%8B%E1%85%A9%E1%84%92%E1%85%AE%207.12.53.png)"
   ]
  },
  {
   "cell_type": "code",
   "execution_count": 12,
   "id": "superb-monitor",
   "metadata": {
    "slideshow": {
     "slide_type": "subslide"
    }
   },
   "outputs": [],
   "source": [
    "# id에서 상점 id와 날짜 2번째 _를 기준으로 분리\n",
    "data['tes']['visit_date'] = data['tes']['id'].map(lambda x: str(x).split('_')[2])\n",
    "data['tes']['air_store_id'] = data['tes']['id'].map(lambda x: '_'.join(x.split('_')[:2]))\n",
    "\n",
    "# 날짜 컬럼 to_datetime 적용(date 데이터로 해줘야함)\n",
    "data['tes']['visit_date'] = pd.to_datetime(data['tes']['visit_date'])\n",
    "\n",
    "# 날짜 컬럼에 dayofweek 메소드를 적용해 요일 컬럼 추가\n",
    "data['tes']['dow'] = data['tes']['visit_date'].dt.dayofweek\n",
    "\n",
    "# 년, 월 데이터 컬럼 추가\n",
    "data['tes']['year'] = data['tes']['visit_date'].dt.year\n",
    "data['tes']['month'] = data['tes']['visit_date'].dt.month\n"
   ]
  },
  {
   "cell_type": "code",
   "execution_count": 13,
   "id": "comparative-awareness",
   "metadata": {
    "slideshow": {
     "slide_type": "subslide"
    }
   },
   "outputs": [
    {
     "data": {
      "text/plain": [
       "pandas._libs.tslibs.timestamps.Timestamp"
      ]
     },
     "execution_count": 13,
     "metadata": {},
     "output_type": "execute_result"
    }
   ],
   "source": [
    "type(data['tes']['visit_date'][0])"
   ]
  },
  {
   "cell_type": "code",
   "execution_count": 14,
   "id": "modified-black",
   "metadata": {
    "slideshow": {
     "slide_type": "-"
    }
   },
   "outputs": [],
   "source": [
    "# dt.date 메소드로 type 변환(Timestamp type -> datetime.date type)\n",
    "data['tes']['visit_date'] = data['tes']['visit_date'].dt.date"
   ]
  },
  {
   "cell_type": "code",
   "execution_count": 15,
   "id": "prostate-fantasy",
   "metadata": {
    "slideshow": {
     "slide_type": "-"
    }
   },
   "outputs": [
    {
     "data": {
      "text/plain": [
       "datetime.date"
      ]
     },
     "execution_count": 15,
     "metadata": {},
     "output_type": "execute_result"
    }
   ],
   "source": [
    "type(data['tes']['visit_date'][0])"
   ]
  },
  {
   "cell_type": "code",
   "execution_count": 16,
   "id": "pacific-words",
   "metadata": {
    "slideshow": {
     "slide_type": "subslide"
    }
   },
   "outputs": [
    {
     "data": {
      "text/html": [
       "<div>\n",
       "<style scoped>\n",
       "    .dataframe tbody tr th:only-of-type {\n",
       "        vertical-align: middle;\n",
       "    }\n",
       "\n",
       "    .dataframe tbody tr th {\n",
       "        vertical-align: top;\n",
       "    }\n",
       "\n",
       "    .dataframe thead th {\n",
       "        text-align: right;\n",
       "    }\n",
       "</style>\n",
       "<table border=\"1\" class=\"dataframe\">\n",
       "  <thead>\n",
       "    <tr style=\"text-align: right;\">\n",
       "      <th></th>\n",
       "      <th>id</th>\n",
       "      <th>visitors</th>\n",
       "      <th>visit_date</th>\n",
       "      <th>air_store_id</th>\n",
       "      <th>dow</th>\n",
       "      <th>year</th>\n",
       "      <th>month</th>\n",
       "    </tr>\n",
       "  </thead>\n",
       "  <tbody>\n",
       "    <tr>\n",
       "      <th>0</th>\n",
       "      <td>air_00a91d42b08b08d9_2017-04-23</td>\n",
       "      <td>0</td>\n",
       "      <td>2017-04-23</td>\n",
       "      <td>air_00a91d42b08b08d9</td>\n",
       "      <td>6</td>\n",
       "      <td>2017</td>\n",
       "      <td>4</td>\n",
       "    </tr>\n",
       "    <tr>\n",
       "      <th>1</th>\n",
       "      <td>air_00a91d42b08b08d9_2017-04-24</td>\n",
       "      <td>0</td>\n",
       "      <td>2017-04-24</td>\n",
       "      <td>air_00a91d42b08b08d9</td>\n",
       "      <td>0</td>\n",
       "      <td>2017</td>\n",
       "      <td>4</td>\n",
       "    </tr>\n",
       "    <tr>\n",
       "      <th>2</th>\n",
       "      <td>air_00a91d42b08b08d9_2017-04-25</td>\n",
       "      <td>0</td>\n",
       "      <td>2017-04-25</td>\n",
       "      <td>air_00a91d42b08b08d9</td>\n",
       "      <td>1</td>\n",
       "      <td>2017</td>\n",
       "      <td>4</td>\n",
       "    </tr>\n",
       "    <tr>\n",
       "      <th>3</th>\n",
       "      <td>air_00a91d42b08b08d9_2017-04-26</td>\n",
       "      <td>0</td>\n",
       "      <td>2017-04-26</td>\n",
       "      <td>air_00a91d42b08b08d9</td>\n",
       "      <td>2</td>\n",
       "      <td>2017</td>\n",
       "      <td>4</td>\n",
       "    </tr>\n",
       "    <tr>\n",
       "      <th>4</th>\n",
       "      <td>air_00a91d42b08b08d9_2017-04-27</td>\n",
       "      <td>0</td>\n",
       "      <td>2017-04-27</td>\n",
       "      <td>air_00a91d42b08b08d9</td>\n",
       "      <td>3</td>\n",
       "      <td>2017</td>\n",
       "      <td>4</td>\n",
       "    </tr>\n",
       "    <tr>\n",
       "      <th>...</th>\n",
       "      <td>...</td>\n",
       "      <td>...</td>\n",
       "      <td>...</td>\n",
       "      <td>...</td>\n",
       "      <td>...</td>\n",
       "      <td>...</td>\n",
       "      <td>...</td>\n",
       "    </tr>\n",
       "    <tr>\n",
       "      <th>32014</th>\n",
       "      <td>air_fff68b929994bfbd_2017-05-27</td>\n",
       "      <td>0</td>\n",
       "      <td>2017-05-27</td>\n",
       "      <td>air_fff68b929994bfbd</td>\n",
       "      <td>5</td>\n",
       "      <td>2017</td>\n",
       "      <td>5</td>\n",
       "    </tr>\n",
       "    <tr>\n",
       "      <th>32015</th>\n",
       "      <td>air_fff68b929994bfbd_2017-05-28</td>\n",
       "      <td>0</td>\n",
       "      <td>2017-05-28</td>\n",
       "      <td>air_fff68b929994bfbd</td>\n",
       "      <td>6</td>\n",
       "      <td>2017</td>\n",
       "      <td>5</td>\n",
       "    </tr>\n",
       "    <tr>\n",
       "      <th>32016</th>\n",
       "      <td>air_fff68b929994bfbd_2017-05-29</td>\n",
       "      <td>0</td>\n",
       "      <td>2017-05-29</td>\n",
       "      <td>air_fff68b929994bfbd</td>\n",
       "      <td>0</td>\n",
       "      <td>2017</td>\n",
       "      <td>5</td>\n",
       "    </tr>\n",
       "    <tr>\n",
       "      <th>32017</th>\n",
       "      <td>air_fff68b929994bfbd_2017-05-30</td>\n",
       "      <td>0</td>\n",
       "      <td>2017-05-30</td>\n",
       "      <td>air_fff68b929994bfbd</td>\n",
       "      <td>1</td>\n",
       "      <td>2017</td>\n",
       "      <td>5</td>\n",
       "    </tr>\n",
       "    <tr>\n",
       "      <th>32018</th>\n",
       "      <td>air_fff68b929994bfbd_2017-05-31</td>\n",
       "      <td>0</td>\n",
       "      <td>2017-05-31</td>\n",
       "      <td>air_fff68b929994bfbd</td>\n",
       "      <td>2</td>\n",
       "      <td>2017</td>\n",
       "      <td>5</td>\n",
       "    </tr>\n",
       "  </tbody>\n",
       "</table>\n",
       "<p>32019 rows × 7 columns</p>\n",
       "</div>"
      ],
      "text/plain": [
       "                                    id  visitors  visit_date  \\\n",
       "0      air_00a91d42b08b08d9_2017-04-23         0  2017-04-23   \n",
       "1      air_00a91d42b08b08d9_2017-04-24         0  2017-04-24   \n",
       "2      air_00a91d42b08b08d9_2017-04-25         0  2017-04-25   \n",
       "3      air_00a91d42b08b08d9_2017-04-26         0  2017-04-26   \n",
       "4      air_00a91d42b08b08d9_2017-04-27         0  2017-04-27   \n",
       "...                                ...       ...         ...   \n",
       "32014  air_fff68b929994bfbd_2017-05-27         0  2017-05-27   \n",
       "32015  air_fff68b929994bfbd_2017-05-28         0  2017-05-28   \n",
       "32016  air_fff68b929994bfbd_2017-05-29         0  2017-05-29   \n",
       "32017  air_fff68b929994bfbd_2017-05-30         0  2017-05-30   \n",
       "32018  air_fff68b929994bfbd_2017-05-31         0  2017-05-31   \n",
       "\n",
       "               air_store_id  dow  year  month  \n",
       "0      air_00a91d42b08b08d9    6  2017      4  \n",
       "1      air_00a91d42b08b08d9    0  2017      4  \n",
       "2      air_00a91d42b08b08d9    1  2017      4  \n",
       "3      air_00a91d42b08b08d9    2  2017      4  \n",
       "4      air_00a91d42b08b08d9    3  2017      4  \n",
       "...                     ...  ...   ...    ...  \n",
       "32014  air_fff68b929994bfbd    5  2017      5  \n",
       "32015  air_fff68b929994bfbd    6  2017      5  \n",
       "32016  air_fff68b929994bfbd    0  2017      5  \n",
       "32017  air_fff68b929994bfbd    1  2017      5  \n",
       "32018  air_fff68b929994bfbd    2  2017      5  \n",
       "\n",
       "[32019 rows x 7 columns]"
      ]
     },
     "execution_count": 16,
     "metadata": {},
     "output_type": "execute_result"
    }
   ],
   "source": [
    "data['tes']"
   ]
  },
  {
   "cell_type": "markdown",
   "id": "fitting-summer",
   "metadata": {
    "slideshow": {
     "slide_type": "subslide"
    }
   },
   "source": [
    "<h3 style=\"color:#06f\">7. 상점 데이터프레임 stores 생성</h3><br/>\n",
    "\n",
    "##### - ignore_index\n",
    "DataFrame에 Series를 '좌+우'로 합칠 때  \n",
    "ignore_index=True: 열 이름(column name) 무시하고 정수 번호 자동 부여\n",
    "\n",
    "##### - reset_index\n",
    "전처리 과정에 인덱스가 뒤죽박죽 섞인 경우에 인덱스를 다시 정해준다.   \n",
    "https://yganalyst.github.io/data_handling/Pd_2/\n",
    "\n",
    "##### - groupby.agg\n",
    "https://rfriend.tistory.com/392  \n"
   ]
  },
  {
   "cell_type": "code",
   "execution_count": 18,
   "id": "b29e24ed-1d0e-4ad7-b1c4-b20d928d0748",
   "metadata": {},
   "outputs": [
    {
     "data": {
      "text/plain": [
       "'\\nplt.figure(figsize=(25,8))\\ngenre=train.groupby([\\'air_genre_name\\'],as_index=False)[\\'visitors\\'].sum()\\ngenre.sort_values(by=\\'visitors\\', ascending=False, inplace=True)\\ngenre[\\'air_genre\\'] =[i for i,x in enumerate(genre[\\'air_genre_name\\'])] \\ngenre = genre.sort_values(by=\\'visitors\\', ascending=False)\\nsns.barplot(genre[\\'air_genre\\'],genre[\\'visitors\\'],label=\\'visitors\\')\\nplt.xticks(range(15), [\"Izakaya\", \\'Cafe/Sweets\\', \"Italian\", \"Dining bar\", \"Japanses\", \"Bar\", \"Other\", \"Korean\", \"Western\", \"Creative cuisine\", \"Okonomiyaki\", \"O\", \"Asian\", \"Karaoke\", \"International cuisine\"],fontsize=15)\\nplt.title(\"상점 카테고리 별 전체 방문자\")\\nplt.xlabel(\\'\\')\\nplt.ylabel(\\'방문자수\\')\\n'"
      ]
     },
     "execution_count": 18,
     "metadata": {},
     "output_type": "execute_result"
    }
   ],
   "source": [
    "'''\n",
    "plt.figure(figsize=(25,8))\n",
    "genre=train.groupby(['air_genre_name'],as_index=False)['visitors'].sum()\n",
    "genre.sort_values(by='visitors', ascending=False, inplace=True)\n",
    "genre['air_genre'] =[i for i,x in enumerate(genre['air_genre_name'])] \n",
    "genre = genre.sort_values(by='visitors', ascending=False)\n",
    "sns.barplot(genre['air_genre'],genre['visitors'],label='visitors')\n",
    "plt.xticks(range(15), [\"Izakaya\", 'Cafe/Sweets', \"Italian\", \"Dining bar\", \"Japanses\", \"Bar\", \"Other\", \"Korean\", \"Western\", \"Creative cuisine\", \"Okonomiyaki\", \"O\", \"Asian\", \"Karaoke\", \"International cuisine\"],fontsize=15)\n",
    "plt.title(\"상점 카테고리 별 전체 방문자\")\n",
    "plt.xlabel('')\n",
    "plt.ylabel('방문자수')\n",
    "'''"
   ]
  },
  {
   "cell_type": "code",
   "execution_count": 19,
   "id": "sufficient-connecticut",
   "metadata": {
    "scrolled": true,
    "slideshow": {
     "slide_type": "subslide"
    }
   },
   "outputs": [
    {
     "data": {
      "text/html": [
       "<div>\n",
       "<style scoped>\n",
       "    .dataframe tbody tr th:only-of-type {\n",
       "        vertical-align: middle;\n",
       "    }\n",
       "\n",
       "    .dataframe tbody tr th {\n",
       "        vertical-align: top;\n",
       "    }\n",
       "\n",
       "    .dataframe thead th {\n",
       "        text-align: right;\n",
       "    }\n",
       "</style>\n",
       "<table border=\"1\" class=\"dataframe\">\n",
       "  <thead>\n",
       "    <tr style=\"text-align: right;\">\n",
       "      <th></th>\n",
       "      <th>air_store_id</th>\n",
       "      <th>dow</th>\n",
       "      <th>min_visitors</th>\n",
       "      <th>mean_visitors</th>\n",
       "      <th>median_visitors</th>\n",
       "      <th>max_visitors</th>\n",
       "      <th>count_observations</th>\n",
       "      <th>air_genre_name</th>\n",
       "      <th>air_area_name</th>\n",
       "      <th>latitude</th>\n",
       "      <th>longitude</th>\n",
       "    </tr>\n",
       "  </thead>\n",
       "  <tbody>\n",
       "    <tr>\n",
       "      <th>0</th>\n",
       "      <td>air_00a91d42b08b08d9</td>\n",
       "      <td>0</td>\n",
       "      <td>1.0</td>\n",
       "      <td>22.457143</td>\n",
       "      <td>19.0</td>\n",
       "      <td>47.0</td>\n",
       "      <td>35.0</td>\n",
       "      <td>Italian French</td>\n",
       "      <td>Tōkyō to Chiyoda ku Kudanminami</td>\n",
       "      <td>35.694003</td>\n",
       "      <td>139.753595</td>\n",
       "    </tr>\n",
       "    <tr>\n",
       "      <th>1</th>\n",
       "      <td>air_0164b9927d20bcc3</td>\n",
       "      <td>0</td>\n",
       "      <td>2.0</td>\n",
       "      <td>7.500000</td>\n",
       "      <td>6.0</td>\n",
       "      <td>19.0</td>\n",
       "      <td>20.0</td>\n",
       "      <td>Italian French</td>\n",
       "      <td>Tōkyō to Minato ku Shibakōen</td>\n",
       "      <td>35.658068</td>\n",
       "      <td>139.751599</td>\n",
       "    </tr>\n",
       "    <tr>\n",
       "      <th>2</th>\n",
       "      <td>air_0241aa3964b7f861</td>\n",
       "      <td>0</td>\n",
       "      <td>2.0</td>\n",
       "      <td>8.920635</td>\n",
       "      <td>8.0</td>\n",
       "      <td>23.0</td>\n",
       "      <td>63.0</td>\n",
       "      <td>Izakaya</td>\n",
       "      <td>Tōkyō to Taitō ku Higashiueno</td>\n",
       "      <td>35.712607</td>\n",
       "      <td>139.779996</td>\n",
       "    </tr>\n",
       "    <tr>\n",
       "      <th>3</th>\n",
       "      <td>air_0328696196e46f18</td>\n",
       "      <td>0</td>\n",
       "      <td>2.0</td>\n",
       "      <td>6.416667</td>\n",
       "      <td>4.0</td>\n",
       "      <td>27.0</td>\n",
       "      <td>12.0</td>\n",
       "      <td>Dining bar</td>\n",
       "      <td>Ōsaka fu Ōsaka shi Nakanochō</td>\n",
       "      <td>34.701279</td>\n",
       "      <td>135.528090</td>\n",
       "    </tr>\n",
       "    <tr>\n",
       "      <th>4</th>\n",
       "      <td>air_034a3d5b40d5b1b1</td>\n",
       "      <td>0</td>\n",
       "      <td>1.0</td>\n",
       "      <td>11.864865</td>\n",
       "      <td>10.0</td>\n",
       "      <td>66.0</td>\n",
       "      <td>37.0</td>\n",
       "      <td>Cafe Sweets</td>\n",
       "      <td>Ōsaka fu Ōsaka shi Ōhiraki</td>\n",
       "      <td>34.692337</td>\n",
       "      <td>135.472229</td>\n",
       "    </tr>\n",
       "    <tr>\n",
       "      <th>...</th>\n",
       "      <td>...</td>\n",
       "      <td>...</td>\n",
       "      <td>...</td>\n",
       "      <td>...</td>\n",
       "      <td>...</td>\n",
       "      <td>...</td>\n",
       "      <td>...</td>\n",
       "      <td>...</td>\n",
       "      <td>...</td>\n",
       "      <td>...</td>\n",
       "      <td>...</td>\n",
       "    </tr>\n",
       "    <tr>\n",
       "      <th>5742</th>\n",
       "      <td>air_fea5dc9594450608</td>\n",
       "      <td>6</td>\n",
       "      <td>4.0</td>\n",
       "      <td>11.634146</td>\n",
       "      <td>9.0</td>\n",
       "      <td>35.0</td>\n",
       "      <td>41.0</td>\n",
       "      <td>Other</td>\n",
       "      <td>Shizuoka ken Hamamatsu shi Motoshirochō</td>\n",
       "      <td>34.710895</td>\n",
       "      <td>137.725940</td>\n",
       "    </tr>\n",
       "    <tr>\n",
       "      <th>5743</th>\n",
       "      <td>air_fee8dcf4d619598e</td>\n",
       "      <td>6</td>\n",
       "      <td>11.0</td>\n",
       "      <td>30.200000</td>\n",
       "      <td>31.5</td>\n",
       "      <td>43.0</td>\n",
       "      <td>40.0</td>\n",
       "      <td>Italian French</td>\n",
       "      <td>Hyōgo ken Kōbe shi Kumoidōri</td>\n",
       "      <td>34.695124</td>\n",
       "      <td>135.197853</td>\n",
       "    </tr>\n",
       "    <tr>\n",
       "      <th>5744</th>\n",
       "      <td>air_fef9ccb3ba0da2f7</td>\n",
       "      <td>6</td>\n",
       "      <td>2.0</td>\n",
       "      <td>10.634146</td>\n",
       "      <td>9.0</td>\n",
       "      <td>30.0</td>\n",
       "      <td>41.0</td>\n",
       "      <td>Japanese food</td>\n",
       "      <td>Hyōgo ken Himeji shi Yasuda</td>\n",
       "      <td>34.815149</td>\n",
       "      <td>134.685353</td>\n",
       "    </tr>\n",
       "    <tr>\n",
       "      <th>5745</th>\n",
       "      <td>air_ffcc2d5087e1b476</td>\n",
       "      <td>6</td>\n",
       "      <td>2.0</td>\n",
       "      <td>4.250000</td>\n",
       "      <td>3.5</td>\n",
       "      <td>9.0</td>\n",
       "      <td>8.0</td>\n",
       "      <td>Izakaya</td>\n",
       "      <td>Tōkyō to Minato ku Shibakōen</td>\n",
       "      <td>35.658068</td>\n",
       "      <td>139.751599</td>\n",
       "    </tr>\n",
       "    <tr>\n",
       "      <th>5746</th>\n",
       "      <td>air_fff68b929994bfbd</td>\n",
       "      <td>6</td>\n",
       "      <td>1.0</td>\n",
       "      <td>4.000000</td>\n",
       "      <td>3.5</td>\n",
       "      <td>10.0</td>\n",
       "      <td>30.0</td>\n",
       "      <td>Bar Cocktail</td>\n",
       "      <td>Tōkyō to Nakano ku Nakano</td>\n",
       "      <td>35.708146</td>\n",
       "      <td>139.666288</td>\n",
       "    </tr>\n",
       "  </tbody>\n",
       "</table>\n",
       "<p>5747 rows × 11 columns</p>\n",
       "</div>"
      ],
      "text/plain": [
       "              air_store_id  dow  min_visitors  mean_visitors  median_visitors  \\\n",
       "0     air_00a91d42b08b08d9    0           1.0      22.457143             19.0   \n",
       "1     air_0164b9927d20bcc3    0           2.0       7.500000              6.0   \n",
       "2     air_0241aa3964b7f861    0           2.0       8.920635              8.0   \n",
       "3     air_0328696196e46f18    0           2.0       6.416667              4.0   \n",
       "4     air_034a3d5b40d5b1b1    0           1.0      11.864865             10.0   \n",
       "...                    ...  ...           ...            ...              ...   \n",
       "5742  air_fea5dc9594450608    6           4.0      11.634146              9.0   \n",
       "5743  air_fee8dcf4d619598e    6          11.0      30.200000             31.5   \n",
       "5744  air_fef9ccb3ba0da2f7    6           2.0      10.634146              9.0   \n",
       "5745  air_ffcc2d5087e1b476    6           2.0       4.250000              3.5   \n",
       "5746  air_fff68b929994bfbd    6           1.0       4.000000              3.5   \n",
       "\n",
       "      max_visitors  count_observations  air_genre_name  \\\n",
       "0             47.0                35.0  Italian French   \n",
       "1             19.0                20.0  Italian French   \n",
       "2             23.0                63.0         Izakaya   \n",
       "3             27.0                12.0      Dining bar   \n",
       "4             66.0                37.0     Cafe Sweets   \n",
       "...            ...                 ...             ...   \n",
       "5742          35.0                41.0           Other   \n",
       "5743          43.0                40.0  Italian French   \n",
       "5744          30.0                41.0   Japanese food   \n",
       "5745           9.0                 8.0         Izakaya   \n",
       "5746          10.0                30.0    Bar Cocktail   \n",
       "\n",
       "                                air_area_name   latitude   longitude  \n",
       "0             Tōkyō to Chiyoda ku Kudanminami  35.694003  139.753595  \n",
       "1                Tōkyō to Minato ku Shibakōen  35.658068  139.751599  \n",
       "2               Tōkyō to Taitō ku Higashiueno  35.712607  139.779996  \n",
       "3                Ōsaka fu Ōsaka shi Nakanochō  34.701279  135.528090  \n",
       "4                  Ōsaka fu Ōsaka shi Ōhiraki  34.692337  135.472229  \n",
       "...                                       ...        ...         ...  \n",
       "5742  Shizuoka ken Hamamatsu shi Motoshirochō  34.710895  137.725940  \n",
       "5743             Hyōgo ken Kōbe shi Kumoidōri  34.695124  135.197853  \n",
       "5744              Hyōgo ken Himeji shi Yasuda  34.815149  134.685353  \n",
       "5745             Tōkyō to Minato ku Shibakōen  35.658068  139.751599  \n",
       "5746                Tōkyō to Nakano ku Nakano  35.708146  139.666288  \n",
       "\n",
       "[5747 rows x 11 columns]"
      ]
     },
     "execution_count": 19,
     "metadata": {},
     "output_type": "execute_result"
    }
   ],
   "source": [
    "# air_store 종류별 변수 선언(unique 메소드로 값 중복 행 제거)\n",
    "unique_stores = data['tes']['air_store_id'].unique()\n",
    "\n",
    "# 상점별 데이터프레임 stores 요일별로 생성\n",
    "stores = pd.concat([pd.DataFrame({'air_store_id': unique_stores, 'dow': [i]*len(unique_stores)}) for i in range(7)], axis=0, ignore_index=True).reset_index(drop=True)\n",
    "\n",
    "# stores 데이터프레임에 필요한 데이터를 위한 tmp 변수 생성\n",
    "tmp = data['air_visit'].groupby(['air_store_id','dow']).agg({'visitors' : [np.min,np.mean,np.median,np.max,np.size]}).reset_index()\n",
    "tmp.columns = ['air_store_id', 'dow', 'min_visitors', 'mean_visitors', 'median_visitors','max_visitors','count_observations']\n",
    "\n",
    "# stores 데이터프레임에 tmp 합치기\n",
    "stores = pd.merge(stores, tmp, how='left', on=['air_store_id','dow']) \n",
    "# stores 데이터프레임에 air_store_info.csv 합치기\n",
    "stores = pd.merge(stores, data['air_store'], how='left', on=['air_store_id']) \n",
    "\n",
    "# 이름의 /와 - 처리\n",
    "stores['air_genre_name'] = stores['air_genre_name'].map(lambda x: str(str(x).replace('/',' ')))\n",
    "stores['air_area_name'] = stores['air_area_name'].map(lambda x: str(str(x).replace('-',' ')))\n",
    "\n",
    "stores"
   ]
  },
  {
   "cell_type": "code",
   "execution_count": 20,
   "id": "literary-mention",
   "metadata": {
    "slideshow": {
     "slide_type": "subslide"
    }
   },
   "outputs": [
    {
     "data": {
      "text/html": [
       "<div>\n",
       "<style scoped>\n",
       "    .dataframe tbody tr th:only-of-type {\n",
       "        vertical-align: middle;\n",
       "    }\n",
       "\n",
       "    .dataframe tbody tr th {\n",
       "        vertical-align: top;\n",
       "    }\n",
       "\n",
       "    .dataframe thead th {\n",
       "        text-align: right;\n",
       "    }\n",
       "</style>\n",
       "<table border=\"1\" class=\"dataframe\">\n",
       "  <thead>\n",
       "    <tr style=\"text-align: right;\">\n",
       "      <th></th>\n",
       "      <th>air_store_id</th>\n",
       "      <th>dow</th>\n",
       "      <th>min_visitors</th>\n",
       "      <th>mean_visitors</th>\n",
       "      <th>median_visitors</th>\n",
       "      <th>max_visitors</th>\n",
       "      <th>count_observations</th>\n",
       "      <th>air_genre_name</th>\n",
       "      <th>air_area_name</th>\n",
       "      <th>latitude</th>\n",
       "      <th>...</th>\n",
       "      <th>air_genre_name5</th>\n",
       "      <th>air_area_name5</th>\n",
       "      <th>air_genre_name6</th>\n",
       "      <th>air_area_name6</th>\n",
       "      <th>air_genre_name7</th>\n",
       "      <th>air_area_name7</th>\n",
       "      <th>air_genre_name8</th>\n",
       "      <th>air_area_name8</th>\n",
       "      <th>air_genre_name9</th>\n",
       "      <th>air_area_name9</th>\n",
       "    </tr>\n",
       "  </thead>\n",
       "  <tbody>\n",
       "    <tr>\n",
       "      <th>0</th>\n",
       "      <td>air_00a91d42b08b08d9</td>\n",
       "      <td>0</td>\n",
       "      <td>1.0</td>\n",
       "      <td>22.457143</td>\n",
       "      <td>19.0</td>\n",
       "      <td>47.0</td>\n",
       "      <td>35.0</td>\n",
       "      <td>6</td>\n",
       "      <td>44</td>\n",
       "      <td>35.694003</td>\n",
       "      <td>...</td>\n",
       "      <td>0</td>\n",
       "      <td>0</td>\n",
       "      <td>0</td>\n",
       "      <td>0</td>\n",
       "      <td>0</td>\n",
       "      <td>0</td>\n",
       "      <td>0</td>\n",
       "      <td>0</td>\n",
       "      <td>0</td>\n",
       "      <td>0</td>\n",
       "    </tr>\n",
       "    <tr>\n",
       "      <th>1</th>\n",
       "      <td>air_0164b9927d20bcc3</td>\n",
       "      <td>0</td>\n",
       "      <td>2.0</td>\n",
       "      <td>7.500000</td>\n",
       "      <td>6.0</td>\n",
       "      <td>19.0</td>\n",
       "      <td>20.0</td>\n",
       "      <td>6</td>\n",
       "      <td>62</td>\n",
       "      <td>35.658068</td>\n",
       "      <td>...</td>\n",
       "      <td>0</td>\n",
       "      <td>0</td>\n",
       "      <td>0</td>\n",
       "      <td>0</td>\n",
       "      <td>0</td>\n",
       "      <td>0</td>\n",
       "      <td>0</td>\n",
       "      <td>0</td>\n",
       "      <td>0</td>\n",
       "      <td>0</td>\n",
       "    </tr>\n",
       "    <tr>\n",
       "      <th>2</th>\n",
       "      <td>air_0241aa3964b7f861</td>\n",
       "      <td>0</td>\n",
       "      <td>2.0</td>\n",
       "      <td>8.920635</td>\n",
       "      <td>8.0</td>\n",
       "      <td>23.0</td>\n",
       "      <td>63.0</td>\n",
       "      <td>7</td>\n",
       "      <td>82</td>\n",
       "      <td>35.712607</td>\n",
       "      <td>...</td>\n",
       "      <td>0</td>\n",
       "      <td>0</td>\n",
       "      <td>0</td>\n",
       "      <td>0</td>\n",
       "      <td>0</td>\n",
       "      <td>0</td>\n",
       "      <td>0</td>\n",
       "      <td>0</td>\n",
       "      <td>0</td>\n",
       "      <td>0</td>\n",
       "    </tr>\n",
       "    <tr>\n",
       "      <th>3</th>\n",
       "      <td>air_0328696196e46f18</td>\n",
       "      <td>0</td>\n",
       "      <td>2.0</td>\n",
       "      <td>6.416667</td>\n",
       "      <td>4.0</td>\n",
       "      <td>27.0</td>\n",
       "      <td>12.0</td>\n",
       "      <td>4</td>\n",
       "      <td>98</td>\n",
       "      <td>34.701279</td>\n",
       "      <td>...</td>\n",
       "      <td>0</td>\n",
       "      <td>0</td>\n",
       "      <td>0</td>\n",
       "      <td>0</td>\n",
       "      <td>0</td>\n",
       "      <td>0</td>\n",
       "      <td>0</td>\n",
       "      <td>0</td>\n",
       "      <td>0</td>\n",
       "      <td>0</td>\n",
       "    </tr>\n",
       "    <tr>\n",
       "      <th>4</th>\n",
       "      <td>air_034a3d5b40d5b1b1</td>\n",
       "      <td>0</td>\n",
       "      <td>1.0</td>\n",
       "      <td>11.864865</td>\n",
       "      <td>10.0</td>\n",
       "      <td>66.0</td>\n",
       "      <td>37.0</td>\n",
       "      <td>2</td>\n",
       "      <td>102</td>\n",
       "      <td>34.692337</td>\n",
       "      <td>...</td>\n",
       "      <td>0</td>\n",
       "      <td>0</td>\n",
       "      <td>0</td>\n",
       "      <td>0</td>\n",
       "      <td>0</td>\n",
       "      <td>0</td>\n",
       "      <td>0</td>\n",
       "      <td>0</td>\n",
       "      <td>0</td>\n",
       "      <td>0</td>\n",
       "    </tr>\n",
       "  </tbody>\n",
       "</table>\n",
       "<p>5 rows × 31 columns</p>\n",
       "</div>"
      ],
      "text/plain": [
       "           air_store_id  dow  min_visitors  mean_visitors  median_visitors  \\\n",
       "0  air_00a91d42b08b08d9    0           1.0      22.457143             19.0   \n",
       "1  air_0164b9927d20bcc3    0           2.0       7.500000              6.0   \n",
       "2  air_0241aa3964b7f861    0           2.0       8.920635              8.0   \n",
       "3  air_0328696196e46f18    0           2.0       6.416667              4.0   \n",
       "4  air_034a3d5b40d5b1b1    0           1.0      11.864865             10.0   \n",
       "\n",
       "   max_visitors  count_observations  air_genre_name  air_area_name   latitude  \\\n",
       "0          47.0                35.0               6             44  35.694003   \n",
       "1          19.0                20.0               6             62  35.658068   \n",
       "2          23.0                63.0               7             82  35.712607   \n",
       "3          27.0                12.0               4             98  34.701279   \n",
       "4          66.0                37.0               2            102  34.692337   \n",
       "\n",
       "   ...  air_genre_name5  air_area_name5  air_genre_name6  air_area_name6  \\\n",
       "0  ...                0               0                0               0   \n",
       "1  ...                0               0                0               0   \n",
       "2  ...                0               0                0               0   \n",
       "3  ...                0               0                0               0   \n",
       "4  ...                0               0                0               0   \n",
       "\n",
       "   air_genre_name7  air_area_name7  air_genre_name8  air_area_name8  \\\n",
       "0                0               0                0               0   \n",
       "1                0               0                0               0   \n",
       "2                0               0                0               0   \n",
       "3                0               0                0               0   \n",
       "4                0               0                0               0   \n",
       "\n",
       "   air_genre_name9  air_area_name9  \n",
       "0                0               0  \n",
       "1                0               0  \n",
       "2                0               0  \n",
       "3                0               0  \n",
       "4                0               0  \n",
       "\n",
       "[5 rows x 31 columns]"
      ]
     },
     "execution_count": 20,
     "metadata": {},
     "output_type": "execute_result"
    }
   ],
   "source": [
    "# 문자를 0부터 시작하는 정수형 숫자로 바꿔주는 기능\n",
    "lbl = LabelEncoder()\n",
    "for i in range(10):\n",
    "    stores['air_genre_name'+str(i)] = lbl.fit_transform(stores['air_genre_name'].map(lambda x: str(str(x).split(' ')[i]) if len(str(x).split(' '))>i else ''))\n",
    "    stores['air_area_name'+str(i)] = lbl.fit_transform(stores['air_area_name'].map(lambda x: str(str(x).split(' ')[i]) if len(str(x).split(' '))>i else ''))\n",
    "stores['air_genre_name'] = lbl.fit_transform(stores['air_genre_name'])\n",
    "stores['air_area_name'] = lbl.fit_transform(stores['air_area_name'])\n",
    "\n",
    "stores.head()"
   ]
  },
  {
   "cell_type": "code",
   "execution_count": 21,
   "id": "knowing-teaching",
   "metadata": {
    "slideshow": {
     "slide_type": "subslide"
    }
   },
   "outputs": [
    {
     "data": {
      "text/html": [
       "<div>\n",
       "<style scoped>\n",
       "    .dataframe tbody tr th:only-of-type {\n",
       "        vertical-align: middle;\n",
       "    }\n",
       "\n",
       "    .dataframe tbody tr th {\n",
       "        vertical-align: top;\n",
       "    }\n",
       "\n",
       "    .dataframe thead th {\n",
       "        text-align: right;\n",
       "    }\n",
       "</style>\n",
       "<table border=\"1\" class=\"dataframe\">\n",
       "  <thead>\n",
       "    <tr style=\"text-align: right;\">\n",
       "      <th></th>\n",
       "      <th>visit_date</th>\n",
       "      <th>day_of_week</th>\n",
       "      <th>holiday_flg</th>\n",
       "    </tr>\n",
       "  </thead>\n",
       "  <tbody>\n",
       "    <tr>\n",
       "      <th>0</th>\n",
       "      <td>2016-01-01</td>\n",
       "      <td>Friday</td>\n",
       "      <td>1</td>\n",
       "    </tr>\n",
       "    <tr>\n",
       "      <th>1</th>\n",
       "      <td>2016-01-02</td>\n",
       "      <td>Saturday</td>\n",
       "      <td>1</td>\n",
       "    </tr>\n",
       "    <tr>\n",
       "      <th>2</th>\n",
       "      <td>2016-01-03</td>\n",
       "      <td>Sunday</td>\n",
       "      <td>1</td>\n",
       "    </tr>\n",
       "    <tr>\n",
       "      <th>3</th>\n",
       "      <td>2016-01-04</td>\n",
       "      <td>Monday</td>\n",
       "      <td>0</td>\n",
       "    </tr>\n",
       "    <tr>\n",
       "      <th>4</th>\n",
       "      <td>2016-01-05</td>\n",
       "      <td>Tuesday</td>\n",
       "      <td>0</td>\n",
       "    </tr>\n",
       "    <tr>\n",
       "      <th>...</th>\n",
       "      <td>...</td>\n",
       "      <td>...</td>\n",
       "      <td>...</td>\n",
       "    </tr>\n",
       "    <tr>\n",
       "      <th>512</th>\n",
       "      <td>2017-05-27</td>\n",
       "      <td>Saturday</td>\n",
       "      <td>0</td>\n",
       "    </tr>\n",
       "    <tr>\n",
       "      <th>513</th>\n",
       "      <td>2017-05-28</td>\n",
       "      <td>Sunday</td>\n",
       "      <td>0</td>\n",
       "    </tr>\n",
       "    <tr>\n",
       "      <th>514</th>\n",
       "      <td>2017-05-29</td>\n",
       "      <td>Monday</td>\n",
       "      <td>0</td>\n",
       "    </tr>\n",
       "    <tr>\n",
       "      <th>515</th>\n",
       "      <td>2017-05-30</td>\n",
       "      <td>Tuesday</td>\n",
       "      <td>0</td>\n",
       "    </tr>\n",
       "    <tr>\n",
       "      <th>516</th>\n",
       "      <td>2017-05-31</td>\n",
       "      <td>Wednesday</td>\n",
       "      <td>0</td>\n",
       "    </tr>\n",
       "  </tbody>\n",
       "</table>\n",
       "<p>517 rows × 3 columns</p>\n",
       "</div>"
      ],
      "text/plain": [
       "     visit_date day_of_week  holiday_flg\n",
       "0    2016-01-01      Friday            1\n",
       "1    2016-01-02    Saturday            1\n",
       "2    2016-01-03      Sunday            1\n",
       "3    2016-01-04      Monday            0\n",
       "4    2016-01-05     Tuesday            0\n",
       "..          ...         ...          ...\n",
       "512  2017-05-27    Saturday            0\n",
       "513  2017-05-28      Sunday            0\n",
       "514  2017-05-29      Monday            0\n",
       "515  2017-05-30     Tuesday            0\n",
       "516  2017-05-31   Wednesday            0\n",
       "\n",
       "[517 rows x 3 columns]"
      ]
     },
     "execution_count": 21,
     "metadata": {},
     "output_type": "execute_result"
    }
   ],
   "source": [
    "data['date_info']"
   ]
  },
  {
   "cell_type": "markdown",
   "id": "bb30df47",
   "metadata": {
    "slideshow": {
     "slide_type": "subslide"
    }
   },
   "source": [
    "<h3 style=\"color:#06f\">3. 공휴일과 방문자수</h3><br/>\n",
    "공휴일이 아닌 날이 공휴일보다 10배 이상 많은데도 불구하고 총 방문자수가 큰 차이 없다."
   ]
  },
  {
   "cell_type": "code",
   "execution_count": 22,
   "id": "d4b6de72",
   "metadata": {
    "scrolled": true,
    "slideshow": {
     "slide_type": "subslide"
    }
   },
   "outputs": [
    {
     "data": {
      "image/png": "[encoded data removed]",
      "text/plain": [
       "<Figure size 432x288 with 1 Axes>"
      ]
     },
     "metadata": {
      "image/png": {
       "height": 262,
       "width": 401
      },
      "needs_background": "light"
     },
     "output_type": "display_data"
    }
   ],
   "source": [
    "# 공휴일 / 방문자\n",
    "visit = data_orig['air_visit'].groupby('visit_date').aggregate(sum).sort_values('visit_date', ascending=True)\n",
    "visit = visit.reset_index()\n",
    "holiday_visit = copy.deepcopy(data_orig['date_info'])\n",
    "holiday_visit = pd.concat([holiday_visit, visit], axis=1)\n",
    "holiday_visit = holiday_visit[:478]\n",
    "\n",
    "sns.barplot(x = 'holiday_flg', y = 'visitors', data = holiday_visit)\n",
    "\n",
    "plt.show()"
   ]
  },
  {
   "cell_type": "code",
   "execution_count": 23,
   "id": "medical-groove",
   "metadata": {
    "slideshow": {
     "slide_type": "subslide"
    }
   },
   "outputs": [],
   "source": [
    "# 모델에 적용하기 위한 문자 전처리\n",
    "data['date_info']['visit_date'] = pd.to_datetime(data['date_info']['visit_date'])\n",
    "data['date_info']['day_of_week'] = lbl.fit_transform(data['date_info']['day_of_week'])\n",
    "data['date_info']['visit_date'] = data['date_info']['visit_date'].dt.date\n",
    "\n",
    "\n",
    "# train: air_visit(방문자 데이터) + date_info(날짜 정보) + stores(상점별 데이터)\n",
    "# test: tes(위에서 준비한 submission 데이터) + date_info(날짜 정보) + stores(상점별 데이터)\n",
    "train = pd.merge(data['air_visit'], data['date_info'], how='left', on=['visit_date']) \n",
    "test = pd.merge(data['tes'], data['date_info'], how='left', on=['visit_date']) \n",
    "\n",
    "train = pd.merge(train, stores, how='left', on=['air_store_id','dow']) \n",
    "test = pd.merge(test, stores, how='left', on=['air_store_id','dow'])"
   ]
  },
  {
   "cell_type": "code",
   "execution_count": 24,
   "id": "medieval-police",
   "metadata": {
    "slideshow": {
     "slide_type": "subslide"
    }
   },
   "outputs": [],
   "source": [
    "# train, test 데이터에 예약자 정보 columns 추가\n",
    "for df in ['air_reserve','hpg_reserve']:\n",
    "    train = pd.merge(train, data[df], how='left', on=['air_store_id','visit_date']) \n",
    "    test = pd.merge(test, data[df], how='left', on=['air_store_id','visit_date'])"
   ]
  },
  {
   "cell_type": "code",
   "execution_count": 25,
   "id": "hawaiian-corpus",
   "metadata": {
    "slideshow": {
     "slide_type": "subslide"
    }
   },
   "outputs": [
    {
     "data": {
      "text/plain": [
       "rs1_x    601206.000000\n",
       "rv1_x    385916.000000\n",
       "rs2_x    162189.668959\n",
       "rv2_x    142684.430268\n",
       "rs1_y    142861.000000\n",
       "rv1_y     92187.000000\n",
       "rs2_y     86178.279102\n",
       "rv2_y     60366.432165\n",
       "dtype: float64"
      ]
     },
     "execution_count": 25,
     "metadata": {},
     "output_type": "execute_result"
    }
   ],
   "source": [
    "# train 데이터의 columns 확인\n",
    "##train.head()\n",
    "train[['rs1_x', 'rv1_x', 'rs2_x', 'rv2_x', 'rs1_y', 'rv1_y', 'rs2_y', 'rv2_y']].sum()"
   ]
  },
  {
   "cell_type": "code",
   "execution_count": 26,
   "id": "earned-worse",
   "metadata": {
    "slideshow": {
     "slide_type": "subslide"
    }
   },
   "outputs": [
    {
     "data": {
      "text/plain": [
       "0         35.658068\n",
       "1         35.658068\n",
       "2         35.658068\n",
       "3         35.658068\n",
       "4         35.658068\n",
       "            ...    \n",
       "252103    35.653217\n",
       "252104    35.653217\n",
       "252105    35.653217\n",
       "252106    35.653217\n",
       "252107    35.653217\n",
       "Name: latitude, Length: 252108, dtype: float64"
      ]
     },
     "execution_count": 26,
     "metadata": {},
     "output_type": "execute_result"
    }
   ],
   "source": [
    "# 바로 위에서 train, test 데이터에 추가한 예약자 정보 처리\n",
    "train['total_reserv_sum'] = train['rv1_x'] + train['rv1_y']\n",
    "train['total_reserv_mean'] = (train['rv2_x'] + train['rv2_y']) / 2\n",
    "train['total_reserv_dt_diff_mean'] = (train['rs2_x'] + train['rs2_y']) / 2\n",
    "\n",
    "test['total_reserv_sum'] = test['rv1_x'] + test['rv1_y']\n",
    "test['total_reserv_mean'] = (test['rv2_x'] + test['rv2_y']) / 2\n",
    "test['total_reserv_dt_diff_mean'] = (test['rs2_x'] + test['rs2_y']) / 2\n",
    "\n",
    "train['latitude']"
   ]
  },
  {
   "cell_type": "code",
   "execution_count": 27,
   "id": "running-ready",
   "metadata": {
    "slideshow": {
     "slide_type": "subslide"
    }
   },
   "outputs": [],
   "source": [
    "# 데이터 전처리 과정\n",
    "\n",
    "# 날짜 정보 전처리\n",
    "train['date_int'] = train['visit_date'].apply(lambda x: x.strftime('%Y%m%d')).astype(int)\n",
    "test['date_int'] = test['visit_date'].apply(lambda x: x.strftime('%Y%m%d')).astype(int)\n",
    "\n",
    "# 거리 계산\n",
    "train['var_max_lat'] = train['latitude'].max() - train['latitude']\n",
    "train['var_max_long'] = train['longitude'].max() - train['longitude']\n",
    "test['var_max_lat'] = test['latitude'].max() - test['latitude']\n",
    "test['var_max_long'] = test['longitude'].max() - test['longitude']\n",
    "\n",
    "train['lon_plus_lat'] = train['longitude'] + train['latitude'] \n",
    "test['lon_plus_lat'] = test['longitude'] + test['latitude']\n",
    "\n",
    "lbl = LabelEncoder()\n",
    "train['air_store_id2'] = lbl.fit_transform(train['air_store_id'])\n",
    "test['air_store_id2'] = lbl.transform(test['air_store_id'])\n",
    "\n",
    "train = train.fillna(-1)\n",
    "test = test.fillna(-1)\n",
    "\n",
    "x_train = train.drop(['air_store_id','visit_date','visitors'], axis=1)\n",
    "x_test = test.drop(['id','air_store_id','visit_date','visitors'], axis=1)"
   ]
  },
  {
   "cell_type": "markdown",
   "id": "fb21c0b5",
   "metadata": {
    "slideshow": {
     "slide_type": "slide"
    }
   },
   "source": [
    "<h1 style=\"color:#06f\">- Train 데이터 전처리 종료 및 재검토</h1>\n",
    "\n",
    "Baseline 코드를 캐글에서 찾아 사용했기 때문에 필요없는 데이터가 있지는 않은지 확인할 필요가 있었다."
   ]
  },
  {
   "cell_type": "code",
   "execution_count": 28,
   "id": "hired-preview",
   "metadata": {
    "slideshow": {
     "slide_type": "subslide"
    }
   },
   "outputs": [
    {
     "name": "stdout",
     "output_type": "stream",
     "text": [
      "max visits:  877\n",
      "min visits:  1\n"
     ]
    }
   ],
   "source": [
    "print(\"max visits: \", np.max(train['visitors'].values))\n",
    "print(\"min visits: \", np.min(train['visitors'].values))"
   ]
  },
  {
   "cell_type": "markdown",
   "id": "derived-horror",
   "metadata": {
    "slideshow": {
     "slide_type": "subslide"
    }
   },
   "source": [
    "visitors의 Max와 Min값의 차이가 크다는 것을 알 수 있다. **Skewness**(왜도)와 **Kurtosis**(첨도)를 알아보고 그에따라 Histogram을 그려보자. \n",
    "\n",
    "**Skewness**\n",
    "\n",
    "데이터 분포의 대칭성이 얼마나 결핍되었는지를 측정한다\n",
    "\n",
    "skewness가 -0.5 ~ 0,5 일 경우 데이터는 상당히 대칭적이다.<br/>\n",
    "skewness가 -1 ~ -0.5 이거나 0.5 ~ 1 일 경우 데이터는 적당히 치우쳐있다.<br/>\n",
    "skewness가 -1보다 작거나 1보다 클 경우 데이터는 상당히 치우쳐있다.<br/>\n",
    "완전히 대칭인 분포는 skewness가 0이다.\n",
    "\n",
    "![skew](./images/skew.png)"
   ]
  },
  {
   "cell_type": "markdown",
   "id": "4377bc6f",
   "metadata": {
    "slideshow": {
     "slide_type": "subslide"
    }
   },
   "source": [
    "**Kurtosis**\n",
    "\n",
    "첨도는 분포 그래프의 꼬리 부분에 관한 것이다\n",
    "\n",
    "Kurtosis가 높으면 데이터가 두꺼운 꼬리나 outlier를 가지고 있다는 것을 의미<br/>\n",
    "Kurtosis가 낮으면 데이터가 얇은 꼬리나 outlier를 가지고 있지 않다는 의미<br/>\n",
    "표준 정규분포는 3의 첨도를 갖는다.<br/>\n",
    "\n",
    "![kurt](./images/kurt.jpg)"
   ]
  },
  {
   "cell_type": "code",
   "execution_count": 29,
   "id": "younger-racing",
   "metadata": {},
   "outputs": [
    {
     "data": {
      "text/plain": [
       "'왜도 : 3.307629140143896, 첨도 : 74.25888625830811'"
      ]
     },
     "execution_count": 29,
     "metadata": {},
     "output_type": "execute_result"
    }
   ],
   "source": [
    "f\"왜도 : {train['visitors'].skew()}, 첨도 : {train['visitors'].kurt()}\""
   ]
  },
  {
   "cell_type": "markdown",
   "id": "short-setup",
   "metadata": {},
   "source": [
    "왜도, 첨도값을 참고하여 값을 로그변환 해준다."
   ]
  },
  {
   "cell_type": "code",
   "execution_count": 30,
   "id": "departmental-corrections",
   "metadata": {
    "tags": []
   },
   "outputs": [
    {
     "name": "stderr",
     "output_type": "stream",
     "text": [
      "findfont: Font family ['NanumGothic'] not found. Falling back to DejaVu Sans.\n"
     ]
    },
    {
     "data": {
      "image/png": "[encoded data removed]",
      "text/plain": [
       "<Figure size 720x288 with 2 Axes>"
      ]
     },
     "metadata": {
      "image/png": {
       "height": 279,
       "width": 621
      },
      "needs_background": "light"
     },
     "output_type": "display_data"
    }
   ],
   "source": [
    "fig, axes = plt.subplots(ncols=2, figsize=(10, 4))\n",
    "\n",
    "sns.distplot(train['visitors'], ax=axes[0])\n",
    "axes[0].set_title('Before Log Scaling', fontsize=15)\n",
    "sns.distplot(np.log1p(train['visitors']), ax=axes[1])\n",
    "axes[1].set_title('After Log Scaling', fontsize=15)\n",
    "plt.show()"
   ]
  },
  {
   "cell_type": "code",
   "execution_count": 31,
   "id": "romance-registration",
   "metadata": {},
   "outputs": [],
   "source": [
    "y_train = np.log1p(train['visitors'].values)"
   ]
  },
  {
   "cell_type": "code",
   "execution_count": 32,
   "id": "f8c3ddf9-2dce-4a88-9c51-14a55d430c4a",
   "metadata": {
    "slideshow": {
     "slide_type": "subslide"
    }
   },
   "outputs": [
    {
     "data": {
      "text/plain": [
       "(Index(['dow', 'year', 'month', 'day_of_week', 'holiday_flg', 'min_visitors',\n",
       "        'mean_visitors', 'median_visitors', 'max_visitors',\n",
       "        'count_observations', 'air_genre_name', 'air_area_name', 'latitude',\n",
       "        'longitude', 'air_genre_name0', 'air_area_name0', 'air_genre_name1',\n",
       "        'air_area_name1', 'air_genre_name2', 'air_area_name2',\n",
       "        'air_genre_name3', 'air_area_name3', 'air_genre_name4',\n",
       "        'air_area_name4', 'air_genre_name5', 'air_area_name5',\n",
       "        'air_genre_name6', 'air_area_name6', 'air_genre_name7',\n",
       "        'air_area_name7', 'air_genre_name8', 'air_area_name8',\n",
       "        'air_genre_name9', 'air_area_name9', 'rs1_x', 'rv1_x', 'rs2_x', 'rv2_x',\n",
       "        'rs1_y', 'rv1_y', 'rs2_y', 'rv2_y', 'total_reserv_sum',\n",
       "        'total_reserv_mean', 'total_reserv_dt_diff_mean', 'date_int',\n",
       "        'var_max_lat', 'var_max_long', 'lon_plus_lat', 'air_store_id2'],\n",
       "       dtype='object'),\n",
       " 50)"
      ]
     },
     "execution_count": 32,
     "metadata": {},
     "output_type": "execute_result"
    }
   ],
   "source": [
    "x_train.columns, len(x_train.columns)"
   ]
  },
  {
   "cell_type": "code",
   "execution_count": 33,
   "id": "144fd513-c37d-4a33-9dc6-2d0d75c93d74",
   "metadata": {
    "slideshow": {
     "slide_type": "subslide"
    }
   },
   "outputs": [
    {
     "data": {
      "text/plain": [
       "(Index(['dow', 'year', 'month', 'day_of_week', 'holiday_flg', 'min_visitors',\n",
       "        'mean_visitors', 'median_visitors', 'max_visitors',\n",
       "        'count_observations', 'air_genre_name', 'air_area_name', 'latitude',\n",
       "        'longitude', 'air_genre_name0', 'air_area_name0', 'air_genre_name1',\n",
       "        'air_area_name1', 'air_genre_name2', 'air_area_name2',\n",
       "        'air_genre_name3', 'air_area_name3', 'air_genre_name4',\n",
       "        'air_area_name4', 'air_genre_name5', 'air_area_name5',\n",
       "        'air_genre_name6', 'air_area_name6', 'air_genre_name7',\n",
       "        'air_area_name7', 'air_genre_name8', 'air_area_name8',\n",
       "        'air_genre_name9', 'air_area_name9', 'rs1_x', 'rv1_x', 'rs2_x', 'rv2_x',\n",
       "        'rs1_y', 'rv1_y', 'rs2_y', 'rv2_y', 'total_reserv_sum',\n",
       "        'total_reserv_mean', 'total_reserv_dt_diff_mean', 'date_int',\n",
       "        'var_max_lat', 'var_max_long', 'lon_plus_lat', 'air_store_id2'],\n",
       "       dtype='object'),\n",
       " 50)"
      ]
     },
     "execution_count": 33,
     "metadata": {},
     "output_type": "execute_result"
    }
   ],
   "source": [
    "x_test.columns, len(x_test.columns)"
   ]
  },
  {
   "cell_type": "markdown",
   "id": "625371a0-ccdd-4917-9c77-8b8a72a627ce",
   "metadata": {
    "slideshow": {
     "slide_type": "subslide"
    }
   },
   "source": [
    "<h3 style=\"color:#06f\">- dow ? day_of_week ?</h3>\n",
    "<br/>\n",
    "day_of_week의 약어인 dow가 새로운 컬럼으로 있었다. 분포를 확인해보고 중복되면 제거하자."
   ]
  },
  {
   "cell_type": "code",
   "execution_count": 34,
   "id": "3ca4c101-e5a6-43dd-a366-997e593b9b16",
   "metadata": {
    "slideshow": {
     "slide_type": "-"
    }
   },
   "outputs": [
    {
     "data": {
      "image/png": "[encoded data removed]",
      "text/plain": [
       "<Figure size 864x216 with 2 Axes>"
      ]
     },
     "metadata": {
      "image/png": {
       "height": 218,
       "width": 720
      },
      "needs_background": "light"
     },
     "output_type": "display_data"
    }
   ],
   "source": [
    "plt.figure(figsize=(12, 3))\n",
    "dow = train.groupby('dow').aggregate(sum).sort_values('dow', ascending=False)\n",
    "day_of_week = train.groupby('day_of_week').aggregate(sum).sort_values('dow', ascending=False)\n",
    "plt.subplot(121)\n",
    "sns.barplot(dow.index, \"visitors\", data=dow)\n",
    "plt.subplot(122)\n",
    "sns.barplot(day_of_week.index, \"visitors\", data=day_of_week)\n",
    "plt.show()"
   ]
  },
  {
   "cell_type": "markdown",
   "id": "61efa878-e3b2-4b42-a9b4-5f01d0133b51",
   "metadata": {},
   "source": [
    "❗ 두개의 데이터가 달라보지만 자세히보면 인덱스만 다른것을 알 수 있다!"
   ]
  },
  {
   "cell_type": "code",
   "execution_count": 35,
   "id": "8203eaca-9cea-45d3-9c0b-ff6a6e21ca15",
   "metadata": {
    "slideshow": {
     "slide_type": "-"
    }
   },
   "outputs": [
    {
     "data": {
      "text/plain": [
       "True"
      ]
     },
     "execution_count": 35,
     "metadata": {},
     "output_type": "execute_result"
    }
   ],
   "source": [
    "sorted(dow['visitors']) == sorted(day_of_week['visitors'])"
   ]
  },
  {
   "cell_type": "markdown",
   "id": "dfb7ec49-84b9-4e27-88f5-93440923f349",
   "metadata": {
    "slideshow": {
     "slide_type": "subslide"
    }
   },
   "source": [
    "|dow|day of week|\n",
    "|------|---|\n",
    "|0|1|\n",
    "|1|5|\n",
    "|2|6|\n",
    "|3|4|\n",
    "|4|0|\n",
    "|5|2|\n",
    "|6|3|\n",
    "\n",
    "❓ 왜 다를까? \n",
    "- `day_of_week`는 LabelEncoder를 통해 정의\n",
    "- `dow` dt.dayofweek를 통해 정의\n"
   ]
  },
  {
   "cell_type": "markdown",
   "id": "296a5b16-b7ef-4d26-8b4d-864993310beb",
   "metadata": {
    "slideshow": {
     "slide_type": "-"
    }
   },
   "source": [
    "**제거!**"
   ]
  },
  {
   "cell_type": "code",
   "execution_count": 36,
   "id": "87dda46a-b861-4ccd-992e-2af3a8619f52",
   "metadata": {},
   "outputs": [],
   "source": [
    "x_train.drop(['day_of_week'], inplace=True, axis=1)\n",
    "x_test.drop(['day_of_week'], inplace=True, axis=1)"
   ]
  },
  {
   "cell_type": "markdown",
   "id": "6ad1000c-e665-4b50-b68b-a09aceccfdab",
   "metadata": {
    "slideshow": {
     "slide_type": "subslide"
    }
   },
   "source": [
    "<h3 style=\"color:#06f\">- var_max_lat ? var_max_long ? var_max_lat ? var_max_long ? lon_plus_lat ? lon_plus_lat ?</h3>\n",
    "\n",
    "각각 최대치에서의 차, 위도와 경도의 합을 나타내는 수치인데, 큰 연관성이 없다 판단하여 제거했더니 조금의 성능 향상이 있었다.  0.51977 -> 0.51939"
   ]
  },
  {
   "cell_type": "code",
   "execution_count": 37,
   "id": "3f10cb3a-6467-4d43-9e3b-0dc2c411519d",
   "metadata": {
    "slideshow": {
     "slide_type": "subslide"
    }
   },
   "outputs": [],
   "source": [
    "col_lat_long = ['var_max_lat', 'var_max_long', 'lon_plus_lat']\n",
    "x_train.drop(col_lat_long, inplace=True, axis=1)\n",
    "x_test.drop(col_lat_long, inplace=True, axis=1)"
   ]
  },
  {
   "cell_type": "markdown",
   "id": "optimum-hydrogen",
   "metadata": {
    "slideshow": {
     "slide_type": "subslide"
    }
   },
   "source": [
    "<h3 style=\"color:#06f\">- 학습 데이터 Scaling</h3>\n",
    "\n",
    "Scaling : 데이터의 전처리 과정으로 전체 데이터의 분포를 평균 0, 분산 1이 되도록 만드는 과정\n",
    "\n",
    "- `fit()` : 평균 𝜇과  표준편차 𝜎를 계산\n",
    "- `transform()`: fit 결과를 통해 정규화를 수행\n",
    "\n",
    "**❗주의: x_train을 scaling 했다면 동일한 값(𝜇, 𝜎)으로 x_test의 scaling을 수행해야함**\n",
    "\n",
    "**DataFrame 형태인 x_train을 스케일링하며 학습 가능한 numpy 배열로 형태를 변환해준다.**"
   ]
  },
  {
   "cell_type": "code",
   "execution_count": 38,
   "id": "adjusted-strike",
   "metadata": {
    "slideshow": {
     "slide_type": "subslide"
    }
   },
   "outputs": [],
   "source": [
    "scaler = StandardScaler().fit(x_train)\n",
    "\n",
    "x_train = scaler.transform(x_train)\n",
    "x_test = scaler.transform(x_test)"
   ]
  },
  {
   "cell_type": "markdown",
   "id": "1093ee90",
   "metadata": {
    "slideshow": {
     "slide_type": "subslide"
    }
   },
   "source": [
    "<h3 style=\"color:#06f\">- 학습 데이터 Scaling</h3>\n",
    "\n",
    "Scaling : 데이터의 전처리 과정으로 전체 데이터의 분포를 평균 0, 분산 1이 되도록 만드는 과정\n",
    "\n",
    "- `fit()` : 평균 𝜇과  표준편차 𝜎를 계산\n",
    "- `transform()`: fit 결과를 통해 정규화를 수행\n",
    "\n",
    "**❗주의: x_train을 scaling 했다면 동일한 값(𝜇, 𝜎)으로 x_test의 scaling을 수행해야함**\n",
    "\n",
    "**DataFrame 형태인 x_train을 스케일링하며 학습 가능한 numpy 배열로 형태를 변환해준다.**"
   ]
  },
  {
   "cell_type": "code",
   "execution_count": 39,
   "id": "peaceful-isolation",
   "metadata": {
    "slideshow": {
     "slide_type": "subslide"
    }
   },
   "outputs": [
    {
     "name": "stdout",
     "output_type": "stream",
     "text": [
      "-- network input --\n",
      "X_train:  (252108, 1, 46)\n",
      "y_train:  (252108,)\n",
      "X_test:  (32019, 1, 46)\n"
     ]
    }
   ],
   "source": [
    "#reshape을 통해 3차원으로 만들어 준다.\n",
    "## LSTM의 입력으로 3차원의 데이터가 필요하기 때문 (data size, time_steps, features)\n",
    "x_train = x_train.reshape((x_train.shape[0], 1, x_train.shape[1])) #hidden layer추가?\n",
    "x_test = x_test.reshape((x_test.shape[0], 1, x_test.shape[1]))\n",
    "\n",
    "print(\"-- network input --\")\n",
    "print(\"X_train: \", x_train.shape)\n",
    "print(\"y_train: \", y_train.shape)\n",
    "print(\"X_test: \", x_test.shape)"
   ]
  },
  {
   "cell_type": "markdown",
   "id": "8454bfce",
   "metadata": {
    "slideshow": {
     "slide_type": "slide"
    }
   },
   "source": [
    "<h1 style=\"color:#06f\">- 모델학습</h1>\n",
    "<br/>\n",
    "- WHY LSTM?"
   ]
  },
  {
   "cell_type": "markdown",
   "id": "vocal-rachel",
   "metadata": {
    "slideshow": {
     "slide_type": "subslide"
    }
   },
   "source": [
    "<h3 style=\"color:#06f\">- Sequence</h3><br/>\n",
    "\n",
    "순서가 있는 data를 sequence 라고 한다. \n",
    "ex)Text-문맥순서/시계열 데이터-시간순서\n",
    "- sequence model 을 사용하는 이유\n",
    "기존에는 모든 input 들이 독립이라고 가정했지만 순차적으로 과거 정보를 반영할 수 있는 모델이 필요했기에 sequence model 을 사용한다.\n",
    "- Sequence data를 다루는 모델을 Sequence model 이라고 한다.\n",
    "- 대표적인 Sequence model\n",
    "RNN,GRU,LSTM 등등\n",
    "- 이 중에서도 시간적 순서의 영향이 큰 문제에는 LSTM 의 모델이 효과적임\n",
    "ex)날씨, 주식예측은 최근일 수록 영향이 크다\n",
    "\n",
    "<h3 style=\"color:#06f\"><br/>=> 미래 날짜의 레스토랑 총 방문자 수를 예측해야 할 때는 예약 및 방문데이터를 이용한다. 이때, 과거 정보를 반영해야 하고 최근 데이터일수록 영향을 많이 받는 LSTM 모델을 사용하는 것이 좋다.</h3>"
   ]
  },
  {
   "cell_type": "markdown",
   "id": "653abac0",
   "metadata": {
    "slideshow": {
     "slide_type": "subslide"
    }
   },
   "source": [
    "<h3 style=\"color:#06f\">- Keras 작동방식</h3><br/>\n",
    "<img src = \"img/keras.png\" width=\"1920px\" height=\"1080px\"/>"
   ]
  },
  {
   "cell_type": "markdown",
   "id": "adequate-attraction",
   "metadata": {
    "slideshow": {
     "slide_type": "subslide"
    }
   },
   "source": [
    "<h3 style=\"color:#06f\">- LSTM의 기본 구조</h3><br/>\n",
    "- LSTM은 RNN의 종류로 RNN은 긴 기간에 의존하면 학습하는 데 오랜 시간이 걸리고 정보를 얻기 위한 시간 격차가 커진다. 이러한 문제점을 해결하기 위해 만들어진 게 LSTM이다.<br/>\n",
    "- LSTM은 RNN과 다르게 반복모듈에 4개의 상호작용하는 layer가 들어있다.\n",
    "\n",
    "\n",
    "<img src = \"img/lstm.png\" width=\"1920px\" height=\"1080px\"/>"
   ]
  },
  {
   "cell_type": "code",
   "execution_count": 41,
   "id": "55e86eac-deb3-40db-b67d-369f247810a5",
   "metadata": {
    "slideshow": {
     "slide_type": "slide"
    }
   },
   "outputs": [
    {
     "name": "stdout",
     "output_type": "stream",
     "text": [
      "Epoch 1/60\n"
     ]
    },
    {
     "name": "stderr",
     "output_type": "stream",
     "text": [
      "2021-08-09 20:14:13.136066: I tensorflow/core/grappler/optimizers/custom_graph_optimizer_registry.cc:112] Plugin optimizer for device_type GPU is enabled.\n",
      "2021-08-09 20:14:13.260717: I tensorflow/core/grappler/optimizers/custom_graph_optimizer_registry.cc:112] Plugin optimizer for device_type GPU is enabled.\n",
      "2021-08-09 20:14:13.311678: I tensorflow/core/grappler/optimizers/custom_graph_optimizer_registry.cc:112] Plugin optimizer for device_type GPU is enabled.\n",
      "2021-08-09 20:14:19.612720: I tensorflow/core/grappler/optimizers/custom_graph_optimizer_registry.cc:112] Plugin optimizer for device_type GPU is enabled.\n",
      "2021-08-09 20:14:19.643214: I tensorflow/core/grappler/optimizers/custom_graph_optimizer_registry.cc:112] Plugin optimizer for device_type GPU is enabled.\n"
     ]
    },
    {
     "name": "stdout",
     "output_type": "stream",
     "text": [
      "404/404 - 8s - loss: 2.1086 - val_loss: 0.3275\n",
      "Epoch 2/60\n",
      "404/404 - 8s - loss: 0.3113 - val_loss: 0.2795\n",
      "Epoch 3/60\n",
      "404/404 - 7s - loss: 0.2820 - val_loss: 0.2688\n",
      "Epoch 4/60\n",
      "404/404 - 6s - loss: 0.2744 - val_loss: 0.2639\n",
      "Epoch 5/60\n",
      "404/404 - 6s - loss: 0.2701 - val_loss: 0.2610\n",
      "Epoch 6/60\n",
      "404/404 - 6s - loss: 0.2675 - val_loss: 0.2595\n",
      "Epoch 7/60\n",
      "404/404 - 6s - loss: 0.2660 - val_loss: 0.2588\n",
      "Epoch 8/60\n",
      "404/404 - 6s - loss: 0.2650 - val_loss: 0.2583\n",
      "Epoch 9/60\n",
      "404/404 - 6s - loss: 0.2645 - val_loss: 0.2580\n",
      "Epoch 10/60\n",
      "404/404 - 7s - loss: 0.2649 - val_loss: 0.2581\n",
      "Epoch 11/60\n",
      "404/404 - 6s - loss: 0.2645 - val_loss: 0.2578\n",
      "Epoch 12/60\n",
      "404/404 - 7s - loss: 0.2643 - val_loss: 0.2573\n",
      "Epoch 13/60\n",
      "404/404 - 6s - loss: 0.2622 - val_loss: 0.2567\n",
      "Epoch 14/60\n",
      "404/404 - 8s - loss: 0.2629 - val_loss: 0.2569\n",
      "Epoch 15/60\n",
      "404/404 - 7s - loss: 0.2615 - val_loss: 0.2569\n",
      "Epoch 16/60\n",
      "404/404 - 7s - loss: 0.2624 - val_loss: 0.2569\n",
      "Epoch 17/60\n",
      "404/404 - 7s - loss: 0.2611 - val_loss: 0.2566\n",
      "Epoch 18/60\n",
      "404/404 - 7s - loss: 0.2614 - val_loss: 0.2566\n",
      "Epoch 19/60\n",
      "404/404 - 7s - loss: 0.2605 - val_loss: 0.2566\n",
      "Epoch 20/60\n",
      "404/404 - 7s - loss: 0.2606 - val_loss: 0.2565\n",
      "Epoch 21/60\n",
      "404/404 - 6s - loss: 0.2600 - val_loss: 0.2568\n",
      "Epoch 22/60\n",
      "404/404 - 7s - loss: 0.2597 - val_loss: 0.2564\n",
      "Epoch 23/60\n",
      "404/404 - 7s - loss: 0.2593 - val_loss: 0.2568\n",
      "Epoch 24/60\n",
      "404/404 - 7s - loss: 0.2589 - val_loss: 0.2564\n",
      "Epoch 25/60\n",
      "404/404 - 6s - loss: 0.2587 - val_loss: 0.2568\n",
      "Epoch 26/60\n",
      "404/404 - 7s - loss: 0.2583 - val_loss: 0.2565\n",
      "Epoch 27/60\n",
      "404/404 - 7s - loss: 0.2581 - val_loss: 0.2568\n",
      "Epoch 28/60\n",
      "404/404 - 7s - loss: 0.2577 - val_loss: 0.2568\n",
      "Epoch 29/60\n",
      "404/404 - 7s - loss: 0.2575 - val_loss: 0.2568\n",
      "Epoch 30/60\n",
      "404/404 - 7s - loss: 0.2571 - val_loss: 0.2571\n",
      "Epoch 31/60\n",
      "404/404 - 7s - loss: 0.2569 - val_loss: 0.2569\n",
      "Epoch 32/60\n",
      "404/404 - 6s - loss: 0.2565 - val_loss: 0.2576\n",
      "Epoch 33/60\n",
      "404/404 - 6s - loss: 0.2563 - val_loss: 0.2571\n",
      "Epoch 34/60\n",
      "404/404 - 6s - loss: 0.2560 - val_loss: 0.2579\n",
      "Epoch 35/60\n",
      "404/404 - 6s - loss: 0.2558 - val_loss: 0.2575\n",
      "Epoch 36/60\n",
      "404/404 - 6s - loss: 0.2555 - val_loss: 0.2581\n",
      "Epoch 37/60\n",
      "404/404 - 7s - loss: 0.2553 - val_loss: 0.2583\n",
      "Epoch 38/60\n",
      "404/404 - 6s - loss: 0.2550 - val_loss: 0.2582\n",
      "Epoch 39/60\n",
      "404/404 - 6s - loss: 0.2548 - val_loss: 0.2590\n",
      "Epoch 40/60\n",
      "404/404 - 6s - loss: 0.2545 - val_loss: 0.2590\n",
      "Epoch 41/60\n",
      "404/404 - 7s - loss: 0.2542 - val_loss: 0.2593\n",
      "Epoch 42/60\n",
      "404/404 - 6s - loss: 0.2539 - val_loss: 0.2599\n",
      "Epoch 43/60\n",
      "404/404 - 6s - loss: 0.2536 - val_loss: 0.2597\n",
      "Epoch 44/60\n",
      "404/404 - 6s - loss: 0.2533 - val_loss: 0.2607\n",
      "Epoch 45/60\n",
      "404/404 - 7s - loss: 0.2533 - val_loss: 0.2603\n",
      "Epoch 46/60\n",
      "404/404 - 7s - loss: 0.2530 - val_loss: 0.2610\n",
      "Epoch 47/60\n",
      "404/404 - 8s - loss: 0.2528 - val_loss: 0.2626\n",
      "Epoch 48/60\n",
      "404/404 - 7s - loss: 0.2524 - val_loss: 0.2609\n",
      "Epoch 49/60\n",
      "404/404 - 8s - loss: 0.2520 - val_loss: 0.2620\n",
      "Epoch 50/60\n",
      "404/404 - 7s - loss: 0.2517 - val_loss: 0.2630\n",
      "Epoch 51/60\n",
      "404/404 - 7s - loss: 0.2515 - val_loss: 0.2629\n",
      "Epoch 52/60\n",
      "404/404 - 7s - loss: 0.2515 - val_loss: 0.2632\n",
      "Epoch 53/60\n",
      "404/404 - 6s - loss: 0.2511 - val_loss: 0.2647\n",
      "Epoch 54/60\n",
      "404/404 - 7s - loss: 0.2507 - val_loss: 0.2626\n",
      "Epoch 00054: early stopping\n"
     ]
    },
    {
     "ename": "NameError",
     "evalue": "name 'get_submission' is not defined",
     "output_type": "error",
     "traceback": [
      "\u001b[0;31m---------------------------------------------------------------------------\u001b[0m",
      "\u001b[0;31mNameError\u001b[0m                                 Traceback (most recent call last)",
      "\u001b[0;32m/var/folders/xb/k5k3tvhd5rnc7_tf5mv_3xs00000gn/T/ipykernel_63968/2365432848.py\u001b[0m in \u001b[0;36m<module>\u001b[0;34m\u001b[0m\n\u001b[1;32m     10\u001b[0m history = model.fit(x_train, y_train, epochs=60, batch_size=500, \\\n\u001b[1;32m     11\u001b[0m                     verbose=2, shuffle=False, validation_split=0.2, callbacks=[es])\n\u001b[0;32m---> 12\u001b[0;31m \u001b[0mget_submission\u001b[0m\u001b[0;34m(\u001b[0m\u001b[0mmodel\u001b[0m\u001b[0;34m,\u001b[0m \u001b[0;34m\"submission_1.csv\"\u001b[0m\u001b[0;34m)\u001b[0m\u001b[0;34m\u001b[0m\u001b[0;34m\u001b[0m\u001b[0m\n\u001b[0m",
      "\u001b[0;31mNameError\u001b[0m: name 'get_submission' is not defined"
     ]
    }
   ],
   "source": [
    "from tensorflow.keras.callbacks import EarlyStopping\n",
    "\n",
    "es = EarlyStopping(monitor='val_loss', mode='min', verbose=1, patience=30)\n",
    "\n",
    "model = Sequential()\n",
    "model.add(LSTM(128, input_shape=(x_train.shape[1], x_train.shape[2])))\n",
    "model.add(Dense(1))\n",
    "model.compile(loss='mse', optimizer='adam')\n",
    "\n",
    "history = model.fit(x_train, y_train, epochs=60, batch_size=500, \\\n",
    "                    verbose=2, shuffle=False, validation_split=0.2, callbacks=[es])\n",
    "get_submission(model, \"submission_1.csv\")"
   ]
  },
  {
   "cell_type": "code",
   "execution_count": null,
   "id": "oriental-refund",
   "metadata": {
    "slideshow": {
     "slide_type": "subslide"
    }
   },
   "outputs": [],
   "source": [
    "model = Sequential()\n",
    "model.add(LSTM(8, input_shape=(x_train.shape[1], x_train.shape[2])))\n",
    "model.add(Dense(2))\n",
    "model.compile(loss='mse', optimizer='adam')\n",
    "history = model.fit(x_train, y_train, epochs=600, batch_size=500, \\\n",
    "                    verbose=2, shuffle=False, validation_split=0.2, callbacks=[es])\n",
    "get_submission(model, \"submission_17.csv\")   ##0.51052"
   ]
  },
  {
   "cell_type": "code",
   "execution_count": null,
   "id": "suffering-nature",
   "metadata": {
    "slideshow": {
     "slide_type": "subslide"
    }
   },
   "outputs": [],
   "source": [
    "model = Sequential()\n",
    "model.add(GRU(8, input_shape=(x_train.shape[1], x_train.shape[2])))\n",
    "model.add(Dense(2))\n",
    "model.compile(loss='mse', optimizer='adam')\n",
    "history = model.fit(x_train, y_train, epochs=600, batch_size=500, \\\n",
    "                    verbose=2, shuffle=False, validation_split=0.2, callbacks=[es])\n",
    "get_submission(model, \"submission_18.csv\")  #0.51411"
   ]
  },
  {
   "cell_type": "code",
   "execution_count": null,
   "id": "usual-lodge",
   "metadata": {
    "slideshow": {
     "slide_type": "subslide"
    }
   },
   "outputs": [],
   "source": [
    "model = Sequential()\n",
    "model.add(LSTM(8, input_shape=(x_train.shape[1], x_train.shape[2])))\n",
    "model.add(Dense(3))\n",
    "model.compile(loss='mse', optimizer='adam')\n",
    "history = model.fit(x_train, y_train, epochs=600, batch_size=500, \\\n",
    "                    verbose=2, shuffle=False, validation_split=0.2, callbacks=[es])\n",
    "get_submission(model, \"submission_19.csv\")  #0.51514"
   ]
  },
  {
   "cell_type": "code",
   "execution_count": null,
   "id": "ef6cfcbc",
   "metadata": {
    "slideshow": {
     "slide_type": "subslide"
    }
   },
   "outputs": [],
   "source": [
    "model = Sequential()\n",
    "model.add(GRU(16, input_shape=(x_train.shape[1], x_train.shape[2])))\n",
    "model.add(Dense(2))\n",
    "model.compile(loss='mse', optimizer='adam')\n",
    "history = model.fit(x_train, y_train, epochs=600, batch_size=500, \\\n",
    "                    verbose=2, shuffle=False, validation_split=0.2, callbacks=[es])\n",
    "get_submission(model, \"submission_21.csv\")  #0.51526"
   ]
  },
  {
   "cell_type": "code",
   "execution_count": null,
   "id": "discrete-serial",
   "metadata": {
    "slideshow": {
     "slide_type": "subslide"
    }
   },
   "outputs": [],
   "source": [
    "sub1 = pd.read_csv('/aiffel/aiffel/hackathon/submission_17.csv') # 0.51052\n",
    "sub2 = pd.read_csv('/aiffel/aiffel/hackathon/submission_20.csv') # 0.51283\n",
    "sub3 = pd.read_csv('/aiffel/aiffel/hackathon/submission_18.csv') # 0.51411\n",
    "sub4 = pd.read_csv('/aiffel/aiffel/hackathon/submission_21.csv') # 0.51526\n",
    "\n",
    "\n",
    "#concatenate target columns on the same Dataframe\n",
    "preds = pd.concat([sub1['visitors'], sub2['visitors'], \n",
    "        sub3['visitors'], sub4['visitors']])\n",
    "        \n",
    "        \n",
    "#Apply geometric mean \n",
    "preds = preds.groupby(level=0).apply(gmean)\n",
    "\n",
    "\n",
    "# Create submission \n",
    "print(preds.head)\n",
    "sub = pd.DataFrame()\n",
    "sub['id'] = sub1['id']\n",
    "sub['visitors'] = preds\n",
    "\n",
    "sub.to_csv('sub_geometric.csv', index = False)  # 0.51084"
   ]
  },
  {
   "cell_type": "markdown",
   "id": "cbc65eaf-fca0-4473-a465-7a87efd73995",
   "metadata": {
    "slideshow": {
     "slide_type": "slide"
    }
   },
   "source": [
    "### Public Score 값 정리"
   ]
  },
  {
   "cell_type": "markdown",
   "id": "a2d11c2a-1b09-4ab5-8c4a-b71bab30988d",
   "metadata": {
    "slideshow": {
     "slide_type": "-"
    }
   },
   "source": [
    "| |LSTM(100)|LSTM8|LSTM16|GRU8|GRU16|\n",
    "|---|---|---|---|---|---|\n",
    "|Dense1|0.51791|0.51256|0.51370|0.513|0.51547|\n",
    "|Dense2|0.5102|0.51283|0.51411|0.51526|\n",
    "\n",
    "| |LSTM(8,16)/GRU(8,16)|\n",
    "|-|------|\n",
    "|Dense1|0.51160|\n",
    "|Dense2|0.51084|"
   ]
  },
  {
   "cell_type": "markdown",
   "id": "025a33be-ddc2-4284-b556-cc2c4b0207ed",
   "metadata": {
    "slideshow": {
     "slide_type": "slide"
    }
   },
   "source": [
    "<h1 style=\"color:#06f\">회고</h1>"
   ]
  },
  {
   "cell_type": "markdown",
   "id": "7c27ece6-87db-486a-9f71-6e645876ad18",
   "metadata": {
    "slideshow": {
     "slide_type": "subslide"
    }
   },
   "source": [
    "<img src = \"img/ideas.png\" width=\"1920px\" height=\"1080px\"/>"
   ]
  },
  {
   "cell_type": "markdown",
   "id": "081e2184-0ce9-4158-96d1-fe304173d0cd",
   "metadata": {
    "slideshow": {
     "slide_type": "subslide"
    }
   },
   "source": [
    "<img src = \"img/ideas.png\" width=\"1920px\" height=\"1080px\"/>"
   ]
  },
  {
   "cell_type": "markdown",
   "id": "32f9f6a2-88c0-4cc5-a1f1-904f9f6cf348",
   "metadata": {
    "slideshow": {
     "slide_type": "subslide"
    }
   },
   "source": [
    "<img src = \"img/kaggle.png\" width=\"1920px\" height=\"1080px\"/>"
   ]
  },
  {
   "cell_type": "markdown",
   "id": "e98370d0-e8ad-4ca7-bb12-4a6946aa425d",
   "metadata": {
    "slideshow": {
     "slide_type": "subslide"
    }
   },
   "source": [
    "<img src = \"img/work.jpg\" width=\"1920px\" height=\"1080px\"/>"
   ]
  },
  {
   "cell_type": "code",
   "execution_count": null,
   "id": "ffe3a892-ece4-4b5e-b8c5-cef9db871d8e",
   "metadata": {},
   "outputs": [],
   "source": [
    "!jupyter nbconvert Recruit_Restaurant_Visitor_Forecasting_3_pptVer.ipynb --to slides --post serve"
   ]
  },
  {
   "cell_type": "code",
   "execution_count": null,
   "id": "1b6de8ac",
   "metadata": {},
   "outputs": [],
   "source": []
  }
 ],
 "metadata": {
  "celltoolbar": "Slideshow",
  "kernelspec": {
   "display_name": "Python 3 (ipykernel)",
   "language": "python",
   "name": "python3"
  },
  "language_info": {
   "codemirror_mode": {
    "name": "ipython",
    "version": 3
   },
   "file_extension": ".py",
   "mimetype": "text/x-python",
   "name": "python",
   "nbconvert_exporter": "python",
   "pygments_lexer": "ipython3",
   "version": "3.9.5"
  }
 },
 "nbformat": 4,
 "nbformat_minor": 5
}
