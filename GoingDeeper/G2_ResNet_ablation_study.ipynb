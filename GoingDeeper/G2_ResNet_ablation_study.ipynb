{
 "cells": [
  {
   "cell_type": "markdown",
   "id": "0740c01a",
   "metadata": {},
   "source": [
    "# ResNet Ablation Study"
   ]
  },
  {
   "cell_type": "markdown",
   "id": "61b0e859",
   "metadata": {},
   "source": [
    "## 1. CIFAR-10 데이터셋 준비하기¶"
   ]
  },
  {
   "cell_type": "code",
   "execution_count": 2,
   "id": "04a14630",
   "metadata": {},
   "outputs": [
    {
     "name": "stdout",
     "output_type": "stream",
     "text": [
      "Init Plugin\n",
      "Init Graph Optimizer\n",
      "Init Kernel\n"
     ]
    }
   ],
   "source": [
    "# TensorFlow and of.keras\n",
    "import tensorflow as tf\n",
    "from tensorflow import keras\n",
    "\n",
    "# Helper libraries\n",
    "import numpy as np\n",
    "import matplotlib.pyplot as plt\n",
    "\n",
    "import tensorflow_datasets as tfds"
   ]
  },
  {
   "cell_type": "code",
   "execution_count": 3,
   "id": "f90b1d1f",
   "metadata": {},
   "outputs": [
    {
     "data": {
      "text/plain": [
       "[PhysicalDevice(name='/physical_device:GPU:0', device_type='GPU')]"
      ]
     },
     "execution_count": 3,
     "metadata": {},
     "output_type": "execute_result"
    }
   ],
   "source": [
    "# Tensorflow가 활용할 GPU가 장착되어 있는지 확인해 봅니다.\n",
    "tf.config.list_physical_devices('GPU')"
   ]
  },
  {
   "cell_type": "code",
   "execution_count": 4,
   "id": "f1a7e72e",
   "metadata": {},
   "outputs": [
    {
     "name": "stdout",
     "output_type": "stream",
     "text": [
      "Metal device set to: Apple M1\n"
     ]
    },
    {
     "name": "stderr",
     "output_type": "stream",
     "text": [
      "2021-09-27 14:20:22.990438: I tensorflow/core/common_runtime/pluggable_device/pluggable_device_factory.cc:305] Could not identify NUMA node of platform GPU ID 0, defaulting to 0. Your kernel may not have been built with NUMA support.\n",
      "2021-09-27 14:20:22.990564: I tensorflow/core/common_runtime/pluggable_device/pluggable_device_factory.cc:271] Created TensorFlow device (/job:localhost/replica:0/task:0/device:GPU:0 with 0 MB memory) -> physical PluggableDevice (device: 0, name: METAL, pci bus id: <undefined>)\n"
     ]
    }
   ],
   "source": [
    "import urllib3\n",
    "urllib3.disable_warnings()\n",
    "\n",
    "#tfds.disable_progress_bar()    # 이 주석을 풀면 데이터셋 다운로드과정의 프로그레스바가 나타나지 않습니다.\n",
    "\n",
    "(ds_train, ds_test), ds_info = tfds.load(\n",
    "    'cifar10', \n",
    "    split=['train', 'test'], \n",
    "    shuffle_files=True, \n",
    "    with_info=True,\n",
    ")"
   ]
  },
  {
   "cell_type": "code",
   "execution_count": 5,
   "id": "e65abf1d",
   "metadata": {},
   "outputs": [
    {
     "name": "stdout",
     "output_type": "stream",
     "text": [
      "FeaturesDict({\n",
      "    'id': Text(shape=(), dtype=tf.string),\n",
      "    'image': Image(shape=(32, 32, 3), dtype=tf.uint8),\n",
      "    'label': ClassLabel(shape=(), dtype=tf.int64, num_classes=10),\n",
      "})\n"
     ]
    }
   ],
   "source": [
    "# Tensorflow 데이터셋을 로드하면 꼭 feature 정보를 확인해 보세요.\n",
    "print(ds_info.features)"
   ]
  },
  {
   "cell_type": "code",
   "execution_count": 6,
   "id": "bfd422bf",
   "metadata": {},
   "outputs": [
    {
     "name": "stdout",
     "output_type": "stream",
     "text": [
      "tf.Tensor(50000, shape=(), dtype=int64)\n",
      "tf.Tensor(10000, shape=(), dtype=int64)\n"
     ]
    }
   ],
   "source": [
    "# 데이터의 개수도 확인해 봅시다.\n",
    "print(tf.data.experimental.cardinality(ds_train))\n",
    "print(tf.data.experimental.cardinality(ds_test))"
   ]
  },
  {
   "cell_type": "markdown",
   "id": "ef8f33c7",
   "metadata": {},
   "source": [
    "### Input Normalization"
   ]
  },
  {
   "cell_type": "code",
   "execution_count": 7,
   "id": "96f652d1",
   "metadata": {},
   "outputs": [],
   "source": [
    "def normalize_and_resize_img(image, label):\n",
    "    \"\"\"Normalizes images: `unit8` -> `float32`.\"\"\"\n",
    "    # image = tf.image.resize(image, [32, 32])\n",
    "    return tf.cast(image, tf.float32) / 255., label"
   ]
  },
  {
   "cell_type": "code",
   "execution_count": 8,
   "id": "ea04ceb6",
   "metadata": {},
   "outputs": [],
   "source": [
    "def apply_normalize_on_dataset(ds, is_test=False, batch_size=16):\n",
    "    ds = ds.map(\n",
    "        normalize_and_resize_img, \n",
    "        num_parallel_calls=1\n",
    "    )\n",
    "    ds = ds.batch(batch_size)\n",
    "    if not is_test:\n",
    "        ds = ds.repeat()\n",
    "        ds = ds.shuffle(200)\n",
    "    ds = ds.prefetch(tf.data.experimental.AUTOTUNE)\n",
    "    return ds"
   ]
  },
  {
   "cell_type": "code",
   "execution_count": 9,
   "id": "be868f31",
   "metadata": {},
   "outputs": [
    {
     "data": {
      "text/plain": [
       "10"
      ]
     },
     "execution_count": 9,
     "metadata": {},
     "output_type": "execute_result"
    }
   ],
   "source": [
    "# 각 클래스가 어떻게 구성되는지, 어떤 이미지가 있는지 확인\n",
    "ds_info.features['label'].num_classes"
   ]
  },
  {
   "cell_type": "code",
   "execution_count": 10,
   "id": "b71fa442",
   "metadata": {},
   "outputs": [
    {
     "data": {
      "text/plain": [
       "['airplane',\n",
       " 'automobile',\n",
       " 'bird',\n",
       " 'cat',\n",
       " 'deer',\n",
       " 'dog',\n",
       " 'frog',\n",
       " 'horse',\n",
       " 'ship',\n",
       " 'truck']"
      ]
     },
     "execution_count": 10,
     "metadata": {},
     "output_type": "execute_result"
    }
   ],
   "source": [
    "ds_info.features['label'].names"
   ]
  },
  {
   "cell_type": "code",
   "execution_count": 11,
   "id": "cf371b80",
   "metadata": {},
   "outputs": [
    {
     "name": "stderr",
     "output_type": "stream",
     "text": [
      "2021-09-27 14:20:23.082486: I tensorflow/compiler/mlir/mlir_graph_optimization_pass.cc:176] None of the MLIR Optimization Passes are enabled (registered 2)\n",
      "2021-09-27 14:20:23.082813: W tensorflow/core/platform/profile_utils/cpu_utils.cc:128] Failed to get CPU frequency: 0 Hz\n",
      "2021-09-27 14:20:23.100970: W tensorflow/core/kernels/data/cache_dataset_ops.cc:768] The calling iterator did not fully read the dataset being cached. In order to avoid unexpected truncation of the dataset, the partially cached contents of the dataset  will be discarded. This can happen if you have an input pipeline similar to `dataset.cache().take(k).repeat()`. You should use `dataset.take(k).cache().repeat()` instead.\n"
     ]
    },
    {
     "data": {
      "image/png": "[encoded data removed]",
      "text/plain": [
       "<Figure size 648x648 with 9 Axes>"
      ]
     },
     "metadata": {},
     "output_type": "display_data"
    }
   ],
   "source": [
    "fig = tfds.show_examples(ds_train, ds_info)"
   ]
  },
  {
   "cell_type": "code",
   "execution_count": 12,
   "id": "c8824c2b",
   "metadata": {},
   "outputs": [
    {
     "name": "stderr",
     "output_type": "stream",
     "text": [
      "2021-09-27 14:20:23.318215: W tensorflow/core/kernels/data/cache_dataset_ops.cc:768] The calling iterator did not fully read the dataset being cached. In order to avoid unexpected truncation of the dataset, the partially cached contents of the dataset  will be discarded. This can happen if you have an input pipeline similar to `dataset.cache().take(k).repeat()`. You should use `dataset.take(k).cache().repeat()` instead.\n"
     ]
    },
    {
     "data": {
      "image/png": "[encoded data removed]",
      "text/plain": [
       "<Figure size 648x648 with 9 Axes>"
      ]
     },
     "metadata": {},
     "output_type": "display_data"
    }
   ],
   "source": [
    "fig = tfds.show_examples(ds_test, ds_info)"
   ]
  },
  {
   "cell_type": "markdown",
   "id": "bd64c317",
   "metadata": {},
   "source": [
    "## 2. 블록 구성하기"
   ]
  },
  {
   "cell_type": "markdown",
   "id": "531d8381",
   "metadata": {},
   "source": [
    "### ResNet 기본 블록 만들기"
   ]
  },
  {
   "cell_type": "code",
   "execution_count": 49,
   "id": "be480963",
   "metadata": {},
   "outputs": [],
   "source": [
    "# function for building VGG Block\n",
    "\n",
    "def build_resnet_block(input_layer,\n",
    "                       num_cnn=3, \n",
    "                       channel=64,\n",
    "                       block_num=1, \n",
    "                       is_50=False):\n",
    "\n",
    "    # 입력 레이어\n",
    "    x = input_layer\n",
    "\n",
    "    if is_50==False:\n",
    "        for i in range(num_cnn):\n",
    "            if num_cnn == 0 and block_num > 0:\n",
    "                shortcut = keras.layers.conv2D(filters=channel, \n",
    "                                               kernel_size=(3,3), \n",
    "                                               kernel_initializer='he_normal', \n",
    "                                               padding='same', \n",
    "                                               strides=2)(x)\n",
    "                shortcut = keras.layers.BatchNormalization()(shortcut)\n",
    "                \n",
    "                x = keras.layers.Conv2D(filters=channel, \n",
    "                                        kernel_size=(3,3), \n",
    "                                        kernel_initializer='he_normal', \n",
    "                                        padding='same', \n",
    "                                        strides=2,\n",
    "                                        name=f'stage_{block_num+2}_{num_cnn+1}_conv1')(x)\n",
    "                x = keras.layers.BatchNormalization(name=f'stage_{block_num+2}_bn{num_cnn+1}_1')(x)\n",
    "                x = keras.layers.Activation('relu')(x)\n",
    "                x = keras.layers.Conv2D(filters=channel, \n",
    "                                        kernel_size=(3,3), \n",
    "                                        kernel_initializer='he_normal', \n",
    "                                        padding='same', \n",
    "                                        name=f'stage_{block_num+2}_{num_cnn+1}_conv2')(x)\n",
    "                x = keras.layers.BatchNormalization(name=f'stage_{block_num+2}_bn{num_cnn+1}_2')(x)\n",
    "                \n",
    "                x = keras.layers.Add()([x, shortcut])\n",
    "                x = keras.layers.Activation(activation='relu')(x)\n",
    "                \n",
    "            else:\n",
    "                shortcut = x\n",
    "                \n",
    "                x = keras.layers.Conv2D(filters=channel, \n",
    "                                        kernel_size=(3,3), \n",
    "                                        kernel_initializer='he_normal', \n",
    "                                        padding='same', \n",
    "                                        name=f'stage_{block_num+2}_{num_cnn+1}_conv1')(x)\n",
    "                x = keras.layers.BatchNormalization(name=f'stage_{block_num+2}_bn{num_cnn+1}_1')(x)\n",
    "                x = keras.layers.Activation('relu')(x)\n",
    "                x = keras.layers.Conv2D(filters=channel, \n",
    "                                        kernel_size=(3,3), \n",
    "                                        kernel_initializer='he_normal', \n",
    "                                        padding='same', \n",
    "                                        name=f'stage_{block_num+2}_{num_cnn+1}_conv2')(x)\n",
    "                x = keras.layers.BatchNormalization(name=f'stage_{block_num+2}_bn{num_cnn+1}_2')(x)\n",
    "                \n",
    "                x = keras.layers.Add()([x, shortcut])\n",
    "                x = keras.layers.Activation(activation='relu')(x)\n",
    "\n",
    "    return x"
   ]
  },
  {
   "cell_type": "code",
   "execution_count": 45,
   "id": "2e84cbbc",
   "metadata": {},
   "outputs": [],
   "source": [
    "# VGG 모델 자체를 생성하는 함수입니다.\n",
    "def build_resnet(input_shape=(32,32,3),\n",
    "                 num_cnn_list=[3,4,6,3],\n",
    "                 channel_list=[64,128,256,512],\n",
    "                 num_classes=10, \n",
    "                 is_50=False):\n",
    "    \n",
    "    assert len(num_cnn_list) == len(channel_list) #모델을 만들기 전에 config list들이 같은 길이인지 확인합니다.\n",
    "    \n",
    "    input_layer = keras.layers.Input(shape=input_shape)  # input layer를 만들어둡니다.\n",
    "    \n",
    "    output = input_layer\n",
    "    output = keras.layers.Conv2D(64, (7,7), kernel_initializer='he_normal', padding='same', strides=2, name='conv2d_15')(output)\n",
    "    output = keras.layers.BatchNormalization(name='batch_normalization_13')(output)\n",
    "    output = keras.layers.Activation('relu')(output)\n",
    "    output = keras.layers.MaxPool2D(pool_size=(2,2), strides=2)(output)\n",
    "    \n",
    "    # config list들의 길이만큼 반복해서 블록을 생성합니다.\n",
    "    for i, (num_cnn, channel) in enumerate(zip(num_cnn_list, channel_list)):\n",
    "        output = build_resnet_block(output,\n",
    "                                    num_cnn=num_cnn, \n",
    "                                    channel=channel,\n",
    "                                    block_num=i, \n",
    "                                    is_50=is_50)\n",
    "        \n",
    "    output = keras.layers.AveragePooling2D(padding='same')(output)\n",
    "    output = keras.layers.Flatten(name='flatten')(output)\n",
    "    output = keras.layers.Dense(activation='relu', name='fc1000')(output)\n",
    "    \n",
    "    model = keras.Model(inputs=input_layer, \n",
    "                        outputs=output)\n",
    "    \n",
    "    return model"
   ]
  },
  {
   "cell_type": "markdown",
   "id": "ebf28f32",
   "metadata": {},
   "source": [
    "## 3. ResNet Complete Model"
   ]
  },
  {
   "cell_type": "markdown",
   "id": "9c2908f8",
   "metadata": {},
   "source": [
    "### ResNet-34"
   ]
  },
  {
   "cell_type": "code",
   "execution_count": 50,
   "id": "17a12c96",
   "metadata": {
    "scrolled": true
   },
   "outputs": [
    {
     "ename": "ValueError",
     "evalue": "Operands could not be broadcast together with shapes (8, 8, 128) (8, 8, 64)",
     "output_type": "error",
     "traceback": [
      "\u001b[0;31m---------------------------------------------------------------------------\u001b[0m",
      "\u001b[0;31mValueError\u001b[0m                                Traceback (most recent call last)",
      "\u001b[0;32m/var/folders/gr/p276t7f96f71mgpqn05w75gw0000gn/T/ipykernel_28548/2718074715.py\u001b[0m in \u001b[0;36m<module>\u001b[0;34m\u001b[0m\n\u001b[0;32m----> 1\u001b[0;31m \u001b[0mresnet_34\u001b[0m \u001b[0;34m=\u001b[0m \u001b[0mbuild_resnet\u001b[0m\u001b[0;34m(\u001b[0m\u001b[0minput_shape\u001b[0m\u001b[0;34m=\u001b[0m\u001b[0;34m(\u001b[0m\u001b[0;36m32\u001b[0m\u001b[0;34m,\u001b[0m \u001b[0;36m32\u001b[0m\u001b[0;34m,\u001b[0m\u001b[0;36m3\u001b[0m\u001b[0;34m)\u001b[0m\u001b[0;34m,\u001b[0m \u001b[0mis_50\u001b[0m\u001b[0;34m=\u001b[0m\u001b[0;32mFalse\u001b[0m\u001b[0;34m)\u001b[0m\u001b[0;34m\u001b[0m\u001b[0;34m\u001b[0m\u001b[0m\n\u001b[0m\u001b[1;32m      2\u001b[0m \u001b[0mresnet_34\u001b[0m\u001b[0;34m.\u001b[0m\u001b[0msummary\u001b[0m\u001b[0;34m(\u001b[0m\u001b[0;34m)\u001b[0m\u001b[0;34m\u001b[0m\u001b[0;34m\u001b[0m\u001b[0m\n",
      "\u001b[0;32m/var/folders/gr/p276t7f96f71mgpqn05w75gw0000gn/T/ipykernel_28548/3871906855.py\u001b[0m in \u001b[0;36mbuild_resnet\u001b[0;34m(input_shape, num_cnn_list, channel_list, num_classes, is_50)\u001b[0m\n\u001b[1;32m     18\u001b[0m     \u001b[0;31m# config list들의 길이만큼 반복해서 블록을 생성합니다.\u001b[0m\u001b[0;34m\u001b[0m\u001b[0;34m\u001b[0m\u001b[0;34m\u001b[0m\u001b[0m\n\u001b[1;32m     19\u001b[0m     \u001b[0;32mfor\u001b[0m \u001b[0mi\u001b[0m\u001b[0;34m,\u001b[0m \u001b[0;34m(\u001b[0m\u001b[0mnum_cnn\u001b[0m\u001b[0;34m,\u001b[0m \u001b[0mchannel\u001b[0m\u001b[0;34m)\u001b[0m \u001b[0;32min\u001b[0m \u001b[0menumerate\u001b[0m\u001b[0;34m(\u001b[0m\u001b[0mzip\u001b[0m\u001b[0;34m(\u001b[0m\u001b[0mnum_cnn_list\u001b[0m\u001b[0;34m,\u001b[0m \u001b[0mchannel_list\u001b[0m\u001b[0;34m)\u001b[0m\u001b[0;34m)\u001b[0m\u001b[0;34m:\u001b[0m\u001b[0;34m\u001b[0m\u001b[0;34m\u001b[0m\u001b[0m\n\u001b[0;32m---> 20\u001b[0;31m         output = build_resnet_block(output,\n\u001b[0m\u001b[1;32m     21\u001b[0m                                     \u001b[0mnum_cnn\u001b[0m\u001b[0;34m=\u001b[0m\u001b[0mnum_cnn\u001b[0m\u001b[0;34m,\u001b[0m\u001b[0;34m\u001b[0m\u001b[0;34m\u001b[0m\u001b[0m\n\u001b[1;32m     22\u001b[0m                                     \u001b[0mchannel\u001b[0m\u001b[0;34m=\u001b[0m\u001b[0mchannel\u001b[0m\u001b[0;34m,\u001b[0m\u001b[0;34m\u001b[0m\u001b[0;34m\u001b[0m\u001b[0m\n",
      "\u001b[0;32m/var/folders/gr/p276t7f96f71mgpqn05w75gw0000gn/T/ipykernel_28548/3968201717.py\u001b[0m in \u001b[0;36mbuild_resnet_block\u001b[0;34m(input_layer, num_cnn, channel, block_num, is_50)\u001b[0m\n\u001b[1;32m     55\u001b[0m                 \u001b[0mx\u001b[0m \u001b[0;34m=\u001b[0m \u001b[0mkeras\u001b[0m\u001b[0;34m.\u001b[0m\u001b[0mlayers\u001b[0m\u001b[0;34m.\u001b[0m\u001b[0mBatchNormalization\u001b[0m\u001b[0;34m(\u001b[0m\u001b[0mname\u001b[0m\u001b[0;34m=\u001b[0m\u001b[0;34mf'stage_{block_num+2}_bn{num_cnn+1}_2'\u001b[0m\u001b[0;34m)\u001b[0m\u001b[0;34m(\u001b[0m\u001b[0mx\u001b[0m\u001b[0;34m)\u001b[0m\u001b[0;34m\u001b[0m\u001b[0;34m\u001b[0m\u001b[0m\n\u001b[1;32m     56\u001b[0m \u001b[0;34m\u001b[0m\u001b[0m\n\u001b[0;32m---> 57\u001b[0;31m                 \u001b[0mx\u001b[0m \u001b[0;34m=\u001b[0m \u001b[0mkeras\u001b[0m\u001b[0;34m.\u001b[0m\u001b[0mlayers\u001b[0m\u001b[0;34m.\u001b[0m\u001b[0mAdd\u001b[0m\u001b[0;34m(\u001b[0m\u001b[0;34m)\u001b[0m\u001b[0;34m(\u001b[0m\u001b[0;34m[\u001b[0m\u001b[0mx\u001b[0m\u001b[0;34m,\u001b[0m \u001b[0mshortcut\u001b[0m\u001b[0;34m]\u001b[0m\u001b[0;34m)\u001b[0m\u001b[0;34m\u001b[0m\u001b[0;34m\u001b[0m\u001b[0m\n\u001b[0m\u001b[1;32m     58\u001b[0m                 \u001b[0mx\u001b[0m \u001b[0;34m=\u001b[0m \u001b[0mkeras\u001b[0m\u001b[0;34m.\u001b[0m\u001b[0mlayers\u001b[0m\u001b[0;34m.\u001b[0m\u001b[0mActivation\u001b[0m\u001b[0;34m(\u001b[0m\u001b[0mactivation\u001b[0m\u001b[0;34m=\u001b[0m\u001b[0;34m'relu'\u001b[0m\u001b[0;34m)\u001b[0m\u001b[0;34m(\u001b[0m\u001b[0mx\u001b[0m\u001b[0;34m)\u001b[0m\u001b[0;34m\u001b[0m\u001b[0;34m\u001b[0m\u001b[0m\n\u001b[1;32m     59\u001b[0m \u001b[0;34m\u001b[0m\u001b[0m\n",
      "\u001b[0;32m/opt/homebrew/Caskroom/miniforge/base/envs/ho/lib/python3.9/site-packages/tensorflow/python/keras/engine/base_layer.py\u001b[0m in \u001b[0;36m__call__\u001b[0;34m(self, *args, **kwargs)\u001b[0m\n\u001b[1;32m    967\u001b[0m     \u001b[0;31m# >> model = tf.keras.Model(inputs, outputs)\u001b[0m\u001b[0;34m\u001b[0m\u001b[0;34m\u001b[0m\u001b[0;34m\u001b[0m\u001b[0m\n\u001b[1;32m    968\u001b[0m     \u001b[0;32mif\u001b[0m \u001b[0m_in_functional_construction_mode\u001b[0m\u001b[0;34m(\u001b[0m\u001b[0mself\u001b[0m\u001b[0;34m,\u001b[0m \u001b[0minputs\u001b[0m\u001b[0;34m,\u001b[0m \u001b[0margs\u001b[0m\u001b[0;34m,\u001b[0m \u001b[0mkwargs\u001b[0m\u001b[0;34m,\u001b[0m \u001b[0minput_list\u001b[0m\u001b[0;34m)\u001b[0m\u001b[0;34m:\u001b[0m\u001b[0;34m\u001b[0m\u001b[0;34m\u001b[0m\u001b[0m\n\u001b[0;32m--> 969\u001b[0;31m       return self._functional_construction_call(inputs, args, kwargs,\n\u001b[0m\u001b[1;32m    970\u001b[0m                                                 input_list)\n\u001b[1;32m    971\u001b[0m \u001b[0;34m\u001b[0m\u001b[0m\n",
      "\u001b[0;32m/opt/homebrew/Caskroom/miniforge/base/envs/ho/lib/python3.9/site-packages/tensorflow/python/keras/engine/base_layer.py\u001b[0m in \u001b[0;36m_functional_construction_call\u001b[0;34m(self, inputs, args, kwargs, input_list)\u001b[0m\n\u001b[1;32m   1105\u001b[0m         layer=self, inputs=inputs, build_graph=True, training=training_value):\n\u001b[1;32m   1106\u001b[0m       \u001b[0;31m# Check input assumptions set after layer building, e.g. input shape.\u001b[0m\u001b[0;34m\u001b[0m\u001b[0;34m\u001b[0m\u001b[0;34m\u001b[0m\u001b[0m\n\u001b[0;32m-> 1107\u001b[0;31m       outputs = self._keras_tensor_symbolic_call(\n\u001b[0m\u001b[1;32m   1108\u001b[0m           inputs, input_masks, args, kwargs)\n\u001b[1;32m   1109\u001b[0m \u001b[0;34m\u001b[0m\u001b[0m\n",
      "\u001b[0;32m/opt/homebrew/Caskroom/miniforge/base/envs/ho/lib/python3.9/site-packages/tensorflow/python/keras/engine/base_layer.py\u001b[0m in \u001b[0;36m_keras_tensor_symbolic_call\u001b[0;34m(self, inputs, input_masks, args, kwargs)\u001b[0m\n\u001b[1;32m    838\u001b[0m       \u001b[0;32mreturn\u001b[0m \u001b[0mnest\u001b[0m\u001b[0;34m.\u001b[0m\u001b[0mmap_structure\u001b[0m\u001b[0;34m(\u001b[0m\u001b[0mkeras_tensor\u001b[0m\u001b[0;34m.\u001b[0m\u001b[0mKerasTensor\u001b[0m\u001b[0;34m,\u001b[0m \u001b[0moutput_signature\u001b[0m\u001b[0;34m)\u001b[0m\u001b[0;34m\u001b[0m\u001b[0;34m\u001b[0m\u001b[0m\n\u001b[1;32m    839\u001b[0m     \u001b[0;32melse\u001b[0m\u001b[0;34m:\u001b[0m\u001b[0;34m\u001b[0m\u001b[0;34m\u001b[0m\u001b[0m\n\u001b[0;32m--> 840\u001b[0;31m       \u001b[0;32mreturn\u001b[0m \u001b[0mself\u001b[0m\u001b[0;34m.\u001b[0m\u001b[0m_infer_output_signature\u001b[0m\u001b[0;34m(\u001b[0m\u001b[0minputs\u001b[0m\u001b[0;34m,\u001b[0m \u001b[0margs\u001b[0m\u001b[0;34m,\u001b[0m \u001b[0mkwargs\u001b[0m\u001b[0;34m,\u001b[0m \u001b[0minput_masks\u001b[0m\u001b[0;34m)\u001b[0m\u001b[0;34m\u001b[0m\u001b[0;34m\u001b[0m\u001b[0m\n\u001b[0m\u001b[1;32m    841\u001b[0m \u001b[0;34m\u001b[0m\u001b[0m\n\u001b[1;32m    842\u001b[0m   \u001b[0;32mdef\u001b[0m \u001b[0m_infer_output_signature\u001b[0m\u001b[0;34m(\u001b[0m\u001b[0mself\u001b[0m\u001b[0;34m,\u001b[0m \u001b[0minputs\u001b[0m\u001b[0;34m,\u001b[0m \u001b[0margs\u001b[0m\u001b[0;34m,\u001b[0m \u001b[0mkwargs\u001b[0m\u001b[0;34m,\u001b[0m \u001b[0minput_masks\u001b[0m\u001b[0;34m)\u001b[0m\u001b[0;34m:\u001b[0m\u001b[0;34m\u001b[0m\u001b[0;34m\u001b[0m\u001b[0m\n",
      "\u001b[0;32m/opt/homebrew/Caskroom/miniforge/base/envs/ho/lib/python3.9/site-packages/tensorflow/python/keras/engine/base_layer.py\u001b[0m in \u001b[0;36m_infer_output_signature\u001b[0;34m(self, inputs, args, kwargs, input_masks)\u001b[0m\n\u001b[1;32m    876\u001b[0m           \u001b[0;31m# overridden).\u001b[0m\u001b[0;34m\u001b[0m\u001b[0;34m\u001b[0m\u001b[0;34m\u001b[0m\u001b[0m\n\u001b[1;32m    877\u001b[0m           \u001b[0;31m# TODO(kaftan): do we maybe_build here, or have we already done it?\u001b[0m\u001b[0;34m\u001b[0m\u001b[0;34m\u001b[0m\u001b[0;34m\u001b[0m\u001b[0m\n\u001b[0;32m--> 878\u001b[0;31m           \u001b[0mself\u001b[0m\u001b[0;34m.\u001b[0m\u001b[0m_maybe_build\u001b[0m\u001b[0;34m(\u001b[0m\u001b[0minputs\u001b[0m\u001b[0;34m)\u001b[0m\u001b[0;34m\u001b[0m\u001b[0;34m\u001b[0m\u001b[0m\n\u001b[0m\u001b[1;32m    879\u001b[0m           \u001b[0minputs\u001b[0m \u001b[0;34m=\u001b[0m \u001b[0mself\u001b[0m\u001b[0;34m.\u001b[0m\u001b[0m_maybe_cast_inputs\u001b[0m\u001b[0;34m(\u001b[0m\u001b[0minputs\u001b[0m\u001b[0;34m)\u001b[0m\u001b[0;34m\u001b[0m\u001b[0;34m\u001b[0m\u001b[0m\n\u001b[1;32m    880\u001b[0m           \u001b[0moutputs\u001b[0m \u001b[0;34m=\u001b[0m \u001b[0mcall_fn\u001b[0m\u001b[0;34m(\u001b[0m\u001b[0minputs\u001b[0m\u001b[0;34m,\u001b[0m \u001b[0;34m*\u001b[0m\u001b[0margs\u001b[0m\u001b[0;34m,\u001b[0m \u001b[0;34m**\u001b[0m\u001b[0mkwargs\u001b[0m\u001b[0;34m)\u001b[0m\u001b[0;34m\u001b[0m\u001b[0;34m\u001b[0m\u001b[0m\n",
      "\u001b[0;32m/opt/homebrew/Caskroom/miniforge/base/envs/ho/lib/python3.9/site-packages/tensorflow/python/keras/engine/base_layer.py\u001b[0m in \u001b[0;36m_maybe_build\u001b[0;34m(self, inputs)\u001b[0m\n\u001b[1;32m   2623\u001b[0m         \u001b[0;31m# operations.\u001b[0m\u001b[0;34m\u001b[0m\u001b[0;34m\u001b[0m\u001b[0;34m\u001b[0m\u001b[0m\n\u001b[1;32m   2624\u001b[0m         \u001b[0;32mwith\u001b[0m \u001b[0mtf_utils\u001b[0m\u001b[0;34m.\u001b[0m\u001b[0mmaybe_init_scope\u001b[0m\u001b[0;34m(\u001b[0m\u001b[0mself\u001b[0m\u001b[0;34m)\u001b[0m\u001b[0;34m:\u001b[0m\u001b[0;34m\u001b[0m\u001b[0;34m\u001b[0m\u001b[0m\n\u001b[0;32m-> 2625\u001b[0;31m           \u001b[0mself\u001b[0m\u001b[0;34m.\u001b[0m\u001b[0mbuild\u001b[0m\u001b[0;34m(\u001b[0m\u001b[0minput_shapes\u001b[0m\u001b[0;34m)\u001b[0m  \u001b[0;31m# pylint:disable=not-callable\u001b[0m\u001b[0;34m\u001b[0m\u001b[0;34m\u001b[0m\u001b[0m\n\u001b[0m\u001b[1;32m   2626\u001b[0m       \u001b[0;31m# We must set also ensure that the layer is marked as built, and the build\u001b[0m\u001b[0;34m\u001b[0m\u001b[0;34m\u001b[0m\u001b[0;34m\u001b[0m\u001b[0m\n\u001b[1;32m   2627\u001b[0m       \u001b[0;31m# shape is stored since user defined build functions may not be calling\u001b[0m\u001b[0;34m\u001b[0m\u001b[0;34m\u001b[0m\u001b[0;34m\u001b[0m\u001b[0m\n",
      "\u001b[0;32m/opt/homebrew/Caskroom/miniforge/base/envs/ho/lib/python3.9/site-packages/tensorflow/python/keras/utils/tf_utils.py\u001b[0m in \u001b[0;36mwrapper\u001b[0;34m(instance, input_shape)\u001b[0m\n\u001b[1;32m    268\u001b[0m     \u001b[0;32mif\u001b[0m \u001b[0minput_shape\u001b[0m \u001b[0;32mis\u001b[0m \u001b[0;32mnot\u001b[0m \u001b[0;32mNone\u001b[0m\u001b[0;34m:\u001b[0m\u001b[0;34m\u001b[0m\u001b[0;34m\u001b[0m\u001b[0m\n\u001b[1;32m    269\u001b[0m       \u001b[0minput_shape\u001b[0m \u001b[0;34m=\u001b[0m \u001b[0mconvert_shapes\u001b[0m\u001b[0;34m(\u001b[0m\u001b[0minput_shape\u001b[0m\u001b[0;34m,\u001b[0m \u001b[0mto_tuples\u001b[0m\u001b[0;34m=\u001b[0m\u001b[0;32mTrue\u001b[0m\u001b[0;34m)\u001b[0m\u001b[0;34m\u001b[0m\u001b[0;34m\u001b[0m\u001b[0m\n\u001b[0;32m--> 270\u001b[0;31m     \u001b[0moutput_shape\u001b[0m \u001b[0;34m=\u001b[0m \u001b[0mfn\u001b[0m\u001b[0;34m(\u001b[0m\u001b[0minstance\u001b[0m\u001b[0;34m,\u001b[0m \u001b[0minput_shape\u001b[0m\u001b[0;34m)\u001b[0m\u001b[0;34m\u001b[0m\u001b[0;34m\u001b[0m\u001b[0m\n\u001b[0m\u001b[1;32m    271\u001b[0m     \u001b[0;31m# Return shapes from `fn` as TensorShapes.\u001b[0m\u001b[0;34m\u001b[0m\u001b[0;34m\u001b[0m\u001b[0;34m\u001b[0m\u001b[0m\n\u001b[1;32m    272\u001b[0m     \u001b[0;32mif\u001b[0m \u001b[0moutput_shape\u001b[0m \u001b[0;32mis\u001b[0m \u001b[0;32mnot\u001b[0m \u001b[0;32mNone\u001b[0m\u001b[0;34m:\u001b[0m\u001b[0;34m\u001b[0m\u001b[0;34m\u001b[0m\u001b[0m\n",
      "\u001b[0;32m/opt/homebrew/Caskroom/miniforge/base/envs/ho/lib/python3.9/site-packages/tensorflow/python/keras/layers/merge.py\u001b[0m in \u001b[0;36mbuild\u001b[0;34m(self, input_shape)\u001b[0m\n\u001b[1;32m    106\u001b[0m       \u001b[0;32melse\u001b[0m\u001b[0;34m:\u001b[0m\u001b[0;34m\u001b[0m\u001b[0;34m\u001b[0m\u001b[0m\n\u001b[1;32m    107\u001b[0m         \u001b[0mshape\u001b[0m \u001b[0;34m=\u001b[0m \u001b[0minput_shape\u001b[0m\u001b[0;34m[\u001b[0m\u001b[0mi\u001b[0m\u001b[0;34m]\u001b[0m\u001b[0;34m[\u001b[0m\u001b[0;36m1\u001b[0m\u001b[0;34m:\u001b[0m\u001b[0;34m]\u001b[0m\u001b[0;34m\u001b[0m\u001b[0;34m\u001b[0m\u001b[0m\n\u001b[0;32m--> 108\u001b[0;31m       \u001b[0moutput_shape\u001b[0m \u001b[0;34m=\u001b[0m \u001b[0mself\u001b[0m\u001b[0;34m.\u001b[0m\u001b[0m_compute_elemwise_op_output_shape\u001b[0m\u001b[0;34m(\u001b[0m\u001b[0moutput_shape\u001b[0m\u001b[0;34m,\u001b[0m \u001b[0mshape\u001b[0m\u001b[0;34m)\u001b[0m\u001b[0;34m\u001b[0m\u001b[0;34m\u001b[0m\u001b[0m\n\u001b[0m\u001b[1;32m    109\u001b[0m     \u001b[0;31m# If the inputs have different ranks, we have to reshape them\u001b[0m\u001b[0;34m\u001b[0m\u001b[0;34m\u001b[0m\u001b[0;34m\u001b[0m\u001b[0m\n\u001b[1;32m    110\u001b[0m     \u001b[0;31m# to make them broadcastable.\u001b[0m\u001b[0;34m\u001b[0m\u001b[0;34m\u001b[0m\u001b[0;34m\u001b[0m\u001b[0m\n",
      "\u001b[0;32m/opt/homebrew/Caskroom/miniforge/base/envs/ho/lib/python3.9/site-packages/tensorflow/python/keras/layers/merge.py\u001b[0m in \u001b[0;36m_compute_elemwise_op_output_shape\u001b[0;34m(self, shape1, shape2)\u001b[0m\n\u001b[1;32m     77\u001b[0m       \u001b[0;32melse\u001b[0m\u001b[0;34m:\u001b[0m\u001b[0;34m\u001b[0m\u001b[0;34m\u001b[0m\u001b[0m\n\u001b[1;32m     78\u001b[0m         \u001b[0;32mif\u001b[0m \u001b[0mi\u001b[0m \u001b[0;34m!=\u001b[0m \u001b[0mj\u001b[0m\u001b[0;34m:\u001b[0m\u001b[0;34m\u001b[0m\u001b[0;34m\u001b[0m\u001b[0m\n\u001b[0;32m---> 79\u001b[0;31m           raise ValueError(\n\u001b[0m\u001b[1;32m     80\u001b[0m               \u001b[0;34m'Operands could not be broadcast '\u001b[0m\u001b[0;34m\u001b[0m\u001b[0;34m\u001b[0m\u001b[0m\n\u001b[1;32m     81\u001b[0m               'together with shapes ' + str(shape1) + ' ' + str(shape2))\n",
      "\u001b[0;31mValueError\u001b[0m: Operands could not be broadcast together with shapes (8, 8, 128) (8, 8, 64)"
     ]
    }
   ],
   "source": [
    "resnet_34 = build_resnet(input_shape=(32, 32,3), is_50=False)\n",
    "resnet_34.summary()"
   ]
  },
  {
   "cell_type": "markdown",
   "id": "188d1aa3",
   "metadata": {},
   "source": [
    "### ResNet-50"
   ]
  },
  {
   "cell_type": "code",
   "execution_count": 95,
   "id": "860bf248",
   "metadata": {},
   "outputs": [
    {
     "name": "stdout",
     "output_type": "stream",
     "text": [
      "Model: \"model_17\"\n",
      "__________________________________________________________________________________________________\n",
      "Layer (type)                    Output Shape         Param #     Connected to                     \n",
      "==================================================================================================\n",
      "input_33 (InputLayer)           [(None, 32, 32, 3)]  0                                            \n",
      "__________________________________________________________________________________________________\n",
      "conv2d_799 (Conv2D)             (None, 16, 16, 64)   9472        input_33[0][0]                   \n",
      "__________________________________________________________________________________________________\n",
      "batch_normalization_759 (BatchN (None, 16, 16, 64)   256         conv2d_799[0][0]                 \n",
      "__________________________________________________________________________________________________\n",
      "activation_568 (Activation)     (None, 16, 16, 64)   0           batch_normalization_759[0][0]    \n",
      "__________________________________________________________________________________________________\n",
      "max_pooling2d_26 (MaxPooling2D) (None, 8, 8, 64)     0           activation_568[0][0]             \n",
      "__________________________________________________________________________________________________\n",
      "conv2d_801 (Conv2D)             (None, 8, 8, 64)     4160        max_pooling2d_26[0][0]           \n",
      "__________________________________________________________________________________________________\n",
      "batch_normalization_761 (BatchN (None, 8, 8, 64)     256         conv2d_801[0][0]                 \n",
      "__________________________________________________________________________________________________\n",
      "activation_570 (Activation)     (None, 8, 8, 64)     0           batch_normalization_761[0][0]    \n",
      "__________________________________________________________________________________________________\n",
      "conv2d_802 (Conv2D)             (None, 8, 8, 64)     36928       activation_570[0][0]             \n",
      "__________________________________________________________________________________________________\n",
      "batch_normalization_762 (BatchN (None, 8, 8, 64)     256         conv2d_802[0][0]                 \n",
      "__________________________________________________________________________________________________\n",
      "activation_571 (Activation)     (None, 8, 8, 64)     0           batch_normalization_762[0][0]    \n",
      "__________________________________________________________________________________________________\n",
      "conv2d_800 (Conv2D)             (None, 8, 8, 256)    16640       max_pooling2d_26[0][0]           \n",
      "__________________________________________________________________________________________________\n",
      "conv2d_803 (Conv2D)             (None, 8, 8, 256)    16640       activation_571[0][0]             \n",
      "__________________________________________________________________________________________________\n",
      "batch_normalization_760 (BatchN (None, 8, 8, 256)    1024        conv2d_800[0][0]                 \n",
      "__________________________________________________________________________________________________\n",
      "batch_normalization_763 (BatchN (None, 8, 8, 256)    1024        conv2d_803[0][0]                 \n",
      "__________________________________________________________________________________________________\n",
      "activation_569 (Activation)     (None, 8, 8, 256)    0           batch_normalization_760[0][0]    \n",
      "__________________________________________________________________________________________________\n",
      "add_296 (Add)                   (None, 8, 8, 256)    0           batch_normalization_763[0][0]    \n",
      "                                                                 activation_569[0][0]             \n",
      "__________________________________________________________________________________________________\n",
      "activation_572 (Activation)     (None, 8, 8, 256)    0           add_296[0][0]                    \n",
      "__________________________________________________________________________________________________\n",
      "conv2d_805 (Conv2D)             (None, 8, 8, 64)     16448       activation_572[0][0]             \n",
      "__________________________________________________________________________________________________\n",
      "batch_normalization_765 (BatchN (None, 8, 8, 64)     256         conv2d_805[0][0]                 \n",
      "__________________________________________________________________________________________________\n",
      "activation_574 (Activation)     (None, 8, 8, 64)     0           batch_normalization_765[0][0]    \n",
      "__________________________________________________________________________________________________\n",
      "conv2d_806 (Conv2D)             (None, 8, 8, 64)     36928       activation_574[0][0]             \n",
      "__________________________________________________________________________________________________\n",
      "batch_normalization_766 (BatchN (None, 8, 8, 64)     256         conv2d_806[0][0]                 \n",
      "__________________________________________________________________________________________________\n",
      "activation_575 (Activation)     (None, 8, 8, 64)     0           batch_normalization_766[0][0]    \n",
      "__________________________________________________________________________________________________\n",
      "conv2d_804 (Conv2D)             (None, 8, 8, 256)    65792       activation_572[0][0]             \n",
      "__________________________________________________________________________________________________\n",
      "conv2d_807 (Conv2D)             (None, 8, 8, 256)    16640       activation_575[0][0]             \n",
      "__________________________________________________________________________________________________\n",
      "batch_normalization_764 (BatchN (None, 8, 8, 256)    1024        conv2d_804[0][0]                 \n",
      "__________________________________________________________________________________________________\n",
      "batch_normalization_767 (BatchN (None, 8, 8, 256)    1024        conv2d_807[0][0]                 \n",
      "__________________________________________________________________________________________________\n",
      "activation_573 (Activation)     (None, 8, 8, 256)    0           batch_normalization_764[0][0]    \n",
      "__________________________________________________________________________________________________\n",
      "add_297 (Add)                   (None, 8, 8, 256)    0           batch_normalization_767[0][0]    \n",
      "                                                                 activation_573[0][0]             \n",
      "__________________________________________________________________________________________________\n",
      "activation_576 (Activation)     (None, 8, 8, 256)    0           add_297[0][0]                    \n",
      "__________________________________________________________________________________________________\n",
      "conv2d_809 (Conv2D)             (None, 8, 8, 64)     16448       activation_576[0][0]             \n",
      "__________________________________________________________________________________________________\n",
      "batch_normalization_769 (BatchN (None, 8, 8, 64)     256         conv2d_809[0][0]                 \n",
      "__________________________________________________________________________________________________\n",
      "activation_578 (Activation)     (None, 8, 8, 64)     0           batch_normalization_769[0][0]    \n",
      "__________________________________________________________________________________________________\n",
      "conv2d_810 (Conv2D)             (None, 8, 8, 64)     36928       activation_578[0][0]             \n",
      "__________________________________________________________________________________________________\n",
      "batch_normalization_770 (BatchN (None, 8, 8, 64)     256         conv2d_810[0][0]                 \n",
      "__________________________________________________________________________________________________\n",
      "activation_579 (Activation)     (None, 8, 8, 64)     0           batch_normalization_770[0][0]    \n",
      "__________________________________________________________________________________________________\n",
      "conv2d_808 (Conv2D)             (None, 8, 8, 256)    65792       activation_576[0][0]             \n",
      "__________________________________________________________________________________________________\n",
      "conv2d_811 (Conv2D)             (None, 8, 8, 256)    16640       activation_579[0][0]             \n",
      "__________________________________________________________________________________________________\n",
      "batch_normalization_768 (BatchN (None, 8, 8, 256)    1024        conv2d_808[0][0]                 \n",
      "__________________________________________________________________________________________________\n",
      "batch_normalization_771 (BatchN (None, 8, 8, 256)    1024        conv2d_811[0][0]                 \n",
      "__________________________________________________________________________________________________\n",
      "activation_577 (Activation)     (None, 8, 8, 256)    0           batch_normalization_768[0][0]    \n",
      "__________________________________________________________________________________________________\n",
      "add_298 (Add)                   (None, 8, 8, 256)    0           batch_normalization_771[0][0]    \n",
      "                                                                 activation_577[0][0]             \n",
      "__________________________________________________________________________________________________\n",
      "activation_580 (Activation)     (None, 8, 8, 256)    0           add_298[0][0]                    \n",
      "__________________________________________________________________________________________________\n",
      "conv2d_813 (Conv2D)             (None, 4, 4, 128)    32896       activation_580[0][0]             \n",
      "__________________________________________________________________________________________________\n",
      "batch_normalization_773 (BatchN (None, 4, 4, 128)    512         conv2d_813[0][0]                 \n",
      "__________________________________________________________________________________________________\n",
      "activation_581 (Activation)     (None, 4, 4, 128)    0           batch_normalization_773[0][0]    \n",
      "__________________________________________________________________________________________________\n",
      "conv2d_814 (Conv2D)             (None, 4, 4, 128)    147584      activation_581[0][0]             \n",
      "__________________________________________________________________________________________________\n",
      "batch_normalization_774 (BatchN (None, 4, 4, 128)    512         conv2d_814[0][0]                 \n",
      "__________________________________________________________________________________________________\n",
      "activation_582 (Activation)     (None, 4, 4, 128)    0           batch_normalization_774[0][0]    \n",
      "__________________________________________________________________________________________________\n",
      "conv2d_815 (Conv2D)             (None, 4, 4, 512)    66048       activation_582[0][0]             \n",
      "__________________________________________________________________________________________________\n",
      "conv2d_812 (Conv2D)             (None, 4, 4, 512)    131584      activation_580[0][0]             \n",
      "__________________________________________________________________________________________________\n",
      "batch_normalization_775 (BatchN (None, 4, 4, 512)    2048        conv2d_815[0][0]                 \n",
      "__________________________________________________________________________________________________\n",
      "batch_normalization_772 (BatchN (None, 4, 4, 512)    2048        conv2d_812[0][0]                 \n",
      "__________________________________________________________________________________________________\n",
      "add_299 (Add)                   (None, 4, 4, 512)    0           batch_normalization_775[0][0]    \n",
      "                                                                 batch_normalization_772[0][0]    \n",
      "__________________________________________________________________________________________________\n",
      "activation_583 (Activation)     (None, 4, 4, 512)    0           add_299[0][0]                    \n",
      "__________________________________________________________________________________________________\n",
      "conv2d_817 (Conv2D)             (None, 4, 4, 128)    65664       activation_583[0][0]             \n",
      "__________________________________________________________________________________________________\n",
      "batch_normalization_777 (BatchN (None, 4, 4, 128)    512         conv2d_817[0][0]                 \n",
      "__________________________________________________________________________________________________\n",
      "activation_585 (Activation)     (None, 4, 4, 128)    0           batch_normalization_777[0][0]    \n",
      "__________________________________________________________________________________________________\n",
      "conv2d_818 (Conv2D)             (None, 4, 4, 128)    147584      activation_585[0][0]             \n",
      "__________________________________________________________________________________________________\n",
      "batch_normalization_778 (BatchN (None, 4, 4, 128)    512         conv2d_818[0][0]                 \n",
      "__________________________________________________________________________________________________\n",
      "activation_586 (Activation)     (None, 4, 4, 128)    0           batch_normalization_778[0][0]    \n",
      "__________________________________________________________________________________________________\n",
      "conv2d_816 (Conv2D)             (None, 4, 4, 512)    262656      activation_583[0][0]             \n",
      "__________________________________________________________________________________________________\n",
      "conv2d_819 (Conv2D)             (None, 4, 4, 512)    66048       activation_586[0][0]             \n",
      "__________________________________________________________________________________________________\n",
      "batch_normalization_776 (BatchN (None, 4, 4, 512)    2048        conv2d_816[0][0]                 \n",
      "__________________________________________________________________________________________________\n",
      "batch_normalization_779 (BatchN (None, 4, 4, 512)    2048        conv2d_819[0][0]                 \n",
      "__________________________________________________________________________________________________\n",
      "activation_584 (Activation)     (None, 4, 4, 512)    0           batch_normalization_776[0][0]    \n",
      "__________________________________________________________________________________________________\n",
      "add_300 (Add)                   (None, 4, 4, 512)    0           batch_normalization_779[0][0]    \n",
      "                                                                 activation_584[0][0]             \n",
      "__________________________________________________________________________________________________\n",
      "activation_587 (Activation)     (None, 4, 4, 512)    0           add_300[0][0]                    \n",
      "__________________________________________________________________________________________________\n",
      "conv2d_821 (Conv2D)             (None, 4, 4, 128)    65664       activation_587[0][0]             \n",
      "__________________________________________________________________________________________________\n",
      "batch_normalization_781 (BatchN (None, 4, 4, 128)    512         conv2d_821[0][0]                 \n",
      "__________________________________________________________________________________________________\n",
      "activation_589 (Activation)     (None, 4, 4, 128)    0           batch_normalization_781[0][0]    \n",
      "__________________________________________________________________________________________________\n",
      "conv2d_822 (Conv2D)             (None, 4, 4, 128)    147584      activation_589[0][0]             \n",
      "__________________________________________________________________________________________________\n",
      "batch_normalization_782 (BatchN (None, 4, 4, 128)    512         conv2d_822[0][0]                 \n",
      "__________________________________________________________________________________________________\n",
      "activation_590 (Activation)     (None, 4, 4, 128)    0           batch_normalization_782[0][0]    \n",
      "__________________________________________________________________________________________________\n",
      "conv2d_820 (Conv2D)             (None, 4, 4, 512)    262656      activation_587[0][0]             \n",
      "__________________________________________________________________________________________________\n",
      "conv2d_823 (Conv2D)             (None, 4, 4, 512)    66048       activation_590[0][0]             \n",
      "__________________________________________________________________________________________________\n",
      "batch_normalization_780 (BatchN (None, 4, 4, 512)    2048        conv2d_820[0][0]                 \n",
      "__________________________________________________________________________________________________\n",
      "batch_normalization_783 (BatchN (None, 4, 4, 512)    2048        conv2d_823[0][0]                 \n",
      "__________________________________________________________________________________________________\n",
      "activation_588 (Activation)     (None, 4, 4, 512)    0           batch_normalization_780[0][0]    \n",
      "__________________________________________________________________________________________________\n",
      "add_301 (Add)                   (None, 4, 4, 512)    0           batch_normalization_783[0][0]    \n",
      "                                                                 activation_588[0][0]             \n",
      "__________________________________________________________________________________________________\n",
      "activation_591 (Activation)     (None, 4, 4, 512)    0           add_301[0][0]                    \n",
      "__________________________________________________________________________________________________\n",
      "conv2d_825 (Conv2D)             (None, 4, 4, 128)    65664       activation_591[0][0]             \n",
      "__________________________________________________________________________________________________\n",
      "batch_normalization_785 (BatchN (None, 4, 4, 128)    512         conv2d_825[0][0]                 \n",
      "__________________________________________________________________________________________________\n",
      "activation_593 (Activation)     (None, 4, 4, 128)    0           batch_normalization_785[0][0]    \n",
      "__________________________________________________________________________________________________\n",
      "conv2d_826 (Conv2D)             (None, 4, 4, 128)    147584      activation_593[0][0]             \n",
      "__________________________________________________________________________________________________\n",
      "batch_normalization_786 (BatchN (None, 4, 4, 128)    512         conv2d_826[0][0]                 \n",
      "__________________________________________________________________________________________________\n",
      "activation_594 (Activation)     (None, 4, 4, 128)    0           batch_normalization_786[0][0]    \n",
      "__________________________________________________________________________________________________\n",
      "conv2d_824 (Conv2D)             (None, 4, 4, 512)    262656      activation_591[0][0]             \n",
      "__________________________________________________________________________________________________\n",
      "conv2d_827 (Conv2D)             (None, 4, 4, 512)    66048       activation_594[0][0]             \n",
      "__________________________________________________________________________________________________\n",
      "batch_normalization_784 (BatchN (None, 4, 4, 512)    2048        conv2d_824[0][0]                 \n",
      "__________________________________________________________________________________________________\n",
      "batch_normalization_787 (BatchN (None, 4, 4, 512)    2048        conv2d_827[0][0]                 \n",
      "__________________________________________________________________________________________________\n",
      "activation_592 (Activation)     (None, 4, 4, 512)    0           batch_normalization_784[0][0]    \n",
      "__________________________________________________________________________________________________\n",
      "add_302 (Add)                   (None, 4, 4, 512)    0           batch_normalization_787[0][0]    \n",
      "                                                                 activation_592[0][0]             \n",
      "__________________________________________________________________________________________________\n",
      "activation_595 (Activation)     (None, 4, 4, 512)    0           add_302[0][0]                    \n",
      "__________________________________________________________________________________________________\n",
      "conv2d_829 (Conv2D)             (None, 2, 2, 256)    131328      activation_595[0][0]             \n",
      "__________________________________________________________________________________________________\n",
      "batch_normalization_789 (BatchN (None, 2, 2, 256)    1024        conv2d_829[0][0]                 \n",
      "__________________________________________________________________________________________________\n",
      "activation_596 (Activation)     (None, 2, 2, 256)    0           batch_normalization_789[0][0]    \n",
      "__________________________________________________________________________________________________\n",
      "conv2d_830 (Conv2D)             (None, 2, 2, 256)    590080      activation_596[0][0]             \n",
      "__________________________________________________________________________________________________\n",
      "batch_normalization_790 (BatchN (None, 2, 2, 256)    1024        conv2d_830[0][0]                 \n",
      "__________________________________________________________________________________________________\n",
      "activation_597 (Activation)     (None, 2, 2, 256)    0           batch_normalization_790[0][0]    \n",
      "__________________________________________________________________________________________________\n",
      "conv2d_831 (Conv2D)             (None, 2, 2, 1024)   263168      activation_597[0][0]             \n",
      "__________________________________________________________________________________________________\n",
      "conv2d_828 (Conv2D)             (None, 2, 2, 1024)   525312      activation_595[0][0]             \n",
      "__________________________________________________________________________________________________\n",
      "batch_normalization_791 (BatchN (None, 2, 2, 1024)   4096        conv2d_831[0][0]                 \n",
      "__________________________________________________________________________________________________\n",
      "batch_normalization_788 (BatchN (None, 2, 2, 1024)   4096        conv2d_828[0][0]                 \n",
      "__________________________________________________________________________________________________\n",
      "add_303 (Add)                   (None, 2, 2, 1024)   0           batch_normalization_791[0][0]    \n",
      "                                                                 batch_normalization_788[0][0]    \n",
      "__________________________________________________________________________________________________\n",
      "activation_598 (Activation)     (None, 2, 2, 1024)   0           add_303[0][0]                    \n",
      "__________________________________________________________________________________________________\n",
      "conv2d_833 (Conv2D)             (None, 2, 2, 256)    262400      activation_598[0][0]             \n",
      "__________________________________________________________________________________________________\n",
      "batch_normalization_793 (BatchN (None, 2, 2, 256)    1024        conv2d_833[0][0]                 \n",
      "__________________________________________________________________________________________________\n",
      "activation_600 (Activation)     (None, 2, 2, 256)    0           batch_normalization_793[0][0]    \n",
      "__________________________________________________________________________________________________\n",
      "conv2d_834 (Conv2D)             (None, 2, 2, 256)    590080      activation_600[0][0]             \n",
      "__________________________________________________________________________________________________\n",
      "batch_normalization_794 (BatchN (None, 2, 2, 256)    1024        conv2d_834[0][0]                 \n",
      "__________________________________________________________________________________________________\n",
      "activation_601 (Activation)     (None, 2, 2, 256)    0           batch_normalization_794[0][0]    \n",
      "__________________________________________________________________________________________________\n",
      "conv2d_832 (Conv2D)             (None, 2, 2, 1024)   1049600     activation_598[0][0]             \n",
      "__________________________________________________________________________________________________\n",
      "conv2d_835 (Conv2D)             (None, 2, 2, 1024)   263168      activation_601[0][0]             \n",
      "__________________________________________________________________________________________________\n",
      "batch_normalization_792 (BatchN (None, 2, 2, 1024)   4096        conv2d_832[0][0]                 \n",
      "__________________________________________________________________________________________________\n",
      "batch_normalization_795 (BatchN (None, 2, 2, 1024)   4096        conv2d_835[0][0]                 \n",
      "__________________________________________________________________________________________________\n",
      "activation_599 (Activation)     (None, 2, 2, 1024)   0           batch_normalization_792[0][0]    \n",
      "__________________________________________________________________________________________________\n",
      "add_304 (Add)                   (None, 2, 2, 1024)   0           batch_normalization_795[0][0]    \n",
      "                                                                 activation_599[0][0]             \n",
      "__________________________________________________________________________________________________\n",
      "activation_602 (Activation)     (None, 2, 2, 1024)   0           add_304[0][0]                    \n",
      "__________________________________________________________________________________________________\n",
      "conv2d_837 (Conv2D)             (None, 2, 2, 256)    262400      activation_602[0][0]             \n",
      "__________________________________________________________________________________________________\n",
      "batch_normalization_797 (BatchN (None, 2, 2, 256)    1024        conv2d_837[0][0]                 \n",
      "__________________________________________________________________________________________________\n",
      "activation_604 (Activation)     (None, 2, 2, 256)    0           batch_normalization_797[0][0]    \n",
      "__________________________________________________________________________________________________\n",
      "conv2d_838 (Conv2D)             (None, 2, 2, 256)    590080      activation_604[0][0]             \n",
      "__________________________________________________________________________________________________\n",
      "batch_normalization_798 (BatchN (None, 2, 2, 256)    1024        conv2d_838[0][0]                 \n",
      "__________________________________________________________________________________________________\n",
      "activation_605 (Activation)     (None, 2, 2, 256)    0           batch_normalization_798[0][0]    \n",
      "__________________________________________________________________________________________________\n",
      "conv2d_836 (Conv2D)             (None, 2, 2, 1024)   1049600     activation_602[0][0]             \n",
      "__________________________________________________________________________________________________\n",
      "conv2d_839 (Conv2D)             (None, 2, 2, 1024)   263168      activation_605[0][0]             \n",
      "__________________________________________________________________________________________________\n",
      "batch_normalization_796 (BatchN (None, 2, 2, 1024)   4096        conv2d_836[0][0]                 \n",
      "__________________________________________________________________________________________________\n",
      "batch_normalization_799 (BatchN (None, 2, 2, 1024)   4096        conv2d_839[0][0]                 \n",
      "__________________________________________________________________________________________________\n",
      "activation_603 (Activation)     (None, 2, 2, 1024)   0           batch_normalization_796[0][0]    \n",
      "__________________________________________________________________________________________________\n",
      "add_305 (Add)                   (None, 2, 2, 1024)   0           batch_normalization_799[0][0]    \n",
      "                                                                 activation_603[0][0]             \n",
      "__________________________________________________________________________________________________\n",
      "activation_606 (Activation)     (None, 2, 2, 1024)   0           add_305[0][0]                    \n",
      "__________________________________________________________________________________________________\n",
      "conv2d_841 (Conv2D)             (None, 2, 2, 256)    262400      activation_606[0][0]             \n",
      "__________________________________________________________________________________________________\n",
      "batch_normalization_801 (BatchN (None, 2, 2, 256)    1024        conv2d_841[0][0]                 \n",
      "__________________________________________________________________________________________________\n",
      "activation_608 (Activation)     (None, 2, 2, 256)    0           batch_normalization_801[0][0]    \n",
      "__________________________________________________________________________________________________\n",
      "conv2d_842 (Conv2D)             (None, 2, 2, 256)    590080      activation_608[0][0]             \n",
      "__________________________________________________________________________________________________\n",
      "batch_normalization_802 (BatchN (None, 2, 2, 256)    1024        conv2d_842[0][0]                 \n",
      "__________________________________________________________________________________________________\n",
      "activation_609 (Activation)     (None, 2, 2, 256)    0           batch_normalization_802[0][0]    \n",
      "__________________________________________________________________________________________________\n",
      "conv2d_840 (Conv2D)             (None, 2, 2, 1024)   1049600     activation_606[0][0]             \n",
      "__________________________________________________________________________________________________\n",
      "conv2d_843 (Conv2D)             (None, 2, 2, 1024)   263168      activation_609[0][0]             \n",
      "__________________________________________________________________________________________________\n",
      "batch_normalization_800 (BatchN (None, 2, 2, 1024)   4096        conv2d_840[0][0]                 \n",
      "__________________________________________________________________________________________________\n",
      "batch_normalization_803 (BatchN (None, 2, 2, 1024)   4096        conv2d_843[0][0]                 \n",
      "__________________________________________________________________________________________________\n",
      "activation_607 (Activation)     (None, 2, 2, 1024)   0           batch_normalization_800[0][0]    \n",
      "__________________________________________________________________________________________________\n",
      "add_306 (Add)                   (None, 2, 2, 1024)   0           batch_normalization_803[0][0]    \n",
      "                                                                 activation_607[0][0]             \n",
      "__________________________________________________________________________________________________\n",
      "activation_610 (Activation)     (None, 2, 2, 1024)   0           add_306[0][0]                    \n",
      "__________________________________________________________________________________________________\n",
      "conv2d_845 (Conv2D)             (None, 2, 2, 256)    262400      activation_610[0][0]             \n",
      "__________________________________________________________________________________________________\n",
      "batch_normalization_805 (BatchN (None, 2, 2, 256)    1024        conv2d_845[0][0]                 \n",
      "__________________________________________________________________________________________________\n",
      "activation_612 (Activation)     (None, 2, 2, 256)    0           batch_normalization_805[0][0]    \n",
      "__________________________________________________________________________________________________\n",
      "conv2d_846 (Conv2D)             (None, 2, 2, 256)    590080      activation_612[0][0]             \n",
      "__________________________________________________________________________________________________\n",
      "batch_normalization_806 (BatchN (None, 2, 2, 256)    1024        conv2d_846[0][0]                 \n",
      "__________________________________________________________________________________________________\n",
      "activation_613 (Activation)     (None, 2, 2, 256)    0           batch_normalization_806[0][0]    \n",
      "__________________________________________________________________________________________________\n",
      "conv2d_844 (Conv2D)             (None, 2, 2, 1024)   1049600     activation_610[0][0]             \n",
      "__________________________________________________________________________________________________\n",
      "conv2d_847 (Conv2D)             (None, 2, 2, 1024)   263168      activation_613[0][0]             \n",
      "__________________________________________________________________________________________________\n",
      "batch_normalization_804 (BatchN (None, 2, 2, 1024)   4096        conv2d_844[0][0]                 \n",
      "__________________________________________________________________________________________________\n",
      "batch_normalization_807 (BatchN (None, 2, 2, 1024)   4096        conv2d_847[0][0]                 \n",
      "__________________________________________________________________________________________________\n",
      "activation_611 (Activation)     (None, 2, 2, 1024)   0           batch_normalization_804[0][0]    \n",
      "__________________________________________________________________________________________________\n",
      "add_307 (Add)                   (None, 2, 2, 1024)   0           batch_normalization_807[0][0]    \n",
      "                                                                 activation_611[0][0]             \n",
      "__________________________________________________________________________________________________\n",
      "activation_614 (Activation)     (None, 2, 2, 1024)   0           add_307[0][0]                    \n",
      "__________________________________________________________________________________________________\n",
      "conv2d_849 (Conv2D)             (None, 2, 2, 256)    262400      activation_614[0][0]             \n",
      "__________________________________________________________________________________________________\n",
      "batch_normalization_809 (BatchN (None, 2, 2, 256)    1024        conv2d_849[0][0]                 \n",
      "__________________________________________________________________________________________________\n",
      "activation_616 (Activation)     (None, 2, 2, 256)    0           batch_normalization_809[0][0]    \n",
      "__________________________________________________________________________________________________\n",
      "conv2d_850 (Conv2D)             (None, 2, 2, 256)    590080      activation_616[0][0]             \n",
      "__________________________________________________________________________________________________\n",
      "batch_normalization_810 (BatchN (None, 2, 2, 256)    1024        conv2d_850[0][0]                 \n",
      "__________________________________________________________________________________________________\n",
      "activation_617 (Activation)     (None, 2, 2, 256)    0           batch_normalization_810[0][0]    \n",
      "__________________________________________________________________________________________________\n",
      "conv2d_848 (Conv2D)             (None, 2, 2, 1024)   1049600     activation_614[0][0]             \n",
      "__________________________________________________________________________________________________\n",
      "conv2d_851 (Conv2D)             (None, 2, 2, 1024)   263168      activation_617[0][0]             \n",
      "__________________________________________________________________________________________________\n",
      "batch_normalization_808 (BatchN (None, 2, 2, 1024)   4096        conv2d_848[0][0]                 \n",
      "__________________________________________________________________________________________________\n",
      "batch_normalization_811 (BatchN (None, 2, 2, 1024)   4096        conv2d_851[0][0]                 \n",
      "__________________________________________________________________________________________________\n",
      "activation_615 (Activation)     (None, 2, 2, 1024)   0           batch_normalization_808[0][0]    \n",
      "__________________________________________________________________________________________________\n",
      "add_308 (Add)                   (None, 2, 2, 1024)   0           batch_normalization_811[0][0]    \n",
      "                                                                 activation_615[0][0]             \n",
      "__________________________________________________________________________________________________\n",
      "activation_618 (Activation)     (None, 2, 2, 1024)   0           add_308[0][0]                    \n",
      "__________________________________________________________________________________________________\n",
      "conv2d_853 (Conv2D)             (None, 1, 1, 512)    524800      activation_618[0][0]             \n",
      "__________________________________________________________________________________________________\n",
      "batch_normalization_813 (BatchN (None, 1, 1, 512)    2048        conv2d_853[0][0]                 \n",
      "__________________________________________________________________________________________________\n",
      "activation_619 (Activation)     (None, 1, 1, 512)    0           batch_normalization_813[0][0]    \n",
      "__________________________________________________________________________________________________\n",
      "conv2d_854 (Conv2D)             (None, 1, 1, 512)    2359808     activation_619[0][0]             \n",
      "__________________________________________________________________________________________________\n",
      "batch_normalization_814 (BatchN (None, 1, 1, 512)    2048        conv2d_854[0][0]                 \n",
      "__________________________________________________________________________________________________\n",
      "activation_620 (Activation)     (None, 1, 1, 512)    0           batch_normalization_814[0][0]    \n",
      "__________________________________________________________________________________________________\n",
      "conv2d_855 (Conv2D)             (None, 1, 1, 2048)   1050624     activation_620[0][0]             \n",
      "__________________________________________________________________________________________________\n",
      "conv2d_852 (Conv2D)             (None, 1, 1, 2048)   2099200     activation_618[0][0]             \n",
      "__________________________________________________________________________________________________\n",
      "batch_normalization_815 (BatchN (None, 1, 1, 2048)   8192        conv2d_855[0][0]                 \n",
      "__________________________________________________________________________________________________\n",
      "batch_normalization_812 (BatchN (None, 1, 1, 2048)   8192        conv2d_852[0][0]                 \n",
      "__________________________________________________________________________________________________\n",
      "add_309 (Add)                   (None, 1, 1, 2048)   0           batch_normalization_815[0][0]    \n",
      "                                                                 batch_normalization_812[0][0]    \n",
      "__________________________________________________________________________________________________\n",
      "activation_621 (Activation)     (None, 1, 1, 2048)   0           add_309[0][0]                    \n",
      "__________________________________________________________________________________________________\n",
      "conv2d_857 (Conv2D)             (None, 1, 1, 512)    1049088     activation_621[0][0]             \n",
      "__________________________________________________________________________________________________\n",
      "batch_normalization_817 (BatchN (None, 1, 1, 512)    2048        conv2d_857[0][0]                 \n",
      "__________________________________________________________________________________________________\n",
      "activation_623 (Activation)     (None, 1, 1, 512)    0           batch_normalization_817[0][0]    \n",
      "__________________________________________________________________________________________________\n",
      "conv2d_858 (Conv2D)             (None, 1, 1, 512)    2359808     activation_623[0][0]             \n",
      "__________________________________________________________________________________________________\n",
      "batch_normalization_818 (BatchN (None, 1, 1, 512)    2048        conv2d_858[0][0]                 \n",
      "__________________________________________________________________________________________________\n",
      "activation_624 (Activation)     (None, 1, 1, 512)    0           batch_normalization_818[0][0]    \n",
      "__________________________________________________________________________________________________\n",
      "conv2d_856 (Conv2D)             (None, 1, 1, 2048)   4196352     activation_621[0][0]             \n",
      "__________________________________________________________________________________________________\n",
      "conv2d_859 (Conv2D)             (None, 1, 1, 2048)   1050624     activation_624[0][0]             \n",
      "__________________________________________________________________________________________________\n",
      "batch_normalization_816 (BatchN (None, 1, 1, 2048)   8192        conv2d_856[0][0]                 \n",
      "__________________________________________________________________________________________________\n",
      "batch_normalization_819 (BatchN (None, 1, 1, 2048)   8192        conv2d_859[0][0]                 \n",
      "__________________________________________________________________________________________________\n",
      "activation_622 (Activation)     (None, 1, 1, 2048)   0           batch_normalization_816[0][0]    \n",
      "__________________________________________________________________________________________________\n",
      "add_310 (Add)                   (None, 1, 1, 2048)   0           batch_normalization_819[0][0]    \n",
      "                                                                 activation_622[0][0]             \n",
      "__________________________________________________________________________________________________\n",
      "activation_625 (Activation)     (None, 1, 1, 2048)   0           add_310[0][0]                    \n",
      "__________________________________________________________________________________________________\n",
      "conv2d_861 (Conv2D)             (None, 1, 1, 512)    1049088     activation_625[0][0]             \n",
      "__________________________________________________________________________________________________\n",
      "batch_normalization_821 (BatchN (None, 1, 1, 512)    2048        conv2d_861[0][0]                 \n",
      "__________________________________________________________________________________________________\n",
      "activation_627 (Activation)     (None, 1, 1, 512)    0           batch_normalization_821[0][0]    \n",
      "__________________________________________________________________________________________________\n",
      "conv2d_862 (Conv2D)             (None, 1, 1, 512)    2359808     activation_627[0][0]             \n",
      "__________________________________________________________________________________________________\n",
      "batch_normalization_822 (BatchN (None, 1, 1, 512)    2048        conv2d_862[0][0]                 \n",
      "__________________________________________________________________________________________________\n",
      "activation_628 (Activation)     (None, 1, 1, 512)    0           batch_normalization_822[0][0]    \n",
      "__________________________________________________________________________________________________\n",
      "conv2d_860 (Conv2D)             (None, 1, 1, 2048)   4196352     activation_625[0][0]             \n",
      "__________________________________________________________________________________________________\n",
      "conv2d_863 (Conv2D)             (None, 1, 1, 2048)   1050624     activation_628[0][0]             \n",
      "__________________________________________________________________________________________________\n",
      "batch_normalization_820 (BatchN (None, 1, 1, 2048)   8192        conv2d_860[0][0]                 \n",
      "__________________________________________________________________________________________________\n",
      "batch_normalization_823 (BatchN (None, 1, 1, 2048)   8192        conv2d_863[0][0]                 \n",
      "__________________________________________________________________________________________________\n",
      "activation_626 (Activation)     (None, 1, 1, 2048)   0           batch_normalization_820[0][0]    \n",
      "__________________________________________________________________________________________________\n",
      "add_311 (Add)                   (None, 1, 1, 2048)   0           batch_normalization_823[0][0]    \n",
      "                                                                 activation_626[0][0]             \n",
      "__________________________________________________________________________________________________\n",
      "activation_629 (Activation)     (None, 1, 1, 2048)   0           add_311[0][0]                    \n",
      "__________________________________________________________________________________________________\n",
      "average_pooling2d_11 (AveragePo (None, 1, 1, 2048)   0           activation_629[0][0]             \n",
      "__________________________________________________________________________________________________\n",
      "flatten (Flatten)               (None, 2048)         0           average_pooling2d_11[0][0]       \n",
      "__________________________________________________________________________________________________\n",
      "fc1000 (Dense)                  (None, 10)           20490       flatten[0][0]                    \n",
      "==================================================================================================\n",
      "Total params: 38,213,514\n",
      "Trainable params: 38,137,866\n",
      "Non-trainable params: 75,648\n",
      "__________________________________________________________________________________________________\n"
     ]
    }
   ],
   "source": [
    "resnet_50 = build_resnet(input_shape=(32, 32,3), is_50=True)\n",
    "resnet_50.summary()"
   ]
  },
  {
   "cell_type": "code",
   "execution_count": null,
   "id": "26d3711d",
   "metadata": {},
   "outputs": [],
   "source": []
  }
 ],
 "metadata": {
  "kernelspec": {
   "display_name": "ho",
   "language": "python",
   "name": "ho"
  },
  "language_info": {
   "codemirror_mode": {
    "name": "ipython",
    "version": 3
   },
   "file_extension": ".py",
   "mimetype": "text/x-python",
   "name": "python",
   "nbconvert_exporter": "python",
   "pygments_lexer": "ipython3",
   "version": "3.9.6"
  }
 },
 "nbformat": 4,
 "nbformat_minor": 5
}
