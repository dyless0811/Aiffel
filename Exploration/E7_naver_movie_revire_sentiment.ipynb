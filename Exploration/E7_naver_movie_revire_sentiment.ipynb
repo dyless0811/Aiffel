{
 "cells": [
  {
   "cell_type": "markdown",
   "id": "411f13f9",
   "metadata": {},
   "source": [
    "# 네이버 영화리뷰 감정 분석\n",
    "네이버 영화의 댓글을 모아 구성된 파일을 활용한다.  \n",
    "https://github.com/e9t/nsmc"
   ]
  },
  {
   "cell_type": "markdown",
   "id": "137a3ad2",
   "metadata": {},
   "source": [
    "## 데이터 준비와 확인"
   ]
  },
  {
   "cell_type": "code",
   "execution_count": 1,
   "id": "5d8a7b0c",
   "metadata": {
    "scrolled": true
   },
   "outputs": [
    {
     "name": "stdout",
     "output_type": "stream",
     "text": [
      "Init Plugin\n",
      "Init Graph Optimizer\n",
      "Init Kernel\n"
     ]
    },
    {
     "data": {
      "text/html": [
       "<div>\n",
       "<style scoped>\n",
       "    .dataframe tbody tr th:only-of-type {\n",
       "        vertical-align: middle;\n",
       "    }\n",
       "\n",
       "    .dataframe tbody tr th {\n",
       "        vertical-align: top;\n",
       "    }\n",
       "\n",
       "    .dataframe thead th {\n",
       "        text-align: right;\n",
       "    }\n",
       "</style>\n",
       "<table border=\"1\" class=\"dataframe\">\n",
       "  <thead>\n",
       "    <tr style=\"text-align: right;\">\n",
       "      <th></th>\n",
       "      <th>id</th>\n",
       "      <th>document</th>\n",
       "      <th>label</th>\n",
       "    </tr>\n",
       "  </thead>\n",
       "  <tbody>\n",
       "    <tr>\n",
       "      <th>0</th>\n",
       "      <td>9976970</td>\n",
       "      <td>아 더빙.. 진짜 짜증나네요 목소리</td>\n",
       "      <td>0</td>\n",
       "    </tr>\n",
       "    <tr>\n",
       "      <th>1</th>\n",
       "      <td>3819312</td>\n",
       "      <td>흠...포스터보고 초딩영화줄....오버연기조차 가볍지 않구나</td>\n",
       "      <td>1</td>\n",
       "    </tr>\n",
       "    <tr>\n",
       "      <th>2</th>\n",
       "      <td>10265843</td>\n",
       "      <td>너무재밓었다그래서보는것을추천한다</td>\n",
       "      <td>0</td>\n",
       "    </tr>\n",
       "    <tr>\n",
       "      <th>3</th>\n",
       "      <td>9045019</td>\n",
       "      <td>교도소 이야기구먼 ..솔직히 재미는 없다..평점 조정</td>\n",
       "      <td>0</td>\n",
       "    </tr>\n",
       "    <tr>\n",
       "      <th>4</th>\n",
       "      <td>6483659</td>\n",
       "      <td>사이몬페그의 익살스런 연기가 돋보였던 영화!스파이더맨에서 늙어보이기만 했던 커스틴 ...</td>\n",
       "      <td>1</td>\n",
       "    </tr>\n",
       "  </tbody>\n",
       "</table>\n",
       "</div>"
      ],
      "text/plain": [
       "         id                                           document  label\n",
       "0   9976970                                아 더빙.. 진짜 짜증나네요 목소리      0\n",
       "1   3819312                  흠...포스터보고 초딩영화줄....오버연기조차 가볍지 않구나      1\n",
       "2  10265843                                  너무재밓었다그래서보는것을추천한다      0\n",
       "3   9045019                      교도소 이야기구먼 ..솔직히 재미는 없다..평점 조정      0\n",
       "4   6483659  사이몬페그의 익살스런 연기가 돋보였던 영화!스파이더맨에서 늙어보이기만 했던 커스틴 ...      1"
      ]
     },
     "execution_count": 1,
     "metadata": {},
     "output_type": "execute_result"
    }
   ],
   "source": [
    "import pandas as pd\n",
    "import tensorflow as tf\n",
    "import urllib.request\n",
    "%matplotlib inline\n",
    "import matplotlib.pyplot as plt\n",
    "import re\n",
    "from konlpy.tag import Okt\n",
    "from tensorflow import keras\n",
    "from tensorflow.keras.preprocessing.text import Tokenizer\n",
    "import numpy as np\n",
    "from tensorflow.keras.preprocessing.sequence import pad_sequences\n",
    "from collections import Counter\n",
    "\n",
    "\n",
    "train_data = pd.read_table('/users/ho/desktop/data/wordvectors/ratings_train.txt')\n",
    "test_data = pd.read_table('/users/ho/desktop/data/wordvectors/ratings_test.txt')\n",
    "\n",
    "train_data.head()"
   ]
  },
  {
   "cell_type": "markdown",
   "id": "3bf17cb1",
   "metadata": {},
   "source": [
    "## Data Loder 구성\n",
    "nsmc 데이터셋은 ibdb처럼 친절하게 word_to_index 같은 메소드를 제공하지 않는다.  \n",
    "그래서 Data Loder를 만들어야 한다."
   ]
  },
  {
   "cell_type": "code",
   "execution_count": 2,
   "id": "af313a6a",
   "metadata": {},
   "outputs": [],
   "source": [
    "from konlpy.tag import Mecab\n",
    "tokenizer = Mecab()\n",
    "stopwords = ['의','가','이','은','들','는','좀','잘','걍','과','도','를','으로','자','에','와','한','하다']\n",
    "\n",
    "def load_data(train_data, test_data, num_words=10000):\n",
    "    # 데이터의 중복 제거\n",
    "    train_data.drop_duplicates(subset=['document'], inplace=True)\n",
    "    test_data.drop_duplicates(subset=['document'], inplace=True)\n",
    "    \n",
    "    # NaN 결측치 제거\n",
    "    train_data = train_data.dropna(how = 'any')\n",
    "    test_data = test_data.dropna(how = 'any')\n",
    "    \n",
    "    # 한국어 토크나이저로 토큰화\n",
    "    X_train = []\n",
    "    for sentence in train_data['document']:\n",
    "        temp_X = tokenizer.morphs(sentence) #한국어 토크나이저로 토큰화\n",
    "        temp_X = [word for word in temp_X if not word in stopwords] #불용어(Stopwords) 제거\n",
    "        X_train.append(temp_X)\n",
    "    \n",
    "    X_test = []\n",
    "    for sentence in test_data['document']:\n",
    "        temp_X = tokenizer.morphs(sentence) #한국어 토크나이저로 토큰화\n",
    "        temp_X = [word for word in temp_X if not word in stopwords] #불용어(Stopwords) 제거\n",
    "        X_test.append(temp_X)\n",
    "    \n",
    "    \n",
    "    # 텍스트 스트링을 사전 인덱스 스트링으로 변환\n",
    "    words = np.concatenate(X_train).tolist()\n",
    "    counter = Counter(words)\n",
    "    counter = counter.most_common(10000-4)\n",
    "    \n",
    "    vocab = ['', '', '', ''] + [key for key, _ in counter]\n",
    "    \n",
    "    # 사전 word_to_index 구성\n",
    "    word_to_index = {word:index for index, word in enumerate(vocab)}\n",
    "    \n",
    "    def wordlist_to_indexlist(wordlist):\n",
    "        return [word_to_index[word] if word in word_to_index else word_to_index[''] for word in wordlist]\n",
    "    \n",
    "    X_train = list(map(wordlist_to_indexlist, X_train))\n",
    "    X_test = list(map(wordlist_to_indexlist, X_test))\n",
    "    \n",
    "    # X_train, y_train, X_test, y_test, word_to_index 리턴\n",
    "    return X_train, np.array(list(train_data['label'])), X_test, np.array(list(test_data['label'])), word_to_index\n",
    "    \n",
    "x_train, y_train, x_test, y_test, word_to_index = load_data(train_data, test_data)"
   ]
  },
  {
   "cell_type": "code",
   "execution_count": 3,
   "id": "18c4be4f",
   "metadata": {},
   "outputs": [],
   "source": [
    "index_to_word = {index:word for word, index in word_to_index.items()}"
   ]
  },
  {
   "cell_type": "code",
   "execution_count": 4,
   "id": "36724a92",
   "metadata": {},
   "outputs": [],
   "source": [
    "# 문장 1개를 활용할 딕셔너리와 함께 주면, 단어 인덱스 리스트 벡터로 변환해 주는 함수입니다. \n",
    "# 단, 모든 문장은 <BOS>로 시작하는 것으로 합니다. \n",
    "def get_encoded_sentence(sentence, word_to_index):\n",
    "    return [word_to_index['<BOS>']]+[word_to_index[word] if word in word_to_index else word_to_index['<UNK>'] for word in sentence.split()]\n",
    "\n",
    "# 여러 개의 문장 리스트를 한꺼번에 단어 인덱스 리스트 벡터로 encode해 주는 함수입니다. \n",
    "def get_encoded_sentences(sentences, word_to_index):\n",
    "    return [get_encoded_sentence(sentence, word_to_index) for sentence in sentences]\n",
    "\n",
    "# 숫자 벡터로 encode된 문장을 원래대로 decode하는 함수입니다. \n",
    "def get_decoded_sentence(encoded_sentence, index_to_word):\n",
    "    return ' '.join(index_to_word[index] if index in index_to_word else '<UNK>' for index in encoded_sentence[1:])  #[1:]를 통해 <BOS>를 제외\n",
    "\n",
    "# 여러 개의 숫자 벡터로 encode된 문장을 한꺼번에 원래대로 decode하는 함수입니다. \n",
    "def get_decoded_sentences(encoded_sentences, index_to_word):\n",
    "    return [get_decoded_sentence(encoded_sentence, index_to_word) for encoded_sentence in encoded_sentences]"
   ]
  },
  {
   "cell_type": "markdown",
   "id": "1746aa9c",
   "metadata": {},
   "source": [
    "## 모델구성을 위한 데이터 분석 및 가공"
   ]
  },
  {
   "cell_type": "markdown",
   "id": "b036ef4e",
   "metadata": {},
   "source": [
    "### 데이터셋 내 문장 길이 분포"
   ]
  },
  {
   "cell_type": "code",
   "execution_count": 5,
   "id": "0b733a8a",
   "metadata": {},
   "outputs": [
    {
     "name": "stdout",
     "output_type": "stream",
     "text": [
      "문장길이 평균 :  15.969376315021577\n",
      "문장길이 최대 :  116\n",
      "문장길이 표준편차 :  12.843535456326455\n"
     ]
    }
   ],
   "source": [
    "total_data_text = list(x_train) + list(x_test)\n",
    "# 텍스트데이터 문장길이의 리스트를 생성한 후\n",
    "num_tokens = [len(tokens) for tokens in total_data_text]\n",
    "num_tokens = np.array(num_tokens)\n",
    "# 문장길이의 평균값, 최대값, 표준편차를 계산해 본다. \n",
    "print('문장길이 평균 : ', np.mean(num_tokens))\n",
    "print('문장길이 최대 : ', np.max(num_tokens))\n",
    "print('문장길이 표준편차 : ', np.std(num_tokens))"
   ]
  },
  {
   "cell_type": "markdown",
   "id": "4b5b7397",
   "metadata": {},
   "source": [
    "### 적절한 최대 문장 길이 지정"
   ]
  },
  {
   "cell_type": "code",
   "execution_count": 6,
   "id": "db976983",
   "metadata": {},
   "outputs": [
    {
     "name": "stdout",
     "output_type": "stream",
     "text": [
      "pad_sequences maxlen :  41\n",
      "전체 문장의 0.9342988343341575%가 maxlen 설정값 이내에 포함됩니다. \n"
     ]
    }
   ],
   "source": [
    "# 예를들어, 최대 길이를 (평균 + 2*표준편차)로 한다면,  \n",
    "max_tokens = np.mean(num_tokens) + 2 * np.std(num_tokens)\n",
    "maxlen = int(max_tokens)\n",
    "print('pad_sequences maxlen : ', maxlen)\n",
    "print('전체 문장의 {}%가 maxlen 설정값 이내에 포함됩니다. '.format(np.sum(num_tokens < max_tokens) / len(num_tokens)))"
   ]
  },
  {
   "cell_type": "markdown",
   "id": "cbbb5d1c",
   "metadata": {},
   "source": [
    "### keras.preprocessing.sequence.pad_sequences 을 활용한 패딩 추가"
   ]
  },
  {
   "cell_type": "code",
   "execution_count": 7,
   "id": "918b2115",
   "metadata": {},
   "outputs": [
    {
     "name": "stdout",
     "output_type": "stream",
     "text": [
      "(146182, 41)\n"
     ]
    }
   ],
   "source": [
    "x_train = keras.preprocessing.sequence.pad_sequences(x_train,\n",
    "                                                        value=word_to_index[''],\n",
    "                                                        padding='pre',\n",
    "                                                        maxlen=maxlen)\n",
    "\n",
    "x_test = keras.preprocessing.sequence.pad_sequences(x_test,\n",
    "                                                       value=word_to_index[''],\n",
    "                                                       padding='pre',\n",
    "                                                       maxlen=maxlen)\n",
    "\n",
    "print(x_train.shape)"
   ]
  },
  {
   "cell_type": "markdown",
   "id": "08f66ebb",
   "metadata": {},
   "source": [
    "## 모델구성"
   ]
  },
  {
   "cell_type": "code",
   "execution_count": 8,
   "id": "b0f01fc0",
   "metadata": {},
   "outputs": [
    {
     "name": "stdout",
     "output_type": "stream",
     "text": [
      "Metal device set to: Apple M1\n",
      "Model: \"sequential\"\n",
      "_________________________________________________________________\n",
      "Layer (type)                 Output Shape              Param #   \n",
      "=================================================================\n",
      "embedding (Embedding)        (None, None, 16)          160000    \n",
      "_________________________________________________________________\n",
      "lstm (LSTM)                  (None, 8)                 800       \n",
      "_________________________________________________________________\n",
      "dense (Dense)                (None, 8)                 72        \n",
      "_________________________________________________________________\n",
      "dense_1 (Dense)              (None, 1)                 9         \n",
      "=================================================================\n",
      "Total params: 160,881\n",
      "Trainable params: 160,881\n",
      "Non-trainable params: 0\n",
      "_________________________________________________________________\n"
     ]
    },
    {
     "name": "stderr",
     "output_type": "stream",
     "text": [
      "2021-08-10 14:05:41.097449: I tensorflow/core/common_runtime/pluggable_device/pluggable_device_factory.cc:305] Could not identify NUMA node of platform GPU ID 0, defaulting to 0. Your kernel may not have been built with NUMA support.\n",
      "2021-08-10 14:05:41.098043: I tensorflow/core/common_runtime/pluggable_device/pluggable_device_factory.cc:271] Created TensorFlow device (/job:localhost/replica:0/task:0/device:GPU:0 with 0 MB memory) -> physical PluggableDevice (device: 0, name: METAL, pci bus id: <undefined>)\n"
     ]
    }
   ],
   "source": [
    "# RNN model 설계\n",
    "vocab_size = 10000    # 어휘 사전의 크기입니다(10,000개의 단어)\n",
    "word_vector_dim = 16  # 워드 벡터의 차원 수 (변경 가능한 하이퍼파라미터)\n",
    "\n",
    "# model 설계 - 딥러닝 모델 코드를 직접 작성해 주세요.\n",
    "model = keras.Sequential()\n",
    "model.add(keras.layers.Embedding(vocab_size, word_vector_dim, input_shape=(None,)))\n",
    "model.add(keras.layers.LSTM(8))   # 가장 널리 쓰이는 RNN인 LSTM 레이어를 사용하였습니다. 이때 LSTM state 벡터의 차원수는 8로 하였습니다. (변경 가능)\n",
    "model.add(keras.layers.Dense(8, activation='relu'))\n",
    "model.add(keras.layers.Dense(1, activation='sigmoid'))  # 최종 출력은 긍정/부정을 나타내는 1dim 입니다.\n",
    "\n",
    "model.summary()"
   ]
  },
  {
   "cell_type": "markdown",
   "id": "4ca1d7b1",
   "metadata": {},
   "source": [
    "### Validation set 구성"
   ]
  },
  {
   "cell_type": "code",
   "execution_count": 9,
   "id": "6bc5b011",
   "metadata": {},
   "outputs": [
    {
     "name": "stdout",
     "output_type": "stream",
     "text": [
      "(136182, 41)\n",
      "(136182,)\n"
     ]
    }
   ],
   "source": [
    "# validation set 10000건 분리\n",
    "x_val = x_train[:10000]   \n",
    "y_val = y_train[:10000]\n",
    "\n",
    "# validation set을 제외한 나머지 15000건\n",
    "partial_x_train = x_train[10000:]  \n",
    "partial_y_train = y_train[10000:]\n",
    "\n",
    "print(partial_x_train.shape)\n",
    "print(partial_y_train.shape)"
   ]
  },
  {
   "cell_type": "markdown",
   "id": "755c11a3",
   "metadata": {},
   "source": [
    "## Model 훈련"
   ]
  },
  {
   "cell_type": "code",
   "execution_count": 10,
   "id": "8fc3132d",
   "metadata": {},
   "outputs": [
    {
     "name": "stdout",
     "output_type": "stream",
     "text": [
      "Device mapping:\n",
      "/job:localhost/replica:0/task:0/device:GPU:0 -> device: 0, name: METAL, pci bus id: <undefined>\n",
      "\n"
     ]
    },
    {
     "name": "stderr",
     "output_type": "stream",
     "text": [
      "2021-08-10 14:05:41.230095: I tensorflow/core/common_runtime/pluggable_device/pluggable_device_factory.cc:305] Could not identify NUMA node of platform GPU ID 0, defaulting to 0. Your kernel may not have been built with NUMA support.\n",
      "2021-08-10 14:05:41.230113: I tensorflow/core/common_runtime/pluggable_device/pluggable_device_factory.cc:271] Created TensorFlow device (/job:localhost/replica:0/task:0/device:GPU:0 with 0 MB memory) -> physical PluggableDevice (device: 0, name: METAL, pci bus id: <undefined>)\n"
     ]
    },
    {
     "name": "stdout",
     "output_type": "stream",
     "text": [
      "Epoch 1/40\n"
     ]
    },
    {
     "name": "stderr",
     "output_type": "stream",
     "text": [
      "2021-08-10 14:05:41.333611: I tensorflow/compiler/mlir/mlir_graph_optimization_pass.cc:176] None of the MLIR Optimization Passes are enabled (registered 2)\n",
      "2021-08-10 14:05:41.336702: W tensorflow/core/platform/profile_utils/cpu_utils.cc:128] Failed to get CPU frequency: 0 Hz\n",
      "2021-08-10 14:05:41.800830: I tensorflow/core/grappler/optimizers/custom_graph_optimizer_registry.cc:112] Plugin optimizer for device_type GPU is enabled.\n",
      "2021-08-10 14:05:41.926851: I tensorflow/core/grappler/optimizers/custom_graph_optimizer_registry.cc:112] Plugin optimizer for device_type GPU is enabled.\n",
      "2021-08-10 14:05:42.139271: I tensorflow/core/grappler/optimizers/custom_graph_optimizer_registry.cc:112] Plugin optimizer for device_type GPU is enabled.\n"
     ]
    },
    {
     "name": "stdout",
     "output_type": "stream",
     "text": [
      "266/266 [==============================] - ETA: 0s - loss: 0.5196 - accuracy: 0.7413"
     ]
    },
    {
     "name": "stderr",
     "output_type": "stream",
     "text": [
      "2021-08-10 14:06:00.113387: I tensorflow/core/grappler/optimizers/custom_graph_optimizer_registry.cc:112] Plugin optimizer for device_type GPU is enabled.\n",
      "2021-08-10 14:06:00.154423: I tensorflow/core/grappler/optimizers/custom_graph_optimizer_registry.cc:112] Plugin optimizer for device_type GPU is enabled.\n"
     ]
    },
    {
     "name": "stdout",
     "output_type": "stream",
     "text": [
      "266/266 [==============================] - 20s 68ms/step - loss: 0.5196 - accuracy: 0.7413 - val_loss: 0.3667 - val_accuracy: 0.8434\n",
      "Epoch 2/40\n",
      "266/266 [==============================] - 16s 59ms/step - loss: 0.3489 - accuracy: 0.8529 - val_loss: 0.3499 - val_accuracy: 0.8477\n",
      "Epoch 3/40\n",
      "266/266 [==============================] - 15s 57ms/step - loss: 0.3304 - accuracy: 0.8617 - val_loss: 0.3449 - val_accuracy: 0.8511\n",
      "Epoch 4/40\n",
      "266/266 [==============================] - 15s 58ms/step - loss: 0.3220 - accuracy: 0.8669 - val_loss: 0.3493 - val_accuracy: 0.8455\n",
      "Epoch 5/40\n",
      "266/266 [==============================] - 15s 58ms/step - loss: 0.3169 - accuracy: 0.8694 - val_loss: 0.3531 - val_accuracy: 0.8447\n",
      "Epoch 6/40\n",
      "266/266 [==============================] - 15s 58ms/step - loss: 0.3140 - accuracy: 0.8703 - val_loss: 0.3539 - val_accuracy: 0.8435\n",
      "Epoch 7/40\n",
      "266/266 [==============================] - 16s 60ms/step - loss: 0.3116 - accuracy: 0.8716 - val_loss: 0.3600 - val_accuracy: 0.8401\n",
      "Epoch 8/40\n",
      "266/266 [==============================] - 16s 60ms/step - loss: 0.3121 - accuracy: 0.8713 - val_loss: 0.3647 - val_accuracy: 0.8406\n",
      "Epoch 9/40\n",
      "266/266 [==============================] - 17s 64ms/step - loss: 0.3122 - accuracy: 0.8709 - val_loss: 0.3737 - val_accuracy: 0.8360\n",
      "Epoch 10/40\n",
      "266/266 [==============================] - 17s 63ms/step - loss: 0.3137 - accuracy: 0.8699 - val_loss: 0.3732 - val_accuracy: 0.8356\n",
      "Epoch 11/40\n",
      "266/266 [==============================] - 16s 59ms/step - loss: 0.3154 - accuracy: 0.8683 - val_loss: 0.3844 - val_accuracy: 0.8300\n",
      "Epoch 12/40\n",
      "266/266 [==============================] - 15s 58ms/step - loss: 0.3179 - accuracy: 0.8659 - val_loss: 0.3861 - val_accuracy: 0.8329\n",
      "Epoch 13/40\n",
      "266/266 [==============================] - 15s 58ms/step - loss: 0.3194 - accuracy: 0.8651 - val_loss: 0.3897 - val_accuracy: 0.8288\n",
      "Epoch 14/40\n",
      "266/266 [==============================] - 16s 59ms/step - loss: 0.3216 - accuracy: 0.8636 - val_loss: 0.3998 - val_accuracy: 0.8258\n",
      "Epoch 15/40\n",
      "266/266 [==============================] - 16s 61ms/step - loss: 0.3238 - accuracy: 0.8625 - val_loss: 0.4006 - val_accuracy: 0.8284\n",
      "Epoch 16/40\n",
      "266/266 [==============================] - 18s 67ms/step - loss: 0.3244 - accuracy: 0.8611 - val_loss: 0.4013 - val_accuracy: 0.8246\n",
      "Epoch 17/40\n",
      "266/266 [==============================] - 16s 61ms/step - loss: 0.3262 - accuracy: 0.8605 - val_loss: 0.4063 - val_accuracy: 0.8245\n",
      "Epoch 18/40\n",
      "266/266 [==============================] - 16s 61ms/step - loss: 0.3275 - accuracy: 0.8596 - val_loss: 0.4107 - val_accuracy: 0.8247\n",
      "Epoch 19/40\n",
      "266/266 [==============================] - 16s 59ms/step - loss: 0.3277 - accuracy: 0.8593 - val_loss: 0.4111 - val_accuracy: 0.8256\n",
      "Epoch 20/40\n",
      "266/266 [==============================] - 16s 59ms/step - loss: 0.3278 - accuracy: 0.8587 - val_loss: 0.4152 - val_accuracy: 0.8217\n",
      "Epoch 21/40\n",
      "266/266 [==============================] - 16s 59ms/step - loss: 0.3265 - accuracy: 0.8592 - val_loss: 0.4158 - val_accuracy: 0.8248\n",
      "Epoch 22/40\n",
      "266/266 [==============================] - 17s 63ms/step - loss: 0.3265 - accuracy: 0.8593 - val_loss: 0.4288 - val_accuracy: 0.8216\n",
      "Epoch 23/40\n",
      "266/266 [==============================] - 16s 59ms/step - loss: 0.3253 - accuracy: 0.8602 - val_loss: 0.4215 - val_accuracy: 0.8246\n",
      "Epoch 24/40\n",
      "266/266 [==============================] - 16s 61ms/step - loss: 0.3235 - accuracy: 0.8607 - val_loss: 0.4202 - val_accuracy: 0.8222\n",
      "Epoch 25/40\n",
      "266/266 [==============================] - 16s 60ms/step - loss: 0.3228 - accuracy: 0.8609 - val_loss: 0.4237 - val_accuracy: 0.8241\n",
      "Epoch 26/40\n",
      "266/266 [==============================] - 16s 62ms/step - loss: 0.3212 - accuracy: 0.8616 - val_loss: 0.4263 - val_accuracy: 0.8238\n",
      "Epoch 27/40\n",
      "266/266 [==============================] - 16s 61ms/step - loss: 0.3186 - accuracy: 0.8628 - val_loss: 0.4307 - val_accuracy: 0.8245\n",
      "Epoch 28/40\n",
      "266/266 [==============================] - 15s 58ms/step - loss: 0.3167 - accuracy: 0.8637 - val_loss: 0.4298 - val_accuracy: 0.8231\n",
      "Epoch 29/40\n",
      "266/266 [==============================] - 17s 62ms/step - loss: 0.3152 - accuracy: 0.8642 - val_loss: 0.4319 - val_accuracy: 0.8256\n",
      "Epoch 30/40\n",
      "266/266 [==============================] - 16s 60ms/step - loss: 0.3121 - accuracy: 0.8655 - val_loss: 0.4288 - val_accuracy: 0.8242\n",
      "Epoch 31/40\n",
      "266/266 [==============================] - 16s 60ms/step - loss: 0.3098 - accuracy: 0.8674 - val_loss: 0.4386 - val_accuracy: 0.8232\n",
      "Epoch 32/40\n",
      "266/266 [==============================] - 15s 57ms/step - loss: 0.3090 - accuracy: 0.8673 - val_loss: 0.4371 - val_accuracy: 0.8249\n",
      "Epoch 33/40\n",
      "266/266 [==============================] - 16s 58ms/step - loss: 0.3070 - accuracy: 0.8685 - val_loss: 0.4326 - val_accuracy: 0.8235\n",
      "Epoch 34/40\n",
      "266/266 [==============================] - 16s 61ms/step - loss: 0.3073 - accuracy: 0.8681 - val_loss: 0.4516 - val_accuracy: 0.8222\n",
      "Epoch 35/40\n",
      "266/266 [==============================] - 17s 62ms/step - loss: 0.3068 - accuracy: 0.8686 - val_loss: 0.4481 - val_accuracy: 0.8225\n",
      "Epoch 36/40\n",
      "266/266 [==============================] - 16s 61ms/step - loss: 0.3062 - accuracy: 0.8682 - val_loss: 0.4487 - val_accuracy: 0.8207\n",
      "Epoch 37/40\n",
      "266/266 [==============================] - 17s 63ms/step - loss: 0.3061 - accuracy: 0.8680 - val_loss: 0.4618 - val_accuracy: 0.8199\n",
      "Epoch 38/40\n",
      "266/266 [==============================] - 17s 65ms/step - loss: 0.3057 - accuracy: 0.8682 - val_loss: 0.4583 - val_accuracy: 0.8183\n",
      "Epoch 39/40\n",
      "266/266 [==============================] - 16s 60ms/step - loss: 0.3047 - accuracy: 0.8682 - val_loss: 0.4675 - val_accuracy: 0.8183\n",
      "Epoch 40/40\n",
      "266/266 [==============================] - 16s 60ms/step - loss: 0.3035 - accuracy: 0.8692 - val_loss: 0.4728 - val_accuracy: 0.8186\n"
     ]
    }
   ],
   "source": [
    "tf.compat.v1.ConfigProto()\n",
    "sess = tf.compat.v1.Session(config=tf.compat.v1.ConfigProto(log_device_placement=True))\n",
    "\n",
    "model.compile(optimizer='adam',\n",
    "              loss='binary_crossentropy',\n",
    "              metrics=['accuracy'])\n",
    "\n",
    "\n",
    "epochs=40  # 몇 epoch를 훈련하면 좋을지 결과를 보면서 바꾸어 봅시다. \n",
    "\n",
    "history = model.fit(partial_x_train,\n",
    "                    partial_y_train,\n",
    "                    epochs=epochs,\n",
    "                    batch_size=512,\n",
    "                    validation_data=(x_val, y_val),\n",
    "                    verbose=1)"
   ]
  },
  {
   "cell_type": "code",
   "execution_count": 11,
   "id": "3997df20",
   "metadata": {},
   "outputs": [
    {
     "name": "stdout",
     "output_type": "stream",
     "text": [
      "1537/1537 - 24s - loss: 0.4729 - accuracy: 0.8160\n",
      "[0.47285085916519165, 0.8159977197647095]\n"
     ]
    }
   ],
   "source": [
    "# 테스트셋으로 평가\n",
    "results = model.evaluate(x_test,  y_test, verbose=2)\n",
    "\n",
    "print(results)"
   ]
  },
  {
   "cell_type": "markdown",
   "id": "5c91b312",
   "metadata": {},
   "source": [
    "## Loss, Accuracy 그래프 시각화"
   ]
  },
  {
   "cell_type": "code",
   "execution_count": 12,
   "id": "bcd4ffbd",
   "metadata": {},
   "outputs": [
    {
     "name": "stdout",
     "output_type": "stream",
     "text": [
      "dict_keys(['loss', 'accuracy', 'val_loss', 'val_accuracy'])\n"
     ]
    }
   ],
   "source": [
    "# history 데이터를 그래프로 그려 보면, 수행했던 딥러닝 학습이 잘 진행 됐는지, 오버피팅이나 언더피팅하지 않았는지 확인 가능\n",
    "history_dict = history.history\n",
    "print(history_dict.keys()) # epoch에 따른 그래프를 그려볼 수 있는 항목들"
   ]
  },
  {
   "cell_type": "code",
   "execution_count": 13,
   "id": "30edb224",
   "metadata": {},
   "outputs": [
    {
     "data": {
      "image/png": "[encoded data removed]",
      "text/plain": [
       "<Figure size 432x288 with 1 Axes>"
      ]
     },
     "metadata": {
      "needs_background": "light"
     },
     "output_type": "display_data"
    }
   ],
   "source": [
    "import matplotlib.pyplot as plt\n",
    "\n",
    "acc = history_dict['accuracy']\n",
    "val_acc = history_dict['val_accuracy']\n",
    "loss = history_dict['loss']\n",
    "val_loss = history_dict['val_loss']\n",
    "\n",
    "epochs = range(1, len(acc) + 1)\n",
    "\n",
    "# \"bo\"는 \"파란색 점\"입니다\n",
    "plt.plot(epochs, loss, 'bo', label='Training loss')\n",
    "# b는 \"파란 실선\"입니다\n",
    "plt.plot(epochs, val_loss, 'b', label='Validation loss')\n",
    "plt.title('Training and validation loss')\n",
    "plt.xlabel('Epochs')\n",
    "plt.ylabel('Loss')\n",
    "plt.legend()\n",
    "\n",
    "plt.show()\n",
    "# 몇 epoch 까지의 트레이닝이 적절한지 최적점 추정 가능"
   ]
  },
  {
   "cell_type": "code",
   "execution_count": 14,
   "id": "a4e9a29d",
   "metadata": {},
   "outputs": [
    {
     "data": {
      "image/png": "[encoded data removed]",
      "text/plain": [
       "<Figure size 432x288 with 1 Axes>"
      ]
     },
     "metadata": {
      "needs_background": "light"
     },
     "output_type": "display_data"
    }
   ],
   "source": [
    "# Training and validation accuracy를 그려봐도 유사한 인사이트를 얻을 수 있다.\n",
    "plt.clf()   # 그림을 초기화합니다\n",
    "\n",
    "plt.plot(epochs, acc, 'bo', label='Training acc')\n",
    "plt.plot(epochs, val_acc, 'b', label='Validation acc')\n",
    "plt.title('Training and validation accuracy')\n",
    "plt.xlabel('Epochs')\n",
    "plt.ylabel('Accuracy')\n",
    "plt.legend()\n",
    "\n",
    "plt.show()"
   ]
  },
  {
   "cell_type": "markdown",
   "id": "ffed8cc8",
   "metadata": {},
   "source": [
    "## 학습된 Embedding 레이어 분석"
   ]
  },
  {
   "cell_type": "code",
   "execution_count": 15,
   "id": "685f3070",
   "metadata": {},
   "outputs": [
    {
     "name": "stdout",
     "output_type": "stream",
     "text": [
      "(10000, 16)\n"
     ]
    }
   ],
   "source": [
    "embedding_layer = model.layers[0]\n",
    "weights = embedding_layer.get_weights()[0]\n",
    "print(weights.shape)    # shape: (vocab_size, embedding_dim)"
   ]
  },
  {
   "cell_type": "code",
   "execution_count": 16,
   "id": "61958542",
   "metadata": {},
   "outputs": [],
   "source": [
    "# 학습한 Embedding 파라미터를 파일에 써서 저장합니다. \n",
    "word2vec_file_path = '/users/ho/desktop/data/wordvectors/word2vec.txt'\n",
    "f = open(word2vec_file_path, 'w')\n",
    "f.write('{} {}\\n'.format(vocab_size-4, word_vector_dim))  # 몇개의 벡터를 얼마 사이즈로 기재할지 타이틀을 씁니다.\n",
    "\n",
    "# 단어 개수(에서 특수문자 4개는 제외하고)만큼의 워드 벡터를 파일에 기록합니다. \n",
    "vectors = model.get_weights()[0]\n",
    "for i in range(4,vocab_size):\n",
    "    f.write('{} {}\\n'.format(index_to_word[i], ' '.join(map(str, list(vectors[i, :])))))\n",
    "f.close()"
   ]
  },
  {
   "cell_type": "code",
   "execution_count": 43,
   "id": "73e36367",
   "metadata": {},
   "outputs": [
    {
     "data": {
      "text/plain": [
       "array([-0.054169  , -0.12585703,  0.00814735, -0.11864493,  0.18679413,\n",
       "       -0.03756628, -0.17378935,  0.0169714 ,  0.03026232,  0.05350157,\n",
       "        0.09699874,  0.0808576 , -0.04450553,  0.03314805, -0.00851537,\n",
       "        0.04223801], dtype=float32)"
      ]
     },
     "execution_count": 43,
     "metadata": {},
     "output_type": "execute_result"
    }
   ],
   "source": [
    "# 위에 남긴 임베딩 파라미터를 읽어서 word vector로 활용할 수 있다.\n",
    "from gensim.models.keyedvectors import Word2VecKeyedVectors\n",
    "\n",
    "word2vec = Word2VecKeyedVectors.load_word2vec_format(word2vec_file_path, binary=False)\n",
    "vector = word_vectors['아']\n",
    "vector"
   ]
  },
  {
   "cell_type": "code",
   "execution_count": 44,
   "id": "5f0b7e27",
   "metadata": {},
   "outputs": [
    {
     "data": {
      "text/plain": [
       "[('오타쿠', 0.8716508150100708),\n",
       " ('힝', 0.8658188581466675),\n",
       " ('서사', 0.8657470345497131),\n",
       " ('김상경', 0.8640732765197754),\n",
       " ('인연', 0.8591920137405396),\n",
       " ('배급사', 0.8539358377456665),\n",
       " ('나머지', 0.8472784757614136),\n",
       " ('이기', 0.845924437046051),\n",
       " ('중학생', 0.8402260541915894),\n",
       " ('주의', 0.8382095098495483)]"
      ]
     },
     "execution_count": 44,
     "metadata": {},
     "output_type": "execute_result"
    }
   ],
   "source": [
    "word_vectors.similar_by_word(\"로맨스\")"
   ]
  },
  {
   "cell_type": "markdown",
   "id": "64630d79",
   "metadata": {},
   "source": [
    "#### 학습한 모델의 임베딩 레이어를 Word2Vec의 것으로 교체하여 다시 학습시켜 본다."
   ]
  },
  {
   "cell_type": "code",
   "execution_count": 47,
   "id": "6323c6d5",
   "metadata": {},
   "outputs": [],
   "source": [
    "vocab_size = 10000    # 어휘 사전의 크기입니다(10,000개의 단어)\n",
    "word_vector_dim = 16  # 워드 벡터의 차원수 (변경가능한 하이퍼파라미터)\n",
    "\n",
    "embedding_matrix = np.random.rand(vocab_size, word_vector_dim)\n",
    "\n",
    "# embedding_matrix에 Word2Vec 워드 벡터를 단어 하나씩마다 차례차례 카피한다.\n",
    "for i in range(4,vocab_size):\n",
    "    if index_to_word[i] in word2vec:\n",
    "        embedding_matrix[i] = word2vec[index_to_word[i]]"
   ]
  },
  {
   "cell_type": "code",
   "execution_count": 49,
   "id": "91ab1bad",
   "metadata": {},
   "outputs": [
    {
     "name": "stdout",
     "output_type": "stream",
     "text": [
      "Model: \"sequential_2\"\n",
      "_________________________________________________________________\n",
      "Layer (type)                 Output Shape              Param #   \n",
      "=================================================================\n",
      "embedding_2 (Embedding)      (None, 41, 16)            160000    \n",
      "_________________________________________________________________\n",
      "conv1d (Conv1D)              (None, 35, 16)            1808      \n",
      "_________________________________________________________________\n",
      "max_pooling1d (MaxPooling1D) (None, 7, 16)             0         \n",
      "_________________________________________________________________\n",
      "conv1d_1 (Conv1D)            (None, 1, 16)             1808      \n",
      "_________________________________________________________________\n",
      "global_max_pooling1d (Global (None, 16)                0         \n",
      "_________________________________________________________________\n",
      "dense_2 (Dense)              (None, 8)                 136       \n",
      "_________________________________________________________________\n",
      "dense_3 (Dense)              (None, 1)                 9         \n",
      "=================================================================\n",
      "Total params: 163,761\n",
      "Trainable params: 163,761\n",
      "Non-trainable params: 0\n",
      "_________________________________________________________________\n"
     ]
    }
   ],
   "source": [
    "from tensorflow.keras.initializers import Constant\n",
    "\n",
    "vocab_size = 10000    # 어휘 사전의 크기입니다(10,000개의 단어)\n",
    "word_vector_dim = 16  # 워드 벡터의 차원 수 (변경가능한 하이퍼파라미터)\n",
    "\n",
    "# 모델 구성\n",
    "model = keras.Sequential()\n",
    "model.add(keras.layers.Embedding(vocab_size, \n",
    "                                 word_vector_dim, \n",
    "                                 embeddings_initializer=Constant(embedding_matrix),  # 카피한 임베딩을 여기서 활용\n",
    "                                 input_length=maxlen, \n",
    "                                 trainable=True))   # trainable을 True로 주면 Fine-tuning\n",
    "model.add(keras.layers.Conv1D(16, 7, activation='relu'))\n",
    "model.add(keras.layers.MaxPooling1D(5))\n",
    "model.add(keras.layers.Conv1D(16, 7, activation='relu'))\n",
    "model.add(keras.layers.GlobalMaxPooling1D())\n",
    "model.add(keras.layers.Dense(8, activation='relu'))\n",
    "model.add(keras.layers.Dense(1, activation='sigmoid')) \n",
    "\n",
    "model.summary()"
   ]
  },
  {
   "cell_type": "code",
   "execution_count": 50,
   "id": "65bcfcf1",
   "metadata": {},
   "outputs": [
    {
     "name": "stdout",
     "output_type": "stream",
     "text": [
      "Epoch 1/40\n"
     ]
    },
    {
     "name": "stderr",
     "output_type": "stream",
     "text": [
      "2021-08-10 14:41:38.893733: I tensorflow/core/grappler/optimizers/custom_graph_optimizer_registry.cc:112] Plugin optimizer for device_type GPU is enabled.\n"
     ]
    },
    {
     "name": "stdout",
     "output_type": "stream",
     "text": [
      "266/266 [==============================] - 6s 21ms/step - loss: 0.4034 - accuracy: 0.8224 - val_loss: 0.3904 - val_accuracy: 0.8325\n",
      "Epoch 2/40\n",
      "  1/266 [..............................] - ETA: 5s - loss: 0.3291 - accuracy: 0.8496"
     ]
    },
    {
     "name": "stderr",
     "output_type": "stream",
     "text": [
      "2021-08-10 14:41:44.493822: I tensorflow/core/grappler/optimizers/custom_graph_optimizer_registry.cc:112] Plugin optimizer for device_type GPU is enabled.\n"
     ]
    },
    {
     "name": "stdout",
     "output_type": "stream",
     "text": [
      "266/266 [==============================] - 5s 19ms/step - loss: 0.3169 - accuracy: 0.8656 - val_loss: 0.3722 - val_accuracy: 0.8398\n",
      "Epoch 3/40\n",
      "266/266 [==============================] - 6s 21ms/step - loss: 0.3014 - accuracy: 0.8733 - val_loss: 0.3687 - val_accuracy: 0.8419\n",
      "Epoch 4/40\n",
      "266/266 [==============================] - 5s 19ms/step - loss: 0.2868 - accuracy: 0.8812 - val_loss: 0.3667 - val_accuracy: 0.8445\n",
      "Epoch 5/40\n",
      "266/266 [==============================] - 5s 20ms/step - loss: 0.2696 - accuracy: 0.8902 - val_loss: 0.3697 - val_accuracy: 0.8441\n",
      "Epoch 6/40\n",
      "266/266 [==============================] - 5s 20ms/step - loss: 0.2500 - accuracy: 0.8997 - val_loss: 0.3750 - val_accuracy: 0.8463\n",
      "Epoch 7/40\n",
      "266/266 [==============================] - ETA: 0s - loss: 0.2274 - accuracy: 0.91 - 6s 21ms/step - loss: 0.2273 - accuracy: 0.9107 - val_loss: 0.3931 - val_accuracy: 0.8447\n",
      "Epoch 8/40\n",
      "266/266 [==============================] - 5s 20ms/step - loss: 0.2035 - accuracy: 0.9225 - val_loss: 0.4081 - val_accuracy: 0.8476\n",
      "Epoch 9/40\n",
      "266/266 [==============================] - 5s 20ms/step - loss: 0.1813 - accuracy: 0.9326 - val_loss: 0.4328 - val_accuracy: 0.8436\n",
      "Epoch 10/40\n",
      "266/266 [==============================] - 6s 21ms/step - loss: 0.1590 - accuracy: 0.9431 - val_loss: 0.4889 - val_accuracy: 0.8394\n",
      "Epoch 11/40\n",
      "266/266 [==============================] - 5s 20ms/step - loss: 0.1412 - accuracy: 0.9509 - val_loss: 0.5104 - val_accuracy: 0.8365\n",
      "Epoch 12/40\n",
      "266/266 [==============================] - 6s 21ms/step - loss: 0.1245 - accuracy: 0.9580 - val_loss: 0.5369 - val_accuracy: 0.8366\n",
      "Epoch 13/40\n",
      "266/266 [==============================] - 5s 19ms/step - loss: 0.1103 - accuracy: 0.9641 - val_loss: 0.5750 - val_accuracy: 0.8320\n",
      "Epoch 14/40\n",
      "266/266 [==============================] - 5s 20ms/step - loss: 0.0990 - accuracy: 0.9688 - val_loss: 0.6339 - val_accuracy: 0.8313\n",
      "Epoch 15/40\n",
      "266/266 [==============================] - 5s 20ms/step - loss: 0.0895 - accuracy: 0.9717 - val_loss: 0.6516 - val_accuracy: 0.8282\n",
      "Epoch 16/40\n",
      "266/266 [==============================] - 5s 20ms/step - loss: 0.0799 - accuracy: 0.9754 - val_loss: 0.7143 - val_accuracy: 0.8263\n",
      "Epoch 17/40\n",
      "266/266 [==============================] - 5s 19ms/step - loss: 0.0729 - accuracy: 0.9777 - val_loss: 0.7873 - val_accuracy: 0.8250\n",
      "Epoch 18/40\n",
      "266/266 [==============================] - 5s 18ms/step - loss: 0.0688 - accuracy: 0.9786 - val_loss: 0.8306 - val_accuracy: 0.8232\n",
      "Epoch 19/40\n",
      "266/266 [==============================] - 5s 20ms/step - loss: 0.0618 - accuracy: 0.9815 - val_loss: 0.8332 - val_accuracy: 0.8230\n",
      "Epoch 20/40\n",
      "266/266 [==============================] - 5s 20ms/step - loss: 0.0573 - accuracy: 0.9831 - val_loss: 0.8972 - val_accuracy: 0.8191\n",
      "Epoch 21/40\n",
      "266/266 [==============================] - 5s 19ms/step - loss: 0.0528 - accuracy: 0.9844 - val_loss: 0.9096 - val_accuracy: 0.8221\n",
      "Epoch 22/40\n",
      "266/266 [==============================] - 5s 19ms/step - loss: 0.0508 - accuracy: 0.9848 - val_loss: 0.9595 - val_accuracy: 0.8215\n",
      "Epoch 23/40\n",
      "266/266 [==============================] - 5s 19ms/step - loss: 0.0473 - accuracy: 0.9860 - val_loss: 1.0442 - val_accuracy: 0.8171\n",
      "Epoch 24/40\n",
      "266/266 [==============================] - 5s 19ms/step - loss: 0.0449 - accuracy: 0.9865 - val_loss: 1.0413 - val_accuracy: 0.8195\n",
      "Epoch 25/40\n",
      "266/266 [==============================] - 5s 18ms/step - loss: 0.0430 - accuracy: 0.9873 - val_loss: 1.1173 - val_accuracy: 0.8160\n",
      "Epoch 26/40\n",
      "266/266 [==============================] - 5s 19ms/step - loss: 0.0402 - accuracy: 0.9879 - val_loss: 1.1757 - val_accuracy: 0.8170\n",
      "Epoch 27/40\n",
      "266/266 [==============================] - 6s 21ms/step - loss: 0.0388 - accuracy: 0.9882 - val_loss: 1.2153 - val_accuracy: 0.8155\n",
      "Epoch 28/40\n",
      "266/266 [==============================] - 5s 20ms/step - loss: 0.0391 - accuracy: 0.9877 - val_loss: 1.1787 - val_accuracy: 0.8176\n",
      "Epoch 29/40\n",
      "266/266 [==============================] - 5s 20ms/step - loss: 0.0369 - accuracy: 0.9886 - val_loss: 1.2263 - val_accuracy: 0.8159\n",
      "Epoch 30/40\n",
      "266/266 [==============================] - 5s 18ms/step - loss: 0.0354 - accuracy: 0.9890 - val_loss: 1.2840 - val_accuracy: 0.8171\n",
      "Epoch 31/40\n",
      "266/266 [==============================] - 5s 19ms/step - loss: 0.0339 - accuracy: 0.9896 - val_loss: 1.2577 - val_accuracy: 0.8196\n",
      "Epoch 32/40\n",
      "266/266 [==============================] - 5s 19ms/step - loss: 0.0332 - accuracy: 0.9898 - val_loss: 1.3039 - val_accuracy: 0.8146\n",
      "Epoch 33/40\n",
      "266/266 [==============================] - 5s 18ms/step - loss: 0.0355 - accuracy: 0.9884 - val_loss: 1.2816 - val_accuracy: 0.8174\n",
      "Epoch 34/40\n",
      "266/266 [==============================] - 5s 19ms/step - loss: 0.0332 - accuracy: 0.9893 - val_loss: 1.2876 - val_accuracy: 0.8144\n",
      "Epoch 35/40\n",
      "266/266 [==============================] - 5s 19ms/step - loss: 0.0320 - accuracy: 0.9900 - val_loss: 1.3903 - val_accuracy: 0.8167\n",
      "Epoch 36/40\n",
      "266/266 [==============================] - 6s 21ms/step - loss: 0.0304 - accuracy: 0.9906 - val_loss: 1.3804 - val_accuracy: 0.8123\n",
      "Epoch 37/40\n",
      "266/266 [==============================] - 6s 21ms/step - loss: 0.0297 - accuracy: 0.9907 - val_loss: 1.3782 - val_accuracy: 0.8160\n",
      "Epoch 38/40\n",
      "266/266 [==============================] - 5s 19ms/step - loss: 0.0287 - accuracy: 0.9909 - val_loss: 1.4666 - val_accuracy: 0.8144\n",
      "Epoch 39/40\n",
      "266/266 [==============================] - 5s 18ms/step - loss: 0.0286 - accuracy: 0.9908 - val_loss: 1.5157 - val_accuracy: 0.8132\n",
      "Epoch 40/40\n",
      "266/266 [==============================] - 5s 18ms/step - loss: 0.0274 - accuracy: 0.9913 - val_loss: 1.4778 - val_accuracy: 0.8142\n"
     ]
    }
   ],
   "source": [
    "# 학습의 진행\n",
    "model.compile(optimizer='adam',\n",
    "              loss='binary_crossentropy',\n",
    "              metrics=['accuracy'])\n",
    "              \n",
    "epochs=40  # 몇 epoch를 훈련하면 좋을지 결과를 보면서 바꾸어 봅시다. \n",
    "\n",
    "history = model.fit(partial_x_train,\n",
    "                    partial_y_train,\n",
    "                    epochs=epochs,\n",
    "                    batch_size=512,\n",
    "                    validation_data=(x_val, y_val),\n",
    "                    verbose=1)"
   ]
  },
  {
   "cell_type": "code",
   "execution_count": 52,
   "id": "19d1d98c",
   "metadata": {},
   "outputs": [
    {
     "data": {
      "image/png": "[encoded data removed]",
      "text/plain": [
       "<Figure size 432x288 with 1 Axes>"
      ]
     },
     "metadata": {
      "needs_background": "light"
     },
     "output_type": "display_data"
    }
   ],
   "source": [
    "acc = history_dict['accuracy']\n",
    "val_acc = history_dict['val_accuracy']\n",
    "loss = history_dict['loss']\n",
    "val_loss = history_dict['val_loss']\n",
    "\n",
    "epochs = range(1, len(acc) + 1)\n",
    "\n",
    "# \"bo\"는 \"파란색 점\"입니다\n",
    "plt.plot(epochs, loss, 'bo', label='Training loss')\n",
    "# b는 \"파란 실선\"입니다\n",
    "plt.plot(epochs, val_loss, 'b', label='Validation loss')\n",
    "plt.title('Training and validation loss')\n",
    "plt.xlabel('Epochs')\n",
    "plt.ylabel('Loss')\n",
    "plt.legend()\n",
    "\n",
    "plt.show()\n",
    "# 몇 epoch 까지의 트레이닝이 적절한지 최적점 추정 가능"
   ]
  },
  {
   "cell_type": "code",
   "execution_count": 53,
   "id": "48cb0ddd",
   "metadata": {},
   "outputs": [
    {
     "data": {
      "image/png": "[encoded data removed]",
      "text/plain": [
       "<Figure size 432x288 with 1 Axes>"
      ]
     },
     "metadata": {
      "needs_background": "light"
     },
     "output_type": "display_data"
    }
   ],
   "source": [
    "# Training and validation accuracy를 그려봐도 유사한 인사이트를 얻을 수 있다.\n",
    "plt.clf()   # 그림을 초기화합니다\n",
    "\n",
    "plt.plot(epochs, acc, 'bo', label='Training acc')\n",
    "plt.plot(epochs, val_acc, 'b', label='Validation acc')\n",
    "plt.title('Training and validation accuracy')\n",
    "plt.xlabel('Epochs')\n",
    "plt.ylabel('Accuracy')\n",
    "plt.legend()\n",
    "\n",
    "plt.show()"
   ]
  },
  {
   "cell_type": "code",
   "execution_count": 51,
   "id": "336614c5",
   "metadata": {},
   "outputs": [
    {
     "name": "stdout",
     "output_type": "stream",
     "text": [
      "1537/1537 - 10s - loss: 1.4841 - accuracy: 0.8104\n",
      "[1.4841431379318237, 0.810362696647644]\n"
     ]
    }
   ],
   "source": [
    "# 테스트셋을 통한 모델 평가\n",
    "results = model.evaluate(x_test,  y_test, verbose=2)\n",
    "\n",
    "print(results)"
   ]
  }
 ],
 "metadata": {
  "kernelspec": {
   "display_name": "ho",
   "language": "python",
   "name": "ho"
  },
  "language_info": {
   "codemirror_mode": {
    "name": "ipython",
    "version": 3
   },
   "file_extension": ".py",
   "mimetype": "text/x-python",
   "name": "python",
   "nbconvert_exporter": "python",
   "pygments_lexer": "ipython3",
   "version": "3.9.6"
  }
 },
 "nbformat": 4,
 "nbformat_minor": 5
}
