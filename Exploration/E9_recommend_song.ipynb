{
 "cells": [
  {
   "cell_type": "markdown",
   "id": "weekly-windows",
   "metadata": {},
   "source": [
    "# 추천 시스템\n",
    "\n",
    "추천 시스템은 아이템은 매우 많고 유저의 취향은 다양할 때 **유저가 소비할만한 아이템을 예측하는 모델**입니다. \n",
    "\n",
    "http://www.kocca.kr/insight/vol05/vol05_04.pdf\n",
    "\n",
    "**협업 필터링**은 다수의 사용자의 `아이템 구매 이력 정보`만으로 `사용자간 유사성 및 아이템 간 유사성`을 파악하지만,\n",
    "\n",
    "**콘텐츠 기반 필터링**은 `아이템의 고유의 정보`를 바탕으로 `아이템 간 유사성`을 파악합니다.\n",
    "\n",
    "다시 말해, 협업 필터링에서는 **아이템과 사용자 간의 행동 또는 관계에만 주목**할 뿐 아이템 자체의 고유한 속성에 주목하지 않습니다.\n",
    "\n",
    "콘텐츠 기반 필터링에서는 **아이템 자체의 속성**에만 주목하고 **사용자와 아이템 간의 관련성**에는 주목하지 않습니다."
   ]
  },
  {
   "cell_type": "markdown",
   "id": "detailed-renewal",
   "metadata": {},
   "source": [
    "#### 협업 필터링의 제약\n",
    "1. 시스템이 충분한 정보를 모으지 못한 사용자나 아이템에 대한 추론을 할 수 없는 상태인 콜드 스타트(Cold Start) 상황\n",
    "2. 계산량이 너무 많아 추천의 효율이 떨어지는 상황\n",
    "3. 롱테일의 꼬리 부분, 즉 사용자의 관심이 저조한 항목의 정보가 부족하여 추천에서 배제되는 상황"
   ]
  },
  {
   "cell_type": "markdown",
   "id": "faced-hanging",
   "metadata": {},
   "source": [
    "### 데이터 준비\n",
    "멜론 데이터: https://arena.kakao.com/c/7\n",
    "\n",
    "스포티파이 데이터: http://ocelma.net/MusicRecommendationDataset/lastfm-360K.html  \n",
    "\n",
    "\n",
    "위 데이터에 컬럼명이 포함되어 있지 않으므로, 컬럼명을 지정해줍니다. "
   ]
  },
  {
   "cell_type": "code",
   "execution_count": 1,
   "id": "formal-restoration",
   "metadata": {},
   "outputs": [
    {
     "data": {
      "text/html": [
       "<div>\n",
       "<style scoped>\n",
       "    .dataframe tbody tr th:only-of-type {\n",
       "        vertical-align: middle;\n",
       "    }\n",
       "\n",
       "    .dataframe tbody tr th {\n",
       "        vertical-align: top;\n",
       "    }\n",
       "\n",
       "    .dataframe thead th {\n",
       "        text-align: right;\n",
       "    }\n",
       "</style>\n",
       "<table border=\"1\" class=\"dataframe\">\n",
       "  <thead>\n",
       "    <tr style=\"text-align: right;\">\n",
       "      <th></th>\n",
       "      <th>user_id</th>\n",
       "      <th>artist_MBID</th>\n",
       "      <th>artist</th>\n",
       "      <th>play</th>\n",
       "    </tr>\n",
       "  </thead>\n",
       "  <tbody>\n",
       "    <tr>\n",
       "      <th>0</th>\n",
       "      <td>00000c289a1829a808ac09c00daf10bc3c4e223b</td>\n",
       "      <td>3bd73256-3905-4f3a-97e2-8b341527f805</td>\n",
       "      <td>betty blowtorch</td>\n",
       "      <td>2137</td>\n",
       "    </tr>\n",
       "    <tr>\n",
       "      <th>1</th>\n",
       "      <td>00000c289a1829a808ac09c00daf10bc3c4e223b</td>\n",
       "      <td>f2fb0ff0-5679-42ec-a55c-15109ce6e320</td>\n",
       "      <td>die Ärzte</td>\n",
       "      <td>1099</td>\n",
       "    </tr>\n",
       "    <tr>\n",
       "      <th>2</th>\n",
       "      <td>00000c289a1829a808ac09c00daf10bc3c4e223b</td>\n",
       "      <td>b3ae82c2-e60b-4551-a76d-6620f1b456aa</td>\n",
       "      <td>melissa etheridge</td>\n",
       "      <td>897</td>\n",
       "    </tr>\n",
       "    <tr>\n",
       "      <th>3</th>\n",
       "      <td>00000c289a1829a808ac09c00daf10bc3c4e223b</td>\n",
       "      <td>3d6bbeb7-f90e-4d10-b440-e153c0d10b53</td>\n",
       "      <td>elvenking</td>\n",
       "      <td>717</td>\n",
       "    </tr>\n",
       "    <tr>\n",
       "      <th>4</th>\n",
       "      <td>00000c289a1829a808ac09c00daf10bc3c4e223b</td>\n",
       "      <td>bbd2ffd7-17f4-4506-8572-c1ea58c3f9a8</td>\n",
       "      <td>juliette &amp; the licks</td>\n",
       "      <td>706</td>\n",
       "    </tr>\n",
       "    <tr>\n",
       "      <th>5</th>\n",
       "      <td>00000c289a1829a808ac09c00daf10bc3c4e223b</td>\n",
       "      <td>8bfac288-ccc5-448d-9573-c33ea2aa5c30</td>\n",
       "      <td>red hot chili peppers</td>\n",
       "      <td>691</td>\n",
       "    </tr>\n",
       "    <tr>\n",
       "      <th>6</th>\n",
       "      <td>00000c289a1829a808ac09c00daf10bc3c4e223b</td>\n",
       "      <td>6531c8b1-76ea-4141-b270-eb1ac5b41375</td>\n",
       "      <td>magica</td>\n",
       "      <td>545</td>\n",
       "    </tr>\n",
       "    <tr>\n",
       "      <th>7</th>\n",
       "      <td>00000c289a1829a808ac09c00daf10bc3c4e223b</td>\n",
       "      <td>21f3573f-10cf-44b3-aeaa-26cccd8448b5</td>\n",
       "      <td>the black dahlia murder</td>\n",
       "      <td>507</td>\n",
       "    </tr>\n",
       "    <tr>\n",
       "      <th>8</th>\n",
       "      <td>00000c289a1829a808ac09c00daf10bc3c4e223b</td>\n",
       "      <td>c5db90c4-580d-4f33-b364-fbaa5a3a58b5</td>\n",
       "      <td>the murmurs</td>\n",
       "      <td>424</td>\n",
       "    </tr>\n",
       "    <tr>\n",
       "      <th>9</th>\n",
       "      <td>00000c289a1829a808ac09c00daf10bc3c4e223b</td>\n",
       "      <td>0639533a-0402-40ba-b6e0-18b067198b73</td>\n",
       "      <td>lunachicks</td>\n",
       "      <td>403</td>\n",
       "    </tr>\n",
       "  </tbody>\n",
       "</table>\n",
       "</div>"
      ],
      "text/plain": [
       "                                    user_id  \\\n",
       "0  00000c289a1829a808ac09c00daf10bc3c4e223b   \n",
       "1  00000c289a1829a808ac09c00daf10bc3c4e223b   \n",
       "2  00000c289a1829a808ac09c00daf10bc3c4e223b   \n",
       "3  00000c289a1829a808ac09c00daf10bc3c4e223b   \n",
       "4  00000c289a1829a808ac09c00daf10bc3c4e223b   \n",
       "5  00000c289a1829a808ac09c00daf10bc3c4e223b   \n",
       "6  00000c289a1829a808ac09c00daf10bc3c4e223b   \n",
       "7  00000c289a1829a808ac09c00daf10bc3c4e223b   \n",
       "8  00000c289a1829a808ac09c00daf10bc3c4e223b   \n",
       "9  00000c289a1829a808ac09c00daf10bc3c4e223b   \n",
       "\n",
       "                            artist_MBID                   artist  play  \n",
       "0  3bd73256-3905-4f3a-97e2-8b341527f805          betty blowtorch  2137  \n",
       "1  f2fb0ff0-5679-42ec-a55c-15109ce6e320                die Ärzte  1099  \n",
       "2  b3ae82c2-e60b-4551-a76d-6620f1b456aa        melissa etheridge   897  \n",
       "3  3d6bbeb7-f90e-4d10-b440-e153c0d10b53                elvenking   717  \n",
       "4  bbd2ffd7-17f4-4506-8572-c1ea58c3f9a8     juliette & the licks   706  \n",
       "5  8bfac288-ccc5-448d-9573-c33ea2aa5c30    red hot chili peppers   691  \n",
       "6  6531c8b1-76ea-4141-b270-eb1ac5b41375                   magica   545  \n",
       "7  21f3573f-10cf-44b3-aeaa-26cccd8448b5  the black dahlia murder   507  \n",
       "8  c5db90c4-580d-4f33-b364-fbaa5a3a58b5              the murmurs   424  \n",
       "9  0639533a-0402-40ba-b6e0-18b067198b73               lunachicks   403  "
      ]
     },
     "execution_count": 1,
     "metadata": {},
     "output_type": "execute_result"
    }
   ],
   "source": [
    "import pandas as pd\n",
    "import os\n",
    "\n",
    "fname = os.getenv('HOME') + '/aiffel/recommendata_iu/data/lastfm-dataset-360K/usersha1-artmbid-artname-plays.tsv'\n",
    "col_names = ['user_id', 'artist_MBID', 'artist', 'play']   # 임의로 지정한 컬럼명\n",
    "data = pd.read_csv(fname, sep='\\t', names= col_names)      # sep='\\t'로 주어야 tsv를 열 수 있습니다.  \n",
    "data.head(10)"
   ]
  },
  {
   "cell_type": "code",
   "execution_count": 2,
   "id": "compact-heather",
   "metadata": {},
   "outputs": [
    {
     "data": {
      "text/html": [
       "<div>\n",
       "<style scoped>\n",
       "    .dataframe tbody tr th:only-of-type {\n",
       "        vertical-align: middle;\n",
       "    }\n",
       "\n",
       "    .dataframe tbody tr th {\n",
       "        vertical-align: top;\n",
       "    }\n",
       "\n",
       "    .dataframe thead th {\n",
       "        text-align: right;\n",
       "    }\n",
       "</style>\n",
       "<table border=\"1\" class=\"dataframe\">\n",
       "  <thead>\n",
       "    <tr style=\"text-align: right;\">\n",
       "      <th></th>\n",
       "      <th>user_id</th>\n",
       "      <th>artist</th>\n",
       "      <th>play</th>\n",
       "    </tr>\n",
       "  </thead>\n",
       "  <tbody>\n",
       "    <tr>\n",
       "      <th>0</th>\n",
       "      <td>00000c289a1829a808ac09c00daf10bc3c4e223b</td>\n",
       "      <td>betty blowtorch</td>\n",
       "      <td>2137</td>\n",
       "    </tr>\n",
       "    <tr>\n",
       "      <th>1</th>\n",
       "      <td>00000c289a1829a808ac09c00daf10bc3c4e223b</td>\n",
       "      <td>die Ärzte</td>\n",
       "      <td>1099</td>\n",
       "    </tr>\n",
       "    <tr>\n",
       "      <th>2</th>\n",
       "      <td>00000c289a1829a808ac09c00daf10bc3c4e223b</td>\n",
       "      <td>melissa etheridge</td>\n",
       "      <td>897</td>\n",
       "    </tr>\n",
       "    <tr>\n",
       "      <th>3</th>\n",
       "      <td>00000c289a1829a808ac09c00daf10bc3c4e223b</td>\n",
       "      <td>elvenking</td>\n",
       "      <td>717</td>\n",
       "    </tr>\n",
       "    <tr>\n",
       "      <th>4</th>\n",
       "      <td>00000c289a1829a808ac09c00daf10bc3c4e223b</td>\n",
       "      <td>juliette &amp; the licks</td>\n",
       "      <td>706</td>\n",
       "    </tr>\n",
       "    <tr>\n",
       "      <th>5</th>\n",
       "      <td>00000c289a1829a808ac09c00daf10bc3c4e223b</td>\n",
       "      <td>red hot chili peppers</td>\n",
       "      <td>691</td>\n",
       "    </tr>\n",
       "    <tr>\n",
       "      <th>6</th>\n",
       "      <td>00000c289a1829a808ac09c00daf10bc3c4e223b</td>\n",
       "      <td>magica</td>\n",
       "      <td>545</td>\n",
       "    </tr>\n",
       "    <tr>\n",
       "      <th>7</th>\n",
       "      <td>00000c289a1829a808ac09c00daf10bc3c4e223b</td>\n",
       "      <td>the black dahlia murder</td>\n",
       "      <td>507</td>\n",
       "    </tr>\n",
       "    <tr>\n",
       "      <th>8</th>\n",
       "      <td>00000c289a1829a808ac09c00daf10bc3c4e223b</td>\n",
       "      <td>the murmurs</td>\n",
       "      <td>424</td>\n",
       "    </tr>\n",
       "    <tr>\n",
       "      <th>9</th>\n",
       "      <td>00000c289a1829a808ac09c00daf10bc3c4e223b</td>\n",
       "      <td>lunachicks</td>\n",
       "      <td>403</td>\n",
       "    </tr>\n",
       "  </tbody>\n",
       "</table>\n",
       "</div>"
      ],
      "text/plain": [
       "                                    user_id                   artist  play\n",
       "0  00000c289a1829a808ac09c00daf10bc3c4e223b          betty blowtorch  2137\n",
       "1  00000c289a1829a808ac09c00daf10bc3c4e223b                die Ärzte  1099\n",
       "2  00000c289a1829a808ac09c00daf10bc3c4e223b        melissa etheridge   897\n",
       "3  00000c289a1829a808ac09c00daf10bc3c4e223b                elvenking   717\n",
       "4  00000c289a1829a808ac09c00daf10bc3c4e223b     juliette & the licks   706\n",
       "5  00000c289a1829a808ac09c00daf10bc3c4e223b    red hot chili peppers   691\n",
       "6  00000c289a1829a808ac09c00daf10bc3c4e223b                   magica   545\n",
       "7  00000c289a1829a808ac09c00daf10bc3c4e223b  the black dahlia murder   507\n",
       "8  00000c289a1829a808ac09c00daf10bc3c4e223b              the murmurs   424\n",
       "9  00000c289a1829a808ac09c00daf10bc3c4e223b               lunachicks   403"
      ]
     },
     "execution_count": 2,
     "metadata": {},
     "output_type": "execute_result"
    }
   ],
   "source": [
    "# 사용하는 컬럼만 남겨줍니다.\n",
    "using_cols = ['user_id', 'artist', 'play']\n",
    "data = data[using_cols]\n",
    "data.head(10)"
   ]
  },
  {
   "cell_type": "code",
   "execution_count": 3,
   "id": "separated-academy",
   "metadata": {},
   "outputs": [
    {
     "data": {
      "text/html": [
       "<div>\n",
       "<style scoped>\n",
       "    .dataframe tbody tr th:only-of-type {\n",
       "        vertical-align: middle;\n",
       "    }\n",
       "\n",
       "    .dataframe tbody tr th {\n",
       "        vertical-align: top;\n",
       "    }\n",
       "\n",
       "    .dataframe thead th {\n",
       "        text-align: right;\n",
       "    }\n",
       "</style>\n",
       "<table border=\"1\" class=\"dataframe\">\n",
       "  <thead>\n",
       "    <tr style=\"text-align: right;\">\n",
       "      <th></th>\n",
       "      <th>user_id</th>\n",
       "      <th>artist</th>\n",
       "      <th>play</th>\n",
       "    </tr>\n",
       "  </thead>\n",
       "  <tbody>\n",
       "    <tr>\n",
       "      <th>0</th>\n",
       "      <td>00000c289a1829a808ac09c00daf10bc3c4e223b</td>\n",
       "      <td>betty blowtorch</td>\n",
       "      <td>2137</td>\n",
       "    </tr>\n",
       "    <tr>\n",
       "      <th>1</th>\n",
       "      <td>00000c289a1829a808ac09c00daf10bc3c4e223b</td>\n",
       "      <td>die ärzte</td>\n",
       "      <td>1099</td>\n",
       "    </tr>\n",
       "    <tr>\n",
       "      <th>2</th>\n",
       "      <td>00000c289a1829a808ac09c00daf10bc3c4e223b</td>\n",
       "      <td>melissa etheridge</td>\n",
       "      <td>897</td>\n",
       "    </tr>\n",
       "    <tr>\n",
       "      <th>3</th>\n",
       "      <td>00000c289a1829a808ac09c00daf10bc3c4e223b</td>\n",
       "      <td>elvenking</td>\n",
       "      <td>717</td>\n",
       "    </tr>\n",
       "    <tr>\n",
       "      <th>4</th>\n",
       "      <td>00000c289a1829a808ac09c00daf10bc3c4e223b</td>\n",
       "      <td>juliette &amp; the licks</td>\n",
       "      <td>706</td>\n",
       "    </tr>\n",
       "    <tr>\n",
       "      <th>5</th>\n",
       "      <td>00000c289a1829a808ac09c00daf10bc3c4e223b</td>\n",
       "      <td>red hot chili peppers</td>\n",
       "      <td>691</td>\n",
       "    </tr>\n",
       "    <tr>\n",
       "      <th>6</th>\n",
       "      <td>00000c289a1829a808ac09c00daf10bc3c4e223b</td>\n",
       "      <td>magica</td>\n",
       "      <td>545</td>\n",
       "    </tr>\n",
       "    <tr>\n",
       "      <th>7</th>\n",
       "      <td>00000c289a1829a808ac09c00daf10bc3c4e223b</td>\n",
       "      <td>the black dahlia murder</td>\n",
       "      <td>507</td>\n",
       "    </tr>\n",
       "    <tr>\n",
       "      <th>8</th>\n",
       "      <td>00000c289a1829a808ac09c00daf10bc3c4e223b</td>\n",
       "      <td>the murmurs</td>\n",
       "      <td>424</td>\n",
       "    </tr>\n",
       "    <tr>\n",
       "      <th>9</th>\n",
       "      <td>00000c289a1829a808ac09c00daf10bc3c4e223b</td>\n",
       "      <td>lunachicks</td>\n",
       "      <td>403</td>\n",
       "    </tr>\n",
       "  </tbody>\n",
       "</table>\n",
       "</div>"
      ],
      "text/plain": [
       "                                    user_id                   artist  play\n",
       "0  00000c289a1829a808ac09c00daf10bc3c4e223b          betty blowtorch  2137\n",
       "1  00000c289a1829a808ac09c00daf10bc3c4e223b                die ärzte  1099\n",
       "2  00000c289a1829a808ac09c00daf10bc3c4e223b        melissa etheridge   897\n",
       "3  00000c289a1829a808ac09c00daf10bc3c4e223b                elvenking   717\n",
       "4  00000c289a1829a808ac09c00daf10bc3c4e223b     juliette & the licks   706\n",
       "5  00000c289a1829a808ac09c00daf10bc3c4e223b    red hot chili peppers   691\n",
       "6  00000c289a1829a808ac09c00daf10bc3c4e223b                   magica   545\n",
       "7  00000c289a1829a808ac09c00daf10bc3c4e223b  the black dahlia murder   507\n",
       "8  00000c289a1829a808ac09c00daf10bc3c4e223b              the murmurs   424\n",
       "9  00000c289a1829a808ac09c00daf10bc3c4e223b               lunachicks   403"
      ]
     },
     "execution_count": 3,
     "metadata": {},
     "output_type": "execute_result"
    }
   ],
   "source": [
    "# 검색을 쉽게하기 위해 아티스트 문자열을 소문자로 바꿔줍시다.\n",
    "data['artist'] = data['artist'].str.lower()\n",
    "data.head(10)"
   ]
  },
  {
   "cell_type": "code",
   "execution_count": 4,
   "id": "muslim-kelly",
   "metadata": {},
   "outputs": [
    {
     "data": {
      "text/html": [
       "<div>\n",
       "<style scoped>\n",
       "    .dataframe tbody tr th:only-of-type {\n",
       "        vertical-align: middle;\n",
       "    }\n",
       "\n",
       "    .dataframe tbody tr th {\n",
       "        vertical-align: top;\n",
       "    }\n",
       "\n",
       "    .dataframe thead th {\n",
       "        text-align: right;\n",
       "    }\n",
       "</style>\n",
       "<table border=\"1\" class=\"dataframe\">\n",
       "  <thead>\n",
       "    <tr style=\"text-align: right;\">\n",
       "      <th></th>\n",
       "      <th>user_id</th>\n",
       "      <th>artist</th>\n",
       "      <th>play</th>\n",
       "    </tr>\n",
       "  </thead>\n",
       "  <tbody>\n",
       "    <tr>\n",
       "      <th>0</th>\n",
       "      <td>00000c289a1829a808ac09c00daf10bc3c4e223b</td>\n",
       "      <td>betty blowtorch</td>\n",
       "      <td>2137</td>\n",
       "    </tr>\n",
       "    <tr>\n",
       "      <th>1</th>\n",
       "      <td>00000c289a1829a808ac09c00daf10bc3c4e223b</td>\n",
       "      <td>die ärzte</td>\n",
       "      <td>1099</td>\n",
       "    </tr>\n",
       "    <tr>\n",
       "      <th>2</th>\n",
       "      <td>00000c289a1829a808ac09c00daf10bc3c4e223b</td>\n",
       "      <td>melissa etheridge</td>\n",
       "      <td>897</td>\n",
       "    </tr>\n",
       "    <tr>\n",
       "      <th>3</th>\n",
       "      <td>00000c289a1829a808ac09c00daf10bc3c4e223b</td>\n",
       "      <td>elvenking</td>\n",
       "      <td>717</td>\n",
       "    </tr>\n",
       "    <tr>\n",
       "      <th>4</th>\n",
       "      <td>00000c289a1829a808ac09c00daf10bc3c4e223b</td>\n",
       "      <td>juliette &amp; the licks</td>\n",
       "      <td>706</td>\n",
       "    </tr>\n",
       "    <tr>\n",
       "      <th>5</th>\n",
       "      <td>00000c289a1829a808ac09c00daf10bc3c4e223b</td>\n",
       "      <td>red hot chili peppers</td>\n",
       "      <td>691</td>\n",
       "    </tr>\n",
       "    <tr>\n",
       "      <th>6</th>\n",
       "      <td>00000c289a1829a808ac09c00daf10bc3c4e223b</td>\n",
       "      <td>magica</td>\n",
       "      <td>545</td>\n",
       "    </tr>\n",
       "    <tr>\n",
       "      <th>7</th>\n",
       "      <td>00000c289a1829a808ac09c00daf10bc3c4e223b</td>\n",
       "      <td>the black dahlia murder</td>\n",
       "      <td>507</td>\n",
       "    </tr>\n",
       "    <tr>\n",
       "      <th>8</th>\n",
       "      <td>00000c289a1829a808ac09c00daf10bc3c4e223b</td>\n",
       "      <td>the murmurs</td>\n",
       "      <td>424</td>\n",
       "    </tr>\n",
       "    <tr>\n",
       "      <th>9</th>\n",
       "      <td>00000c289a1829a808ac09c00daf10bc3c4e223b</td>\n",
       "      <td>lunachicks</td>\n",
       "      <td>403</td>\n",
       "    </tr>\n",
       "    <tr>\n",
       "      <th>10</th>\n",
       "      <td>00000c289a1829a808ac09c00daf10bc3c4e223b</td>\n",
       "      <td>walls of jericho</td>\n",
       "      <td>393</td>\n",
       "    </tr>\n",
       "    <tr>\n",
       "      <th>11</th>\n",
       "      <td>00000c289a1829a808ac09c00daf10bc3c4e223b</td>\n",
       "      <td>letzte instanz</td>\n",
       "      <td>387</td>\n",
       "    </tr>\n",
       "    <tr>\n",
       "      <th>12</th>\n",
       "      <td>00000c289a1829a808ac09c00daf10bc3c4e223b</td>\n",
       "      <td>goldfrapp</td>\n",
       "      <td>361</td>\n",
       "    </tr>\n",
       "    <tr>\n",
       "      <th>13</th>\n",
       "      <td>00000c289a1829a808ac09c00daf10bc3c4e223b</td>\n",
       "      <td>horrorpops</td>\n",
       "      <td>358</td>\n",
       "    </tr>\n",
       "    <tr>\n",
       "      <th>14</th>\n",
       "      <td>00000c289a1829a808ac09c00daf10bc3c4e223b</td>\n",
       "      <td>the butchies</td>\n",
       "      <td>329</td>\n",
       "    </tr>\n",
       "    <tr>\n",
       "      <th>15</th>\n",
       "      <td>00000c289a1829a808ac09c00daf10bc3c4e223b</td>\n",
       "      <td>jack off jill</td>\n",
       "      <td>316</td>\n",
       "    </tr>\n",
       "    <tr>\n",
       "      <th>16</th>\n",
       "      <td>00000c289a1829a808ac09c00daf10bc3c4e223b</td>\n",
       "      <td>babes in toyland</td>\n",
       "      <td>310</td>\n",
       "    </tr>\n",
       "    <tr>\n",
       "      <th>17</th>\n",
       "      <td>00000c289a1829a808ac09c00daf10bc3c4e223b</td>\n",
       "      <td>dropkick murphys</td>\n",
       "      <td>302</td>\n",
       "    </tr>\n",
       "    <tr>\n",
       "      <th>18</th>\n",
       "      <td>00000c289a1829a808ac09c00daf10bc3c4e223b</td>\n",
       "      <td>all:my:faults</td>\n",
       "      <td>288</td>\n",
       "    </tr>\n",
       "    <tr>\n",
       "      <th>19</th>\n",
       "      <td>00000c289a1829a808ac09c00daf10bc3c4e223b</td>\n",
       "      <td>le tigre</td>\n",
       "      <td>281</td>\n",
       "    </tr>\n",
       "    <tr>\n",
       "      <th>20</th>\n",
       "      <td>00000c289a1829a808ac09c00daf10bc3c4e223b</td>\n",
       "      <td>schandmaul</td>\n",
       "      <td>244</td>\n",
       "    </tr>\n",
       "    <tr>\n",
       "      <th>21</th>\n",
       "      <td>00000c289a1829a808ac09c00daf10bc3c4e223b</td>\n",
       "      <td>edguy</td>\n",
       "      <td>232</td>\n",
       "    </tr>\n",
       "    <tr>\n",
       "      <th>22</th>\n",
       "      <td>00000c289a1829a808ac09c00daf10bc3c4e223b</td>\n",
       "      <td>maximum the hormone</td>\n",
       "      <td>231</td>\n",
       "    </tr>\n",
       "    <tr>\n",
       "      <th>23</th>\n",
       "      <td>00000c289a1829a808ac09c00daf10bc3c4e223b</td>\n",
       "      <td>all ends</td>\n",
       "      <td>229</td>\n",
       "    </tr>\n",
       "    <tr>\n",
       "      <th>24</th>\n",
       "      <td>00000c289a1829a808ac09c00daf10bc3c4e223b</td>\n",
       "      <td>jack johnson</td>\n",
       "      <td>227</td>\n",
       "    </tr>\n",
       "    <tr>\n",
       "      <th>25</th>\n",
       "      <td>00000c289a1829a808ac09c00daf10bc3c4e223b</td>\n",
       "      <td>eluveitie</td>\n",
       "      <td>222</td>\n",
       "    </tr>\n",
       "    <tr>\n",
       "      <th>26</th>\n",
       "      <td>00000c289a1829a808ac09c00daf10bc3c4e223b</td>\n",
       "      <td>rasputina</td>\n",
       "      <td>220</td>\n",
       "    </tr>\n",
       "    <tr>\n",
       "      <th>27</th>\n",
       "      <td>00000c289a1829a808ac09c00daf10bc3c4e223b</td>\n",
       "      <td>london after midnight</td>\n",
       "      <td>210</td>\n",
       "    </tr>\n",
       "    <tr>\n",
       "      <th>28</th>\n",
       "      <td>00000c289a1829a808ac09c00daf10bc3c4e223b</td>\n",
       "      <td>the killers</td>\n",
       "      <td>208</td>\n",
       "    </tr>\n",
       "    <tr>\n",
       "      <th>29</th>\n",
       "      <td>00000c289a1829a808ac09c00daf10bc3c4e223b</td>\n",
       "      <td>mutyumu</td>\n",
       "      <td>205</td>\n",
       "    </tr>\n",
       "    <tr>\n",
       "      <th>30</th>\n",
       "      <td>00000c289a1829a808ac09c00daf10bc3c4e223b</td>\n",
       "      <td>judas priest</td>\n",
       "      <td>198</td>\n",
       "    </tr>\n",
       "    <tr>\n",
       "      <th>31</th>\n",
       "      <td>00000c289a1829a808ac09c00daf10bc3c4e223b</td>\n",
       "      <td>rob zombie</td>\n",
       "      <td>198</td>\n",
       "    </tr>\n",
       "    <tr>\n",
       "      <th>32</th>\n",
       "      <td>00000c289a1829a808ac09c00daf10bc3c4e223b</td>\n",
       "      <td>the bosshoss</td>\n",
       "      <td>189</td>\n",
       "    </tr>\n",
       "    <tr>\n",
       "      <th>33</th>\n",
       "      <td>00000c289a1829a808ac09c00daf10bc3c4e223b</td>\n",
       "      <td>blue öyster cult</td>\n",
       "      <td>185</td>\n",
       "    </tr>\n",
       "    <tr>\n",
       "      <th>34</th>\n",
       "      <td>00000c289a1829a808ac09c00daf10bc3c4e223b</td>\n",
       "      <td>sandra nasic</td>\n",
       "      <td>183</td>\n",
       "    </tr>\n",
       "    <tr>\n",
       "      <th>35</th>\n",
       "      <td>00000c289a1829a808ac09c00daf10bc3c4e223b</td>\n",
       "      <td>john mayer</td>\n",
       "      <td>182</td>\n",
       "    </tr>\n",
       "    <tr>\n",
       "      <th>36</th>\n",
       "      <td>00000c289a1829a808ac09c00daf10bc3c4e223b</td>\n",
       "      <td>sleater-kinney</td>\n",
       "      <td>175</td>\n",
       "    </tr>\n",
       "    <tr>\n",
       "      <th>37</th>\n",
       "      <td>00000c289a1829a808ac09c00daf10bc3c4e223b</td>\n",
       "      <td>the who</td>\n",
       "      <td>168</td>\n",
       "    </tr>\n",
       "    <tr>\n",
       "      <th>38</th>\n",
       "      <td>00000c289a1829a808ac09c00daf10bc3c4e223b</td>\n",
       "      <td>disciple</td>\n",
       "      <td>154</td>\n",
       "    </tr>\n",
       "    <tr>\n",
       "      <th>39</th>\n",
       "      <td>00000c289a1829a808ac09c00daf10bc3c4e223b</td>\n",
       "      <td>tanzwut</td>\n",
       "      <td>153</td>\n",
       "    </tr>\n",
       "    <tr>\n",
       "      <th>40</th>\n",
       "      <td>00000c289a1829a808ac09c00daf10bc3c4e223b</td>\n",
       "      <td>guano apes</td>\n",
       "      <td>151</td>\n",
       "    </tr>\n",
       "    <tr>\n",
       "      <th>41</th>\n",
       "      <td>00000c289a1829a808ac09c00daf10bc3c4e223b</td>\n",
       "      <td>the rolling stones</td>\n",
       "      <td>150</td>\n",
       "    </tr>\n",
       "    <tr>\n",
       "      <th>42</th>\n",
       "      <td>00000c289a1829a808ac09c00daf10bc3c4e223b</td>\n",
       "      <td>little big town</td>\n",
       "      <td>145</td>\n",
       "    </tr>\n",
       "    <tr>\n",
       "      <th>43</th>\n",
       "      <td>00000c289a1829a808ac09c00daf10bc3c4e223b</td>\n",
       "      <td>team dresch</td>\n",
       "      <td>137</td>\n",
       "    </tr>\n",
       "    <tr>\n",
       "      <th>44</th>\n",
       "      <td>00000c289a1829a808ac09c00daf10bc3c4e223b</td>\n",
       "      <td>betty</td>\n",
       "      <td>135</td>\n",
       "    </tr>\n",
       "    <tr>\n",
       "      <th>45</th>\n",
       "      <td>00000c289a1829a808ac09c00daf10bc3c4e223b</td>\n",
       "      <td>l7</td>\n",
       "      <td>135</td>\n",
       "    </tr>\n",
       "    <tr>\n",
       "      <th>46</th>\n",
       "      <td>00000c289a1829a808ac09c00daf10bc3c4e223b</td>\n",
       "      <td>bif naked</td>\n",
       "      <td>134</td>\n",
       "    </tr>\n",
       "    <tr>\n",
       "      <th>47</th>\n",
       "      <td>00000c289a1829a808ac09c00daf10bc3c4e223b</td>\n",
       "      <td>girlschool</td>\n",
       "      <td>134</td>\n",
       "    </tr>\n",
       "    <tr>\n",
       "      <th>48</th>\n",
       "      <td>00000c289a1829a808ac09c00daf10bc3c4e223b</td>\n",
       "      <td>the wallflowers</td>\n",
       "      <td>131</td>\n",
       "    </tr>\n",
       "  </tbody>\n",
       "</table>\n",
       "</div>"
      ],
      "text/plain": [
       "                                     user_id                   artist  play\n",
       "0   00000c289a1829a808ac09c00daf10bc3c4e223b          betty blowtorch  2137\n",
       "1   00000c289a1829a808ac09c00daf10bc3c4e223b                die ärzte  1099\n",
       "2   00000c289a1829a808ac09c00daf10bc3c4e223b        melissa etheridge   897\n",
       "3   00000c289a1829a808ac09c00daf10bc3c4e223b                elvenking   717\n",
       "4   00000c289a1829a808ac09c00daf10bc3c4e223b     juliette & the licks   706\n",
       "5   00000c289a1829a808ac09c00daf10bc3c4e223b    red hot chili peppers   691\n",
       "6   00000c289a1829a808ac09c00daf10bc3c4e223b                   magica   545\n",
       "7   00000c289a1829a808ac09c00daf10bc3c4e223b  the black dahlia murder   507\n",
       "8   00000c289a1829a808ac09c00daf10bc3c4e223b              the murmurs   424\n",
       "9   00000c289a1829a808ac09c00daf10bc3c4e223b               lunachicks   403\n",
       "10  00000c289a1829a808ac09c00daf10bc3c4e223b         walls of jericho   393\n",
       "11  00000c289a1829a808ac09c00daf10bc3c4e223b           letzte instanz   387\n",
       "12  00000c289a1829a808ac09c00daf10bc3c4e223b                goldfrapp   361\n",
       "13  00000c289a1829a808ac09c00daf10bc3c4e223b               horrorpops   358\n",
       "14  00000c289a1829a808ac09c00daf10bc3c4e223b             the butchies   329\n",
       "15  00000c289a1829a808ac09c00daf10bc3c4e223b            jack off jill   316\n",
       "16  00000c289a1829a808ac09c00daf10bc3c4e223b         babes in toyland   310\n",
       "17  00000c289a1829a808ac09c00daf10bc3c4e223b         dropkick murphys   302\n",
       "18  00000c289a1829a808ac09c00daf10bc3c4e223b            all:my:faults   288\n",
       "19  00000c289a1829a808ac09c00daf10bc3c4e223b                 le tigre   281\n",
       "20  00000c289a1829a808ac09c00daf10bc3c4e223b               schandmaul   244\n",
       "21  00000c289a1829a808ac09c00daf10bc3c4e223b                    edguy   232\n",
       "22  00000c289a1829a808ac09c00daf10bc3c4e223b      maximum the hormone   231\n",
       "23  00000c289a1829a808ac09c00daf10bc3c4e223b                 all ends   229\n",
       "24  00000c289a1829a808ac09c00daf10bc3c4e223b             jack johnson   227\n",
       "25  00000c289a1829a808ac09c00daf10bc3c4e223b                eluveitie   222\n",
       "26  00000c289a1829a808ac09c00daf10bc3c4e223b                rasputina   220\n",
       "27  00000c289a1829a808ac09c00daf10bc3c4e223b    london after midnight   210\n",
       "28  00000c289a1829a808ac09c00daf10bc3c4e223b              the killers   208\n",
       "29  00000c289a1829a808ac09c00daf10bc3c4e223b                  mutyumu   205\n",
       "30  00000c289a1829a808ac09c00daf10bc3c4e223b             judas priest   198\n",
       "31  00000c289a1829a808ac09c00daf10bc3c4e223b               rob zombie   198\n",
       "32  00000c289a1829a808ac09c00daf10bc3c4e223b             the bosshoss   189\n",
       "33  00000c289a1829a808ac09c00daf10bc3c4e223b         blue öyster cult   185\n",
       "34  00000c289a1829a808ac09c00daf10bc3c4e223b             sandra nasic   183\n",
       "35  00000c289a1829a808ac09c00daf10bc3c4e223b               john mayer   182\n",
       "36  00000c289a1829a808ac09c00daf10bc3c4e223b           sleater-kinney   175\n",
       "37  00000c289a1829a808ac09c00daf10bc3c4e223b                  the who   168\n",
       "38  00000c289a1829a808ac09c00daf10bc3c4e223b                 disciple   154\n",
       "39  00000c289a1829a808ac09c00daf10bc3c4e223b                  tanzwut   153\n",
       "40  00000c289a1829a808ac09c00daf10bc3c4e223b               guano apes   151\n",
       "41  00000c289a1829a808ac09c00daf10bc3c4e223b       the rolling stones   150\n",
       "42  00000c289a1829a808ac09c00daf10bc3c4e223b          little big town   145\n",
       "43  00000c289a1829a808ac09c00daf10bc3c4e223b              team dresch   137\n",
       "44  00000c289a1829a808ac09c00daf10bc3c4e223b                    betty   135\n",
       "45  00000c289a1829a808ac09c00daf10bc3c4e223b                       l7   135\n",
       "46  00000c289a1829a808ac09c00daf10bc3c4e223b                bif naked   134\n",
       "47  00000c289a1829a808ac09c00daf10bc3c4e223b               girlschool   134\n",
       "48  00000c289a1829a808ac09c00daf10bc3c4e223b          the wallflowers   131"
      ]
     },
     "execution_count": 4,
     "metadata": {},
     "output_type": "execute_result"
    }
   ],
   "source": [
    "# 첫 번째 유저가 어떤 아티스트의 노래를 듣는지 확인\n",
    "condition = (data['user_id']== data.loc[0, 'user_id'])\n",
    "data.loc[condition]"
   ]
  },
  {
   "cell_type": "markdown",
   "id": "chief-peeing",
   "metadata": {},
   "source": [
    "### 데이터 탐색\n",
    "- 유저수, 아티스트수, 인기 많은 아티스트\n",
    "- 유저들이 몇 명의 아티스트를 듣고 있는지에 대한 통계\n",
    "- 유저 play 횟수 중앙값에 대한 통계"
   ]
  },
  {
   "cell_type": "code",
   "execution_count": 5,
   "id": "close-modification",
   "metadata": {},
   "outputs": [
    {
     "data": {
      "text/plain": [
       "358868"
      ]
     },
     "execution_count": 5,
     "metadata": {},
     "output_type": "execute_result"
    }
   ],
   "source": [
    "# 유저 수\n",
    "data['user_id'].nunique()"
   ]
  },
  {
   "cell_type": "code",
   "execution_count": 6,
   "id": "peripheral-support",
   "metadata": {},
   "outputs": [
    {
     "data": {
      "text/plain": [
       "291346"
      ]
     },
     "execution_count": 6,
     "metadata": {},
     "output_type": "execute_result"
    }
   ],
   "source": [
    "# 아티스트 수\n",
    "data['artist'].nunique()"
   ]
  },
  {
   "cell_type": "code",
   "execution_count": 7,
   "id": "tender-cowboy",
   "metadata": {},
   "outputs": [
    {
     "data": {
      "text/plain": [
       "artist\n",
       "radiohead                77254\n",
       "the beatles              76245\n",
       "coldplay                 66658\n",
       "red hot chili peppers    48924\n",
       "muse                     46954\n",
       "metallica                45233\n",
       "pink floyd               44443\n",
       "the killers              41229\n",
       "linkin park              39773\n",
       "nirvana                  39479\n",
       "system of a down         37267\n",
       "queen                    34174\n",
       "u2                       33206\n",
       "daft punk                33001\n",
       "the cure                 32624\n",
       "led zeppelin             32295\n",
       "placebo                  32072\n",
       "depeche mode             31916\n",
       "david bowie              31862\n",
       "bob dylan                31799\n",
       "death cab for cutie      31482\n",
       "arctic monkeys           30348\n",
       "foo fighters             30144\n",
       "air                      29795\n",
       "the rolling stones       29754\n",
       "nine inch nails          28946\n",
       "sigur rós                28901\n",
       "green day                28732\n",
       "massive attack           28691\n",
       "moby                     28232\n",
       "Name: user_id, dtype: int64"
      ]
     },
     "execution_count": 7,
     "metadata": {},
     "output_type": "execute_result"
    }
   ],
   "source": [
    "# 인기 많은 아티스트\n",
    "artist_count = data.groupby('artist')['user_id'].count()\n",
    "artist_count.sort_values(ascending=False).head(30)"
   ]
  },
  {
   "cell_type": "code",
   "execution_count": 8,
   "id": "productive-priority",
   "metadata": {},
   "outputs": [
    {
     "data": {
      "text/plain": [
       "count    358868.000000\n",
       "mean         48.863234\n",
       "std           8.524272\n",
       "min           1.000000\n",
       "25%          46.000000\n",
       "50%          49.000000\n",
       "75%          51.000000\n",
       "max         166.000000\n",
       "Name: artist, dtype: float64"
      ]
     },
     "execution_count": 8,
     "metadata": {},
     "output_type": "execute_result"
    }
   ],
   "source": [
    "# 유저별 몇 명의 아티스트를 듣고 있는지에 대한 통계\n",
    "user_count = data.groupby('user_id')['artist'].count()\n",
    "user_count.describe()"
   ]
  },
  {
   "cell_type": "code",
   "execution_count": 9,
   "id": "settled-flash",
   "metadata": {},
   "outputs": [
    {
     "data": {
      "text/plain": [
       "count    358868.000000\n",
       "mean        142.187676\n",
       "std         213.089902\n",
       "min           1.000000\n",
       "25%          32.000000\n",
       "50%          83.000000\n",
       "75%         180.000000\n",
       "max       50142.000000\n",
       "Name: play, dtype: float64"
      ]
     },
     "execution_count": 9,
     "metadata": {},
     "output_type": "execute_result"
    }
   ],
   "source": [
    "# 유저별 play횟수 중앙값에 대한 통계\n",
    "user_median = data.groupby('user_id')['play'].median()\n",
    "user_median.describe()"
   ]
  },
  {
   "cell_type": "markdown",
   "id": "overall-ireland",
   "metadata": {},
   "source": [
    "### 모델 검증을 위한 사용자 초기 정보 세팅\n",
    "유튜브 뮤직처럼 처음 입력하는 아티스트 정보 5개 이상 입력받는 과정"
   ]
  },
  {
   "cell_type": "code",
   "execution_count": 10,
   "id": "imported-causing",
   "metadata": {},
   "outputs": [
    {
     "data": {
      "text/html": [
       "<div>\n",
       "<style scoped>\n",
       "    .dataframe tbody tr th:only-of-type {\n",
       "        vertical-align: middle;\n",
       "    }\n",
       "\n",
       "    .dataframe tbody tr th {\n",
       "        vertical-align: top;\n",
       "    }\n",
       "\n",
       "    .dataframe thead th {\n",
       "        text-align: right;\n",
       "    }\n",
       "</style>\n",
       "<table border=\"1\" class=\"dataframe\">\n",
       "  <thead>\n",
       "    <tr style=\"text-align: right;\">\n",
       "      <th></th>\n",
       "      <th>user_id</th>\n",
       "      <th>artist</th>\n",
       "      <th>play</th>\n",
       "    </tr>\n",
       "  </thead>\n",
       "  <tbody>\n",
       "    <tr>\n",
       "      <th>17535650</th>\n",
       "      <td>sep 20, 2008</td>\n",
       "      <td>turbostaat</td>\n",
       "      <td>12</td>\n",
       "    </tr>\n",
       "    <tr>\n",
       "      <th>17535651</th>\n",
       "      <td>sep 20, 2008</td>\n",
       "      <td>cuba missouri</td>\n",
       "      <td>11</td>\n",
       "    </tr>\n",
       "    <tr>\n",
       "      <th>17535652</th>\n",
       "      <td>sep 20, 2008</td>\n",
       "      <td>little man tate</td>\n",
       "      <td>11</td>\n",
       "    </tr>\n",
       "    <tr>\n",
       "      <th>17535653</th>\n",
       "      <td>sep 20, 2008</td>\n",
       "      <td>sigur rós</td>\n",
       "      <td>10</td>\n",
       "    </tr>\n",
       "    <tr>\n",
       "      <th>17535654</th>\n",
       "      <td>sep 20, 2008</td>\n",
       "      <td>the smiths</td>\n",
       "      <td>10</td>\n",
       "    </tr>\n",
       "    <tr>\n",
       "      <th>0</th>\n",
       "      <td>hoseong</td>\n",
       "      <td>ed sheeran</td>\n",
       "      <td>30</td>\n",
       "    </tr>\n",
       "    <tr>\n",
       "      <th>1</th>\n",
       "      <td>hoseong</td>\n",
       "      <td>maroon5</td>\n",
       "      <td>30</td>\n",
       "    </tr>\n",
       "    <tr>\n",
       "      <th>2</th>\n",
       "      <td>hoseong</td>\n",
       "      <td>jason mraz</td>\n",
       "      <td>30</td>\n",
       "    </tr>\n",
       "    <tr>\n",
       "      <th>3</th>\n",
       "      <td>hoseong</td>\n",
       "      <td>coldplay</td>\n",
       "      <td>30</td>\n",
       "    </tr>\n",
       "    <tr>\n",
       "      <th>4</th>\n",
       "      <td>hoseong</td>\n",
       "      <td>justin bieber</td>\n",
       "      <td>30</td>\n",
       "    </tr>\n",
       "  </tbody>\n",
       "</table>\n",
       "</div>"
      ],
      "text/plain": [
       "               user_id           artist  play\n",
       "17535650  sep 20, 2008       turbostaat    12\n",
       "17535651  sep 20, 2008    cuba missouri    11\n",
       "17535652  sep 20, 2008  little man tate    11\n",
       "17535653  sep 20, 2008        sigur rós    10\n",
       "17535654  sep 20, 2008       the smiths    10\n",
       "0              hoseong       ed sheeran    30\n",
       "1              hoseong          maroon5    30\n",
       "2              hoseong       jason mraz    30\n",
       "3              hoseong         coldplay    30\n",
       "4              hoseong    justin bieber    30"
      ]
     },
     "execution_count": 10,
     "metadata": {},
     "output_type": "execute_result"
    }
   ],
   "source": [
    "# 본인이 좋아하는 아티스트 데이터\n",
    "my_favorite = ['ed sheeran' , 'maroon5' ,'jason mraz' ,'coldplay' ,'justin bieber']\n",
    "\n",
    "# 'zimin'이라는 user_id가 위 아티스트의 노래를 30회씩 들었다고 가정하겠습니다.\n",
    "my_playlist = pd.DataFrame({'user_id': ['hoseong']*5, 'artist': my_favorite, 'play':[30]*5})\n",
    "\n",
    "if not data.isin({'user_id':['hoseong']})['user_id'].any():  # user_id에 'hoseong'이라는 데이터가 없다면\n",
    "    data = data.append(my_playlist)                           # 위에 임의로 만든 my_favorite 데이터를 추가해 줍니다. \n",
    "\n",
    "data.tail(10)       # 잘 추가되었는지 확인해 봅시다."
   ]
  },
  {
   "cell_type": "markdown",
   "id": "blessed-lease",
   "metadata": {},
   "source": [
    "### 전처리\n",
    "관리하기 쉽게 user와 artist 각각에 indexing 해줍니다.  \n",
    "이런 작업은 추천시스템, 자연어처리에서 자주 하는 작업들입니다. "
   ]
  },
  {
   "cell_type": "code",
   "execution_count": 11,
   "id": "portable-sword",
   "metadata": {},
   "outputs": [],
   "source": [
    "# 고유한 유저, 아티스트를 찾아내는 코드\n",
    "user_unique = data['user_id'].unique()\n",
    "artist_unique = data['artist'].unique()\n",
    "\n",
    "# 유저, 아티스트 indexing 하는 코드 idx는 index의 약자입니다.\n",
    "user_to_idx = {v:k for k,v in enumerate(user_unique)}\n",
    "artist_to_idx = {v:k for k,v in enumerate(artist_unique)}"
   ]
  },
  {
   "cell_type": "code",
   "execution_count": 12,
   "id": "cross-helen",
   "metadata": {},
   "outputs": [
    {
     "name": "stdout",
     "output_type": "stream",
     "text": [
      "358868\n",
      "157993\n"
     ]
    }
   ],
   "source": [
    "# 인덱싱이 잘 되었는지 확인해 봅니다. \n",
    "print(user_to_idx['hoseong'])    # 358869명의 유저 중 마지막으로 추가된 유저이니 358868이 나와야 합니다. \n",
    "print(artist_to_idx['ed sheeran'])\n"
   ]
  },
  {
   "cell_type": "code",
   "execution_count": 13,
   "id": "detected-wellington",
   "metadata": {},
   "outputs": [
    {
     "name": "stdout",
     "output_type": "stream",
     "text": [
      "user_id column indexing OK!!\n",
      "artist column indexing OK!!\n"
     ]
    },
    {
     "data": {
      "text/html": [
       "<div>\n",
       "<style scoped>\n",
       "    .dataframe tbody tr th:only-of-type {\n",
       "        vertical-align: middle;\n",
       "    }\n",
       "\n",
       "    .dataframe tbody tr th {\n",
       "        vertical-align: top;\n",
       "    }\n",
       "\n",
       "    .dataframe thead th {\n",
       "        text-align: right;\n",
       "    }\n",
       "</style>\n",
       "<table border=\"1\" class=\"dataframe\">\n",
       "  <thead>\n",
       "    <tr style=\"text-align: right;\">\n",
       "      <th></th>\n",
       "      <th>user_id</th>\n",
       "      <th>artist</th>\n",
       "      <th>play</th>\n",
       "    </tr>\n",
       "  </thead>\n",
       "  <tbody>\n",
       "    <tr>\n",
       "      <th>0</th>\n",
       "      <td>0</td>\n",
       "      <td>0</td>\n",
       "      <td>2137</td>\n",
       "    </tr>\n",
       "    <tr>\n",
       "      <th>1</th>\n",
       "      <td>0</td>\n",
       "      <td>1</td>\n",
       "      <td>1099</td>\n",
       "    </tr>\n",
       "    <tr>\n",
       "      <th>2</th>\n",
       "      <td>0</td>\n",
       "      <td>2</td>\n",
       "      <td>897</td>\n",
       "    </tr>\n",
       "    <tr>\n",
       "      <th>3</th>\n",
       "      <td>0</td>\n",
       "      <td>3</td>\n",
       "      <td>717</td>\n",
       "    </tr>\n",
       "    <tr>\n",
       "      <th>4</th>\n",
       "      <td>0</td>\n",
       "      <td>4</td>\n",
       "      <td>706</td>\n",
       "    </tr>\n",
       "    <tr>\n",
       "      <th>...</th>\n",
       "      <td>...</td>\n",
       "      <td>...</td>\n",
       "      <td>...</td>\n",
       "    </tr>\n",
       "    <tr>\n",
       "      <th>0</th>\n",
       "      <td>358868</td>\n",
       "      <td>157993</td>\n",
       "      <td>30</td>\n",
       "    </tr>\n",
       "    <tr>\n",
       "      <th>1</th>\n",
       "      <td>358868</td>\n",
       "      <td>270115</td>\n",
       "      <td>30</td>\n",
       "    </tr>\n",
       "    <tr>\n",
       "      <th>2</th>\n",
       "      <td>358868</td>\n",
       "      <td>3746</td>\n",
       "      <td>30</td>\n",
       "    </tr>\n",
       "    <tr>\n",
       "      <th>3</th>\n",
       "      <td>358868</td>\n",
       "      <td>62</td>\n",
       "      <td>30</td>\n",
       "    </tr>\n",
       "    <tr>\n",
       "      <th>4</th>\n",
       "      <td>358868</td>\n",
       "      <td>116392</td>\n",
       "      <td>30</td>\n",
       "    </tr>\n",
       "  </tbody>\n",
       "</table>\n",
       "<p>17535660 rows × 3 columns</p>\n",
       "</div>"
      ],
      "text/plain": [
       "    user_id  artist  play\n",
       "0         0       0  2137\n",
       "1         0       1  1099\n",
       "2         0       2   897\n",
       "3         0       3   717\n",
       "4         0       4   706\n",
       "..      ...     ...   ...\n",
       "0    358868  157993    30\n",
       "1    358868  270115    30\n",
       "2    358868    3746    30\n",
       "3    358868      62    30\n",
       "4    358868  116392    30\n",
       "\n",
       "[17535660 rows x 3 columns]"
      ]
     },
     "execution_count": 13,
     "metadata": {},
     "output_type": "execute_result"
    }
   ],
   "source": [
    "# indexing을 통해 데이터 컬럼 내 값을 바꾸는 코드\n",
    "# dictionary 자료형의 get 함수는 https://wikidocs.net/16 을 참고하세요.\n",
    "\n",
    "# user_to_idx.get을 통해 user_id 컬럼의 모든 값을 인덱싱한 Series를 구해 봅시다. \n",
    "# 혹시 정상적으로 인덱싱되지 않은 row가 있다면 인덱스가 NaN이 될 테니 dropna()로 제거합니다. \n",
    "temp_user_data = data['user_id'].map(user_to_idx.get).dropna()\n",
    "if len(temp_user_data) == len(data):   # 모든 row가 정상적으로 인덱싱되었다면\n",
    "    print('user_id column indexing OK!!')\n",
    "    data['user_id'] = temp_user_data   # data['user_id']을 인덱싱된 Series로 교체해 줍니다. \n",
    "else:\n",
    "    print('user_id column indexing Fail!!')\n",
    "\n",
    "# artist_to_idx을 통해 artist 컬럼도 동일한 방식으로 인덱싱해 줍니다. \n",
    "temp_artist_data = data['artist'].map(artist_to_idx.get).dropna()\n",
    "if len(temp_artist_data) == len(data):\n",
    "    print('artist column indexing OK!!')\n",
    "    data['artist'] = temp_artist_data\n",
    "else:\n",
    "    print('artist column indexing Fail!!')\n",
    "\n",
    "data\n"
   ]
  },
  {
   "cell_type": "markdown",
   "id": "accurate-unknown",
   "metadata": {},
   "source": [
    "### 사용자의 명시적/암묵적 평가\n",
    "만약 좋아요나 별점처럼 선호도를 명시적(explicit)으로 나타내면 좋지만  \n",
    "여기서는 사용자가 아티스트의 곡을 몇 번 플레이했는지 뿐인 암묵적인 선호도입니다.  \n",
    "https://orill.tistory.com/entry/Explicit-vs-Implicit-Feedback-Datasets?category=1066301"
   ]
  },
  {
   "cell_type": "code",
   "execution_count": 14,
   "id": "athletic-nepal",
   "metadata": {},
   "outputs": [
    {
     "name": "stdout",
     "output_type": "stream",
     "text": [
      "147740,17535660\n",
      "Ratio of only_one over all data is 0.84%\n"
     ]
    }
   ],
   "source": [
    "# 1회만 play한 데이터의 비율을 보는 코드\n",
    "only_one = data[data['play']<2]\n",
    "one, all_data = len(only_one), len(data)\n",
    "print(f'{one},{all_data}')\n",
    "print(f'Ratio of only_one over all data is {one/all_data:.2%}')  # f-format에 대한 설명은 https://bit.ly/2DTLqYU"
   ]
  },
  {
   "cell_type": "markdown",
   "id": "original-lodging",
   "metadata": {},
   "source": [
    "1. 한 번이라도 들었으면 선호한다고 판단\n",
    "2. 많이 재생한 아티스트에 대해 가중치를 주어서 더 확실히 좋아한다고 판단"
   ]
  },
  {
   "attachments": {
    "%E1%84%89%E1%85%B3%E1%84%8F%E1%85%B3%E1%84%85%E1%85%B5%E1%86%AB%E1%84%89%E1%85%A3%E1%86%BA%202021-08-12%20%E1%84%8B%E1%85%A9%E1%84%92%E1%85%AE%203.14.44.png": {
     "image/png": "[encoded data removed]"
    }
   },
   "cell_type": "markdown",
   "id": "likely-oregon",
   "metadata": {},
   "source": [
    "### Matrix Factorization(MF)\n",
    "MF 모델은 큰 평가행렬 R을 두 개의 Feature Matrix P와 Q로 분해하는 모델입니다.  \n",
    "![%E1%84%89%E1%85%B3%E1%84%8F%E1%85%B3%E1%84%85%E1%85%B5%E1%86%AB%E1%84%89%E1%85%A3%E1%86%BA%202021-08-12%20%E1%84%8B%E1%85%A9%E1%84%92%E1%85%AE%203.14.44.png](attachment:%E1%84%89%E1%85%B3%E1%84%8F%E1%85%B3%E1%84%85%E1%85%B5%E1%86%AB%E1%84%89%E1%85%A3%E1%86%BA%202021-08-12%20%E1%84%8B%E1%85%A9%E1%84%92%E1%85%AE%203.14.44.png)\n",
    "MF 모델 중 사용할 모델은 Collaborative Filtering for Implicit Feedback Datasets 논문에서 제안한 모델입니다.  \n",
    "http://yifanhu.net/PUB/cf.pdf  \n",
    "\n",
    "이 모델의 경우 이전 스텝에서 제가 'ed sheeran'을 play했다는 데이터를 추가했기 때문에 저의 벡터와 ed sheeran의 벡터를 곱했을 때 1에 가까워야 모델이 잘 학습하는 것을 목표로 합니다."
   ]
  },
  {
   "cell_type": "markdown",
   "id": "palestinian-delaware",
   "metadata": {},
   "source": [
    "### CSR(Compressed Sparse Row) Matrix\n",
    "Sparse Matrix 메모리 낭비를 최소화하기 위해서는 유저가 들어본 아티스트에 대해서만 정보만을 저장하면서 전체 행렬 형태를 유추할 수 있는 데이터 구조가 필요합니다.  \n",
    "\n",
    "수행할 모델 학습의 input으로 사용할 데이터 타입을 CSR Matrix로 할 것입니다.  \n",
    "\n",
    "참고 자료  \n",
    "Scipy sparse matrix handling: https://lovit.github.io/nlp/machine%20learning/2018/04/09/sparse_mtarix_handling/#csr-matrix  \n",
    "StackOverflow csr_matrix 설명: https://stackoverflow.com/questions/53254104/cant-understand-scipy-sparse-csr-matrix-example/62118005#62118005  \n",
    " \n",
    "csr_matrix 만드는 방법: https://docs.scipy.org/doc/scipy/reference/generated/scipy.sparse.csr_matrix.html"
   ]
  },
  {
   "attachments": {
    "image.png": {
     "image/png": "[encoded data removed]"
    }
   },
   "cell_type": "markdown",
   "id": "passing-gates",
   "metadata": {},
   "source": [
    "![image.png](attachment:image.png)"
   ]
  },
  {
   "cell_type": "code",
   "execution_count": 15,
   "id": "selected-morris",
   "metadata": {},
   "outputs": [
    {
     "data": {
      "text/plain": [
       "<358869x291347 sparse matrix of type '<class 'numpy.longlong'>'\n",
       "\twith 17535578 stored elements in Compressed Sparse Row format>"
      ]
     },
     "execution_count": 15,
     "metadata": {},
     "output_type": "execute_result"
    }
   ],
   "source": [
    "# 위에 설명보고 이해해서 만들어보기\n",
    "from scipy.sparse import csr_matrix\n",
    "\n",
    "num_user = data['user_id'].nunique()\n",
    "num_artist = data['artist'].nunique()\n",
    "\n",
    "csr_data = csr_matrix((data.play, (data.user_id, data.artist)), \n",
    "                      shape= (num_user, num_artist))\n",
    "csr_data\n"
   ]
  },
  {
   "cell_type": "markdown",
   "id": "copyrighted-rochester",
   "metadata": {},
   "source": [
    "### MF 모델 학습하기\n",
    "Matrix Factorization 모델을 implicit 패키지를 사용하여 학습해 봅시다.  \n",
    "https://github.com/benfred/implicit\n",
    "\n",
    "- implicit 패키지는 이전 스텝에서 설명한 암묵적(implicit) dataset을 사용하는 다양한 모델을 굉장히 빠르게 학습할 수 있는 패키지입니다.\n",
    "- 이 패키지에 구현된 als(AlternatingLeastSquares) 모델을 사용하겠습니다. Matrix Factorization에서 쪼개진 두 Feature Matrix를 한꺼번에 훈련하는 것은 잘 수렴하지 않기 때문에, 한쪽을 고정시키고 다른 쪽을 학습하는 방식을 번갈아 수행하는 AlternatingLeastSquares 방식이 효과적인 것으로 알려져 있습니다."
   ]
  },
  {
   "cell_type": "code",
   "execution_count": 16,
   "id": "listed-diabetes",
   "metadata": {},
   "outputs": [],
   "source": [
    "from implicit.als import AlternatingLeastSquares\n",
    "import os\n",
    "import numpy as np\n",
    "\n",
    "# implicit 라이브러리에서 권장하고 있는 부분입니다. 학습 내용과는 무관합니다.\n",
    "os.environ['OPENBLAS_NUM_THREADS']='1'\n",
    "os.environ['KMP_DUPLICATE_LIB_OK']='True'\n",
    "os.environ['MKL_NUM_THREADS']='1'"
   ]
  },
  {
   "cell_type": "code",
   "execution_count": 23,
   "id": "assured-alaska",
   "metadata": {},
   "outputs": [
    {
     "data": {
      "text/plain": [
       "'\\n1. factors : 유저와 아이템의 벡터를 몇 차원으로 할 것인지 \\n2. regularization : 과적합을 방지하기 위해 정규화 값을 얼마나 사용할 것인지 \\n3. use_gpu : GPU를 사용할 것인지 \\n4. iterations : epochs와 같은 의미입니다. 데이터를 몇 번 반복해서 학습할 것인지\\n'"
      ]
     },
     "execution_count": 23,
     "metadata": {},
     "output_type": "execute_result"
    }
   ],
   "source": [
    "# Implicit AlternatingLeastSquares 모델의 선언\n",
    "als_model = AlternatingLeastSquares(factors=300, regularization=0.01, use_gpu=False, iterations=100, dtype=np.float32)\n",
    "\n",
    "'''\n",
    "1. factors : 유저와 아이템의 벡터를 몇 차원으로 할 것인지 \n",
    "2. regularization : 과적합을 방지하기 위해 정규화 값을 얼마나 사용할 것인지 \n",
    "3. use_gpu : GPU를 사용할 것인지 \n",
    "4. iterations : epochs와 같은 의미입니다. 데이터를 몇 번 반복해서 학습할 것인지\n",
    "'''"
   ]
  },
  {
   "cell_type": "code",
   "execution_count": 24,
   "id": "continent-startup",
   "metadata": {},
   "outputs": [
    {
     "data": {
      "text/plain": [
       "<291347x358869 sparse matrix of type '<class 'numpy.longlong'>'\n",
       "\twith 17535578 stored elements in Compressed Sparse Column format>"
      ]
     },
     "execution_count": 24,
     "metadata": {},
     "output_type": "execute_result"
    }
   ],
   "source": [
    "# als 모델은 input으로 (item X user 꼴의 matrix를 받기 때문에 Transpose해줍니다.)\n",
    "csr_data_transpose = csr_data.T\n",
    "csr_data_transpose"
   ]
  },
  {
   "cell_type": "code",
   "execution_count": 25,
   "id": "incident-arkansas",
   "metadata": {},
   "outputs": [
    {
     "data": {
      "application/vnd.jupyter.widget-view+json": {
       "model_id": "5b000b01becb46a094a391095aa460de",
       "version_major": 2,
       "version_minor": 0
      },
      "text/plain": [
       "  0%|          | 0/100 [00:00<?, ?it/s]"
      ]
     },
     "metadata": {},
     "output_type": "display_data"
    }
   ],
   "source": [
    "# 모델 훈련\n",
    "als_model.fit(csr_data_transpose)"
   ]
  },
  {
   "cell_type": "code",
   "execution_count": 40,
   "id": "wound-leone",
   "metadata": {},
   "outputs": [
    {
     "name": "stdout",
     "output_type": "stream",
     "text": [
      "슝=3\n"
     ]
    }
   ],
   "source": [
    "hoseong, coldplay = user_to_idx['hoseong'], artist_to_idx['coldplay']\n",
    "hoseong_vector, coldplay_vector = als_model.user_factors[hoseong], als_model.item_factors[coldplay]\n",
    "\n",
    "print('슝=3')"
   ]
  },
  {
   "cell_type": "code",
   "execution_count": 41,
   "id": "spatial-indianapolis",
   "metadata": {},
   "outputs": [
    {
     "data": {
      "text/plain": [
       "array([ 1.35773748e-01,  2.52968311e-01,  1.88824341e-01, -2.52710253e-01,\n",
       "       -3.16293895e-01, -4.74286117e-02, -6.42156661e-01,  1.58565894e-01,\n",
       "        1.58900782e-01,  5.37603557e-01, -1.45207010e-02,  1.93226293e-01,\n",
       "        5.09238765e-02, -6.13310002e-02,  4.79451329e-01, -1.35180950e-01,\n",
       "        6.85815990e-01, -2.86403716e-01, -4.62214589e-01,  5.10825276e-01,\n",
       "        3.82759750e-01, -9.08218622e-02, -1.18140176e-01, -4.67619002e-01,\n",
       "       -1.29164770e-01,  4.17536078e-03, -3.20447236e-01, -5.43095529e-01,\n",
       "        3.19960803e-01, -4.86658402e-02,  4.52495843e-01,  1.41006857e-01,\n",
       "        4.86796588e-01, -8.43995586e-02,  1.36274740e-01,  1.01028383e-01,\n",
       "       -7.15704501e-01,  2.11569771e-01,  9.87150595e-02,  9.33867320e-02,\n",
       "        7.46409446e-02,  2.49910057e-01, -2.74863064e-01, -5.74066602e-02,\n",
       "       -5.59975624e-01,  5.55693284e-02,  4.06058252e-01, -4.61092830e-01,\n",
       "        1.01259731e-01,  2.65618116e-01, -2.97062337e-01,  8.53314176e-02,\n",
       "       -3.21902543e-01, -5.98434865e-01,  1.38169127e-02, -3.41071039e-01,\n",
       "        1.12799741e-01,  5.05801998e-02, -1.67884991e-01, -3.08284312e-01,\n",
       "       -3.22834790e-01,  3.26413214e-01,  1.66885465e-01, -3.87262583e-01,\n",
       "        3.83423090e-01,  1.99746341e-01,  1.50983157e-02, -6.95323199e-02,\n",
       "       -8.96936655e-02, -4.85009670e-01,  4.05642629e-01, -5.52157521e-01,\n",
       "       -5.42949796e-01,  5.32577448e-02,  2.95506716e-01,  2.18798876e-01,\n",
       "        1.31511586e-02, -5.35975277e-01,  6.49407953e-02,  1.87122282e-02,\n",
       "        3.47757787e-02,  6.89468920e-01,  1.75951466e-01,  4.25990373e-02,\n",
       "        2.38047957e-01,  1.98301420e-01,  2.36312538e-01,  6.28735900e-01,\n",
       "       -4.31628712e-02,  2.39355445e-01, -3.72565746e-01, -5.11906803e-01,\n",
       "        2.96861261e-01, -3.91898066e-01,  8.84569192e-04,  5.15528500e-01,\n",
       "        6.47033304e-02, -5.53177893e-02, -2.04115719e-01,  2.37633228e-01,\n",
       "        2.44305879e-01, -3.43394190e-01, -5.80239967e-02,  5.60350597e-01,\n",
       "        3.56641144e-01, -8.51520076e-02, -4.23383042e-02, -2.33322695e-01,\n",
       "       -2.12502733e-01, -3.62271100e-01,  3.11681833e-02,  2.85164744e-01,\n",
       "       -3.45883816e-02, -2.51942903e-01, -2.12491468e-01, -1.81190535e-01,\n",
       "        3.32796425e-01,  1.58434704e-01, -4.42289054e-01,  3.23911369e-01,\n",
       "        3.62670980e-02, -1.84433162e-01, -3.46892864e-01,  9.10125077e-02,\n",
       "        2.23810807e-01,  1.34378672e-01, -8.62537846e-02,  6.46900296e-01,\n",
       "       -2.99489826e-01,  4.04127389e-02, -3.74305516e-01,  4.22525495e-01,\n",
       "       -5.54619581e-02, -2.25458026e-01,  4.56454873e-01, -1.86330035e-01,\n",
       "        6.02960587e-01,  5.02314270e-01, -1.55610561e-01, -5.43832004e-01,\n",
       "        1.95126429e-01,  2.21974522e-01, -5.02520978e-01, -2.48388752e-01,\n",
       "        1.60038754e-01, -2.29091644e-01,  1.97027802e-01,  8.47276673e-02,\n",
       "       -1.79153159e-01, -3.87468711e-02, -5.14727980e-02, -2.14796290e-01,\n",
       "        2.07366571e-01, -1.33506492e-01,  6.21967137e-01,  6.59446061e-01,\n",
       "        2.29357198e-01, -8.75504464e-02, -3.58601153e-01,  5.65064192e-01,\n",
       "       -1.15940154e-01, -1.61763340e-01,  3.48876715e-02,  5.76223880e-02,\n",
       "        1.44265532e-01, -3.86907637e-01,  1.33108050e-01,  5.25047064e-01,\n",
       "        6.60502538e-02, -7.51943767e-01,  1.02614030e-01, -6.93682730e-02,\n",
       "       -5.39959550e-01,  2.51892984e-01, -1.06361234e+00, -2.58095488e-02,\n",
       "       -2.13046465e-02,  3.26362640e-01, -8.05788785e-02, -1.10417373e-01,\n",
       "       -4.90875877e-02, -4.53081802e-02, -2.53662556e-01, -1.78683683e-01,\n",
       "        4.94720966e-01,  4.95447785e-01, -8.87852490e-01,  3.34165066e-01,\n",
       "        3.66532028e-01, -5.67913830e-01, -1.29948771e-02, -8.84337604e-01,\n",
       "        4.62029994e-01,  2.50132293e-01,  5.99786788e-02, -3.39812487e-01,\n",
       "        3.51163894e-01,  1.12293199e-01,  3.55905235e-01, -2.46192157e-01,\n",
       "        1.81846023e-01,  7.67755806e-02,  3.89914095e-01,  1.56897753e-02,\n",
       "       -1.07417770e-01, -3.99779648e-01,  3.03333879e-01,  6.32454634e-01,\n",
       "       -3.03722650e-01,  2.23117754e-01, -3.54228735e-01,  2.77216315e-01,\n",
       "        3.63612682e-01,  5.25667489e-01,  5.58030605e-01,  3.16166759e-01,\n",
       "       -3.04095119e-01,  1.43268779e-01, -2.33677328e-01,  4.36458588e-01,\n",
       "       -1.16307527e-01, -6.81134984e-02,  2.04951733e-01,  5.07576652e-02,\n",
       "        5.79946280e-01, -4.68305312e-02,  6.45662010e-01, -3.16427767e-01,\n",
       "        3.51991653e-01, -2.27234975e-01, -4.42862540e-01,  2.25084387e-02,\n",
       "       -2.06043601e-01, -2.47561663e-01, -4.93379414e-01,  4.67467993e-01,\n",
       "        1.85870975e-01,  2.39685073e-01, -4.63971555e-01, -2.13405937e-01,\n",
       "       -1.02133928e-02, -2.14357123e-01,  3.35691601e-01,  5.23148365e-02,\n",
       "       -2.70133168e-01, -3.39532167e-01, -7.38542140e-01, -5.34739532e-02,\n",
       "       -2.05727607e-01, -7.38767147e-01,  7.35380128e-03, -2.76891202e-01,\n",
       "       -3.24680507e-01,  4.01739717e-01,  3.22798491e-01,  3.84359471e-02,\n",
       "        1.94187686e-01, -2.07067549e-01, -2.07254887e-01,  2.55736828e-01,\n",
       "       -9.67032313e-02,  4.85953301e-01, -3.47253755e-02, -5.62867284e-01,\n",
       "       -3.27937871e-01, -3.31222951e-01, -2.28132263e-01,  1.06913440e-01,\n",
       "        4.66864318e-01, -3.84416074e-01,  2.49934718e-01,  2.24471509e-01,\n",
       "       -6.16251469e-01,  1.88472465e-01, -3.23375762e-01, -6.78692162e-01,\n",
       "       -1.98163509e-01,  5.39716892e-02,  4.89449233e-01,  7.53497601e-01,\n",
       "        6.08923733e-01,  3.24548855e-02, -3.83068442e-01, -2.95746744e-01,\n",
       "       -3.29384208e-01,  1.71873286e-01,  1.65418983e-01, -4.17677425e-02,\n",
       "       -3.84478904e-02, -8.76334980e-02,  4.82834011e-01, -2.32582480e-01,\n",
       "        1.72308192e-01, -1.93502396e-01,  1.49465963e-01,  2.96334863e-01,\n",
       "        2.51482636e-01,  4.14377928e-01, -4.88846786e-02,  4.14862394e-01],\n",
       "      dtype=float32)"
      ]
     },
     "execution_count": 41,
     "metadata": {},
     "output_type": "execute_result"
    }
   ],
   "source": [
    "hoseong_vector"
   ]
  },
  {
   "cell_type": "code",
   "execution_count": 42,
   "id": "minimal-assurance",
   "metadata": {},
   "outputs": [
    {
     "data": {
      "text/plain": [
       "array([-2.37686816e-03,  2.18241978e-02,  1.13518983e-02, -9.58751049e-03,\n",
       "        1.49209863e-02,  9.16665886e-03, -1.10722100e-02,  2.39484990e-03,\n",
       "        3.56378779e-03,  1.61955953e-02, -1.17754180e-03,  4.02836129e-04,\n",
       "        3.19522806e-03,  1.45529266e-02,  1.76569354e-02,  3.03546302e-02,\n",
       "        1.85321216e-02,  2.43052794e-03, -5.09342551e-03,  2.21879501e-02,\n",
       "        6.99029816e-03, -3.42451595e-03, -1.81972533e-02, -1.81213971e-02,\n",
       "       -1.91321131e-03,  6.82870857e-04, -9.78378952e-03, -1.75752360e-02,\n",
       "        1.39604481e-02,  1.23707643e-02,  4.08358201e-02,  7.50579499e-03,\n",
       "        2.53798496e-02,  7.99798686e-03,  5.83663629e-03,  6.43403549e-03,\n",
       "       -7.00688269e-03,  1.85824595e-02,  8.87679344e-04,  3.22812516e-03,\n",
       "        6.80777477e-03,  1.40034975e-02,  1.98913133e-03,  1.15386695e-02,\n",
       "       -1.51816001e-02,  1.31194629e-02,  1.51736559e-02, -2.08348148e-02,\n",
       "        5.58630051e-03,  2.93297996e-03, -5.29684965e-03,  1.96219585e-03,\n",
       "        7.64217274e-03, -2.02822080e-03, -3.83683800e-04, -1.06157539e-02,\n",
       "        4.85542836e-03, -3.96968285e-03, -6.59674872e-03, -4.19272669e-03,\n",
       "       -7.07656471e-03,  1.16293319e-02,  2.93269684e-03,  3.60573037e-03,\n",
       "        1.59911532e-02,  5.12230676e-03, -7.77308596e-03,  4.31924639e-03,\n",
       "       -9.35623981e-03,  2.03149533e-03,  1.70325171e-02, -1.99722834e-02,\n",
       "       -1.60916280e-02,  5.39411558e-04,  7.45656108e-03,  1.38627719e-02,\n",
       "        1.88456345e-02, -8.89603328e-03, -9.54505522e-03, -5.81488293e-03,\n",
       "        1.93316117e-03,  2.03147046e-02,  1.49178579e-02, -1.29382510e-03,\n",
       "        1.24097168e-02,  2.51634978e-03,  5.61351795e-03,  1.92852952e-02,\n",
       "       -1.42827095e-03,  1.36219719e-02,  1.23597812e-02, -6.04267232e-03,\n",
       "        7.07815122e-03, -8.39035120e-03, -3.10970843e-03,  1.85422376e-02,\n",
       "        1.22368112e-02, -4.33276966e-03,  1.54502981e-03,  5.71432570e-03,\n",
       "        3.05836815e-02, -1.00889327e-02,  7.37084728e-03,  2.83686966e-02,\n",
       "        1.27021670e-02,  2.18326394e-02,  5.28959278e-03,  3.16734164e-04,\n",
       "        1.23508787e-02, -8.25259555e-03, -9.01967101e-03, -4.60749585e-03,\n",
       "       -1.62988659e-02, -6.96378644e-04, -3.04406602e-03, -9.14882403e-04,\n",
       "       -1.09801162e-02,  3.88482888e-03, -1.19434742e-06,  2.81888861e-02,\n",
       "        2.47857114e-03, -2.23237951e-03, -3.05403164e-03, -6.16780017e-03,\n",
       "        2.08926611e-02,  1.89137887e-02,  1.41233746e-02,  3.71170156e-02,\n",
       "        6.68678619e-03,  2.17663916e-03, -1.42590050e-02,  1.76003892e-02,\n",
       "        2.46201940e-02, -1.52388506e-03,  2.36661639e-02, -1.44578179e-03,\n",
       "        1.67678427e-02,  2.28118766e-02,  1.27227139e-02, -8.83912574e-03,\n",
       "       -5.19639673e-03,  8.03607889e-03, -9.63428803e-03, -7.44580897e-03,\n",
       "        1.71805173e-02,  1.06129255e-02,  6.79674139e-03,  2.14010496e-02,\n",
       "       -3.74654215e-03,  1.41511345e-02,  3.01842252e-03,  8.88354145e-03,\n",
       "        1.00956606e-02,  1.92722566e-02,  2.51626950e-02,  2.92821564e-02,\n",
       "       -2.68669194e-03,  2.44893041e-03, -7.59221730e-04,  2.61038300e-02,\n",
       "       -1.45356066e-03, -1.51363597e-03,  2.23075915e-02, -4.55138693e-03,\n",
       "        5.50699607e-03, -1.61843263e-02,  1.04993600e-02,  6.42588222e-03,\n",
       "        7.99501722e-04, -2.58513400e-03, -4.17398894e-03,  7.38691119e-03,\n",
       "       -1.79328211e-02,  2.09224690e-02, -2.19110847e-02,  7.93559197e-03,\n",
       "        8.94458499e-03,  1.97651591e-02,  1.13033578e-02,  3.39648104e-03,\n",
       "        1.28764973e-03,  7.33414106e-03, -1.16875232e-03, -2.96749780e-03,\n",
       "        3.04393806e-02,  1.41779715e-02, -2.21508946e-02,  2.31474116e-02,\n",
       "        1.10261247e-03, -4.47144313e-03,  1.02849687e-02, -2.53064949e-02,\n",
       "        1.98420882e-03,  1.11007066e-02,  1.47724710e-02, -8.96740984e-03,\n",
       "        3.53372093e-06,  1.96181405e-02,  8.78524035e-03, -9.27618984e-03,\n",
       "        2.08441131e-02, -6.28781738e-04,  9.35247727e-03,  1.00033274e-02,\n",
       "       -4.55564121e-03,  9.34457220e-03,  2.36435141e-02,  1.44148218e-02,\n",
       "       -9.74670239e-03,  2.24199947e-02, -8.86319578e-03,  2.54866257e-02,\n",
       "        1.27494568e-02,  2.31052320e-02,  1.27769848e-02,  1.31437723e-02,\n",
       "       -1.22235706e-02, -6.51929760e-03,  7.14578340e-03,  1.63800027e-02,\n",
       "        2.38859542e-02, -6.18525967e-03,  1.62265990e-02,  2.20423713e-02,\n",
       "        1.91350561e-02, -1.69763509e-02,  3.86372246e-02, -1.18778711e-02,\n",
       "        1.78977922e-02,  1.92891583e-02,  5.48880920e-03, -5.97997149e-03,\n",
       "        7.20764697e-03, -3.92861245e-03,  5.65604819e-03,  3.72463558e-03,\n",
       "        6.16055774e-03,  1.06529389e-02, -1.92382489e-03,  7.63697841e-04,\n",
       "       -5.83175756e-03, -6.19568722e-03,  7.09272176e-03, -8.61530844e-03,\n",
       "       -1.93321779e-02,  3.01872496e-04,  2.59166118e-03,  4.61327890e-03,\n",
       "       -2.98580015e-03,  8.76114180e-04,  2.49075098e-03,  1.34404469e-03,\n",
       "       -1.19338864e-02,  1.65311228e-02,  3.01696593e-03,  6.96045719e-03,\n",
       "        1.55023495e-02, -1.51631618e-02,  8.67897458e-03,  1.35550124e-03,\n",
       "        8.17815587e-03,  2.18560756e-03, -3.83633724e-03, -4.73036896e-03,\n",
       "       -8.07036413e-04,  9.53040086e-03,  4.99385735e-03,  1.51959145e-02,\n",
       "        2.01390106e-02, -9.65708680e-03,  7.91865122e-03,  2.45513264e-02,\n",
       "        5.12805348e-03,  7.28315907e-03, -1.30211888e-02, -1.15459459e-02,\n",
       "        1.44154336e-02,  1.80025697e-02,  7.53787998e-03,  3.61108072e-02,\n",
       "        2.29223706e-02,  1.78875942e-02, -1.79703198e-02, -1.01954024e-02,\n",
       "       -3.60834994e-03,  1.22809885e-02,  1.19228531e-02, -1.34784263e-03,\n",
       "        1.34876994e-02,  1.96148478e-03,  7.41763087e-03, -5.70756558e-04,\n",
       "        5.91256144e-03, -5.86968800e-03,  2.27076020e-02,  1.35366134e-02,\n",
       "        1.26398038e-02,  2.15648543e-02,  1.54881319e-02,  1.00393556e-02],\n",
       "      dtype=float32)"
      ]
     },
     "execution_count": 42,
     "metadata": {},
     "output_type": "execute_result"
    }
   ],
   "source": [
    "coldplay_vector"
   ]
  },
  {
   "cell_type": "code",
   "execution_count": 43,
   "id": "institutional-consultancy",
   "metadata": {},
   "outputs": [
    {
     "data": {
      "text/plain": [
       "0.83667594"
      ]
     },
     "execution_count": 43,
     "metadata": {},
     "output_type": "execute_result"
    }
   ],
   "source": [
    "# hoseong과 ed_sheeran을 내적하는 코드\n",
    "np.dot(hoseong_vector, coldplay_vector)"
   ]
  },
  {
   "cell_type": "markdown",
   "id": "friendly-incentive",
   "metadata": {},
   "source": [
    "1이 나와야 할텐데 한참 낮은 수치가 나왔습니다.  \n",
    "factors를 늘리거나 iterations를 늘려야 할 것 같습니다."
   ]
  },
  {
   "cell_type": "code",
   "execution_count": 44,
   "id": "continent-diamond",
   "metadata": {},
   "outputs": [
    {
     "data": {
      "text/plain": [
       "0.0357047"
      ]
     },
     "execution_count": 44,
     "metadata": {},
     "output_type": "execute_result"
    }
   ],
   "source": [
    "queen = artist_to_idx['queen']\n",
    "queen_vector = als_model.item_factors[queen]\n",
    "np.dot(hoseong_vector, queen_vector)"
   ]
  },
  {
   "cell_type": "markdown",
   "id": "measured-period",
   "metadata": {},
   "source": [
    "## 비슷한 아티스트 찾기 + 유저에게  추천하기\n",
    "\n",
    "### 비슷한 아티스트 찾기\n",
    "AlternatingLeastSquares 클래스에 구현되어 있는 similar_items 메서드를 통하여 비슷한 아티스트를 찾습니다.  \n",
    "처음으로는 제가 좋아하는 coldplay로 찾아보겠습니다."
   ]
  },
  {
   "cell_type": "code",
   "execution_count": 31,
   "id": "certified-premium",
   "metadata": {},
   "outputs": [
    {
     "data": {
      "text/plain": [
       "[(62, 1.0),\n",
       " (30694, 0.4291328),\n",
       " (56465, 0.42707172),\n",
       " (51260, 0.4266989),\n",
       " (37997, 0.42618954),\n",
       " (93810, 0.42608854),\n",
       " (26598, 0.4244941),\n",
       " (14799, 0.42390677),\n",
       " (38514, 0.42310765),\n",
       " (97824, 0.42305118),\n",
       " (57592, 0.42298052),\n",
       " (37742, 0.4227517),\n",
       " (18468, 0.42243344),\n",
       " (31068, 0.4221587),\n",
       " (70749, 0.42117304)]"
      ]
     },
     "execution_count": 31,
     "metadata": {},
     "output_type": "execute_result"
    }
   ],
   "source": [
    "favorite_artist = 'coldplay'\n",
    "artist_id = artist_to_idx[favorite_artist]\n",
    "similar_artist = als_model.similar_items(artist_id, N=15)\n",
    "similar_artist"
   ]
  },
  {
   "cell_type": "code",
   "execution_count": 32,
   "id": "vocational-visiting",
   "metadata": {},
   "outputs": [
    {
     "data": {
      "text/plain": [
       "['coldplay',\n",
       " 'isolation',\n",
       " 'sect',\n",
       " 'furze',\n",
       " 'dimhymn',\n",
       " 'lik',\n",
       " 'hell militia',\n",
       " 'trist',\n",
       " 'circle of ouroborus',\n",
       " 'bergraven',\n",
       " 'haemoth',\n",
       " 'obscurus advocam',\n",
       " 'vrolok',\n",
       " 'ondskapt',\n",
       " 'accidental kenny & the tourist-tones']"
      ]
     },
     "execution_count": 32,
     "metadata": {},
     "output_type": "execute_result"
    }
   ],
   "source": [
    "#artist_to_idx 를 뒤집어, index로부터 artist 이름을 얻는 dict를 생성합니다. \n",
    "idx_to_artist = {v:k for k,v in artist_to_idx.items()}\n",
    "[idx_to_artist[i[0]] for i in similar_artist]"
   ]
  },
  {
   "cell_type": "code",
   "execution_count": 33,
   "id": "casual-bandwidth",
   "metadata": {},
   "outputs": [
    {
     "name": "stdout",
     "output_type": "stream",
     "text": [
      "슝=3\n"
     ]
    }
   ],
   "source": [
    "# 몇 번 더 반복해서 확인하기 위해 위의 코드를 함수로 만듭니다.\n",
    "def get_similar_artist(artist_name: str):\n",
    "    artist_id = artist_to_idx[artist_name]\n",
    "    similar_artist = als_model.similar_items(artist_id)\n",
    "    similar_artist = [idx_to_artist[i[0]] for i in similar_artist]\n",
    "    return similar_artist\n",
    "\n",
    "print(\"슝=3\")"
   ]
  },
  {
   "cell_type": "code",
   "execution_count": 34,
   "id": "equipped-picnic",
   "metadata": {},
   "outputs": [
    {
     "data": {
      "text/plain": [
       "['2pac',\n",
       " 'notorious b.i.g.',\n",
       " 'dr. dre',\n",
       " 'ice cube',\n",
       " 'dmx',\n",
       " 'the game',\n",
       " 'snoop dogg',\n",
       " 'nas',\n",
       " '50 cent',\n",
       " 'bone thugs-n-harmony']"
      ]
     },
     "execution_count": 34,
     "metadata": {},
     "output_type": "execute_result"
    }
   ],
   "source": [
    "get_similar_artist('2pac')"
   ]
  },
  {
   "cell_type": "markdown",
   "id": "according-afternoon",
   "metadata": {},
   "source": [
    "힙합의 경우 매니아가 많아서 더 잘 추천됩니다.  \n",
    "매니아들은 다른 장르의 아티스트들과는 섷노도가 낮게 나타나기 때문입니다.  "
   ]
  },
  {
   "cell_type": "code",
   "execution_count": 35,
   "id": "moving-freight",
   "metadata": {},
   "outputs": [
    {
     "data": {
      "text/plain": [
       "['lady gaga',\n",
       " 'katy perry',\n",
       " 'the pussycat dolls',\n",
       " 'britney spears',\n",
       " 'guru josh project',\n",
       " 'beyoncé',\n",
       " 'flo rida',\n",
       " 'rihanna',\n",
       " 'discobitch',\n",
       " 'kid cudi vs. crookers']"
      ]
     },
     "execution_count": 35,
     "metadata": {},
     "output_type": "execute_result"
    }
   ],
   "source": [
    "get_similar_artist('lady gaga')"
   ]
  },
  {
   "cell_type": "markdown",
   "id": "uniform-faith",
   "metadata": {},
   "source": [
    "여자 아티스트들이 추천되고 있습니다."
   ]
  },
  {
   "cell_type": "markdown",
   "id": "cheap-variable",
   "metadata": {},
   "source": [
    "### 유저에게 아티스트 추천하기\n",
    "AlternatingLeastSquares 클래스에 구현되어 있는 recommend 메서드를 통하여 제가 좋아할 만한 아티스트를 추천받습니다.  \n",
    "filter_already_liked_items 는 유저가 이미 평가한 아이템은 제외하는 Argument입니다."
   ]
  },
  {
   "cell_type": "code",
   "execution_count": 36,
   "id": "european-checklist",
   "metadata": {},
   "outputs": [
    {
     "data": {
      "text/plain": [
       "[(35, 0.3350687),\n",
       " (24, 0.29045674),\n",
       " (217, 0.25395936),\n",
       " (490, 0.24849264),\n",
       " (28, 0.24247995),\n",
       " (277, 0.24189836),\n",
       " (1607, 0.19383386),\n",
       " (627, 0.1921122),\n",
       " (509, 0.18952669),\n",
       " (399, 0.18223996),\n",
       " (418, 0.18011557),\n",
       " (2103, 0.17642052),\n",
       " (503, 0.14847413),\n",
       " (352, 0.14846681),\n",
       " (2902, 0.14815077),\n",
       " (5, 0.14488849),\n",
       " (3758, 0.14387119),\n",
       " (637, 0.14169292),\n",
       " (2228, 0.14140417),\n",
       " (376, 0.13784063)]"
      ]
     },
     "execution_count": 36,
     "metadata": {},
     "output_type": "execute_result"
    }
   ],
   "source": [
    "user = user_to_idx['hoseong']\n",
    "# recommend에서는 user*item CSR Matrix를 받습니다.\n",
    "artist_recommended = als_model.recommend(user, csr_data, N=20, filter_already_liked_items=True)\n",
    "artist_recommended"
   ]
  },
  {
   "cell_type": "code",
   "execution_count": 37,
   "id": "divine-duncan",
   "metadata": {},
   "outputs": [
    {
     "data": {
      "text/plain": [
       "['john mayer',\n",
       " 'jack johnson',\n",
       " 'radiohead',\n",
       " 'oasis',\n",
       " 'the killers',\n",
       " 'muse',\n",
       " 'james morrison',\n",
       " 'maroon 5',\n",
       " 'keane',\n",
       " 'colbie caillat',\n",
       " 'u2',\n",
       " 'the fray',\n",
       " 'green day',\n",
       " 'linkin park',\n",
       " 'james blunt',\n",
       " 'red hot chili peppers',\n",
       " 'gavin degraw',\n",
       " 'akon',\n",
       " 'adele',\n",
       " 'black eyed peas']"
      ]
     },
     "execution_count": 37,
     "metadata": {},
     "output_type": "execute_result"
    }
   ],
   "source": [
    "[idx_to_artist[i[0]] for i in artist_recommended]"
   ]
  },
  {
   "cell_type": "markdown",
   "id": "stable-canberra",
   "metadata": {},
   "source": [
    "AlternatingLeastSquares 클래스에 구현된 explain 메소드를 사용하면 제가 기록을 남긴 데이터 중 이 추천에 기여한 정도를 확인할 수 있습니다."
   ]
  },
  {
   "cell_type": "code",
   "execution_count": 38,
   "id": "trained-revolution",
   "metadata": {},
   "outputs": [],
   "source": [
    "muse = artist_to_idx['muse']\n",
    "explain = als_model.explain(user, csr_data, itemid=muse)"
   ]
  },
  {
   "cell_type": "code",
   "execution_count": 39,
   "id": "binary-oriental",
   "metadata": {},
   "outputs": [
    {
     "data": {
      "text/plain": [
       "[('coldplay', 0.22071750942589433),\n",
       " ('justin bieber', 0.015373445134104304),\n",
       " ('jason mraz', 0.013557282426245485),\n",
       " ('maroon5', -0.0020508774239295985),\n",
       " ('ed sheeran', -0.006603027793398244)]"
      ]
     },
     "execution_count": 39,
     "metadata": {},
     "output_type": "execute_result"
    }
   ],
   "source": [
    "[(idx_to_artist[i[0]], i[1]) for i in explain[1]]"
   ]
  },
  {
   "cell_type": "markdown",
   "id": "celtic-lafayette",
   "metadata": {},
   "source": [
    "muse가 추천된 데에는 coldplay가 가장 크게 기여했습니다. "
   ]
  },
  {
   "cell_type": "markdown",
   "id": "alert-corporation",
   "metadata": {},
   "source": [
    "filter_already_liked_items=True로 했는데 앞에 maroon 5는 제가 이미 평가한 아이템이 나오고 있습니다. 이것은 implicit 버전 0.4.2에서 생긴 버그입니다. 코드는 사람이 만들기 때문에 이렇게 실수할 가능성이 있습니다.  \n",
    "오픈 소스 생태계에서는 누구든 이런 문제점을 지적하고 Pull Request를 통하여 수정을 제안할 수 있습니다.  \n",
    "https://github.com/benfred/implicit/issues/365  \n",
    "https://github.com/benfred/implicit/pull/389  \n",
    "\n",
    "많이들 사용하는 Tensorflow나 numpy, pandas도 여러 작은 버그들이 있습니다. 이런 유명한 패키지의 오류를 고쳐서 Pull Request를 하여 Contribute 한다면 좋은 이력이 되기도 합니다."
   ]
  },
  {
   "cell_type": "markdown",
   "id": "iraqi-discretion",
   "metadata": {},
   "source": [
    "모델이 추천한 20개 중 몇 개를 실제로 선호하는지 계산하여 모델의 객관적인 지표를 만들 수 있을 것 같습니다.  \n",
    "https://danthetech.netlify.app/DataScience/evaluation-metrics-for-recommendation-system"
   ]
  },
  {
   "cell_type": "markdown",
   "id": "vocal-belgium",
   "metadata": {},
   "source": [
    "### 아쉬운 점\n",
    "1. 유저, 아티스트에 대한 Meta 정보를 반영하기 쉽지 않습니다. 연령대별로 음악 취향이 굉장히 다르지 않을까요? \n",
    "2. 유저가 언제 play 했는지에 반영하기 쉽지 않습니다. "
   ]
  }
 ],
 "metadata": {
  "kernelspec": {
   "display_name": "Python 3",
   "language": "python",
   "name": "python3"
  },
  "language_info": {
   "codemirror_mode": {
    "name": "ipython",
    "version": 3
   },
   "file_extension": ".py",
   "mimetype": "text/x-python",
   "name": "python",
   "nbconvert_exporter": "python",
   "pygments_lexer": "ipython3",
   "version": "3.7.9"
  }
 },
 "nbformat": 4,
 "nbformat_minor": 5
}
