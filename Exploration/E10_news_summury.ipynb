{
 "cells": [
  {
   "cell_type": "markdown",
   "id": "veterinary-complexity",
   "metadata": {},
   "source": [
    "# 뉴스기사 요약해보기\n",
    "https://github.com/sunnysai12345/News_Summary  \n",
    "위 링크의 news_summary_more.csv 데이터를 사용해서 추상적 요약과 추출적 요약 모두 해보겠습니다."
   ]
  },
  {
   "cell_type": "code",
   "execution_count": 1,
   "id": "incoming-accounting",
   "metadata": {
    "scrolled": true
   },
   "outputs": [
    {
     "name": "stderr",
     "output_type": "stream",
     "text": [
      "[nltk_data] Downloading package stopwords to /aiffel/nltk_data...\n",
      "[nltk_data]   Package stopwords is already up-to-date!\n"
     ]
    }
   ],
   "source": [
    "import nltk\n",
    "nltk.download('stopwords')\n",
    "\n",
    "import numpy as np\n",
    "import pandas as pd\n",
    "import os\n",
    "import re\n",
    "import matplotlib.pyplot as plt\n",
    "from nltk.corpus import stopwords\n",
    "from bs4 import BeautifulSoup \n",
    "from tensorflow.keras.preprocessing.text import Tokenizer \n",
    "from tensorflow.keras.preprocessing.sequence import pad_sequences\n",
    "import urllib.request"
   ]
  },
  {
   "cell_type": "markdown",
   "id": "controversial-magnitude",
   "metadata": {},
   "source": [
    "## 추상적(Abstractive) 요약"
   ]
  },
  {
   "cell_type": "markdown",
   "id": "sufficient-showcase",
   "metadata": {},
   "source": [
    "### 데이터 수집하기"
   ]
  },
  {
   "cell_type": "code",
   "execution_count": 2,
   "id": "yellow-bullet",
   "metadata": {},
   "outputs": [],
   "source": [
    "# 데이터 다운로드\n",
    "import urllib.request\n",
    "urllib.request.urlretrieve(\"https://raw.githubusercontent.com/sunnysai12345/News_Summary/master/news_summary_more.csv\", filename=\"news_summary_more.csv\")\n",
    "data = pd.read_csv('news_summary_more.csv', encoding='iso-8859-1')\n"
   ]
  },
  {
   "cell_type": "code",
   "execution_count": 3,
   "id": "beginning-details",
   "metadata": {},
   "outputs": [
    {
     "data": {
      "text/html": [
       "<div>\n",
       "<style scoped>\n",
       "    .dataframe tbody tr th:only-of-type {\n",
       "        vertical-align: middle;\n",
       "    }\n",
       "\n",
       "    .dataframe tbody tr th {\n",
       "        vertical-align: top;\n",
       "    }\n",
       "\n",
       "    .dataframe thead th {\n",
       "        text-align: right;\n",
       "    }\n",
       "</style>\n",
       "<table border=\"1\" class=\"dataframe\">\n",
       "  <thead>\n",
       "    <tr style=\"text-align: right;\">\n",
       "      <th></th>\n",
       "      <th>headlines</th>\n",
       "      <th>text</th>\n",
       "    </tr>\n",
       "  </thead>\n",
       "  <tbody>\n",
       "    <tr>\n",
       "      <th>0</th>\n",
       "      <td>upGrad learner switches to career in ML &amp; Al w...</td>\n",
       "      <td>Saurav Kant, an alumnus of upGrad and IIIT-B's...</td>\n",
       "    </tr>\n",
       "    <tr>\n",
       "      <th>1</th>\n",
       "      <td>Delhi techie wins free food from Swiggy for on...</td>\n",
       "      <td>Kunal Shah's credit card bill payment platform...</td>\n",
       "    </tr>\n",
       "    <tr>\n",
       "      <th>2</th>\n",
       "      <td>New Zealand end Rohit Sharma-led India's 12-ma...</td>\n",
       "      <td>New Zealand defeated India by 8 wickets in the...</td>\n",
       "    </tr>\n",
       "    <tr>\n",
       "      <th>3</th>\n",
       "      <td>Aegon life iTerm insurance plan helps customer...</td>\n",
       "      <td>With Aegon Life iTerm Insurance plan, customer...</td>\n",
       "    </tr>\n",
       "    <tr>\n",
       "      <th>4</th>\n",
       "      <td>Have known Hirani for yrs, what if MeToo claim...</td>\n",
       "      <td>Speaking about the sexual harassment allegatio...</td>\n",
       "    </tr>\n",
       "    <tr>\n",
       "      <th>...</th>\n",
       "      <td>...</td>\n",
       "      <td>...</td>\n",
       "    </tr>\n",
       "    <tr>\n",
       "      <th>98396</th>\n",
       "      <td>CRPF jawan axed to death by Maoists in Chhatti...</td>\n",
       "      <td>A CRPF jawan was on Tuesday axed to death with...</td>\n",
       "    </tr>\n",
       "    <tr>\n",
       "      <th>98397</th>\n",
       "      <td>First song from Sonakshi Sinha's 'Noor' titled...</td>\n",
       "      <td>'Uff Yeh', the first song from the Sonakshi Si...</td>\n",
       "    </tr>\n",
       "    <tr>\n",
       "      <th>98398</th>\n",
       "      <td>'The Matrix' film to get a reboot: Reports</td>\n",
       "      <td>According to reports, a new version of the 199...</td>\n",
       "    </tr>\n",
       "    <tr>\n",
       "      <th>98399</th>\n",
       "      <td>Snoop Dogg aims gun at clown dressed as Trump ...</td>\n",
       "      <td>A new music video shows rapper Snoop Dogg aimi...</td>\n",
       "    </tr>\n",
       "    <tr>\n",
       "      <th>98400</th>\n",
       "      <td>Madhesi Morcha withdraws support to Nepalese g...</td>\n",
       "      <td>Madhesi Morcha, an alliance of seven political...</td>\n",
       "    </tr>\n",
       "  </tbody>\n",
       "</table>\n",
       "<p>98401 rows × 2 columns</p>\n",
       "</div>"
      ],
      "text/plain": [
       "                                               headlines  \\\n",
       "0      upGrad learner switches to career in ML & Al w...   \n",
       "1      Delhi techie wins free food from Swiggy for on...   \n",
       "2      New Zealand end Rohit Sharma-led India's 12-ma...   \n",
       "3      Aegon life iTerm insurance plan helps customer...   \n",
       "4      Have known Hirani for yrs, what if MeToo claim...   \n",
       "...                                                  ...   \n",
       "98396  CRPF jawan axed to death by Maoists in Chhatti...   \n",
       "98397  First song from Sonakshi Sinha's 'Noor' titled...   \n",
       "98398         'The Matrix' film to get a reboot: Reports   \n",
       "98399  Snoop Dogg aims gun at clown dressed as Trump ...   \n",
       "98400  Madhesi Morcha withdraws support to Nepalese g...   \n",
       "\n",
       "                                                    text  \n",
       "0      Saurav Kant, an alumnus of upGrad and IIIT-B's...  \n",
       "1      Kunal Shah's credit card bill payment platform...  \n",
       "2      New Zealand defeated India by 8 wickets in the...  \n",
       "3      With Aegon Life iTerm Insurance plan, customer...  \n",
       "4      Speaking about the sexual harassment allegatio...  \n",
       "...                                                  ...  \n",
       "98396  A CRPF jawan was on Tuesday axed to death with...  \n",
       "98397  'Uff Yeh', the first song from the Sonakshi Si...  \n",
       "98398  According to reports, a new version of the 199...  \n",
       "98399  A new music video shows rapper Snoop Dogg aimi...  \n",
       "98400  Madhesi Morcha, an alliance of seven political...  \n",
       "\n",
       "[98401 rows x 2 columns]"
      ]
     },
     "execution_count": 3,
     "metadata": {},
     "output_type": "execute_result"
    }
   ],
   "source": [
    "data"
   ]
  },
  {
   "cell_type": "markdown",
   "id": "general-wallace",
   "metadata": {},
   "source": [
    "#### 추상적 요약을 하는 경우\n",
    "text를 본문, headlines를 이미 요약된 데이터로 삼아서 모델 학습\n",
    "\n",
    "#### 추출적 요약을 하는 경우\n",
    "text열만 사용"
   ]
  },
  {
   "cell_type": "markdown",
   "id": "violent-clause",
   "metadata": {},
   "source": [
    "### 데이터 전처리\n",
    "\n",
    "#### 데이터 정리"
   ]
  },
  {
   "cell_type": "code",
   "execution_count": 4,
   "id": "ordinary-primary",
   "metadata": {},
   "outputs": [
    {
     "name": "stdout",
     "output_type": "stream",
     "text": [
      "headlines 열에서 중복을 배제한 유일한 샘플의 수 : 98280\n",
      "text 열에서 중복을 배제한 유일한 샘플의 수 : 98360\n"
     ]
    }
   ],
   "source": [
    "# 데이터의 중복 샘플 유무를 확인\n",
    "print('headlines 열에서 중복을 배제한 유일한 샘플의 수 :', data['headlines'].nunique())\n",
    "print('text 열에서 중복을 배제한 유일한 샘플의 수 :', data['text'].nunique())"
   ]
  },
  {
   "cell_type": "code",
   "execution_count": 5,
   "id": "informed-outline",
   "metadata": {},
   "outputs": [
    {
     "name": "stdout",
     "output_type": "stream",
     "text": [
      "전체 샘플수 : 98360\n"
     ]
    }
   ],
   "source": [
    "data.drop_duplicates(subset = ['text'], inplace=True)\n",
    "print('전체 샘플수 :', (len(data)))"
   ]
  },
  {
   "cell_type": "code",
   "execution_count": 6,
   "id": "danish-parish",
   "metadata": {},
   "outputs": [
    {
     "name": "stdout",
     "output_type": "stream",
     "text": [
      "headlines    0\n",
      "text         0\n",
      "dtype: int64\n"
     ]
    }
   ],
   "source": [
    "# Null 값이 있는지 확인\n",
    "print(data.isnull().sum())"
   ]
  },
  {
   "cell_type": "markdown",
   "id": "alternative-visibility",
   "metadata": {},
   "source": [
    "#### 텍스트 정규화와 불용어 제거"
   ]
  },
  {
   "cell_type": "code",
   "execution_count": 7,
   "id": "aboriginal-aggregate",
   "metadata": {},
   "outputs": [
    {
     "name": "stdout",
     "output_type": "stream",
     "text": [
      "정규화 사전의 수:  120\n"
     ]
    }
   ],
   "source": [
    "# 출처: https://stackoverflow.com/questions/19790188/expanding-english-language-contractions-in-python\n",
    "contractions = {\"ain't\": \"is not\", \"aren't\": \"are not\",\"can't\": \"cannot\", \"'cause\": \"because\", \"could've\": \"could have\", \"couldn't\": \"could not\",\n",
    "                           \"didn't\": \"did not\",  \"doesn't\": \"does not\", \"don't\": \"do not\", \"hadn't\": \"had not\", \"hasn't\": \"has not\", \"haven't\": \"have not\",\n",
    "                           \"he'd\": \"he would\",\"he'll\": \"he will\", \"he's\": \"he is\", \"how'd\": \"how did\", \"how'd'y\": \"how do you\", \"how'll\": \"how will\", \"how's\": \"how is\",\n",
    "                           \"I'd\": \"I would\", \"I'd've\": \"I would have\", \"I'll\": \"I will\", \"I'll've\": \"I will have\",\"I'm\": \"I am\", \"I've\": \"I have\", \"i'd\": \"i would\",\n",
    "                           \"i'd've\": \"i would have\", \"i'll\": \"i will\",  \"i'll've\": \"i will have\",\"i'm\": \"i am\", \"i've\": \"i have\", \"isn't\": \"is not\", \"it'd\": \"it would\",\n",
    "                           \"it'd've\": \"it would have\", \"it'll\": \"it will\", \"it'll've\": \"it will have\",\"it's\": \"it is\", \"let's\": \"let us\", \"ma'am\": \"madam\",\n",
    "                           \"mayn't\": \"may not\", \"might've\": \"might have\",\"mightn't\": \"might not\",\"mightn't've\": \"might not have\", \"must've\": \"must have\",\n",
    "                           \"mustn't\": \"must not\", \"mustn't've\": \"must not have\", \"needn't\": \"need not\", \"needn't've\": \"need not have\",\"o'clock\": \"of the clock\",\n",
    "                           \"oughtn't\": \"ought not\", \"oughtn't've\": \"ought not have\", \"shan't\": \"shall not\", \"sha'n't\": \"shall not\", \"shan't've\": \"shall not have\",\n",
    "                           \"she'd\": \"she would\", \"she'd've\": \"she would have\", \"she'll\": \"she will\", \"she'll've\": \"she will have\", \"she's\": \"she is\",\n",
    "                           \"should've\": \"should have\", \"shouldn't\": \"should not\", \"shouldn't've\": \"should not have\", \"so've\": \"so have\",\"so's\": \"so as\",\n",
    "                           \"this's\": \"this is\",\"that'd\": \"that would\", \"that'd've\": \"that would have\", \"that's\": \"that is\", \"there'd\": \"there would\",\n",
    "                           \"there'd've\": \"there would have\", \"there's\": \"there is\", \"here's\": \"here is\",\"they'd\": \"they would\", \"they'd've\": \"they would have\",\n",
    "                           \"they'll\": \"they will\", \"they'll've\": \"they will have\", \"they're\": \"they are\", \"they've\": \"they have\", \"to've\": \"to have\",\n",
    "                           \"wasn't\": \"was not\", \"we'd\": \"we would\", \"we'd've\": \"we would have\", \"we'll\": \"we will\", \"we'll've\": \"we will have\", \"we're\": \"we are\",\n",
    "                           \"we've\": \"we have\", \"weren't\": \"were not\", \"what'll\": \"what will\", \"what'll've\": \"what will have\", \"what're\": \"what are\",\n",
    "                           \"what's\": \"what is\", \"what've\": \"what have\", \"when's\": \"when is\", \"when've\": \"when have\", \"where'd\": \"where did\", \"where's\": \"where is\",\n",
    "                           \"where've\": \"where have\", \"who'll\": \"who will\", \"who'll've\": \"who will have\", \"who's\": \"who is\", \"who've\": \"who have\",\n",
    "                           \"why's\": \"why is\", \"why've\": \"why have\", \"will've\": \"will have\", \"won't\": \"will not\", \"won't've\": \"will not have\",\n",
    "                           \"would've\": \"would have\", \"wouldn't\": \"would not\", \"wouldn't've\": \"would not have\", \"y'all\": \"you all\",\n",
    "                           \"y'all'd\": \"you all would\",\"y'all'd've\": \"you all would have\",\"y'all're\": \"you all are\",\"y'all've\": \"you all have\",\n",
    "                           \"you'd\": \"you would\", \"you'd've\": \"you would have\", \"you'll\": \"you will\", \"you'll've\": \"you will have\",\n",
    "                           \"you're\": \"you are\", \"you've\": \"you have\"}\n",
    "\n",
    "print(\"정규화 사전의 수: \", len(contractions))"
   ]
  },
  {
   "cell_type": "code",
   "execution_count": 8,
   "id": "mineral-commission",
   "metadata": {},
   "outputs": [
    {
     "name": "stdout",
     "output_type": "stream",
     "text": [
      "불용어 개수 : 179\n",
      "['i', 'me', 'my', 'myself', 'we', 'our', 'ours', 'ourselves', 'you', \"you're\", \"you've\", \"you'll\", \"you'd\", 'your', 'yours', 'yourself', 'yourselves', 'he', 'him', 'his', 'himself', 'she', \"she's\", 'her', 'hers', 'herself', 'it', \"it's\", 'its', 'itself', 'they', 'them', 'their', 'theirs', 'themselves', 'what', 'which', 'who', 'whom', 'this', 'that', \"that'll\", 'these', 'those', 'am', 'is', 'are', 'was', 'were', 'be', 'been', 'being', 'have', 'has', 'had', 'having', 'do', 'does', 'did', 'doing', 'a', 'an', 'the', 'and', 'but', 'if', 'or', 'because', 'as', 'until', 'while', 'of', 'at', 'by', 'for', 'with', 'about', 'against', 'between', 'into', 'through', 'during', 'before', 'after', 'above', 'below', 'to', 'from', 'up', 'down', 'in', 'out', 'on', 'off', 'over', 'under', 'again', 'further', 'then', 'once', 'here', 'there', 'when', 'where', 'why', 'how', 'all', 'any', 'both', 'each', 'few', 'more', 'most', 'other', 'some', 'such', 'no', 'nor', 'not', 'only', 'own', 'same', 'so', 'than', 'too', 'very', 's', 't', 'can', 'will', 'just', 'don', \"don't\", 'should', \"should've\", 'now', 'd', 'll', 'm', 'o', 're', 've', 'y', 'ain', 'aren', \"aren't\", 'couldn', \"couldn't\", 'didn', \"didn't\", 'doesn', \"doesn't\", 'hadn', \"hadn't\", 'hasn', \"hasn't\", 'haven', \"haven't\", 'isn', \"isn't\", 'ma', 'mightn', \"mightn't\", 'mustn', \"mustn't\", 'needn', \"needn't\", 'shan', \"shan't\", 'shouldn', \"shouldn't\", 'wasn', \"wasn't\", 'weren', \"weren't\", 'won', \"won't\", 'wouldn', \"wouldn't\"]\n"
     ]
    }
   ],
   "source": [
    "# NLTK에서 제공하는 불용어 리스트\n",
    "print('불용어 개수 :', len(stopwords.words('english') ))\n",
    "print(stopwords.words('english'))"
   ]
  },
  {
   "cell_type": "code",
   "execution_count": 9,
   "id": "straight-mission",
   "metadata": {},
   "outputs": [],
   "source": [
    "# 데이터 전처리 함수\n",
    "def preprocess_sentence(sentence, remove_stopwords=True):\n",
    "    sentence = sentence.lower() # 텍스트 소문자화\n",
    "    sentence = BeautifulSoup(sentence, \"lxml\").text # <br />, <a href = ...> 등의 html 태그 제거\n",
    "    sentence = re.sub(r'\\([^)]*\\)', '', sentence) # 괄호로 닫힌 문자열 (...) 제거 Ex) my husband (and myself!) for => my husband for\n",
    "    sentence = re.sub('\"','', sentence) # 쌍따옴표 \" 제거\n",
    "    sentence = ' '.join([contractions[t] if t in contractions else t for t in sentence.split(\" \")]) # 약어 정규화\n",
    "    sentence = re.sub(r\"'s\\b\",\"\", sentence) # 소유격 제거. Ex) roland's -> roland\n",
    "    sentence = re.sub(\"[^a-zA-Z]\", \" \", sentence) # 영어 외 문자(숫자, 특수문자 등) 공백으로 변환\n",
    "    sentence = re.sub('[m]{2,}', 'mm', sentence) # m이 3개 이상이면 2개로 변경. Ex) ummmmmmm yeah -> umm yeah\n",
    "    \n",
    "    # 불용어 제거 (Text)\n",
    "    if remove_stopwords:\n",
    "        tokens = ' '.join(word for word in sentence.split() if not word in stopwords.words('english') if len(word) > 1)\n",
    "    # 불용어 미제거 (Summary)\n",
    "    else:\n",
    "        tokens = ' '.join(word for word in sentence.split() if len(word) > 1)\n",
    "    return tokens"
   ]
  },
  {
   "cell_type": "code",
   "execution_count": 10,
   "id": "ahead-converter",
   "metadata": {},
   "outputs": [
    {
     "name": "stdout",
     "output_type": "stream",
     "text": [
      "182.39915251731873  seconds\n",
      "['saurav kant alumnus upgrad iiit pg program machine learning artificial intelligence sr systems engineer infosys almost years work experience program upgrad degree career support helped transition data scientist tech mahindra salary hike upgrad online power learning powered lakh careers'\n",
      " 'kunal shah credit card bill payment platform cred gave users chance win free food swiggy one year pranav kaushik delhi techie bagged reward spending cred coins users get one cred coin per rupee bill paid used avail rewards brands like ixigo bookmyshow ubereats cult fit'\n",
      " 'new zealand defeated india wickets fourth odi hamilton thursday win first match five match odi series india lost international match rohit sharma captaincy consecutive victories dating back march match witnessed india getting seventh lowest total odi cricket history'\n",
      " ...\n",
      " 'according reports new version science fiction film matrix development michael jordan reportedly play lead role film screenwriter zak penn talks write script film reports added actor keanu reeves starred original film followed two sequels'\n",
      " 'new music video shows rapper snoop dogg aiming toy gun clown character parodying us president donald trump video also shows tv airing news conference headline ronald klump wants deport doggs airing live clown house video remixed version song lavender'\n",
      " 'madhesi morcha alliance seven political parties withdrawn support pm pushpa kamal dahal led nepal government failed meet seven day ultimatum fulfil demands including endorsement revised constitution amendment bill morcha seats parliament despite withdrawal support immediate threat government']\n",
      "5.966205596923828  seconds\n",
      "['upgrad learner switches to career in ml al with salary hike'\n",
      " 'delhi techie wins free food from swiggy for one year on cred'\n",
      " 'new zealand end rohit sharma led india match winning streak' ...\n",
      " 'the matrix film to get reboot reports'\n",
      " 'snoop dogg aims gun at clown dressed as trump in new video'\n",
      " 'madhesi morcha withdraws support to nepalese government']\n"
     ]
    }
   ],
   "source": [
    "import multiprocessing as mp   # 멀티 프로세싱으로 전처리 속도를 획기적으로 줄여봅시다\n",
    "from multiprocessing import Pool\n",
    "import numpy as np\n",
    "import time\n",
    "from functools import partial  # map을 할 때 함수에 여러 인자를 넣어줄 수 있도록 합니다\n",
    "\n",
    "start = time.time()\n",
    "\n",
    "# num_cores 만큼 쪼개진 데이터를 전처리하여 반환합니다\n",
    "def appendTexts(sentences, remove_stopwords):\n",
    "  texts = []\n",
    "  for s in sentences:\n",
    "    texts += preprocess_sentence(s, remove_stopwords),\n",
    "  return texts\n",
    "\n",
    "def preprocess_data(data, remove_stopwords=True):\n",
    "  start_time = time.time()\n",
    "  num_cores = mp.cpu_count()  # 컴퓨터의 코어 수를 구합니다\n",
    "\n",
    "  text_data_split = np.array_split(data, num_cores)  # 코어 수만큼 데이터를 배분하여 병렬적으로 처리할 수 있게 합니다\n",
    "  pool = Pool(num_cores)\n",
    "\n",
    "  processed_data = np.concatenate(pool.map(partial(appendTexts, remove_stopwords=remove_stopwords), text_data_split))  # 각자 작업한 데이터를 하나로 합쳐줍니다\n",
    "  pool.close()\n",
    "  pool.join()\n",
    "  print(time.time() - start_time, \" seconds\")\n",
    "  return processed_data\n",
    "\n",
    "clean_text = preprocess_data(data['text'])\n",
    "print(clean_text)\n",
    "\n",
    "# Summary에 대해서 전처리 함수를 호출해 줄 때는, 불용어 제거를 수행하지 않는다는 의미에서 두 번째 인자로 False\n",
    "clean_summary = preprocess_data(data['headlines'], remove_stopwords=False) # 클라우드 기준 1분정도 소요됩니다.\n",
    "print(clean_summary)"
   ]
  },
  {
   "cell_type": "code",
   "execution_count": 11,
   "id": "floral-nudist",
   "metadata": {},
   "outputs": [],
   "source": [
    "# 텍스트 정제 후에 빈 샘플이 생겼는지 확인\n",
    "data['text'] = clean_text\n",
    "data['headlines'] = clean_summary\n",
    "\n",
    "# 빈 값을 Null 값으로 변환\n",
    "data.replace('', np.nan, inplace=True)"
   ]
  },
  {
   "cell_type": "code",
   "execution_count": 12,
   "id": "brilliant-pavilion",
   "metadata": {},
   "outputs": [
    {
     "data": {
      "text/plain": [
       "headlines    0\n",
       "text         0\n",
       "dtype: int64"
      ]
     },
     "execution_count": 12,
     "metadata": {},
     "output_type": "execute_result"
    }
   ],
   "source": [
    "# Null 값이 생겼는지 확인\n",
    "data.isnull().sum()"
   ]
  },
  {
   "cell_type": "markdown",
   "id": "focal-trick",
   "metadata": {},
   "source": [
    "#### 데이터 나누기"
   ]
  },
  {
   "cell_type": "code",
   "execution_count": 13,
   "id": "alive-tablet",
   "metadata": {},
   "outputs": [
    {
     "name": "stdout",
     "output_type": "stream",
     "text": [
      "텍스트의 최소 길이 : 1\n",
      "텍스트의 최대 길이 : 60\n",
      "텍스트의 평균 길이 : 35.09968483123221\n",
      "요약의 최소 길이 : 1\n",
      "요약의 최대 길이 : 16\n",
      "요약의 평균 길이 : 9.299532330215534\n"
     ]
    },
    {
     "data": {
      "image/png": "[encoded data removed]",
      "text/plain": [
       "<Figure size 432x288 with 2 Axes>"
      ]
     },
     "metadata": {
      "needs_background": "light"
     },
     "output_type": "display_data"
    },
    {
     "data": {
      "image/png": "[encoded data removed]",
      "text/plain": [
       "<Figure size 432x288 with 1 Axes>"
      ]
     },
     "metadata": {
      "needs_background": "light"
     },
     "output_type": "display_data"
    },
    {
     "data": {
      "image/png": "[encoded data removed]",
      "text/plain": [
       "<Figure size 432x288 with 1 Axes>"
      ]
     },
     "metadata": {
      "needs_background": "light"
     },
     "output_type": "display_data"
    }
   ],
   "source": [
    "# Text와 Summary의 최소, 최대, 평균 길이를 구하고 또한 길이 분포를 시각화\n",
    "\n",
    "# 길이 분포 출력\n",
    "import matplotlib.pyplot as plt\n",
    "\n",
    "text_len = [len(s.split()) for s in data['text']]\n",
    "summary_len = [len(s.split()) for s in data['headlines']]\n",
    "\n",
    "print('텍스트의 최소 길이 : {}'.format(np.min(text_len)))\n",
    "print('텍스트의 최대 길이 : {}'.format(np.max(text_len)))\n",
    "print('텍스트의 평균 길이 : {}'.format(np.mean(text_len)))\n",
    "print('요약의 최소 길이 : {}'.format(np.min(summary_len)))\n",
    "print('요약의 최대 길이 : {}'.format(np.max(summary_len)))\n",
    "print('요약의 평균 길이 : {}'.format(np.mean(summary_len)))\n",
    "\n",
    "plt.subplot(1,2,1)\n",
    "plt.boxplot(summary_len)\n",
    "plt.title('Summary')\n",
    "plt.subplot(1,2,2)\n",
    "plt.boxplot(text_len)\n",
    "plt.title('Text')\n",
    "plt.tight_layout()\n",
    "plt.show()\n",
    "\n",
    "plt.title('Summary')\n",
    "plt.hist(summary_len, bins = 40)\n",
    "plt.xlabel('length of samples')\n",
    "plt.ylabel('number of samples')\n",
    "plt.show()\n",
    "\n",
    "plt.title('Text')\n",
    "plt.hist(text_len, bins = 40)\n",
    "plt.xlabel('length of samples')\n",
    "plt.ylabel('number of samples')\n",
    "plt.show()"
   ]
  },
  {
   "cell_type": "code",
   "execution_count": 14,
   "id": "buried-bench",
   "metadata": {},
   "outputs": [
    {
     "name": "stdout",
     "output_type": "stream",
     "text": [
      "전체 샘플 중 길이가 맞는 샘플의 비율: 0.8539955266368442\n",
      "전체 샘플 중 길이가 맞는 샘플의 비율: 0.8562728751525011\n"
     ]
    }
   ],
   "source": [
    "# 훈련 데이터와 샘플의 길이를 입력하면, 데이터의 몇 %가 해당하는지 계산하는 함수를 만들어서 좀 더 정확하게 판단\n",
    "def below_threshold_len(min_len, max_len, nested_list):\n",
    "  cnt = 0\n",
    "  for s in nested_list:\n",
    "    if(min_len <= len(s.split()) <= max_len):\n",
    "        cnt = cnt + 1\n",
    "  print('전체 샘플 중 길이가 맞는 샘플의 비율: %s'%(cnt / len(nested_list)))\n",
    "\n",
    "# 적절한 최대 길이를 임의로 지정\n",
    "text_min_len = 30\n",
    "text_max_len = 40\n",
    "headlines_min_len = 8\n",
    "headlines_max_len = 11\n",
    "\n",
    "below_threshold_len(text_min_len, text_max_len, data['text'])\n",
    "below_threshold_len(headlines_min_len, headlines_max_len,  data['headlines'])"
   ]
  },
  {
   "cell_type": "code",
   "execution_count": 15,
   "id": "blocked-vehicle",
   "metadata": {},
   "outputs": [
    {
     "name": "stdout",
     "output_type": "stream",
     "text": [
      "전체 샘플수 : 72036\n"
     ]
    }
   ],
   "source": [
    "# 데이터 정제\n",
    "data = data[data['text'].apply(lambda x: text_min_len <= len(x.split()) <= text_max_len)]\n",
    "data = data[data['headlines'].apply(lambda x: headlines_min_len <= len(x.split()) <= headlines_max_len)]\n",
    "print('전체 샘플수 :', (len(data)))"
   ]
  },
  {
   "cell_type": "markdown",
   "id": "ceramic-extraction",
   "metadata": {},
   "source": [
    "#### 시작 토큰과 종료 토큰 추가\n",
    "디코더는 시작 토큰을 입력받아 문장을 생성하기 시작하고, 종료 토큰을 예측한 순간에 문장 생성을 멈춥니다."
   ]
  },
  {
   "cell_type": "code",
   "execution_count": 16,
   "id": "generous-salad",
   "metadata": {},
   "outputs": [
    {
     "data": {
      "text/html": [
       "<div>\n",
       "<style scoped>\n",
       "    .dataframe tbody tr th:only-of-type {\n",
       "        vertical-align: middle;\n",
       "    }\n",
       "\n",
       "    .dataframe tbody tr th {\n",
       "        vertical-align: top;\n",
       "    }\n",
       "\n",
       "    .dataframe thead th {\n",
       "        text-align: right;\n",
       "    }\n",
       "</style>\n",
       "<table border=\"1\" class=\"dataframe\">\n",
       "  <thead>\n",
       "    <tr style=\"text-align: right;\">\n",
       "      <th></th>\n",
       "      <th>headlines</th>\n",
       "      <th>text</th>\n",
       "      <th>decoder_input</th>\n",
       "      <th>decoder_target</th>\n",
       "    </tr>\n",
       "  </thead>\n",
       "  <tbody>\n",
       "    <tr>\n",
       "      <th>0</th>\n",
       "      <td>upgrad learner switches to career in ml al wit...</td>\n",
       "      <td>saurav kant alumnus upgrad iiit pg program mac...</td>\n",
       "      <td>sostoken upgrad learner switches to career in ...</td>\n",
       "      <td>upgrad learner switches to career in ml al wit...</td>\n",
       "    </tr>\n",
       "    <tr>\n",
       "      <th>2</th>\n",
       "      <td>new zealand end rohit sharma led india match w...</td>\n",
       "      <td>new zealand defeated india wickets fourth odi ...</td>\n",
       "      <td>sostoken new zealand end rohit sharma led indi...</td>\n",
       "      <td>new zealand end rohit sharma led india match w...</td>\n",
       "    </tr>\n",
       "    <tr>\n",
       "      <th>3</th>\n",
       "      <td>aegon life iterm insurance plan helps customer...</td>\n",
       "      <td>aegon life iterm insurance plan customers enjo...</td>\n",
       "      <td>sostoken aegon life iterm insurance plan helps...</td>\n",
       "      <td>aegon life iterm insurance plan helps customer...</td>\n",
       "    </tr>\n",
       "    <tr>\n",
       "      <th>5</th>\n",
       "      <td>rahat fateh ali khan denies getting notice for...</td>\n",
       "      <td>pakistani singer rahat fateh ali khan denied r...</td>\n",
       "      <td>sostoken rahat fateh ali khan denies getting n...</td>\n",
       "      <td>rahat fateh ali khan denies getting notice for...</td>\n",
       "    </tr>\n",
       "    <tr>\n",
       "      <th>7</th>\n",
       "      <td>govt directs alok verma to join work day befor...</td>\n",
       "      <td>weeks ex cbi director alok verma told departme...</td>\n",
       "      <td>sostoken govt directs alok verma to join work ...</td>\n",
       "      <td>govt directs alok verma to join work day befor...</td>\n",
       "    </tr>\n",
       "  </tbody>\n",
       "</table>\n",
       "</div>"
      ],
      "text/plain": [
       "                                           headlines  \\\n",
       "0  upgrad learner switches to career in ml al wit...   \n",
       "2  new zealand end rohit sharma led india match w...   \n",
       "3  aegon life iterm insurance plan helps customer...   \n",
       "5  rahat fateh ali khan denies getting notice for...   \n",
       "7  govt directs alok verma to join work day befor...   \n",
       "\n",
       "                                                text  \\\n",
       "0  saurav kant alumnus upgrad iiit pg program mac...   \n",
       "2  new zealand defeated india wickets fourth odi ...   \n",
       "3  aegon life iterm insurance plan customers enjo...   \n",
       "5  pakistani singer rahat fateh ali khan denied r...   \n",
       "7  weeks ex cbi director alok verma told departme...   \n",
       "\n",
       "                                       decoder_input  \\\n",
       "0  sostoken upgrad learner switches to career in ...   \n",
       "2  sostoken new zealand end rohit sharma led indi...   \n",
       "3  sostoken aegon life iterm insurance plan helps...   \n",
       "5  sostoken rahat fateh ali khan denies getting n...   \n",
       "7  sostoken govt directs alok verma to join work ...   \n",
       "\n",
       "                                      decoder_target  \n",
       "0  upgrad learner switches to career in ml al wit...  \n",
       "2  new zealand end rohit sharma led india match w...  \n",
       "3  aegon life iterm insurance plan helps customer...  \n",
       "5  rahat fateh ali khan denies getting notice for...  \n",
       "7  govt directs alok verma to join work day befor...  "
      ]
     },
     "execution_count": 16,
     "metadata": {},
     "output_type": "execute_result"
    }
   ],
   "source": [
    "# 요약 데이터에는 시작 토큰과 종료 토큰을 추가한다.\n",
    "data['decoder_input'] = data['headlines'].apply(lambda x : 'sostoken '+ x)\n",
    "data['decoder_target'] = data['headlines'].apply(lambda x : x + ' eostoken')\n",
    "data.head()"
   ]
  },
  {
   "cell_type": "code",
   "execution_count": 17,
   "id": "lined-fifth",
   "metadata": {},
   "outputs": [],
   "source": [
    "# 인코더의 입력, 디코더의 입력과 레이블을 각가 다시 Numpy 타입으로 저장해줍니다.\n",
    "encoder_input = np.array(data['text']) # 인코더의 입력\n",
    "decoder_input = np.array(data['decoder_input']) # 디코더의 입력\n",
    "decoder_target = np.array(data['decoder_target']) # 디코더의 레이블"
   ]
  },
  {
   "cell_type": "markdown",
   "id": "grateful-karen",
   "metadata": {},
   "source": [
    "#### 데이터 나누기"
   ]
  },
  {
   "cell_type": "code",
   "execution_count": 18,
   "id": "running-boating",
   "metadata": {},
   "outputs": [
    {
     "name": "stdout",
     "output_type": "stream",
     "text": [
      "[63958 19149 63164 ... 39463 34594 67036]\n"
     ]
    }
   ],
   "source": [
    "# 훈련 데이터와 테스트 데이터를 분리 (직접 코딩을 통해서 분리하는 방법)\n",
    "indices = np.arange(encoder_input.shape[0])\n",
    "np.random.shuffle(indices)\n",
    "print(indices)"
   ]
  },
  {
   "cell_type": "code",
   "execution_count": 19,
   "id": "sweet-surname",
   "metadata": {},
   "outputs": [
    {
     "name": "stdout",
     "output_type": "stream",
     "text": [
      "테스트 데이터의 수 : 14407\n"
     ]
    }
   ],
   "source": [
    "# 이 정수 시퀀스를 이용해 다시 데이터의 샘플 순서를 정의해 주면 잘 섞인 샘플이 됩니다. \n",
    "encoder_input = encoder_input[indices]\n",
    "decoder_input = decoder_input[indices]\n",
    "decoder_target = decoder_target[indices]\n",
    "\n",
    "# 섞인 데이터를 8:2의 비율로 훈련 데이터와 테스트 데이터로 분리\n",
    "n_of_val = int(len(encoder_input)*0.2)\n",
    "print('테스트 데이터의 수 :', n_of_val)"
   ]
  },
  {
   "cell_type": "code",
   "execution_count": 20,
   "id": "blank-journey",
   "metadata": {},
   "outputs": [
    {
     "name": "stdout",
     "output_type": "stream",
     "text": [
      "훈련 데이터의 개수 : 57629\n",
      "훈련 레이블의 개수 : 57629\n",
      "테스트 데이터의 개수 : 14407\n",
      "테스트 레이블의 개수 : 14407\n"
     ]
    }
   ],
   "source": [
    "# 정의한 테스트 데이터의 개수를 이용해 전체 데이터를 양분\n",
    "encoder_input_train = encoder_input[:-n_of_val]\n",
    "decoder_input_train = decoder_input[:-n_of_val]\n",
    "decoder_target_train = decoder_target[:-n_of_val]\n",
    "\n",
    "encoder_input_test = encoder_input[-n_of_val:]\n",
    "decoder_input_test = decoder_input[-n_of_val:]\n",
    "decoder_target_test = decoder_target[-n_of_val:]\n",
    "\n",
    "print('훈련 데이터의 개수 :', len(encoder_input_train))\n",
    "print('훈련 레이블의 개수 :', len(decoder_input_train))\n",
    "print('테스트 데이터의 개수 :', len(encoder_input_test))\n",
    "print('테스트 레이블의 개수 :', len(decoder_input_test))"
   ]
  },
  {
   "cell_type": "markdown",
   "id": "minute-throw",
   "metadata": {},
   "source": [
    "#### 정수 인코딩\n",
    "##### 단어 집합(vocabulary) 만들기 및 정수 인코딩\n",
    "\n",
    "기계가 텍스트를 숫자로 처리할 수 있도록 훈련 데이터와 테스트 데이터의 단어들을 모두 정수로 바꾸어 주어야 합니다.  각 단어에 고유한 정수를 맵핑하는 작업이 필요합니다. \n",
    "\n",
    "이 과정을 **단어 집합(vocabulary)**을 만든다고 표현합니다.  \n",
    "\n",
    "등장 빈도가 6회 이하인 단어들은 정수 인코딩 과정에서 빼고, 훈련 데이터에서 제거하고자 합니다."
   ]
  },
  {
   "cell_type": "code",
   "execution_count": 21,
   "id": "literary-agency",
   "metadata": {},
   "outputs": [
    {
     "name": "stdout",
     "output_type": "stream",
     "text": [
      "단어 집합(vocabulary)의 크기 : 60019\n",
      "등장 빈도가 6번 이하인 희귀 단어의 수: 41004\n",
      "단어 집합에서 희귀 단어를 제외시킬 경우의 단어 집합의 크기 19015\n",
      "단어 집합에서 희귀 단어의 비율: 68.3183658508139\n",
      "전체 등장 빈도에서 희귀 단어 등장 빈도 비율: 4.133657258624807\n"
     ]
    }
   ],
   "source": [
    "# Keras의 토크나이저를 사용하여 입력된 훈련 데이터로부터 단어 집합 생성\n",
    "src_tokenizer = Tokenizer() # 토크나이저 정의\n",
    "src_tokenizer.fit_on_texts(encoder_input_train) # 입력된 데이터로부터 단어 집합 생성\n",
    "# 생성된 단어 집합은 src_tokenizer.word_index에 저장\n",
    "\n",
    "# 등장 빈도수가 7회 미만인 단어들이 이 데이터에서 얼만큼의 비중을 차지하는지 확인\n",
    "threshold = 7\n",
    "total_cnt = len(src_tokenizer.word_index) # 단어의 수\n",
    "rare_cnt = 0 # 등장 빈도수가 threshold보다 작은 단어의 개수를 카운트\n",
    "total_freq = 0 # 훈련 데이터의 전체 단어 빈도수 총 합\n",
    "rare_freq = 0 # 등장 빈도수가 threshold보다 작은 단어의 등장 빈도수의 총 합\n",
    "\n",
    "# 단어와 빈도수의 쌍(pair)을 key와 value로 받는다.\n",
    "for key, value in src_tokenizer.word_counts.items():\n",
    "    total_freq = total_freq + value\n",
    "\n",
    "    # 단어의 등장 빈도수가 threshold보다 작으면\n",
    "    if(value < threshold):\n",
    "        rare_cnt = rare_cnt + 1\n",
    "        rare_freq = rare_freq + value\n",
    "\n",
    "print('단어 집합(vocabulary)의 크기 :', total_cnt)\n",
    "print('등장 빈도가 %s번 이하인 희귀 단어의 수: %s'%(threshold - 1, rare_cnt))\n",
    "print('단어 집합에서 희귀 단어를 제외시킬 경우의 단어 집합의 크기 %s'%(total_cnt - rare_cnt))\n",
    "print(\"단어 집합에서 희귀 단어의 비율:\", (rare_cnt / total_cnt)*100)\n",
    "print(\"전체 등장 빈도에서 희귀 단어 등장 빈도 비율:\", (rare_freq / total_freq)*100)"
   ]
  },
  {
   "cell_type": "code",
   "execution_count": 22,
   "id": "sweet-diamond",
   "metadata": {},
   "outputs": [
    {
     "name": "stdout",
     "output_type": "stream",
     "text": [
      "[[2441, 2816, 254, 298, 435, 205, 468, 8724, 5, 84, 21, 106, 8556, 5641, 1013, 2816, 397, 1841, 375, 15670, 3225, 2840, 929, 104, 2816, 252, 3874, 5043, 10484, 479], [1449, 31, 86, 198, 813, 23, 1179, 5977, 13506, 3925, 4193, 7, 1, 1449, 13, 198, 641, 1705, 18, 348, 286, 7675, 238, 203, 2648, 2304, 4571, 453, 1405, 4825, 1], [27, 321, 2528, 1642, 21, 349, 13, 785, 4662, 727, 170, 378, 559, 12, 107, 38, 5044, 559, 1633, 999, 402, 12, 1087, 364, 397, 1537, 1729, 497, 727, 501, 4826, 70, 1642, 1180, 4711, 1729]]\n"
     ]
    }
   ],
   "source": [
    "# 위에서 이를 제외한 단어 집합의 크기를 18천여 개로 계산했는데, 이와 비슷한 값으로 어림잡아 단어 집합의 크기를 18,500으로 제한\n",
    "src_vocab = 18500\n",
    "src_tokenizer = Tokenizer(num_words=src_vocab) # 단어 집합의 크기를 18,500으로 제한\n",
    "src_tokenizer.fit_on_texts(encoder_input_train) # 단어 집합 재생성.\n",
    "\n",
    "# 텍스트 시퀀스를 정수 시퀀스로 변환\n",
    "encoder_input_train = src_tokenizer.texts_to_sequences(encoder_input_train) \n",
    "encoder_input_test = src_tokenizer.texts_to_sequences(encoder_input_test)\n",
    "\n",
    "# 잘 진행되었는지 샘플 출력(18,500이 넘는 숫자들은 존재하지 않음)\n",
    "print(encoder_input_train[:3])"
   ]
  },
  {
   "cell_type": "code",
   "execution_count": 23,
   "id": "serious-priority",
   "metadata": {},
   "outputs": [
    {
     "name": "stdout",
     "output_type": "stream",
     "text": [
      "단어 집합(vocabulary)의 크기 : 26447\n",
      "등장 빈도가 5번 이하인 희귀 단어의 수: 17642\n",
      "단어 집합에서 희귀 단어를 제외시킬 경우의 단어 집합의 크기 8805\n",
      "단어 집합에서 희귀 단어의 비율: 66.70699890346731\n",
      "전체 등장 빈도에서 희귀 단어 등장 빈도 비율: 5.696112482738419\n"
     ]
    }
   ],
   "source": [
    "# Summary 데이터에 대해서도 동일한 작업 수행\n",
    "tar_tokenizer = Tokenizer()\n",
    "tar_tokenizer.fit_on_texts(decoder_input_train)\n",
    "\n",
    "threshold = 6\n",
    "total_cnt = len(tar_tokenizer.word_index) # 단어의 수\n",
    "rare_cnt = 0 # 등장 빈도수가 threshold보다 작은 단어의 개수를 카운트\n",
    "total_freq = 0 # 훈련 데이터의 전체 단어 빈도수 총 합\n",
    "rare_freq = 0 # 등장 빈도수가 threshold보다 작은 단어의 등장 빈도수의 총 합\n",
    "\n",
    "# 단어와 빈도수의 쌍(pair)을 key와 value로 받는다.\n",
    "for key, value in tar_tokenizer.word_counts.items():\n",
    "    total_freq = total_freq + value\n",
    "\n",
    "    # 단어의 등장 빈도수가 threshold보다 작으면\n",
    "    if(value < threshold):\n",
    "        rare_cnt = rare_cnt + 1\n",
    "        rare_freq = rare_freq + value\n",
    "\n",
    "print('단어 집합(vocabulary)의 크기 :', total_cnt)\n",
    "print('등장 빈도가 %s번 이하인 희귀 단어의 수: %s'%(threshold - 1, rare_cnt))\n",
    "print('단어 집합에서 희귀 단어를 제외시킬 경우의 단어 집합의 크기 %s'%(total_cnt - rare_cnt))\n",
    "print(\"단어 집합에서 희귀 단어의 비율:\", (rare_cnt / total_cnt)*100)\n",
    "print(\"전체 등장 빈도에서 희귀 단어 등장 빈도 비율:\", (rare_freq / total_freq)*100)"
   ]
  },
  {
   "cell_type": "code",
   "execution_count": 24,
   "id": "entertaining-module",
   "metadata": {},
   "outputs": [
    {
     "name": "stdout",
     "output_type": "stream",
     "text": [
      "input\n",
      "input  [[1, 1852, 2851, 111, 403, 255, 11], [1, 676, 661, 6406, 260, 4, 2684], [1, 774, 662, 1347, 3296, 5, 8, 270, 344, 118], [1, 248, 7404, 1040, 441, 116, 5, 3776, 64], [1, 281, 5087, 1412, 6, 349, 7, 7405, 5088]]\n",
      "target\n",
      "decoder  [[1852, 2851, 111, 403, 255, 11, 2], [676, 661, 6406, 260, 4, 2684, 2], [774, 662, 1347, 3296, 5, 8, 270, 344, 118, 2], [248, 7404, 1040, 441, 116, 5, 3776, 64, 2], [281, 5087, 1412, 6, 349, 7, 7405, 5088, 2]]\n"
     ]
    }
   ],
   "source": [
    "tar_vocab = 8500\n",
    "tar_tokenizer = Tokenizer(num_words=tar_vocab) \n",
    "tar_tokenizer.fit_on_texts(decoder_input_train)\n",
    "tar_tokenizer.fit_on_texts(decoder_target_train)\n",
    "\n",
    "# 텍스트 시퀀스를 정수 시퀀스로 변환\n",
    "decoder_input_train = tar_tokenizer.texts_to_sequences(decoder_input_train) \n",
    "decoder_target_train = tar_tokenizer.texts_to_sequences(decoder_target_train)\n",
    "decoder_input_test = tar_tokenizer.texts_to_sequences(decoder_input_test)\n",
    "decoder_target_test = tar_tokenizer.texts_to_sequences(decoder_target_test)\n",
    "\n",
    "# 잘 변환되었는지 확인\n",
    "print('input')\n",
    "print('input ',decoder_input_train[:5])\n",
    "print('target')\n",
    "print('decoder ',decoder_target_train[:5])"
   ]
  },
  {
   "cell_type": "markdown",
   "id": "extraordinary-screening",
   "metadata": {},
   "source": [
    "#### 점검\n",
    "- empty sample이 있는지 확인\n",
    "- 이 때 token을 고려해서 요약문의 길이가 1인 경우의 인덱스를 각각 drop_train과 drop_test에 라는 변수에 저장해서 모두 삭제"
   ]
  },
  {
   "cell_type": "code",
   "execution_count": 25,
   "id": "personalized-transport",
   "metadata": {},
   "outputs": [
    {
     "name": "stdout",
     "output_type": "stream",
     "text": [
      "삭제할 훈련 데이터의 개수 : 0\n",
      "삭제할 테스트 데이터의 개수 : 0\n",
      "훈련 데이터의 개수 : 57629\n",
      "훈련 레이블의 개수 : 57629\n",
      "테스트 데이터의 개수 : 14407\n",
      "테스트 레이블의 개수 : 14407\n"
     ]
    },
    {
     "name": "stderr",
     "output_type": "stream",
     "text": [
      "/opt/conda/lib/python3.7/site-packages/numpy/core/_asarray.py:83: VisibleDeprecationWarning: Creating an ndarray from ragged nested sequences (which is a list-or-tuple of lists-or-tuples-or ndarrays with different lengths or shapes) is deprecated. If you meant to do this, you must specify 'dtype=object' when creating the ndarray\n",
      "  return array(a, dtype, copy=False, order=order)\n"
     ]
    }
   ],
   "source": [
    "drop_train = [index for index, sentence in enumerate(decoder_input_train) if len(sentence) == 1]\n",
    "drop_test = [index for index, sentence in enumerate(decoder_input_test) if len(sentence) == 1]\n",
    "\n",
    "print('삭제할 훈련 데이터의 개수 :', len(drop_train))\n",
    "print('삭제할 테스트 데이터의 개수 :', len(drop_test))\n",
    "\n",
    "encoder_input_train = np.delete(encoder_input_train, drop_train, axis=0)\n",
    "decoder_input_train = np.delete(decoder_input_train, drop_train, axis=0)\n",
    "decoder_target_train = np.delete(decoder_target_train, drop_train, axis=0)\n",
    "\n",
    "encoder_input_test = np.delete(encoder_input_test, drop_test, axis=0)\n",
    "decoder_input_test = np.delete(decoder_input_test, drop_test, axis=0)\n",
    "decoder_target_test = np.delete(decoder_target_test, drop_test, axis=0)\n",
    "\n",
    "print('훈련 데이터의 개수 :', len(encoder_input_train))\n",
    "print('훈련 레이블의 개수 :', len(decoder_input_train))\n",
    "print('테스트 데이터의 개수 :', len(encoder_input_test))\n",
    "print('테스트 레이블의 개수 :', len(decoder_input_test))"
   ]
  },
  {
   "cell_type": "markdown",
   "id": "tamil-logan",
   "metadata": {},
   "source": [
    "#### 패딩하기\n",
    "서로 다른 길이의 샘플들을 병렬 처리하기 위해 같은 길이로 맞춰주는 패딩 작업"
   ]
  },
  {
   "cell_type": "code",
   "execution_count": 26,
   "id": "funded-chicago",
   "metadata": {},
   "outputs": [],
   "source": [
    "# 아까 정해두었던 최대 길이로 패딩, 최대 길이보다 짧은 데이터들은 뒤의 공간에 숫자 0을 넣어 최대 길이로 길이를 맞춰줍니다.\n",
    "encoder_input_train = pad_sequences(encoder_input_train, maxlen=text_max_len, padding='post')\n",
    "encoder_input_test = pad_sequences(encoder_input_test, maxlen=text_max_len, padding='post')\n",
    "decoder_input_train = pad_sequences(decoder_input_train, maxlen=headlines_max_len, padding='post')\n",
    "decoder_target_train = pad_sequences(decoder_target_train, maxlen=headlines_max_len, padding='post')\n",
    "decoder_input_test = pad_sequences(decoder_input_test, maxlen=headlines_max_len, padding='post')\n",
    "decoder_target_test = pad_sequences(decoder_target_test, maxlen=headlines_max_len, padding='post')"
   ]
  },
  {
   "cell_type": "markdown",
   "id": "otherwise-circumstances",
   "metadata": {},
   "source": [
    "### 모델 설계\n",
    "함수형 API를 이용해서 인코더를 설계  \n",
    "\n",
    "#### 인코더\n",
    "인코더의 LSTM은 총 3개의 층으로 구성해서 모델의 복잡도를 높입니다."
   ]
  },
  {
   "cell_type": "code",
   "execution_count": 27,
   "id": "grave-intention",
   "metadata": {},
   "outputs": [
    {
     "name": "stdout",
     "output_type": "stream",
     "text": [
      "WARNING:tensorflow:Layer lstm will not use cuDNN kernel since it doesn't meet the cuDNN kernel criteria. It will use generic GPU kernel as fallback when running on GPU\n",
      "WARNING:tensorflow:Layer lstm_1 will not use cuDNN kernel since it doesn't meet the cuDNN kernel criteria. It will use generic GPU kernel as fallback when running on GPU\n",
      "WARNING:tensorflow:Layer lstm_2 will not use cuDNN kernel since it doesn't meet the cuDNN kernel criteria. It will use generic GPU kernel as fallback when running on GPU\n"
     ]
    }
   ],
   "source": [
    "from tensorflow.keras.layers import Input, LSTM, Embedding, Dense, Concatenate\n",
    "from tensorflow.keras.models import Model\n",
    "from tensorflow.keras.callbacks import EarlyStopping, ModelCheckpoint\n",
    "\n",
    "\n",
    "# 인코더 설계 시작\n",
    "embedding_dim = 128\n",
    "hidden_size = 256\n",
    "\n",
    "# 인코더\n",
    "encoder_inputs = Input(shape=(text_max_len,))\n",
    "\n",
    "# 인코더의 임베딩 층\n",
    "enc_emb = Embedding(src_vocab, embedding_dim)(encoder_inputs)\n",
    "\n",
    "# 인코더의 LSTM 1\n",
    "encoder_lstm1 = LSTM(hidden_size, return_sequences=True, return_state=True ,dropout = 0.4, recurrent_dropout = 0.4)\n",
    "encoder_output1, state_h1, state_c1 = encoder_lstm1(enc_emb)\n",
    "\n",
    "# 인코더의 LSTM 2\n",
    "encoder_lstm2 = LSTM(hidden_size, return_sequences=True, return_state=True, dropout=0.4, recurrent_dropout=0.4)\n",
    "encoder_output2, state_h2, state_c2 = encoder_lstm2(encoder_output1)\n",
    "\n",
    "# 인코더의 LSTM 3\n",
    "encoder_lstm3 = LSTM(hidden_size, return_state=True, return_sequences=True, dropout=0.4, recurrent_dropout=0.4)\n",
    "encoder_outputs, state_h, state_c= encoder_lstm3(encoder_output2)"
   ]
  },
  {
   "cell_type": "markdown",
   "id": "subjective-nursery",
   "metadata": {},
   "source": [
    "#### 디코더\n",
    "##### 어텐션 메커니즘 사용"
   ]
  },
  {
   "cell_type": "code",
   "execution_count": 28,
   "id": "distinguished-booth",
   "metadata": {},
   "outputs": [],
   "source": [
    "# 깃허브에 공개돼 있는 어텐션 함수 다운로드\n",
    "urllib.request.urlretrieve(\"https://raw.githubusercontent.com/thushv89/attention_keras/master/src/layers/attention.py\", filename=\"attention.py\")\n",
    "from attention import AttentionLayer"
   ]
  },
  {
   "cell_type": "code",
   "execution_count": 29,
   "id": "regulated-credit",
   "metadata": {
    "scrolled": true
   },
   "outputs": [
    {
     "name": "stdout",
     "output_type": "stream",
     "text": [
      "WARNING:tensorflow:Layer lstm_3 will not use cuDNN kernel since it doesn't meet the cuDNN kernel criteria. It will use generic GPU kernel as fallback when running on GPU\n",
      "Model: \"model\"\n",
      "__________________________________________________________________________________________________\n",
      "Layer (type)                    Output Shape         Param #     Connected to                     \n",
      "==================================================================================================\n",
      "input_1 (InputLayer)            [(None, 40)]         0                                            \n",
      "__________________________________________________________________________________________________\n",
      "embedding (Embedding)           (None, 40, 128)      2368000     input_1[0][0]                    \n",
      "__________________________________________________________________________________________________\n",
      "lstm (LSTM)                     [(None, 40, 256), (N 394240      embedding[0][0]                  \n",
      "__________________________________________________________________________________________________\n",
      "input_2 (InputLayer)            [(None, None)]       0                                            \n",
      "__________________________________________________________________________________________________\n",
      "lstm_1 (LSTM)                   [(None, 40, 256), (N 525312      lstm[0][0]                       \n",
      "__________________________________________________________________________________________________\n",
      "embedding_1 (Embedding)         (None, None, 128)    1088000     input_2[0][0]                    \n",
      "__________________________________________________________________________________________________\n",
      "lstm_2 (LSTM)                   [(None, 40, 256), (N 525312      lstm_1[0][0]                     \n",
      "__________________________________________________________________________________________________\n",
      "lstm_3 (LSTM)                   [(None, None, 256),  394240      embedding_1[0][0]                \n",
      "                                                                 lstm_2[0][1]                     \n",
      "                                                                 lstm_2[0][2]                     \n",
      "__________________________________________________________________________________________________\n",
      "attention_layer (AttentionLayer ((None, None, 256),  131328      lstm_2[0][0]                     \n",
      "                                                                 lstm_3[0][0]                     \n",
      "__________________________________________________________________________________________________\n",
      "concat_layer (Concatenate)      (None, None, 512)    0           lstm_3[0][0]                     \n",
      "                                                                 attention_layer[0][0]            \n",
      "__________________________________________________________________________________________________\n",
      "dense (Dense)                   (None, None, 8500)   4360500     concat_layer[0][0]               \n",
      "==================================================================================================\n",
      "Total params: 9,786,932\n",
      "Trainable params: 9,786,932\n",
      "Non-trainable params: 0\n",
      "__________________________________________________________________________________________________\n"
     ]
    }
   ],
   "source": [
    "# 3개의 층을 지나서 인코더로부터 나온 출력 벡터는 디코더로 보냅니다. \n",
    "\n",
    "# 디코더 설계\n",
    "decoder_inputs = Input(shape=(None,))\n",
    "\n",
    "# 디코더의 임베딩 층\n",
    "dec_emb_layer = Embedding(tar_vocab, embedding_dim)\n",
    "dec_emb = dec_emb_layer(decoder_inputs)\n",
    "\n",
    "# 디코더의 LSTM\n",
    "decoder_lstm = LSTM(hidden_size, return_sequences=True, return_state=True, dropout=0.4, recurrent_dropout=0.2)\n",
    "decoder_outputs, _, _ = decoder_lstm(dec_emb, initial_state=[state_h, state_c])\n",
    "\n",
    "# 어텐션 층(어텐션 함수)\n",
    "attn_layer = AttentionLayer(name='attention_layer')\n",
    "# 인코더와 디코더의 모든 time step의 hidden state를 어텐션 층에 전달하고 결과를 리턴\n",
    "attn_out, attn_states = attn_layer([encoder_outputs, decoder_outputs])\n",
    "\n",
    "# 어텐션의 결과와 디코더의 hidden state들을 연결\n",
    "decoder_concat_input = Concatenate(axis=-1, name='concat_layer')([decoder_outputs, attn_out])\n",
    "\n",
    "# 디코더의 출력층\n",
    "decoder_softmax_layer = Dense(tar_vocab, activation='softmax')\n",
    "decoder_softmax_outputs = decoder_softmax_layer(decoder_concat_input)\n",
    "\n",
    "# 모델 정의\n",
    "model = Model([encoder_inputs, decoder_inputs], decoder_softmax_outputs)\n",
    "model.summary()"
   ]
  },
  {
   "cell_type": "markdown",
   "id": "standard-atlanta",
   "metadata": {},
   "source": [
    "### 모델 훈련"
   ]
  },
  {
   "cell_type": "code",
   "execution_count": 30,
   "id": "proud-muslim",
   "metadata": {
    "scrolled": false
   },
   "outputs": [
    {
     "name": "stdout",
     "output_type": "stream",
     "text": [
      "Epoch 1/50\n",
      "226/226 [==============================] - 156s 640ms/step - loss: 6.4602 - val_loss: 5.7071\n",
      "Epoch 2/50\n",
      "226/226 [==============================] - 144s 636ms/step - loss: 5.6627 - val_loss: 5.3822\n",
      "Epoch 3/50\n",
      "226/226 [==============================] - 143s 633ms/step - loss: 5.3240 - val_loss: 5.1288\n",
      "Epoch 4/50\n",
      "226/226 [==============================] - 144s 637ms/step - loss: 5.0107 - val_loss: 4.9283\n",
      "Epoch 5/50\n",
      "226/226 [==============================] - 144s 636ms/step - loss: 4.7569 - val_loss: 4.7434\n",
      "Epoch 6/50\n",
      "226/226 [==============================] - 144s 635ms/step - loss: 4.5421 - val_loss: 4.6081\n",
      "Epoch 7/50\n",
      "226/226 [==============================] - 144s 638ms/step - loss: 4.3740 - val_loss: 4.5312\n",
      "Epoch 8/50\n",
      "226/226 [==============================] - 142s 629ms/step - loss: 4.2368 - val_loss: 4.4361\n",
      "Epoch 9/50\n",
      "226/226 [==============================] - 142s 630ms/step - loss: 4.0956 - val_loss: 4.3774\n",
      "Epoch 10/50\n",
      "226/226 [==============================] - 142s 628ms/step - loss: 3.9740 - val_loss: 4.3195\n",
      "Epoch 11/50\n",
      "226/226 [==============================] - 140s 618ms/step - loss: 3.8662 - val_loss: 4.2828\n",
      "Epoch 12/50\n",
      "226/226 [==============================] - 140s 619ms/step - loss: 3.7673 - val_loss: 4.2234\n",
      "Epoch 13/50\n",
      "226/226 [==============================] - 139s 615ms/step - loss: 3.6687 - val_loss: 4.1973\n",
      "Epoch 14/50\n",
      "226/226 [==============================] - 139s 614ms/step - loss: 3.5913 - val_loss: 4.1694\n",
      "Epoch 15/50\n",
      "226/226 [==============================] - 138s 612ms/step - loss: 3.5117 - val_loss: 4.1385\n",
      "Epoch 16/50\n",
      "226/226 [==============================] - 139s 614ms/step - loss: 3.4401 - val_loss: 4.1244\n",
      "Epoch 17/50\n",
      "226/226 [==============================] - 139s 616ms/step - loss: 3.3669 - val_loss: 4.0984\n",
      "Epoch 18/50\n",
      "226/226 [==============================] - 139s 613ms/step - loss: 3.2983 - val_loss: 4.0796\n",
      "Epoch 19/50\n",
      "226/226 [==============================] - 138s 613ms/step - loss: 3.2501 - val_loss: 4.0863\n",
      "Epoch 20/50\n",
      "226/226 [==============================] - 139s 613ms/step - loss: 3.1896 - val_loss: 4.0715\n",
      "Epoch 21/50\n",
      "226/226 [==============================] - 138s 612ms/step - loss: 3.1303 - val_loss: 4.0560\n",
      "Epoch 22/50\n",
      "226/226 [==============================] - 139s 616ms/step - loss: 3.0763 - val_loss: 4.0367\n",
      "Epoch 23/50\n",
      "226/226 [==============================] - 139s 615ms/step - loss: 3.0232 - val_loss: 4.0458\n",
      "Epoch 24/50\n",
      "226/226 [==============================] - 139s 616ms/step - loss: 2.9793 - val_loss: 4.0394\n",
      "Epoch 00024: early stopping\n"
     ]
    }
   ],
   "source": [
    "model.compile(optimizer='rmsprop', loss='sparse_categorical_crossentropy')\n",
    "es = EarlyStopping(monitor='val_loss', patience=2, verbose=1)\n",
    "history = model.fit(x=[encoder_input_train, decoder_input_train], y=decoder_target_train, \\\n",
    "          validation_data=([encoder_input_test, decoder_input_test], decoder_target_test), \\\n",
    "          batch_size=256, callbacks=[es], epochs=50)"
   ]
  },
  {
   "cell_type": "code",
   "execution_count": 31,
   "id": "executed-medicare",
   "metadata": {},
   "outputs": [
    {
     "data": {
      "image/png": "[encoded data removed]",
      "text/plain": [
       "<Figure size 432x288 with 1 Axes>"
      ]
     },
     "metadata": {
      "needs_background": "light"
     },
     "output_type": "display_data"
    }
   ],
   "source": [
    "# 훈련 데이터의 손실과 검증 데이터의 손실이 줄어드는 과정 시각화\n",
    "plt.plot(history.history['loss'], label='train')\n",
    "plt.plot(history.history['val_loss'], label='test')\n",
    "plt.legend()\n",
    "plt.show()"
   ]
  },
  {
   "cell_type": "markdown",
   "id": "sudden-crest",
   "metadata": {},
   "source": [
    "### Inference Model 구현\n",
    "- 인코더 모델과 디코더 모델을 분리해서 설계"
   ]
  },
  {
   "cell_type": "code",
   "execution_count": 32,
   "id": "meaningful-header",
   "metadata": {},
   "outputs": [],
   "source": [
    "# 테스트 단계에서는 정수 인덱스 행렬로 존재하던 텍스트 데이터를 실제 데이터로 복원해야 하므로, 필요한 3개의 사전 준비\n",
    "src_index_to_word = src_tokenizer.index_word # 원문 단어 집합에서 정수 -> 단어를 얻음\n",
    "tar_word_to_index = tar_tokenizer.word_index # 요약 단어 집합에서 단어 -> 정수를 얻음\n",
    "tar_index_to_word = tar_tokenizer.index_word # 요약 단어 집합에서 정수 -> 단어를 얻음"
   ]
  },
  {
   "cell_type": "markdown",
   "id": "unique-stick",
   "metadata": {},
   "source": [
    "#### 인코더"
   ]
  },
  {
   "cell_type": "code",
   "execution_count": 33,
   "id": "subtle-click",
   "metadata": {},
   "outputs": [],
   "source": [
    "# 인코더 설계\n",
    "encoder_model = Model(inputs=encoder_inputs, outputs=[encoder_outputs, state_h, state_c])\n",
    "\n",
    "# 이전 시점의 상태들을 저장하는 텐서\n",
    "decoder_state_input_h = Input(shape=(hidden_size,))\n",
    "decoder_state_input_c = Input(shape=(hidden_size,))\n",
    "\n",
    "dec_emb2 = dec_emb_layer(decoder_inputs)\n",
    "\n",
    "# 문장의 다음 단어를 예측하기 위해서 초기 상태(initial_state)를 이전 시점의 상태로 사용. 이는 뒤의 함수 decode_sequence()에 구현\n",
    "# 훈련 과정에서와 달리 LSTM의 리턴하는 은닉 상태와 셀 상태인 state_h와 state_c를 버리지 않음.\n",
    "decoder_outputs2, state_h2, state_c2 = decoder_lstm(dec_emb2, initial_state=[decoder_state_input_h, decoder_state_input_c])"
   ]
  },
  {
   "cell_type": "markdown",
   "id": "differential-packet",
   "metadata": {},
   "source": [
    "#### 디코더"
   ]
  },
  {
   "cell_type": "code",
   "execution_count": 34,
   "id": "athletic-nashville",
   "metadata": {},
   "outputs": [],
   "source": [
    "# 어텐션 메커니즘을 사용하는 출력층 설계\n",
    "\n",
    "# 어텐션 함수\n",
    "decoder_hidden_state_input = Input(shape=(text_max_len, hidden_size))\n",
    "attn_out_inf, attn_states_inf = attn_layer([decoder_hidden_state_input, decoder_outputs2])\n",
    "decoder_inf_concat = Concatenate(axis=-1, name='concat')([decoder_outputs2, attn_out_inf])\n",
    "\n",
    "# 디코더의 출력층\n",
    "decoder_outputs2 = decoder_softmax_layer(decoder_inf_concat) \n",
    "\n",
    "# 최종 디코더 모델\n",
    "decoder_model = Model(\n",
    "    [decoder_inputs] + [decoder_hidden_state_input,decoder_state_input_h, decoder_state_input_c],\n",
    "    [decoder_outputs2] + [state_h2, state_c2])"
   ]
  },
  {
   "cell_type": "markdown",
   "id": "listed-jones",
   "metadata": {},
   "source": [
    "#### Inference"
   ]
  },
  {
   "cell_type": "code",
   "execution_count": 35,
   "id": "judicial-living",
   "metadata": {},
   "outputs": [],
   "source": [
    "# 인퍼런스 단계에서 단어 시퀀스를 완성하는 함수\n",
    "def decode_sequence(input_seq):\n",
    "    # 입력으로부터 인코더의 상태를 얻음\n",
    "    e_out, e_h, e_c = encoder_model.predict(input_seq)\n",
    "\n",
    "     # <SOS>에 해당하는 토큰 생성\n",
    "    target_seq = np.zeros((1,1))\n",
    "    target_seq[0, 0] = tar_word_to_index['sostoken']\n",
    "\n",
    "    stop_condition = False\n",
    "    decoded_sentence = ''\n",
    "    while not stop_condition: # stop_condition이 True가 될 때까지 루프 반복\n",
    "\n",
    "        output_tokens, h, c = decoder_model.predict([target_seq] + [e_out, e_h, e_c])\n",
    "        sampled_token_index = np.argmax(output_tokens[0, -1, :])\n",
    "        sampled_token = tar_index_to_word[sampled_token_index]\n",
    "\n",
    "        if (sampled_token!='eostoken'):\n",
    "            decoded_sentence += ' '+sampled_token\n",
    "\n",
    "        #  <eos>에 도달하거나 최대 길이를 넘으면 중단.\n",
    "        if (sampled_token == 'eostoken'  or len(decoded_sentence.split()) >= (headlines_max_len-1)):\n",
    "            stop_condition = True\n",
    "\n",
    "        # 길이가 1인 타겟 시퀀스를 업데이트\n",
    "        target_seq = np.zeros((1,1))\n",
    "        target_seq[0, 0] = sampled_token_index\n",
    "\n",
    "        # 상태를 업데이트 합니다.\n",
    "        e_h, e_c = h, c\n",
    "\n",
    "    return decoded_sentence"
   ]
  },
  {
   "cell_type": "markdown",
   "id": "indian-hayes",
   "metadata": {},
   "source": [
    "### 테스트\n",
    "- 원래의 요약문(headlines 열)과 학습을 통해 얻은 추상적 요약의 결과를 비교"
   ]
  },
  {
   "cell_type": "code",
   "execution_count": 36,
   "id": "applied-object",
   "metadata": {},
   "outputs": [
    {
     "name": "stdout",
     "output_type": "stream",
     "text": [
      "원문 : army chief bipin rawat said radicalised youth jammu kashmir soon realise gun solution problem neither army terrorists fulfil goals stating peace way improve situation valley added peace attained collective effort \n",
      "실제 요약 : youth will realise gun cannot fulfil goals army \n",
      "예측 요약 :  not going to enter army chief army chief\n",
      "\n",
      "\n",
      "원문 : philippine president rodrigo duterte said oxford university school stupid people duterte statement comes response oxford study claimed paid thousands dollars keyboard trolls support presidential campaign duterte admitted spending money elections said happened campaign elected \n",
      "실제 요약 : oxford is for stupid people philippine prez duterte \n",
      "예측 요약 :  philippine prez duterte calls for anti religious law\n",
      "\n",
      "\n",
      "원문 : six egyptian men arrested promoting sexual social media subjected anal examinations ahead october trial human rights organisation amnesty international said saturday adding hunting people based sexual orientation utterly amnesty added examinations violate international law \n",
      "실제 요약 : egypt forced exams amnesty \n",
      "예측 요약 :  arrested for harassing sex abuse of men in delhi\n",
      "\n",
      "\n",
      "원문 : gujarat lions defeated kolkata knight riders wickets friday register second win ipl batting first kkr put helped wicketkeeper batsman robin uthappa ball opener sunil narine ball reply gujarat chased target driven suresh raina ball balls spare \n",
      "실제 요약 : raina ball powers gl to wicket win over kkr \n",
      "예측 요약 :  pune spinner takes wickets in ipl match for ipl\n",
      "\n",
      "\n",
      "원문 : hollywood actors smith jessica part nine member jury year cannes film festival help choose winner highest prize awarded festival chinese actress fan also part jury headed spanish director pedro \n",
      "실제 요약 : will smith part of cannes film festival jury \n",
      "예측 요약 :  actor to receive award at cannes film fest\n",
      "\n",
      "\n",
      "원문 : leader threatened party would let loose snakes inside stadium chennai csk first home match kkr goes tuesday comes amid protests state parties urging centre constitute cauvery management board earlier said protestors would responsible untoward incident stadium \n",
      "실제 요약 : will let snakes at stadium during csk match tn leader \n",
      "예측 요약 :  bjp leader statue in football match in\n",
      "\n",
      "\n",
      "원문 : asked actors angad bedi neha dhupia wedding bedi rumoured ex girlfriend nora replied angad denying reports relationship said care happening married life angad nora earlier attended cricketer yuvraj singh wedding together shared pictures social media \n",
      "실제 요약 : who is angad says rumoured ex after he marries neha \n",
      "예측 요약 :  pic shows neha on marrying neha on her marriage\n",
      "\n",
      "\n",
      "원문 : attacking previous governments pm narendra modi saturday said maintaining ganga power money enough clean intentions also needed full honesty clean intentions undertaken campaign clean river added modi said pollution dropped river \n",
      "실제 요약 : ganga needs clean not power of money pm modi \n",
      "예측 요약 :  pm modi is waste of waste of water pm modi\n",
      "\n",
      "\n",
      "원문 : former indian space research organisation chief madhavan nair saturday joined bjp presence party chief amit shah kerala thiruvananthapuram nair directed successful missions including polar satellite launch vehicle tenure isro chief one accused deal case \n",
      "실제 요약 : ex isro chairman joins bjp in presence of chief amit shah \n",
      "예측 요약 :  former apple chief joins bjp for the first time\n",
      "\n",
      "\n",
      "원문 : anti narcotics forces iran seized carrier used smuggling drugs state media reported trained deliver drugs small plastic bag attached legs iran fighting smuggling cheap substances afghanistan around million population estimated addicted drugs \n",
      "실제 요약 : carrier used for smuggling drugs seized in iran \n",
      "예측 요약 :  isis bomb bomb to be held at border\n",
      "\n",
      "\n",
      "원문 : restaurant table reservation startup raised million latest funding round led investment trust early stage investment firm cricketer yuvraj singh earlier invested undisclosed sum brand ambassador gurugram based startup currently operational indian cities also setting operations dubai \n",
      "실제 요약 : yuvraj singh backed table reservation startup raises cr \n",
      "예측 요약 :  food brand raises mn from softbank\n",
      "\n",
      "\n",
      "원문 : actress kriti sanon shared video instagram seen dancing song hawa hawa arjun kapoor upcoming film captioned video wearing gown take heels climb onto bed dance earlier video also showed ranveer singh dancing song \n",
      "실제 요약 : video shows kriti sanon dancing to hawa hawa from \n",
      "예측 요약 :  kriti sanon shares video of dancing from dancing dancing\n",
      "\n",
      "\n",
      "원문 : saudi arabia aviation investigation bureau said jet airways flight attempted take using full power parallel designated runway riyadh airport last week many people board escaped unhurt following aborted take dgca suspended licence pilots involved incident pending investigation \n",
      "실제 요약 : jet airways plane tries to take off from in \n",
      "예측 요약 :  saudi airlines flight found in cockpit\n",
      "\n",
      "\n",
      "원문 : jodhpur court deliver verdict bollywood actor salman khan blackbuck poaching case april shoot movie hum saath saath hain khan along co actors saif ali khan tabu neelam sonali bendre allegedly two case registered following protests local bishnoi community \n",
      "실제 요약 : court to deliver verdict in salman blackbuck case on apr \n",
      "예측 요약 :  salman khan to replace salman khan in jodhpur film case\n",
      "\n",
      "\n",
      "원문 : national company law tribunal asked india promoter non executive chairman abhijit rajan leave country without permission authorities concerned union bank india taken infrastructure construction firm insolvency court alleging default crore mumbai based company total debt around crore \n",
      "실제 요약 : nclt bars mumbai based promoter from leaving india \n",
      "예측 요약 :  sebi asks staff to hire mallya to india\n",
      "\n",
      "\n",
      "원문 : talking killing saudi arabian journalist jamal khashoggi softbank ceo masayoshi son said terrible tragedy occurred adding pressed saudi government regarding matter son also said asked heart get bottom incident explain sense responsibility \n",
      "실제 요약 : tragedy that should not have son on saudi journo killing \n",
      "예측 요약 :  us journalist accuses of billion deal with son\n",
      "\n",
      "\n",
      "원문 : model actress lisa shared picture son instagram story born may lisa first child husband lisa got married october announced pregnancy instagram january year \n",
      "실제 요약 : lisa shares picture with her son online \n",
      "예측 요약 :  lisa shows baby bump in picture shared online\n",
      "\n",
      "\n",
      "원문 : cricketer commentator kevin pietersen friday slammed emirates airline luggage travelling united kingdom australia tweet deleted later pietersen wrote work international tv hours clothes emirates responded giving pietersen credit card could buy new clothes \n",
      "실제 요약 : how do work on tv with no clothes pietersen slams airline \n",
      "예측 요약 :  pietersen slammed for fake picture of fake news\n",
      "\n",
      "\n",
      "원문 : iran banned export fuel iraq kurdistan retaliatory measure region independence referendum state media reported rejecting referendum iran asserted support iraq sovereignty entire country including kurdistan region kurds voted favour independence iraq referendum \n",
      "실제 요약 : iran bans fuel exports to after independence vote \n",
      "예측 요약 :  iran launches its own islamic state in yemen\n",
      "\n",
      "\n",
      "원문 : fashion brand brands uk parent company kent co owned retired english footballer david beckham reported loss million beckham became business partner fashion line comes weeks wife victoria beckham fashion label posted loss million period \n",
      "실제 요약 : david beckham fashion brand posts mn loss for \n",
      "예측 요약 :  nike gives crore to buy girlfriend\n",
      "\n",
      "\n",
      "원문 : stating restrictions imposed performing aarti rituals amarnath cave shrine national green tribunal thursday clarified silent zone restrictions imposed around comes reports claimed tribunal directed amarnath shrine board restrict chanting mantras amarnath temple \n",
      "실제 요약 : no restrictions on aarti in amarnath shrine clarifies ngt \n",
      "예측 요약 :  heavy rainfall rescue in delhi\n",
      "\n",
      "\n",
      "원문 : earnings crore ajay devgn starrer raid become fourth film enter crore club film crossed crore mark within twenty two days release three films earned crore padmaavat sonu ke titu ki sweety baaghi \n",
      "실제 요약 : raid becomes th film in to enter crore club \n",
      "예측 요약 :  golmaal becomes nd film club to earn crore\n",
      "\n",
      "\n",
      "원문 : electric clocks across europe nearly six minutes behind since mid january due political dispute serbia power grid connected europe power network problem caused using electricity generates serbia fulfilling responsibility grid \n",
      "실제 요약 : european lose mins over power distribution feud \n"
     ]
    },
    {
     "name": "stdout",
     "output_type": "stream",
     "text": [
      "예측 요약 :  to get its first ever of\n",
      "\n",
      "\n",
      "원문 : us president donald trump administration said make public logs visitors white house breaking practice established former president barack obama national security risks privacy concerns visitors reason keeping records secret officials said obama administration released nearly lakh visitor records \n",
      "실제 요약 : white house breaks obama policy will not release \n",
      "예측 요약 :  trump calls trump for hurricane killing white house\n",
      "\n",
      "\n",
      "원문 : sports minister rajyavardhan singh rathore called indian athletes officials behave upcoming asian games whatever field field please remember one thing representing billion strong nation said send ceremony asked athletes worry results much \n",
      "실제 요약 : at asiad rathore to indian athletes \n",
      "예측 요약 :  sports minister asks india to get asian games\n",
      "\n",
      "\n",
      "원문 : actor played james bond four films revealed frustrated films one point added wanted bond get little real dirty scripts would come along played bond tomorrow never dies world enough die another day \n",
      "실제 요약 : was frustrated with james bond films at one point \n",
      "예측 요약 :  never thought about wood actor in wood actor\n",
      "\n",
      "\n",
      "원문 : world wide web creator tim berners lee said fact power among companies made possible web scale added recent years conspiracy theories social media platforms also pointed fake social media accounts causing social tensions personal data stolen \n",
      "실제 요약 : of power the web creator \n",
      "예측 요약 :  we are not going to hide right to privacy\n",
      "\n",
      "\n",
      "원문 : pornstar stormy daniels monday sued us president donald trump defamatory tweet lawsuit alleges trump attempted tarnish daniels reputation dismissing description man threatened remain silent alleged affair us president claimed pornstar suffered damages exceeding \n",
      "실제 요약 : pornstar sues trump over tweet \n",
      "예측 요약 :  trump sued for trump over his affair\n",
      "\n",
      "\n",
      "원문 : swiggy ceo responded anonymous blog post claiming former current employees accused startup faking reviews lying metrics called documents cited post complete denied post authored swiggy employees however address claims fake reviews \n",
      "실제 요약 : swiggy ceo responds to post claiming it faked reviews \n",
      "예측 요약 :  microsoft ceo apologises for ex employee claims\n",
      "\n",
      "\n",
      "원문 : suspected terrorists looted four ak rifles sunday house congress mlc jammu kashmir nagar area police filed case connection incident alert also sounded area four policemen attached mlc summoned questioning police said \n",
      "실제 요약 : terrorists loot rifles from congress mlc house in \n",
      "예측 요약 :  militants in blast in bjp leader held in\n",
      "\n",
      "\n",
      "원문 : national green tribunal directed delhi government delhi pollution control committee ensure religious places east delhi strictly follow prescribed noise pollution norms comes petitioner alleged illegal use loudspeakers places worship adversely impacted health residents \n",
      "실제 요약 : religious places must follow noise pollution norms ngt \n",
      "예측 요약 :  ngt directs delhi to delhi govt to implement odd\n",
      "\n",
      "\n",
      "원문 : romanian government agreed collaborate italian authorities stop abuses women migrants italy comes investigation found thousands romanian agricultural workers sexually exploited italian employers women afraid speak fear losing jobs sent back home investigation added \n",
      "실제 요약 : and italy unite to halt abuse of women migrants \n",
      "예측 요약 :  uk to punish women in jail for lynching victims\n",
      "\n",
      "\n",
      "원문 : apollo chairman reddy thursday revealed cctv cameras chennai apollo hospital turned days former cm jayalalithaa hospitalisation patients hospital bed icu relocated another icu jayalalithaa admitted added late aiadmk leader passed away following cardiac arrest december \n",
      "실제 요약 : cctvs turned off for jayalalithaa day treatment apollo \n",
      "예측 요약 :  fortis to burari hospital hospital after hospital\n",
      "\n",
      "\n",
      "원문 : pm narendra modi crore followers facebook came power number past crore marking three fold increase government completed three years lakh people started following pm modi past six months announcement demonetisation november \n",
      "실제 요약 : modi facebook followers increase fold in yrs of govt \n",
      "예측 요약 :  pm modi most valuable firm in india\n",
      "\n",
      "\n",
      "원문 : dr buddha singh jawaharlal nehru university professor alleged car vandalised organised event campus pay tribute martyrs sukma kupwara attacks hand president mohit pandey said car may vandalised continue propaganda jnu students \n",
      "실제 요약 : my car vandalised for supporting martyrs jnu professor \n",
      "예측 요약 :  ias officer accused of hindu university in\n",
      "\n",
      "\n",
      "원문 : district administration himachal pradesh kullu said long convinced telecom firm provide mobile connectivity feet high pass officials said mobile towers set area falls one toughest next two weeks \n",
      "실제 요약 : ft high pass to get mobile \n",
      "예측 요약 :  up to get up to get digital\n",
      "\n",
      "\n",
      "원문 : senior congress leader kapil sibal monday said file petition supreme court vice president venkaiah naidu rejected opposition impeachment motion chief justice dipak misra sibal called rejection order unprecedented illegal ill advised added order shattered confidence people legal system \n",
      "실제 요약 : congress to move sc after attempt to impeach cji rejected \n",
      "예측 요약 :  cong sibal to cji sibal on cji impeachment motion\n",
      "\n",
      "\n",
      "원문 : pakistan north korea invited consumer protection conference organised india request united nations conference trade development consumer affairs minister said countries invited even though fall region countries invited conference scheduled october see participation countries \n",
      "실제 요약 : pakistan korea not invited for global conference in india \n",
      "예측 요약 :  pakistan to pakistan pakistan to pakistan\n",
      "\n",
      "\n",
      "원문 : electronics information technology minister ravi shankar prasad saturday said planning bring data protection law protect personal professional sensitive data individuals india added law prevent misuse data foreign countries google said stringent action taken misusing data \n",
      "실제 요약 : govt planning to bring law to protect sensitive data prasad \n",
      "예측 요약 :  govt may make data data breach govt\n",
      "\n",
      "\n",
      "원문 : us consumer product safety commission wednesday posted recall notice around galaxy note batteries due fire risk phones insurance program handled supply chain impacted recall due use counterfeit batteries phones distributed december april \n",
      "실제 요약 : galaxy note batteries for risk of fire \n",
      "예측 요약 :  us recalls self driving notice over faulty safety\n",
      "\n",
      "\n",
      "원문 : ghaziabad development authority lodged fir two hindi news channels allegedly broadcasting false news officials authority alleged channels aired one sided story based man complaint claimed paid lakh bribe enforcement department officials stop sealing action illegal construction \n",
      "실제 요약 : fir against channels for airing false news on civic body \n",
      "예측 요약 :  fir against fake news on casting couch in delhi\n",
      "\n",
      "\n",
      "원문 : wishing actress athiya shetty th birthday monday canadian rapper singer drake revealed watching film three times honour birthday happy birthday shetty true goddess drake commented athiya instagram post singer also wished athiya birthday last year \n",
      "실제 요약 : watching times wishes shetty on day \n",
      "예측 요약 :  happy birthday to make my dharmendra wishes shilpa\n",
      "\n",
      "\n",
      "원문 : many teachers awarded national award teachers vice president venkaiah naidu tuesday congratulating teachers occasion naidu called heroes first time vice president instead president gave away awards president ram nath kovind later interacted awardees rashtrapati bhavan \n",
      "실제 요약 : vice prez naidu honours teachers with national award \n",
      "예측 요약 :  who is the most women in the ipl sc\n",
      "\n",
      "\n",
      "원문 : director confirmed actors salman khan anil kapoor seen playing double role entry mein entry sequel film entry added khan also double role film however information film shooting dates revealed yet \n",
      "실제 요약 : salman anil to play double role in no entry sequel \n",
      "예측 요약 :  salman to star in salman khan next film report\n",
      "\n",
      "\n",
      "원문 : two men arrested allegedly harassing female fans isl match northeast united fc fc chennai jawaharlal nehru stadium sunday accused booked tamil nadu prohibition harassment women act connection incident took place thursday police release said \n",
      "실제 요약 : held for harassing female fans at chennai stadium \n",
      "예측 요약 :  arrested for molesting man who football football in\n",
      "\n",
      "\n",
      "원문 : canada based researchers captured first image dark matter bridge connects galaxies image created images galaxy pairs located billion light years away finding predictions galaxies across universe tied cosmic web connected dark matter believed make universe researchers said \n",
      "실제 요약 : scientists confirm are connected by dark matter web \n"
     ]
    },
    {
     "name": "stdout",
     "output_type": "stream",
     "text": [
      "예측 요약 :  new image of light from universe\n",
      "\n",
      "\n",
      "원문 : technology giant apple acquired us based search startup pop archive undisclosed amount iphone maker confirmed deal saying apple buys smaller technology companies time time generally discuss purpose plans founded startup offers technology convert audio recordings text \n",
      "실제 요약 : apple acquires search startup pop up \n",
      "예측 요약 :  apple invests mn in its first iphone apps\n",
      "\n",
      "\n",
      "원문 : actress taapsee pannu took twitter troll man called average looking made heroine look average man commented photo posted taapsee replying taapsee tweeted probably little bit acting bad look average largest category world \n",
      "실제 요약 : taapsee trolls man who called her average looking \n",
      "예측 요약 :  taapsee taapsee pannu taapsee on his taapsee\n",
      "\n",
      "\n",
      "원문 : filmmaker canada christopher mistakenly boarded wrong flight ended travelling nearly km opposite direction christopher supposed travel mistakenly took flight attendant asked flight destination agreed thought joking \n",
      "실제 요약 : man boards wrong flight travels km in opposite direction \n",
      "예측 요약 :  russian man plane lands on flight for his flight\n",
      "\n",
      "\n",
      "원문 : automakers including general motors ford urged white house cooperate california officials letter vehicle efficiency standards saying climate change real california officials protesting trump led would reportedly freeze mileage requirements miles per instead eventually increasing year miles per \n",
      "실제 요약 : write to white house saying climate change is real \n",
      "예측 요약 :  us open anti us shooting wall to avoid trump\n",
      "\n",
      "\n"
     ]
    }
   ],
   "source": [
    "# 원문의 정수 시퀀스를 텍스트 시퀀스로 변환\n",
    "def seq2text(input_seq):\n",
    "    temp=''\n",
    "    for i in input_seq:\n",
    "        if (i!=0):\n",
    "            temp = temp + src_index_to_word[i]+' '\n",
    "    return temp\n",
    "\n",
    "# 요약문의 정수 시퀀스를 텍스트 시퀀스로 변환\n",
    "def seq2summary(input_seq):\n",
    "    temp=''\n",
    "    for i in input_seq:\n",
    "        if ((i!=0 and i!=tar_word_to_index['sostoken']) and i!=tar_word_to_index['eostoken']):\n",
    "            temp = temp + tar_index_to_word[i] + ' '\n",
    "    return temp\n",
    "\n",
    "# 테스트 데이터 약 50개의 샘플에 대해서 실제 요약과 예측된 요약을 비교\n",
    "for i in range(50, 100):\n",
    "    print(\"원문 :\", seq2text(encoder_input_test[i]))\n",
    "    print(\"실제 요약 :\", seq2summary(decoder_input_test[i]))\n",
    "    print(\"예측 요약 :\", decode_sequence(encoder_input_test[i].reshape(1, text_max_len)))\n",
    "    print(\"\\n\")"
   ]
  },
  {
   "cell_type": "markdown",
   "id": "pretty-leather",
   "metadata": {},
   "source": [
    "틀린 요약들이 보인다..."
   ]
  },
  {
   "cell_type": "markdown",
   "id": "marked-robin",
   "metadata": {},
   "source": [
    "## 추출적(Extractive) 요약\n",
    "추출적 요약은 난이도가 쉽고 기존 문장에서 문장을 꺼내오는 것이므로 잘못된 요약이 나올 가능성이 낮음\n",
    "\n",
    "Summa의 summarize를 사용"
   ]
  },
  {
   "cell_type": "code",
   "execution_count": 37,
   "id": "exact-testing",
   "metadata": {},
   "outputs": [],
   "source": [
    "from summa.summarizer import summarize\n",
    "import urllib.request\n",
    "\n",
    "urllib.request.urlretrieve(\"https://raw.githubusercontent.com/sunnysai12345/News_Summary/master/news_summary_more.csv\", filename=\"news_summary_more.csv\")\n",
    "summa_data = pd.read_csv('news_summary_more.csv', encoding='iso-8859-1')\n"
   ]
  },
  {
   "cell_type": "code",
   "execution_count": 38,
   "id": "virgin-performance",
   "metadata": {},
   "outputs": [],
   "source": [
    "summa_data['summa'] = summa_data['text'].apply(\n",
    "    lambda x: summarize(x, ratio=0.5))"
   ]
  },
  {
   "cell_type": "code",
   "execution_count": 42,
   "id": "expensive-humanity",
   "metadata": {
    "scrolled": true
   },
   "outputs": [
    {
     "data": {
      "text/html": [
       "<div>\n",
       "<style scoped>\n",
       "    .dataframe tbody tr th:only-of-type {\n",
       "        vertical-align: middle;\n",
       "    }\n",
       "\n",
       "    .dataframe tbody tr th {\n",
       "        vertical-align: top;\n",
       "    }\n",
       "\n",
       "    .dataframe thead th {\n",
       "        text-align: right;\n",
       "    }\n",
       "</style>\n",
       "<table border=\"1\" class=\"dataframe\">\n",
       "  <thead>\n",
       "    <tr style=\"text-align: right;\">\n",
       "      <th></th>\n",
       "      <th>headlines</th>\n",
       "      <th>text</th>\n",
       "      <th>summa</th>\n",
       "    </tr>\n",
       "  </thead>\n",
       "  <tbody>\n",
       "    <tr>\n",
       "      <th>0</th>\n",
       "      <td>upGrad learner switches to career in ML &amp; Al w...</td>\n",
       "      <td>Saurav Kant, an alumnus of upGrad and IIIT-B's...</td>\n",
       "      <td>upGrad's Online Power Learning has powered 3 l...</td>\n",
       "    </tr>\n",
       "    <tr>\n",
       "      <th>1</th>\n",
       "      <td>Delhi techie wins free food from Swiggy for on...</td>\n",
       "      <td>Kunal Shah's credit card bill payment platform...</td>\n",
       "      <td>Users get one CRED coin per rupee of bill paid...</td>\n",
       "    </tr>\n",
       "    <tr>\n",
       "      <th>2</th>\n",
       "      <td>New Zealand end Rohit Sharma-led India's 12-ma...</td>\n",
       "      <td>New Zealand defeated India by 8 wickets in the...</td>\n",
       "      <td>The match witnessed India getting all out for ...</td>\n",
       "    </tr>\n",
       "    <tr>\n",
       "      <th>3</th>\n",
       "      <td>Aegon life iTerm insurance plan helps customer...</td>\n",
       "      <td>With Aegon Life iTerm Insurance plan, customer...</td>\n",
       "      <td>Also, customers have options to insure against...</td>\n",
       "    </tr>\n",
       "    <tr>\n",
       "      <th>4</th>\n",
       "      <td>Have known Hirani for yrs, what if MeToo claim...</td>\n",
       "      <td>Speaking about the sexual harassment allegatio...</td>\n",
       "      <td>Speaking about the sexual harassment allegatio...</td>\n",
       "    </tr>\n",
       "    <tr>\n",
       "      <th>...</th>\n",
       "      <td>...</td>\n",
       "      <td>...</td>\n",
       "      <td>...</td>\n",
       "    </tr>\n",
       "    <tr>\n",
       "      <th>98396</th>\n",
       "      <td>CRPF jawan axed to death by Maoists in Chhatti...</td>\n",
       "      <td>A CRPF jawan was on Tuesday axed to death with...</td>\n",
       "      <td>A CRPF jawan was on Tuesday axed to death with...</td>\n",
       "    </tr>\n",
       "    <tr>\n",
       "      <th>98397</th>\n",
       "      <td>First song from Sonakshi Sinha's 'Noor' titled...</td>\n",
       "      <td>'Uff Yeh', the first song from the Sonakshi Si...</td>\n",
       "      <td>'Uff Yeh', the first song from the Sonakshi Si...</td>\n",
       "    </tr>\n",
       "    <tr>\n",
       "      <th>98398</th>\n",
       "      <td>'The Matrix' film to get a reboot: Reports</td>\n",
       "      <td>According to reports, a new version of the 199...</td>\n",
       "      <td>Michael B Jordan will reportedly play the lead...</td>\n",
       "    </tr>\n",
       "    <tr>\n",
       "      <th>98399</th>\n",
       "      <td>Snoop Dogg aims gun at clown dressed as Trump ...</td>\n",
       "      <td>A new music video shows rapper Snoop Dogg aimi...</td>\n",
       "      <td>The video also shows a TV airing a news confer...</td>\n",
       "    </tr>\n",
       "    <tr>\n",
       "      <th>98400</th>\n",
       "      <td>Madhesi Morcha withdraws support to Nepalese g...</td>\n",
       "      <td>Madhesi Morcha, an alliance of seven political...</td>\n",
       "      <td>Madhesi Morcha, an alliance of seven political...</td>\n",
       "    </tr>\n",
       "  </tbody>\n",
       "</table>\n",
       "<p>98401 rows × 3 columns</p>\n",
       "</div>"
      ],
      "text/plain": [
       "                                               headlines  \\\n",
       "0      upGrad learner switches to career in ML & Al w...   \n",
       "1      Delhi techie wins free food from Swiggy for on...   \n",
       "2      New Zealand end Rohit Sharma-led India's 12-ma...   \n",
       "3      Aegon life iTerm insurance plan helps customer...   \n",
       "4      Have known Hirani for yrs, what if MeToo claim...   \n",
       "...                                                  ...   \n",
       "98396  CRPF jawan axed to death by Maoists in Chhatti...   \n",
       "98397  First song from Sonakshi Sinha's 'Noor' titled...   \n",
       "98398         'The Matrix' film to get a reboot: Reports   \n",
       "98399  Snoop Dogg aims gun at clown dressed as Trump ...   \n",
       "98400  Madhesi Morcha withdraws support to Nepalese g...   \n",
       "\n",
       "                                                    text  \\\n",
       "0      Saurav Kant, an alumnus of upGrad and IIIT-B's...   \n",
       "1      Kunal Shah's credit card bill payment platform...   \n",
       "2      New Zealand defeated India by 8 wickets in the...   \n",
       "3      With Aegon Life iTerm Insurance plan, customer...   \n",
       "4      Speaking about the sexual harassment allegatio...   \n",
       "...                                                  ...   \n",
       "98396  A CRPF jawan was on Tuesday axed to death with...   \n",
       "98397  'Uff Yeh', the first song from the Sonakshi Si...   \n",
       "98398  According to reports, a new version of the 199...   \n",
       "98399  A new music video shows rapper Snoop Dogg aimi...   \n",
       "98400  Madhesi Morcha, an alliance of seven political...   \n",
       "\n",
       "                                                   summa  \n",
       "0      upGrad's Online Power Learning has powered 3 l...  \n",
       "1      Users get one CRED coin per rupee of bill paid...  \n",
       "2      The match witnessed India getting all out for ...  \n",
       "3      Also, customers have options to insure against...  \n",
       "4      Speaking about the sexual harassment allegatio...  \n",
       "...                                                  ...  \n",
       "98396  A CRPF jawan was on Tuesday axed to death with...  \n",
       "98397  'Uff Yeh', the first song from the Sonakshi Si...  \n",
       "98398  Michael B Jordan will reportedly play the lead...  \n",
       "98399  The video also shows a TV airing a news confer...  \n",
       "98400  Madhesi Morcha, an alliance of seven political...  \n",
       "\n",
       "[98401 rows x 3 columns]"
      ]
     },
     "execution_count": 42,
     "metadata": {},
     "output_type": "execute_result"
    }
   ],
   "source": [
    "summa_data"
   ]
  },
  {
   "cell_type": "markdown",
   "id": "owned-assembly",
   "metadata": {},
   "source": [
    "## 추상적 요약, 추출적 요약 비교해보기\n",
    "두 요약 결과를 문법완성도 측면과 핵심단어 포함 측면으로 나누어 비교분석"
   ]
  },
  {
   "cell_type": "code",
   "execution_count": 48,
   "id": "maritime-spiritual",
   "metadata": {
    "scrolled": true
   },
   "outputs": [
    {
     "name": "stdout",
     "output_type": "stream",
     "text": [
      "원문 : Saurav Kant, an alumnus of upGrad and IIIT-B's PG Program in Machine learning and Artificial Intelligence, was a Sr Systems Engineer at Infosys with almost 5 years of work experience. The program and upGrad's 360-degree career support helped him transition to a Data Scientist at Tech Mahindra with 90% salary hike. upGrad's Online Power Learning has powered 3 lakh+ careers.\n",
      "추상적 요약 :  cbi books former cbi to cbi fraud case\n",
      "추출적 요약 : upGrad's Online Power Learning has powered 3 lakh+ careers.\n",
      "\n",
      "\n",
      "원문 : Kunal Shah's credit card bill payment platform, CRED, gave users a chance to win free food from Swiggy for one year. Pranav Kaushik, a Delhi techie, bagged this reward after spending 2000 CRED coins. Users get one CRED coin per rupee of bill paid, which can be used to avail rewards from brands like Ixigo, BookMyShow, UberEats, Cult.Fit and more.\n",
      "추상적 요약 :  pak youth to hindus held for ram mandir\n",
      "추출적 요약 : Users get one CRED coin per rupee of bill paid, which can be used to avail rewards from brands like Ixigo, BookMyShow, UberEats, Cult.Fit and more.\n",
      "\n",
      "\n",
      "원문 : New Zealand defeated India by 8 wickets in the fourth ODI at Hamilton on Thursday to win their first match of the five-match ODI series. India lost an international match under Rohit Sharma's captaincy after 12 consecutive victories dating back to March 2018. The match witnessed India getting all out for 92, their seventh lowest total in ODI cricket history.\n",
      "추상적 요약 :  was very very out of my life deepika on nepotism\n",
      "추출적 요약 : The match witnessed India getting all out for 92, their seventh lowest total in ODI cricket history.\n",
      "\n",
      "\n",
      "원문 : With Aegon Life iTerm Insurance plan, customers can enjoy tax benefits on your premiums paid and save up to Ã¢ÂÂ¹46,800^ on taxes. The plan provides life cover up to the age of 100 years. Also, customers have options to insure against Critical Illnesses, Disability and Accidental Death Benefit Rider with a life cover up to the age of 80 years.\n",
      "추상적 요약 :  karnataka spinner smashes his maiden ton in ipl\n",
      "추출적 요약 : Also, customers have options to insure against Critical Illnesses, Disability and Accidental Death Benefit Rider with a life cover up to the age of 80 years.\n",
      "\n",
      "\n",
      "원문 : Speaking about the sexual harassment allegations against Rajkumar Hirani, Sonam Kapoor said, \"I've known Hirani for many years...What if it's not true, the [#MeToo] movement will get derailed.\" \"In the #MeToo movement, I always believe a woman. But in this case, we need to reserve our judgment,\" she added. Hirani has been accused by an assistant who worked in 'Sanju'.\n",
      "추상적 요약 :  new species of earth found in universe\n",
      "추출적 요약 : Speaking about the sexual harassment allegations against Rajkumar Hirani, Sonam Kapoor said, \"I've known Hirani for many years...What if it's not true, the [#MeToo] movement will get derailed.\" \"In the #MeToo movement, I always believe a woman.\n",
      "\n",
      "\n",
      "원문 : Pakistani singer Rahat Fateh Ali Khan has denied receiving any notice from the Enforcement Directorate over allegedly smuggling foreign currency out of India. \"It would have been better if the authorities would have served the notice first if any and then publicised this,\" reads a press release issued on behalf of Rahat. The statement further called the allegation \"bizarre\".\n",
      "추상적 요약 :  twitter reacts to troll asking meme to preserve religion\n",
      "추출적 요약 : Pakistani singer Rahat Fateh Ali Khan has denied receiving any notice from the Enforcement Directorate over allegedly smuggling foreign currency out of India.\n",
      "\n",
      "\n",
      "원문 : India recorded their lowest ODI total in New Zealand after getting all out for 92 runs in 30.5 overs in the fourth ODI at Hamilton on Thursday. Seven of India's batsmen were dismissed for single-digit scores, while their number ten batsman Yuzvendra Chahal top-scored with 18*(37). India's previous lowest ODI total in New Zealand was 108.\n",
      "추상적 요약 :  women should not have women to hide sex abuse\n",
      "추출적 요약 : India's previous lowest ODI total in New Zealand was 108.\n",
      "\n",
      "\n",
      "원문 : Weeks after ex-CBI Director Alok Verma told the Department of Personnel and Training to consider him retired, the Home Ministry asked him to join work on the last day of his fixed tenure as Director on Thursday. The ministry directed him to immediately join as DG, Fire Services, the post he was transferred to after his removal as CBI chief.\n",
      "추상적 요약 :  canada to build its own cryptocurrency\n",
      "추출적 요약 : Weeks after ex-CBI Director Alok Verma told the Department of Personnel and Training to consider him retired, the Home Ministry asked him to join work on the last day of his fixed tenure as Director on Thursday.\n",
      "\n",
      "\n",
      "원문 : Andhra Pradesh CM N Chandrababu Naidu has said, \"When I met then US President Bill Clinton, I addressed him as Mr Clinton, not as 'sir'. (PM Narendra) Modi is my junior in politics...I addressed him as sir 10 times.\" \"I did this...to satisfy his ego in the hope that he will do justice to the state,\" he added.\n",
      "추상적 요약 :  ranbir is sanju of sanju ranbir\n",
      "추출적 요약 : Andhra Pradesh CM N Chandrababu Naidu has said, \"When I met then US President Bill Clinton, I addressed him as Mr Clinton, not as 'sir'.\n",
      "\n",
      "\n",
      "원문 : Congress candidate Shafia Zubair won the Ramgarh Assembly seat in Rajasthan, by defeating BJP's Sukhwant Singh with a margin of 12,228 votes in the bypoll. With this victory, Congress has taken its total to 100 seats in the 200-member assembly. The election to the Ramgarh seat was delayed due to the death of sitting MLA and BSP candidate Laxman Singh.\n",
      "추상적 요약 :  sanjay dutt to make cameo in bollywood film reports\n",
      "추출적 요약 : Congress candidate Shafia Zubair won the Ramgarh Assembly seat in Rajasthan, by defeating BJP's Sukhwant Singh with a margin of 12,228 votes in the bypoll.\n",
      "\n",
      "\n"
     ]
    }
   ],
   "source": [
    "for i in range(10):\n",
    "    print(\"원문 :\", summa_data['text'][i])\n",
    "    print(\"추상적 요약 :\", decode_sequence(encoder_input_test[i].reshape(1, text_max_len)))\n",
    "    print(\"추출적 요약 :\", summa_data['summa'][i])\n",
    "    print(\"\\n\")"
   ]
  }
 ],
 "metadata": {
  "kernelspec": {
   "display_name": "Python 3 (ipykernel)",
   "language": "python",
   "name": "python3"
  },
  "language_info": {
   "codemirror_mode": {
    "name": "ipython",
    "version": 3
   },
   "file_extension": ".py",
   "mimetype": "text/x-python",
   "name": "python",
   "nbconvert_exporter": "python",
   "pygments_lexer": "ipython3",
   "version": "3.9.6"
  }
 },
 "nbformat": 4,
 "nbformat_minor": 5
}
