{
 "cells": [
  {
   "cell_type": "code",
   "execution_count": 1,
   "id": "destroyed-round",
   "metadata": {},
   "outputs": [
    {
     "name": "stdout",
     "output_type": "stream",
     "text": [
      "53\n",
      "0\n",
      "0\n",
      "/aiffel/aiffel\n"
     ]
    }
   ],
   "source": [
    "import os\n",
    "\n",
    "# process ID\n",
    "print(os.getpid())\n",
    "\n",
    "# user ID\n",
    "print(os.getuid())\n",
    "\n",
    "# group ID\n",
    "print(os.getgid())\n",
    "\n",
    "# 현재 작업중인 디렉토리\n",
    "print(os.getcwd())"
   ]
  },
  {
   "cell_type": "code",
   "execution_count": 2,
   "id": "consolidated-mount",
   "metadata": {},
   "outputs": [
    {
     "name": "stdout",
     "output_type": "stream",
     "text": [
      "set               : 1.9493201039731503 [ms]\n",
      "list              : 0.9044865518808365 [ms]\n",
      "tuple             : 0.8458304228261113 [ms]\n",
      "string            : 0.5367373637855053 [ms]\n",
      "set_add           : 6.466525507159531 [ms]\n",
      "list_append       : 5.709472322836518 [ms]\n",
      "set_comprehension : 6.441210988909006 [ms]\n",
      "list_comprehension: 5.702383483760059 [ms]\n"
     ]
    }
   ],
   "source": [
    "# Profiling\n",
    "import timeit\n",
    "        \n",
    "def f1():\n",
    "    s = set(range(100))\n",
    "\n",
    "    \n",
    "def f2():\n",
    "    l = list(range(100))\n",
    "\n",
    "    \n",
    "def f3():\n",
    "    t = tuple(range(100))\n",
    "\n",
    "\n",
    "def f4():\n",
    "    s = str(range(100))\n",
    "\n",
    "    \n",
    "def f5():\n",
    "    s = set()\n",
    "    for i in range(100):\n",
    "        s.add(i)\n",
    "\n",
    "def f6():\n",
    "    l = []\n",
    "    for i in range(100):\n",
    "        l.append(i)\n",
    "    \n",
    "def f7():\n",
    "    s_comp = {i for i in range(100)}\n",
    "\n",
    "    \n",
    "def f8():\n",
    "    l_comp = [i for i in range(100)]\n",
    "    \n",
    "\n",
    "if __name__ == \"__main__\":\n",
    "    t1 = timeit.Timer(\"f1()\", \"from __main__ import f1\")\n",
    "    t2 = timeit.Timer(\"f2()\", \"from __main__ import f2\")\n",
    "    t3 = timeit.Timer(\"f3()\", \"from __main__ import f3\")\n",
    "    t4 = timeit.Timer(\"f4()\", \"from __main__ import f4\")\n",
    "    t5 = timeit.Timer(\"f5()\", \"from __main__ import f5\")\n",
    "    t6 = timeit.Timer(\"f6()\", \"from __main__ import f6\")\n",
    "    t7 = timeit.Timer(\"f7()\", \"from __main__ import f7\")\n",
    "    t8 = timeit.Timer(\"f8()\", \"from __main__ import f8\")\n",
    "    print(\"set               :\", t1.timeit(), '[ms]')\n",
    "    print(\"list              :\", t2.timeit(), '[ms]')\n",
    "    print(\"tuple             :\", t3.timeit(), '[ms]')\n",
    "    print(\"string            :\", t4.timeit(), '[ms]')\n",
    "    print(\"set_add           :\", t5.timeit(), '[ms]')\n",
    "    print(\"list_append       :\", t6.timeit(), '[ms]')\n",
    "    print(\"set_comprehension :\", t5.timeit(), '[ms]')\n",
    "    print(\"list_comprehension:\", t6.timeit(), '[ms]')"
   ]
  },
  {
   "cell_type": "markdown",
   "id": "local-pillow",
   "metadata": {},
   "source": [
    "profile 모듈, cProfile 모듈과 line_profiler 패키지를 이용하면 높은 수준의 프로파일링이 가능한 점, 참고해 주세요!  \n",
    "https://docs.python.org/ko/3/library/profile.html  \n",
    "https://frhyme.github.io/python-libs/python_line_profileing_in_python/"
   ]
  },
  {
   "cell_type": "code",
   "execution_count": 3,
   "id": "environmental-tulsa",
   "metadata": {},
   "outputs": [
    {
     "name": "stdout",
     "output_type": "stream",
     "text": [
      "delivery\n",
      "Retriving Dish\n"
     ]
    }
   ],
   "source": [
    "class Delivery:\n",
    "\tdef run(self):\n",
    "\t\tprint(\"delivery\")\n",
    "\n",
    "class RetriveDish:\n",
    "\tdef run(self):\n",
    "\t\tprint(\"Retriving Dish\")\n",
    "\n",
    "work1 = Delivery()\n",
    "work2 = RetriveDish()\n",
    "\n",
    "def main():\n",
    "\twork1.run()\n",
    "\twork2.run()\n",
    "\n",
    "if __name__ == '__main__':\n",
    "    main()"
   ]
  },
  {
   "cell_type": "code",
   "execution_count": 4,
   "id": "forward-interim",
   "metadata": {},
   "outputs": [
    {
     "name": "stdout",
     "output_type": "stream",
     "text": [
      "delivery\n",
      "Retriving Dish\n"
     ]
    }
   ],
   "source": [
    "# 멀티스레드\n",
    "from threading import *\n",
    "\n",
    "class Delivery(Thread):\n",
    "\tdef run(self):\n",
    "\t\tprint(\"delivery\")\n",
    "\n",
    "class RetriveDish(Thread):\n",
    "\tdef run(self):\n",
    "\t\tprint(\"Retriving Dish\")\n",
    "\n",
    "work1 = Delivery()\n",
    "work2 = RetriveDish()\n",
    "\n",
    "def main():\n",
    "\twork1.run()\n",
    "\twork2.run()\n",
    "\n",
    "if __name__ == '__main__':\n",
    "    main()"
   ]
  },
  {
   "cell_type": "code",
   "execution_count": 5,
   "id": "hollow-rebound",
   "metadata": {},
   "outputs": [
    {
     "name": "stdout",
     "output_type": "stream",
     "text": [
      "<bound method Delivery.run of <__main__.Delivery object at 0x7fa6a6a509d0>>\n",
      "<bound method Delivery.run of <Delivery(Thread-6, initial)>>\n"
     ]
    }
   ],
   "source": [
    "# 스레드 생성 확인\n",
    "from threading import *\n",
    "\n",
    "class Delivery:\n",
    "    def run(self):\n",
    "        print(\"delivering\")\n",
    "\n",
    "work1 = Delivery()\n",
    "print(work1.run)\n",
    "\n",
    "class Delivery(Thread):\n",
    "    def run(self):\n",
    "        print(\"delivering\")\n",
    "\n",
    "work2 = Delivery()\n",
    "print(work2.run)"
   ]
  },
  {
   "cell_type": "code",
   "execution_count": 6,
   "id": "korean-cooper",
   "metadata": {},
   "outputs": [
    {
     "name": "stdout",
     "output_type": "stream",
     "text": [
      "do  Overwork\n"
     ]
    }
   ],
   "source": [
    "# 스레드 생성\n",
    "from threading import *\n",
    "from time import sleep\n",
    "\n",
    "Stopped = False\n",
    "\n",
    "def worker(work, sleep_sec):    # 일꾼 스레드입니다.\n",
    "    while not Stopped:          # 그만 하라고 할때까지\n",
    "        print('do ', work)      # 시키는 일을 하고\n",
    "        sleep(sleep_sec)        # 잠깐 쉽니다.\n",
    "    print('retired..')          # 언젠가 이 굴레를 벗어나면, 은퇴할 때가 오겠지요?\n",
    "        \n",
    "# 인스턴스 생성\n",
    "t = Thread(target=worker, args=('Overwork', 3))    # 일꾼 스레드를 하나 생성합니다. 열심히 일하고 3초간 쉽니다.\n",
    "t.start()    # 일꾼, 이제 일을 해야지? 😈"
   ]
  },
  {
   "cell_type": "code",
   "execution_count": 7,
   "id": "scenic-ranch",
   "metadata": {
    "scrolled": true
   },
   "outputs": [
    {
     "name": "stdout",
     "output_type": "stream",
     "text": [
      "retired..\n",
      "worker is gone.\n"
     ]
    }
   ],
   "source": [
    "# 이 코드 블럭을 실행하기 전까지는 일꾼 스레드는 종료하지 않습니다. \n",
    "Stopped = True    # 일꾼 일 그만하라고 세팅해 줍시다. \n",
    "t.join()          # 일꾼 스레드가 종료할때까지 기다립니다. \n",
    "print('worker is gone.')"
   ]
  },
  {
   "cell_type": "markdown",
   "id": "promotional-dubai",
   "metadata": {},
   "source": [
    "파이썬에서 멀티프로세스의 구현은 multiprocessing 모듈을 이용해서 할 수 있습니다.  \n",
    "https://docs.python.org/3.7/library/multiprocessing.html"
   ]
  },
  {
   "cell_type": "code",
   "execution_count": 8,
   "id": "cleared-gregory",
   "metadata": {
    "scrolled": true
   },
   "outputs": [
    {
     "name": "stdout",
     "output_type": "stream",
     "text": [
      "delivering...\n"
     ]
    }
   ],
   "source": [
    "# 프로세스 생성\n",
    "import multiprocessing as mp\n",
    "\n",
    "def delivery():\n",
    "    print('delivering...')\n",
    "    \n",
    "if __name__ == '__main__':\n",
    "    p = mp.Process(target=delivery, args=())\n",
    "    p.start()"
   ]
  },
  {
   "cell_type": "markdown",
   "id": "closed-vault",
   "metadata": {},
   "source": [
    "## 파이썬에서 스레드 / 프로세스 풀 사용하기\n",
    "풀을 만드는 방법은 크게 2가지가 있습니다.\n",
    "\n",
    "- Queue를 사용해서 직접 만드는 방법  \n",
    "  https://docs.python.org/3.7/library/queue.html\n",
    "- concurrent.futures 라이브러리의 ThreadPoolExecutor , ProcessPoolExecutor클래스를 이용하는 방법  \n",
    "  https://docs.python.org/ko/3.7/library/concurrent.futures.html"
   ]
  },
  {
   "cell_type": "markdown",
   "id": "cross-korean",
   "metadata": {},
   "source": [
    "### concurrent.future \n",
    "기능은 크게 4가지가 있습니다.\n",
    "\n",
    "1. Executor 객체\n",
    "2. ThreadPoolExecutor 객체\n",
    "3. ProcessPoolExecutor 객체\n",
    "4. Future 객체\n"
   ]
  },
  {
   "cell_type": "markdown",
   "id": "honest-supplier",
   "metadata": {},
   "source": [
    "#### ThreadPoolExecutor\n",
    "Executor 객체를 이용하면 스레드 생성, 시작, 조인 같은 작업을 할 때, with 컨텍스트 관리자와 같은 방법으로 가독성 높은 코드를 구현할 수 있습니다. "
   ]
  },
  {
   "cell_type": "code",
   "execution_count": 9,
   "id": "shared-compiler",
   "metadata": {},
   "outputs": [
    {
     "name": "stdout",
     "output_type": "stream",
     "text": [
      "delivering\n"
     ]
    }
   ],
   "source": [
    "from concurrent.futures import ThreadPoolExecutor\n",
    "\n",
    "class Delivery:\n",
    "    def run(self):\n",
    "        print(\"delivering\")\n",
    "w = Delivery()\n",
    "\n",
    "with ThreadPoolExecutor() as executor:\n",
    "    future = executor.submit(w.run)"
   ]
  },
  {
   "cell_type": "markdown",
   "id": "confused-garden",
   "metadata": {},
   "source": [
    "#### multiprocessing.Pool\n",
    "multiprocessing.Pool.map을 통해 여러 개의 프로세스에 특정 함수를 매핑해서 병렬처리하도록 구현하는 방법이 널리 사용됩니다."
   ]
  },
  {
   "cell_type": "code",
   "execution_count": 10,
   "id": "liberal-plane",
   "metadata": {},
   "outputs": [
    {
     "name": "stdout",
     "output_type": "stream",
     "text": [
      "I'm processing I'm processing I'm processing I'm processing  I'm processing    469 467\n",
      "\n",
      "470468\n",
      "\n",
      "471\n",
      "[2, 4, 6, 8, 10]\n"
     ]
    }
   ],
   "source": [
    "from multiprocessing import Pool\n",
    "from os import getpid\n",
    "\n",
    "def double(i):\n",
    "    print(\"I'm processing \", getpid())    # pool 안에서 이 메소드가 실행될 때 pid를 확인해 봅시다.\n",
    "    return i * 2\n",
    "\n",
    "with Pool() as pool:\n",
    "      result = pool.map(double, [1, 2, 3, 4, 5])\n",
    "      print(result)"
   ]
  },
  {
   "cell_type": "markdown",
   "id": "specified-tablet",
   "metadata": {},
   "source": [
    "위에서 double(i)이라는 메소드가 pool을 통해 각각 다른 pid를 가진 프로세스들 위에서 multiprocess로 실행되었다는 것을 확인할 수 있습니다."
   ]
  },
  {
   "cell_type": "code",
   "execution_count": 14,
   "id": "raised-clerk",
   "metadata": {},
   "outputs": [
    {
     "name": "stdout",
     "output_type": "stream",
     "text": [
      "병렬처리 시작\n",
      "112272535095293 is prime: True\n",
      "112582705942171 is prime: True\n",
      "112272535095293 is prime: True\n",
      "115280095190773 is prime: True\n",
      "115797848077099 is prime: True\n",
      "1099726899285419 is prime: False\n",
      "병렬처리 수행 시각 0.6923236846923828 s \n",
      "\n",
      "단일처리 시작\n",
      "112272535095293 is prime: True\n",
      "112582705942171 is prime: True\n",
      "112272535095293 is prime: True\n",
      "115280095190773 is prime: True\n",
      "115797848077099 is prime: True\n",
      "1099726899285419 is prime: False\n",
      "단일처리 수행 시각 2.7333850860595703 s\n"
     ]
    }
   ],
   "source": [
    "import math\n",
    "import concurrent\n",
    "import time\n",
    "\n",
    "# 소수(prime) 판별 문제\n",
    "PRIMES = [\n",
    "    112272535095293,\n",
    "    112582705942171,\n",
    "    112272535095293,\n",
    "    115280095190773,\n",
    "    115797848077099,\n",
    "    1099726899285419]\n",
    "\n",
    "# 소수 판별 함수\n",
    "def is_prime(n):\n",
    "    if n < 2:\n",
    "        return False\n",
    "    if n == 2:\n",
    "        return True\n",
    "    if n % 2 == 0:\n",
    "        return False\n",
    "\n",
    "    sqrt_n = int(math.floor(math.sqrt(n)))\n",
    "    for i in range(3, sqrt_n + 1, 2):\n",
    "        if n % i == 0:\n",
    "            return False\n",
    "    return True\n",
    "\n",
    "# 소수 판별 함수 호출\n",
    "def main():\n",
    "    # 병렬처리 수행\n",
    "    print(\"병렬처리 시작\")\n",
    "    start = time.time()\n",
    "    # concurrent.futures 라이브러리의 프로세스 풀에서 동작하게 하기 위해 with 문\n",
    "    with concurrent.futures.ProcessPoolExecutor() as executor:\n",
    "        # 맵-리듀스(map-reduce)스타일, map() 함수를 ProcessPoolExecutor() 인스턴스에서 생성된 executor 에서 실행\n",
    "        for number, prime in zip(PRIMES, executor.map(is_prime, PRIMES)):\n",
    "            print('%d is prime: %s' % (number, prime))\n",
    "    end = time.time()\n",
    "    print(\"병렬처리 수행 시각\", end-start, 's', '\\n')\n",
    "\n",
    "    # 단일처리 수행\n",
    "    print(\"단일처리 시작\")\n",
    "    start = time.time()\n",
    "    for number, prime in zip(PRIMES, map(is_prime, PRIMES)):\n",
    "        print('%d is prime: %s' % (number, prime))\n",
    "    end = time.time()\n",
    "    print(\"단일처리 수행 시각\", end-start, 's')\n",
    "            \n",
    "if __name__ == '__main__':\n",
    "    main()"
   ]
  }
 ],
 "metadata": {
  "kernelspec": {
   "display_name": "Python 3 (ipykernel)",
   "language": "python",
   "name": "python3"
  },
  "language_info": {
   "codemirror_mode": {
    "name": "ipython",
    "version": 3
   },
   "file_extension": ".py",
   "mimetype": "text/x-python",
   "name": "python",
   "nbconvert_exporter": "python",
   "pygments_lexer": "ipython3",
   "version": "3.9.6"
  }
 },
 "nbformat": 4,
 "nbformat_minor": 5
}
