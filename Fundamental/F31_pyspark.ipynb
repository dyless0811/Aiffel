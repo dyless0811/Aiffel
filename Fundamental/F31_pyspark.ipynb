{
 "cells": [
  {
   "cell_type": "markdown",
   "id": "707c3ea0",
   "metadata": {},
   "source": [
    "# PySpark"
   ]
  },
  {
   "cell_type": "markdown",
   "id": "33141802",
   "metadata": {},
   "source": [
    "## 설치하기\n",
    "PySpark를 이용하기 위해선 다음과 같은 패키지가 설치되어 있어야 합니다.\n",
    "* java (>= 8.0)\n",
    "* Spark (>= 2.2.0)\n",
    "* Python (>= 3.4.0)\n",
    "\n",
    "\n",
    "**<스파크 설치>**  \n",
    "아래 코드를 통해 버전을 확인해 보세요. 2.2.X 이상이면 됩니다."
   ]
  },
  {
   "cell_type": "code",
   "execution_count": 4,
   "id": "aa80409b",
   "metadata": {
    "scrolled": true
   },
   "outputs": [
    {
     "ename": "AttributeError",
     "evalue": "module 'pyspark' has no attribute '__version__'",
     "output_type": "error",
     "traceback": [
      "\u001b[0;31m---------------------------------------------------------------------------\u001b[0m",
      "\u001b[0;31mAttributeError\u001b[0m                            Traceback (most recent call last)",
      "\u001b[0;32m/var/folders/gr/p276t7f96f71mgpqn05w75gw0000gn/T/ipykernel_63401/2624461833.py\u001b[0m in \u001b[0;36m<module>\u001b[0;34m\u001b[0m\n\u001b[1;32m      1\u001b[0m \u001b[0;32mimport\u001b[0m \u001b[0mpyspark\u001b[0m\u001b[0;34m\u001b[0m\u001b[0;34m\u001b[0m\u001b[0m\n\u001b[0;32m----> 2\u001b[0;31m \u001b[0mpyspark\u001b[0m\u001b[0;34m.\u001b[0m\u001b[0m__version__\u001b[0m\u001b[0;34m\u001b[0m\u001b[0;34m\u001b[0m\u001b[0m\n\u001b[0m",
      "\u001b[0;31mAttributeError\u001b[0m: module 'pyspark' has no attribute '__version__'"
     ]
    }
   ],
   "source": [
    "import pyspark\n",
    "pyspark.__version__"
   ]
  },
  {
   "cell_type": "markdown",
   "id": "4ca494f4",
   "metadata": {},
   "source": [
    "## 실습"
   ]
  },
  {
   "cell_type": "code",
   "execution_count": null,
   "id": "f3dda806",
   "metadata": {},
   "outputs": [],
   "source": [
    "from pyspark import SparkConf, SparkContext\n",
    "\n",
    "# 선언\n",
    "sc = SparkContext()\n",
    "sc"
   ]
  },
  {
   "cell_type": "code",
   "execution_count": null,
   "id": "f539e4b3",
   "metadata": {},
   "outputs": [],
   "source": [
    "type(sc)"
   ]
  },
  {
   "cell_type": "code",
   "execution_count": null,
   "id": "c1aa5cc7",
   "metadata": {},
   "outputs": [],
   "source": [
    "# 실수로 SparkContext를 한 개 더 만들면 에러가 납니다.\n",
    "new_sc = SparkContext()"
   ]
  },
  {
   "cell_type": "code",
   "execution_count": null,
   "id": "cbcfa3f1",
   "metadata": {},
   "outputs": [],
   "source": [
    "# SparkContext를 종료\n",
    "sc.stop()"
   ]
  },
  {
   "cell_type": "code",
   "execution_count": null,
   "id": "7b712347",
   "metadata": {},
   "outputs": [],
   "source": [
    "# 어플리케이션의 이름과 Master의 URL을 설정\n",
    "conf = SparkConf().setAppName('PySpark Basic').setMaster('local')\n",
    "sc = SparkContext(conf=conf)\n",
    "sc"
   ]
  },
  {
   "cell_type": "markdown",
   "id": "267fade2",
   "metadata": {},
   "source": [
    "## RDD Creation\n",
    "\n",
    "### 1) 내부에서 만들어진 데이터 집합을 병렬화하는 방법: parallelize()함수"
   ]
  },
  {
   "cell_type": "code",
   "execution_count": null,
   "id": "4884110e",
   "metadata": {},
   "outputs": [],
   "source": [
    "rdd = sc.parallelize([1,2,3])\n",
    "rdd"
   ]
  },
  {
   "cell_type": "code",
   "execution_count": null,
   "id": "aedebb8f",
   "metadata": {},
   "outputs": [],
   "source": [
    "rdd.take(3)"
   ]
  },
  {
   "cell_type": "markdown",
   "id": "001e89ce",
   "metadata": {},
   "source": [
    "### 2) 외부의 파일을 로드하는 방법: .textFile() 함수 사용\n"
   ]
  },
  {
   "cell_type": "code",
   "execution_count": null,
   "id": "ad04eafb",
   "metadata": {},
   "outputs": [],
   "source": []
  },
  {
   "cell_type": "code",
   "execution_count": null,
   "id": "11c29e43",
   "metadata": {},
   "outputs": [],
   "source": []
  },
  {
   "cell_type": "code",
   "execution_count": null,
   "id": "78d3eee1",
   "metadata": {},
   "outputs": [],
   "source": []
  },
  {
   "cell_type": "code",
   "execution_count": null,
   "id": "ca248819",
   "metadata": {},
   "outputs": [],
   "source": []
  },
  {
   "cell_type": "code",
   "execution_count": null,
   "id": "5eb72955",
   "metadata": {},
   "outputs": [],
   "source": []
  },
  {
   "cell_type": "code",
   "execution_count": null,
   "id": "db0ebbf5",
   "metadata": {},
   "outputs": [],
   "source": []
  }
 ],
 "metadata": {
  "kernelspec": {
   "display_name": "ho",
   "language": "python",
   "name": "ho"
  },
  "language_info": {
   "codemirror_mode": {
    "name": "ipython",
    "version": 3
   },
   "file_extension": ".py",
   "mimetype": "text/x-python",
   "name": "python",
   "nbconvert_exporter": "python",
   "pygments_lexer": "ipython3",
   "version": "3.9.6"
  }
 },
 "nbformat": 4,
 "nbformat_minor": 5
}
